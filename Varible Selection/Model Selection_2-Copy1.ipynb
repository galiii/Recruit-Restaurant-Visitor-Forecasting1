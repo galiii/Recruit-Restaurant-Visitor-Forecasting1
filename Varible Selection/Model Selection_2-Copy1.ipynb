{
 "cells": [
  {
   "cell_type": "markdown",
   "metadata": {
    "_cell_guid": "3d031044-522c-4468-83f6-15c2fef96bd8",
    "_uuid": "ca266113f6bd4ce070fda0e120d5895adf6e37c8"
   },
   "source": [
    "## Model Selection"
   ]
  },
  {
   "cell_type": "markdown",
   "metadata": {},
   "source": [
    "<a id='up'></a>"
   ]
  },
  {
   "cell_type": "markdown",
   "metadata": {},
   "source": [
    "0.[Load libraries](#load-libraries)\n",
    "\n",
    "1.[Data import and aggregation](#data-import)\n",
    "\n",
    "2.[Model Selection](#model-select)\n",
    "\n",
    "2.1.[Gradient Boosting Model](#gb-model)\n",
    "\n",
    "2.2.[KNeighbors Model](#kn-model)\n",
    "\n",
    "2.3.[XGB Model](#xgb-model)\n",
    "\n",
    "\n",
    "3.[Prediction](#prediction)\n"
   ]
  },
  {
   "cell_type": "markdown",
   "metadata": {},
   "source": [
    "## <a id='load-libraries'>0 Load libraries</a>"
   ]
  },
  {
   "cell_type": "code",
   "execution_count": 7,
   "metadata": {},
   "outputs": [],
   "source": [
    "# Load libraries\n",
    "import numpy as np \n",
    "import pandas as pd \n",
    "from subprocess import check_output\n",
    "import matplotlib.pyplot as plt\n",
    "import seaborn as sns"
   ]
  },
  {
   "cell_type": "code",
   "execution_count": 8,
   "metadata": {},
   "outputs": [],
   "source": [
    "import glob, re\n",
    "from sklearn import *\n",
    "from datetime import datetime\n",
    "from xgboost import XGBRegressor"
   ]
  },
  {
   "cell_type": "code",
   "execution_count": 9,
   "metadata": {},
   "outputs": [],
   "source": [
    "np.random.seed(10)\n",
    "\n",
    "from sklearn.preprocessing import LabelEncoder\n",
    "from sklearn.preprocessing import MinMaxScaler\n",
    "from sklearn.metrics import mean_squared_error"
   ]
  },
  {
   "cell_type": "markdown",
   "metadata": {
    "_cell_guid": "51340418-bc4c-422c-b818-e298c00cee01",
    "_uuid": "fb62ece54cd6bae9192911b8b1498dfd73b393b8"
   },
   "source": [
    "### <a id='data-import'>1.Data import and aggregation</a>"
   ]
  },
  {
   "cell_type": "code",
   "execution_count": 16,
   "metadata": {
    "_cell_guid": "899733d1-b239-4cb5-9d87-b16f9ab0111b",
    "_uuid": "b8e3eceff3d3edb5f3617fd5a7799f0947fb9f60"
   },
   "outputs": [],
   "source": [
    "# Data Aggregation\n",
    "train = pd.read_csv('../input/train.csv',index_col=[0])\n"
   ]
  },
  {
   "cell_type": "code",
   "execution_count": 54,
   "metadata": {},
   "outputs": [],
   "source": [
    "test1 = pd.read_csv('../input/test.csv',index_col=[0])"
   ]
  },
  {
   "cell_type": "code",
   "execution_count": 17,
   "metadata": {
    "scrolled": true
   },
   "outputs": [
    {
     "data": {
      "text/html": [
       "<div>\n",
       "<style scoped>\n",
       "    .dataframe tbody tr th:only-of-type {\n",
       "        vertical-align: middle;\n",
       "    }\n",
       "\n",
       "    .dataframe tbody tr th {\n",
       "        vertical-align: top;\n",
       "    }\n",
       "\n",
       "    .dataframe thead th {\n",
       "        text-align: right;\n",
       "    }\n",
       "</style>\n",
       "<table border=\"1\" class=\"dataframe\">\n",
       "  <thead>\n",
       "    <tr style=\"text-align: right;\">\n",
       "      <th></th>\n",
       "      <th>Unnamed: 0.1</th>\n",
       "      <th>visit_date</th>\n",
       "      <th>visitors</th>\n",
       "      <th>air_store_id</th>\n",
       "      <th>latitude</th>\n",
       "      <th>longitude</th>\n",
       "      <th>month</th>\n",
       "      <th>date</th>\n",
       "      <th>dw</th>\n",
       "      <th>dy</th>\n",
       "      <th>...</th>\n",
       "      <th>Ōsaka-fu</th>\n",
       "      <th>Hyōgo-ken</th>\n",
       "      <th>Hokkaidō</th>\n",
       "      <th>Shizuoka-ken</th>\n",
       "      <th>Fukuoka-ken</th>\n",
       "      <th>Hiroshima-ken</th>\n",
       "      <th>Niigata-ken</th>\n",
       "      <th>Miyagi-ken</th>\n",
       "      <th>reserve_visitors_air_1</th>\n",
       "      <th>air_date_diff_1</th>\n",
       "    </tr>\n",
       "  </thead>\n",
       "  <tbody>\n",
       "    <tr>\n",
       "      <th>0</th>\n",
       "      <td>0</td>\n",
       "      <td>2016-01-13</td>\n",
       "      <td>25</td>\n",
       "      <td>air_ba937bf13d40fb24</td>\n",
       "      <td>35.658068</td>\n",
       "      <td>139.751599</td>\n",
       "      <td>1</td>\n",
       "      <td>13</td>\n",
       "      <td>2</td>\n",
       "      <td>13</td>\n",
       "      <td>...</td>\n",
       "      <td>0</td>\n",
       "      <td>0</td>\n",
       "      <td>0</td>\n",
       "      <td>0</td>\n",
       "      <td>0</td>\n",
       "      <td>0</td>\n",
       "      <td>0</td>\n",
       "      <td>0</td>\n",
       "      <td>NaN</td>\n",
       "      <td>NaN</td>\n",
       "    </tr>\n",
       "    <tr>\n",
       "      <th>1</th>\n",
       "      <td>1</td>\n",
       "      <td>2016-01-13</td>\n",
       "      <td>21</td>\n",
       "      <td>air_25e9888d30b386df</td>\n",
       "      <td>35.626568</td>\n",
       "      <td>139.725858</td>\n",
       "      <td>1</td>\n",
       "      <td>13</td>\n",
       "      <td>2</td>\n",
       "      <td>13</td>\n",
       "      <td>...</td>\n",
       "      <td>0</td>\n",
       "      <td>0</td>\n",
       "      <td>0</td>\n",
       "      <td>0</td>\n",
       "      <td>0</td>\n",
       "      <td>0</td>\n",
       "      <td>0</td>\n",
       "      <td>0</td>\n",
       "      <td>NaN</td>\n",
       "      <td>NaN</td>\n",
       "    </tr>\n",
       "  </tbody>\n",
       "</table>\n",
       "<p>2 rows × 59 columns</p>\n",
       "</div>"
      ],
      "text/plain": [
       "   Unnamed: 0.1  visit_date  visitors          air_store_id   latitude  \\\n",
       "0             0  2016-01-13        25  air_ba937bf13d40fb24  35.658068   \n",
       "1             1  2016-01-13        21  air_25e9888d30b386df  35.626568   \n",
       "\n",
       "    longitude  month  date  dw  dy       ...         Ōsaka-fu  Hyōgo-ken  \\\n",
       "0  139.751599      1    13   2  13       ...                0          0   \n",
       "1  139.725858      1    13   2  13       ...                0          0   \n",
       "\n",
       "   Hokkaidō  Shizuoka-ken  Fukuoka-ken  Hiroshima-ken  Niigata-ken  \\\n",
       "0         0             0            0              0            0   \n",
       "1         0             0            0              0            0   \n",
       "\n",
       "   Miyagi-ken  reserve_visitors_air_1  air_date_diff_1  \n",
       "0           0                     NaN              NaN  \n",
       "1           0                     NaN              NaN  \n",
       "\n",
       "[2 rows x 59 columns]"
      ]
     },
     "execution_count": 17,
     "metadata": {},
     "output_type": "execute_result"
    }
   ],
   "source": [
    "train.head(2)"
   ]
  },
  {
   "cell_type": "code",
   "execution_count": 18,
   "metadata": {},
   "outputs": [],
   "source": [
    "train = train.drop(['Unnamed: 0.1'], axis=1)"
   ]
  },
  {
   "cell_type": "code",
   "execution_count": 6,
   "metadata": {},
   "outputs": [
    {
     "name": "stdout",
     "output_type": "stream",
     "text": [
      "<class 'pandas.core.frame.DataFrame'>\n",
      "RangeIndex: 247009 entries, 0 to 247008\n",
      "Data columns (total 60 columns):\n",
      "Unnamed: 0                      247009 non-null int64\n",
      "Unnamed: 0.1                    247009 non-null int64\n",
      "visit_date                      247009 non-null object\n",
      "visitors                        247009 non-null int64\n",
      "air_store_id                    247009 non-null object\n",
      "latitude                        247009 non-null float64\n",
      "longitude                       247009 non-null float64\n",
      "month                           247009 non-null int64\n",
      "date                            247009 non-null int64\n",
      "dw                              247009 non-null int64\n",
      "dy                              247009 non-null int64\n",
      "holiday_flg                     247009 non-null int64\n",
      "sunday                          247009 non-null int64\n",
      "saturday                        247009 non-null int64\n",
      "sat/sun/hol                     247009 non-null float64\n",
      "precipitation                   247009 non-null float64\n",
      "avg_temperature                 247009 non-null float64\n",
      "hours_sunlight                  247009 non-null float64\n",
      "avg_wind_speed                  247009 non-null float64\n",
      "avg_vapor_pressure              246843 non-null float64\n",
      "avg_humidity                    246843 non-null float64\n",
      "avg_sea_pressure                247009 non-null float64\n",
      "avg_local_pressure              247009 non-null float64\n",
      "solar_radiation                 206342 non-null float64\n",
      "cloud_cover                     247009 non-null float64\n",
      "high_temperature                247009 non-null float64\n",
      "low_temperature                 247009 non-null float64\n",
      "lon_plus_lat                    247009 non-null float64\n",
      "Dining bar                      247009 non-null int64\n",
      "Izakaya                         247009 non-null int64\n",
      "Other                           247009 non-null int64\n",
      "Italian/French                  247009 non-null int64\n",
      "Cafe/Sweets                     247009 non-null int64\n",
      "Japanese food                   247009 non-null int64\n",
      "Bar/Cocktail                    247009 non-null int64\n",
      "Creative cuisine                247009 non-null int64\n",
      "Western food                    247009 non-null int64\n",
      "Yakiniku/Korean food            247009 non-null int64\n",
      "Asian                           247009 non-null int64\n",
      "International cuisine           247009 non-null int64\n",
      "Okonomiyaki/Monja/Teppanyaki    247009 non-null int64\n",
      "Karaoke/Party                   247009 non-null int64\n",
      "Wednesday                       247009 non-null int64\n",
      "Thursday                        247009 non-null int64\n",
      "Friday                          247009 non-null int64\n",
      "Saturday                        247009 non-null int64\n",
      "Monday                          247009 non-null int64\n",
      "Tuesday                         247009 non-null int64\n",
      "Sunday                          247009 non-null int64\n",
      "Tōkyō-to                        247009 non-null int64\n",
      "Ōsaka-fu                        247009 non-null int64\n",
      "Hyōgo-ken                       247009 non-null int64\n",
      "Hokkaidō                        247009 non-null int64\n",
      "Shizuoka-ken                    247009 non-null int64\n",
      "Fukuoka-ken                     247009 non-null int64\n",
      "Hiroshima-ken                   247009 non-null int64\n",
      "Niigata-ken                     247009 non-null int64\n",
      "Miyagi-ken                      247009 non-null int64\n",
      "reserve_visitors_air_1          26729 non-null float64\n",
      "air_date_diff_1                 26729 non-null float64\n",
      "dtypes: float64(18), int64(40), object(2)\n",
      "memory usage: 113.1+ MB\n"
     ]
    }
   ],
   "source": [
    "train.info()"
   ]
  },
  {
   "cell_type": "markdown",
   "metadata": {},
   "source": [
    "[Up to the header](#up)"
   ]
  },
  {
   "cell_type": "code",
   "execution_count": 55,
   "metadata": {},
   "outputs": [
    {
     "data": {
      "text/html": [
       "<div>\n",
       "<style scoped>\n",
       "    .dataframe tbody tr th:only-of-type {\n",
       "        vertical-align: middle;\n",
       "    }\n",
       "\n",
       "    .dataframe tbody tr th {\n",
       "        vertical-align: top;\n",
       "    }\n",
       "\n",
       "    .dataframe thead th {\n",
       "        text-align: right;\n",
       "    }\n",
       "</style>\n",
       "<table border=\"1\" class=\"dataframe\">\n",
       "  <thead>\n",
       "    <tr style=\"text-align: right;\">\n",
       "      <th></th>\n",
       "      <th>id</th>\n",
       "      <th>visitors</th>\n",
       "      <th>visit_date</th>\n",
       "      <th>air_store_id</th>\n",
       "      <th>dw</th>\n",
       "      <th>dy</th>\n",
       "      <th>date</th>\n",
       "      <th>month</th>\n",
       "      <th>holiday_flg</th>\n",
       "      <th>reserve_visitors_air_1</th>\n",
       "      <th>...</th>\n",
       "      <th>Saturday</th>\n",
       "      <th>Tōkyō-to</th>\n",
       "      <th>Ōsaka-fu</th>\n",
       "      <th>Hyōgo-ken</th>\n",
       "      <th>Hiroshima-ken</th>\n",
       "      <th>Fukuoka-ken</th>\n",
       "      <th>Hokkaidō</th>\n",
       "      <th>Miyagi-ken</th>\n",
       "      <th>Niigata-ken</th>\n",
       "      <th>Shizuoka-ken</th>\n",
       "    </tr>\n",
       "  </thead>\n",
       "  <tbody>\n",
       "    <tr>\n",
       "      <th>0</th>\n",
       "      <td>air_00a91d42b08b08d9_2017-04-23</td>\n",
       "      <td>0</td>\n",
       "      <td>2017-04-23</td>\n",
       "      <td>air_00a91d42b08b08d9</td>\n",
       "      <td>6</td>\n",
       "      <td>2017</td>\n",
       "      <td>23</td>\n",
       "      <td>4</td>\n",
       "      <td>0</td>\n",
       "      <td>NaN</td>\n",
       "      <td>...</td>\n",
       "      <td>0</td>\n",
       "      <td>1</td>\n",
       "      <td>0</td>\n",
       "      <td>0</td>\n",
       "      <td>0</td>\n",
       "      <td>0</td>\n",
       "      <td>0</td>\n",
       "      <td>0</td>\n",
       "      <td>0</td>\n",
       "      <td>0</td>\n",
       "    </tr>\n",
       "    <tr>\n",
       "      <th>1</th>\n",
       "      <td>air_00a91d42b08b08d9_2017-04-24</td>\n",
       "      <td>0</td>\n",
       "      <td>2017-04-24</td>\n",
       "      <td>air_00a91d42b08b08d9</td>\n",
       "      <td>0</td>\n",
       "      <td>2017</td>\n",
       "      <td>24</td>\n",
       "      <td>4</td>\n",
       "      <td>0</td>\n",
       "      <td>NaN</td>\n",
       "      <td>...</td>\n",
       "      <td>0</td>\n",
       "      <td>1</td>\n",
       "      <td>0</td>\n",
       "      <td>0</td>\n",
       "      <td>0</td>\n",
       "      <td>0</td>\n",
       "      <td>0</td>\n",
       "      <td>0</td>\n",
       "      <td>0</td>\n",
       "      <td>0</td>\n",
       "    </tr>\n",
       "  </tbody>\n",
       "</table>\n",
       "<p>2 rows × 59 columns</p>\n",
       "</div>"
      ],
      "text/plain": [
       "                                id  visitors  visit_date  \\\n",
       "0  air_00a91d42b08b08d9_2017-04-23         0  2017-04-23   \n",
       "1  air_00a91d42b08b08d9_2017-04-24         0  2017-04-24   \n",
       "\n",
       "           air_store_id  dw    dy  date  month  holiday_flg  \\\n",
       "0  air_00a91d42b08b08d9   6  2017    23      4            0   \n",
       "1  air_00a91d42b08b08d9   0  2017    24      4            0   \n",
       "\n",
       "   reserve_visitors_air_1      ...       Saturday  Tōkyō-to  Ōsaka-fu  \\\n",
       "0                     NaN      ...              0         1         0   \n",
       "1                     NaN      ...              0         1         0   \n",
       "\n",
       "   Hyōgo-ken  Hiroshima-ken  Fukuoka-ken  Hokkaidō  Miyagi-ken  Niigata-ken  \\\n",
       "0          0              0            0         0           0            0   \n",
       "1          0              0            0         0           0            0   \n",
       "\n",
       "   Shizuoka-ken  \n",
       "0             0  \n",
       "1             0  \n",
       "\n",
       "[2 rows x 59 columns]"
      ]
     },
     "execution_count": 55,
     "metadata": {},
     "output_type": "execute_result"
    }
   ],
   "source": [
    "test1.head(2)"
   ]
  },
  {
   "cell_type": "code",
   "execution_count": 56,
   "metadata": {
    "_cell_guid": "e51cb468-5e2e-4d2a-bf29-d0c7f81ad64f",
    "_uuid": "800f4126e39a8bc94bfdb2bf40d301276eb5661b",
    "scrolled": true
   },
   "outputs": [
    {
     "name": "stdout",
     "output_type": "stream",
     "text": [
      "<class 'pandas.core.frame.DataFrame'>\n",
      "Int64Index: 32019 entries, 0 to 32018\n",
      "Data columns (total 59 columns):\n",
      "id                              32019 non-null object\n",
      "visitors                        32019 non-null int64\n",
      "visit_date                      32019 non-null object\n",
      "air_store_id                    32019 non-null object\n",
      "dw                              32019 non-null int64\n",
      "dy                              32019 non-null int64\n",
      "date                            32019 non-null int64\n",
      "month                           32019 non-null int64\n",
      "holiday_flg                     32019 non-null int64\n",
      "reserve_visitors_air_1          1131 non-null float64\n",
      "air_date_diff_1                 1131 non-null float64\n",
      "latitude                        32019 non-null float64\n",
      "longitude                       32019 non-null float64\n",
      "sunday                          32019 non-null int64\n",
      "saturday                        32019 non-null int64\n",
      "sat/sun/hol                     32019 non-null float64\n",
      "precipitation                   32019 non-null float64\n",
      "avg_temperature                 32019 non-null float64\n",
      "hours_sunlight                  32019 non-null float64\n",
      "avg_wind_speed                  32019 non-null float64\n",
      "avg_vapor_pressure              32019 non-null float64\n",
      "avg_humidity                    32019 non-null float64\n",
      "avg_sea_pressure                32019 non-null float64\n",
      "avg_local_pressure              32019 non-null float64\n",
      "solar_radiation                 26910 non-null float64\n",
      "cloud_cover                     32019 non-null float64\n",
      "high_temperature                32019 non-null float64\n",
      "low_temperature                 32019 non-null float64\n",
      "lon_plus_lat                    32019 non-null float64\n",
      "Italian/French                  32019 non-null int64\n",
      "Izakaya                         32019 non-null int64\n",
      "Dining bar                      32019 non-null int64\n",
      "Cafe/Sweets                     32019 non-null int64\n",
      "Japanese food                   32019 non-null int64\n",
      "Western food                    32019 non-null int64\n",
      "Okonomiyaki/Monja/Teppanyaki    32019 non-null int64\n",
      "Other                           32019 non-null int64\n",
      "Yakiniku/Korean food            32019 non-null int64\n",
      "Asian                           32019 non-null int64\n",
      "Bar/Cocktail                    32019 non-null int64\n",
      "Creative cuisine                32019 non-null int64\n",
      "International cuisine           32019 non-null int64\n",
      "Karaoke/Party                   32019 non-null int64\n",
      "Sunday                          32019 non-null int64\n",
      "Monday                          32019 non-null int64\n",
      "Tuesday                         32019 non-null int64\n",
      "Wednesday                       32019 non-null int64\n",
      "Thursday                        32019 non-null int64\n",
      "Friday                          32019 non-null int64\n",
      "Saturday                        32019 non-null int64\n",
      "Tōkyō-to                        32019 non-null int64\n",
      "Ōsaka-fu                        32019 non-null int64\n",
      "Hyōgo-ken                       32019 non-null int64\n",
      "Hiroshima-ken                   32019 non-null int64\n",
      "Fukuoka-ken                     32019 non-null int64\n",
      "Hokkaidō                        32019 non-null int64\n",
      "Miyagi-ken                      32019 non-null int64\n",
      "Niigata-ken                     32019 non-null int64\n",
      "Shizuoka-ken                    32019 non-null int64\n",
      "dtypes: float64(18), int64(38), object(3)\n",
      "memory usage: 14.7+ MB\n"
     ]
    }
   ],
   "source": [
    "test1.info()"
   ]
  },
  {
   "cell_type": "markdown",
   "metadata": {},
   "source": [
    "[Up to the header](#up)"
   ]
  },
  {
   "cell_type": "markdown",
   "metadata": {},
   "source": [
    "## <a id='model-select'>2. Model selection</a>\n"
   ]
  },
  {
   "cell_type": "code",
   "execution_count": 30,
   "metadata": {
    "scrolled": false
   },
   "outputs": [
    {
     "name": "stdout",
     "output_type": "stream",
     "text": [
      "Index(['visit_date', 'visitors', 'air_store_id', 'latitude', 'longitude',\n",
      "       'month', 'date', 'dw', 'dy', 'holiday_flg', 'sunday', 'saturday',\n",
      "       'sat/sun/hol', 'precipitation', 'avg_temperature', 'hours_sunlight',\n",
      "       'avg_wind_speed', 'avg_vapor_pressure', 'avg_humidity',\n",
      "       'avg_sea_pressure', 'avg_local_pressure', 'solar_radiation',\n",
      "       'cloud_cover', 'high_temperature', 'low_temperature', 'lon_plus_lat',\n",
      "       'Dining bar', 'Izakaya', 'Other', 'Italian/French', 'Cafe/Sweets',\n",
      "       'Japanese food', 'Bar/Cocktail', 'Creative cuisine', 'Western food',\n",
      "       'Yakiniku/Korean food', 'Asian', 'International cuisine',\n",
      "       'Okonomiyaki/Monja/Teppanyaki', 'Karaoke/Party', 'Wednesday',\n",
      "       'Thursday', 'Friday', 'Saturday', 'Monday', 'Tuesday', 'Sunday',\n",
      "       'Tōkyō-to', 'Ōsaka-fu', 'Hyōgo-ken', 'Hokkaidō', 'Shizuoka-ken',\n",
      "       'Fukuoka-ken', 'Hiroshima-ken', 'Niigata-ken', 'Miyagi-ken',\n",
      "       'reserve_visitors_air_1', 'air_date_diff_1'],\n",
      "      dtype='object')\n",
      "(247009, 58)\n"
     ]
    }
   ],
   "source": [
    "print(train.columns)\n",
    "print(train.shape)\n",
    "\n",
    "train = train.drop(['avg_temperature', 'hours_sunlight','avg_wind_speed','avg_vapor_pressure',\\\n",
    "                    'avg_humidity','avg_sea_pressure', 'avg_local_pressure', 'solar_radiation',\\\n",
    "                    'cloud_cover', 'high_temperature', 'low_temperature'], axis=1)"
   ]
  },
  {
   "cell_type": "markdown",
   "metadata": {},
   "source": [
    "[Up to the header](#up)"
   ]
  },
  {
   "cell_type": "code",
   "execution_count": 31,
   "metadata": {},
   "outputs": [
    {
     "data": {
      "text/plain": [
       "Index(['visit_date', 'visitors', 'air_store_id', 'latitude', 'longitude',\n",
       "       'month', 'date', 'dw', 'dy', 'holiday_flg', 'sunday', 'saturday',\n",
       "       'sat/sun/hol', 'precipitation', 'lon_plus_lat', 'Dining bar', 'Izakaya',\n",
       "       'Other', 'Italian/French', 'Cafe/Sweets', 'Japanese food',\n",
       "       'Bar/Cocktail', 'Creative cuisine', 'Western food',\n",
       "       'Yakiniku/Korean food', 'Asian', 'International cuisine',\n",
       "       'Okonomiyaki/Monja/Teppanyaki', 'Karaoke/Party', 'Wednesday',\n",
       "       'Thursday', 'Friday', 'Saturday', 'Monday', 'Tuesday', 'Sunday',\n",
       "       'Tōkyō-to', 'Ōsaka-fu', 'Hyōgo-ken', 'Hokkaidō', 'Shizuoka-ken',\n",
       "       'Fukuoka-ken', 'Hiroshima-ken', 'Niigata-ken', 'Miyagi-ken',\n",
       "       'reserve_visitors_air_1', 'air_date_diff_1'],\n",
       "      dtype='object')"
      ]
     },
     "execution_count": 31,
     "metadata": {},
     "output_type": "execute_result"
    }
   ],
   "source": [
    "train.columns"
   ]
  },
  {
   "cell_type": "markdown",
   "metadata": {},
   "source": [
    "[Up to the header](#up)"
   ]
  },
  {
   "cell_type": "code",
   "execution_count": 34,
   "metadata": {},
   "outputs": [
    {
     "name": "stdout",
     "output_type": "stream",
     "text": [
      "Index(['id', 'visitors', 'visit_date', 'air_store_id', 'dw', 'dy', 'month',\n",
      "       'holiday_flg', 'latitude', 'longitude', 'sunday', 'saturday',\n",
      "       'sat/sun/hol', 'precipitation', 'avg_temperature', 'hours_sunlight',\n",
      "       'avg_wind_speed', 'avg_vapor_pressure', 'avg_humidity',\n",
      "       'avg_sea_pressure', 'avg_local_pressure', 'solar_radiation',\n",
      "       'cloud_cover', 'high_temperature', 'low_temperature', 'lon_plus_lat',\n",
      "       'Italian/French', 'Izakaya', 'Dining bar', 'Cafe/Sweets',\n",
      "       'Japanese food', 'Western food', 'Okonomiyaki/Monja/Teppanyaki',\n",
      "       'Other', 'Yakiniku/Korean food', 'Asian', 'Bar/Cocktail',\n",
      "       'Creative cuisine', 'International cuisine', 'Karaoke/Party', 'Sunday',\n",
      "       'Monday', 'Tuesday', 'Wednesday', 'Thursday', 'Friday', 'Saturday',\n",
      "       'Tōkyō-to', 'Ōsaka-fu', 'Hyōgo-ken', 'Hiroshima-ken', 'Fukuoka-ken',\n",
      "       'Hokkaidō', 'Miyagi-ken', 'Niigata-ken', 'Shizuoka-ken'],\n",
      "      dtype='object')\n",
      "(32019, 56)\n"
     ]
    }
   ],
   "source": [
    "print(test1.columns)\n",
    "print(test1.shape)\n",
    "\n",
    "test1 = test1.drop(['avg_temperature', 'hours_sunlight','avg_wind_speed', 'avg_vapor_pressure', 'avg_humidity',\\\n",
    "                  'avg_sea_pressure', 'avg_local_pressure', 'solar_radiation','cloud_cover',\\\n",
    "                  'high_temperature', 'low_temperature'], axis=1)"
   ]
  },
  {
   "cell_type": "markdown",
   "metadata": {},
   "source": [
    "[Up to the header](#up)"
   ]
  },
  {
   "cell_type": "code",
   "execution_count": 57,
   "metadata": {},
   "outputs": [],
   "source": [
    "col10 = [c for c in train if c not in ['id', 'air_store_id', 'visit_date','visitors']]\n",
    "col11 = [c for c in test1 if c not in ['id', 'air_store_id', 'visit_date','visitors']]"
   ]
  },
  {
   "cell_type": "markdown",
   "metadata": {},
   "source": [
    "[Up to the header](#up)"
   ]
  },
  {
   "cell_type": "code",
   "execution_count": 58,
   "metadata": {},
   "outputs": [],
   "source": [
    "train = train.fillna(-1)\n",
    "test1 = test1.fillna(-1)"
   ]
  },
  {
   "cell_type": "code",
   "execution_count": 44,
   "metadata": {},
   "outputs": [
    {
     "data": {
      "text/html": [
       "<div>\n",
       "<style scoped>\n",
       "    .dataframe tbody tr th:only-of-type {\n",
       "        vertical-align: middle;\n",
       "    }\n",
       "\n",
       "    .dataframe tbody tr th {\n",
       "        vertical-align: top;\n",
       "    }\n",
       "\n",
       "    .dataframe thead th {\n",
       "        text-align: right;\n",
       "    }\n",
       "</style>\n",
       "<table border=\"1\" class=\"dataframe\">\n",
       "  <thead>\n",
       "    <tr style=\"text-align: right;\">\n",
       "      <th></th>\n",
       "      <th>visit_date</th>\n",
       "      <th>visitors</th>\n",
       "      <th>air_store_id</th>\n",
       "      <th>latitude</th>\n",
       "      <th>longitude</th>\n",
       "      <th>month</th>\n",
       "      <th>date</th>\n",
       "      <th>dw</th>\n",
       "      <th>dy</th>\n",
       "      <th>holiday_flg</th>\n",
       "      <th>...</th>\n",
       "      <th>Ōsaka-fu</th>\n",
       "      <th>Hyōgo-ken</th>\n",
       "      <th>Hokkaidō</th>\n",
       "      <th>Shizuoka-ken</th>\n",
       "      <th>Fukuoka-ken</th>\n",
       "      <th>Hiroshima-ken</th>\n",
       "      <th>Niigata-ken</th>\n",
       "      <th>Miyagi-ken</th>\n",
       "      <th>reserve_visitors_air_1</th>\n",
       "      <th>air_date_diff_1</th>\n",
       "    </tr>\n",
       "  </thead>\n",
       "  <tbody>\n",
       "    <tr>\n",
       "      <th>0</th>\n",
       "      <td>2016-01-13</td>\n",
       "      <td>25</td>\n",
       "      <td>air_ba937bf13d40fb24</td>\n",
       "      <td>35.658068</td>\n",
       "      <td>139.751599</td>\n",
       "      <td>1</td>\n",
       "      <td>13</td>\n",
       "      <td>2</td>\n",
       "      <td>13</td>\n",
       "      <td>0</td>\n",
       "      <td>...</td>\n",
       "      <td>0</td>\n",
       "      <td>0</td>\n",
       "      <td>0</td>\n",
       "      <td>0</td>\n",
       "      <td>0</td>\n",
       "      <td>0</td>\n",
       "      <td>0</td>\n",
       "      <td>0</td>\n",
       "      <td>-1.0</td>\n",
       "      <td>-1.0</td>\n",
       "    </tr>\n",
       "  </tbody>\n",
       "</table>\n",
       "<p>1 rows × 47 columns</p>\n",
       "</div>"
      ],
      "text/plain": [
       "   visit_date  visitors          air_store_id   latitude   longitude  month  \\\n",
       "0  2016-01-13        25  air_ba937bf13d40fb24  35.658068  139.751599      1   \n",
       "\n",
       "   date  dw  dy  holiday_flg       ...         Ōsaka-fu  Hyōgo-ken  Hokkaidō  \\\n",
       "0    13   2  13            0       ...                0          0         0   \n",
       "\n",
       "   Shizuoka-ken  Fukuoka-ken  Hiroshima-ken  Niigata-ken  Miyagi-ken  \\\n",
       "0             0            0              0            0           0   \n",
       "\n",
       "   reserve_visitors_air_1  air_date_diff_1  \n",
       "0                    -1.0             -1.0  \n",
       "\n",
       "[1 rows x 47 columns]"
      ]
     },
     "execution_count": 44,
     "metadata": {},
     "output_type": "execute_result"
    }
   ],
   "source": [
    "train.head(1)"
   ]
  },
  {
   "cell_type": "code",
   "execution_count": 59,
   "metadata": {},
   "outputs": [
    {
     "data": {
      "text/html": [
       "<div>\n",
       "<style scoped>\n",
       "    .dataframe tbody tr th:only-of-type {\n",
       "        vertical-align: middle;\n",
       "    }\n",
       "\n",
       "    .dataframe tbody tr th {\n",
       "        vertical-align: top;\n",
       "    }\n",
       "\n",
       "    .dataframe thead th {\n",
       "        text-align: right;\n",
       "    }\n",
       "</style>\n",
       "<table border=\"1\" class=\"dataframe\">\n",
       "  <thead>\n",
       "    <tr style=\"text-align: right;\">\n",
       "      <th></th>\n",
       "      <th>id</th>\n",
       "      <th>visitors</th>\n",
       "      <th>visit_date</th>\n",
       "      <th>air_store_id</th>\n",
       "      <th>dw</th>\n",
       "      <th>dy</th>\n",
       "      <th>date</th>\n",
       "      <th>month</th>\n",
       "      <th>holiday_flg</th>\n",
       "      <th>reserve_visitors_air_1</th>\n",
       "      <th>...</th>\n",
       "      <th>Saturday</th>\n",
       "      <th>Tōkyō-to</th>\n",
       "      <th>Ōsaka-fu</th>\n",
       "      <th>Hyōgo-ken</th>\n",
       "      <th>Hiroshima-ken</th>\n",
       "      <th>Fukuoka-ken</th>\n",
       "      <th>Hokkaidō</th>\n",
       "      <th>Miyagi-ken</th>\n",
       "      <th>Niigata-ken</th>\n",
       "      <th>Shizuoka-ken</th>\n",
       "    </tr>\n",
       "  </thead>\n",
       "  <tbody>\n",
       "    <tr>\n",
       "      <th>0</th>\n",
       "      <td>air_00a91d42b08b08d9_2017-04-23</td>\n",
       "      <td>0</td>\n",
       "      <td>2017-04-23</td>\n",
       "      <td>air_00a91d42b08b08d9</td>\n",
       "      <td>6</td>\n",
       "      <td>2017</td>\n",
       "      <td>23</td>\n",
       "      <td>4</td>\n",
       "      <td>0</td>\n",
       "      <td>-1.0</td>\n",
       "      <td>...</td>\n",
       "      <td>0</td>\n",
       "      <td>1</td>\n",
       "      <td>0</td>\n",
       "      <td>0</td>\n",
       "      <td>0</td>\n",
       "      <td>0</td>\n",
       "      <td>0</td>\n",
       "      <td>0</td>\n",
       "      <td>0</td>\n",
       "      <td>0</td>\n",
       "    </tr>\n",
       "  </tbody>\n",
       "</table>\n",
       "<p>1 rows × 59 columns</p>\n",
       "</div>"
      ],
      "text/plain": [
       "                                id  visitors  visit_date  \\\n",
       "0  air_00a91d42b08b08d9_2017-04-23         0  2017-04-23   \n",
       "\n",
       "           air_store_id  dw    dy  date  month  holiday_flg  \\\n",
       "0  air_00a91d42b08b08d9   6  2017    23      4            0   \n",
       "\n",
       "   reserve_visitors_air_1      ...       Saturday  Tōkyō-to  Ōsaka-fu  \\\n",
       "0                    -1.0      ...              0         1         0   \n",
       "\n",
       "   Hyōgo-ken  Hiroshima-ken  Fukuoka-ken  Hokkaidō  Miyagi-ken  Niigata-ken  \\\n",
       "0          0              0            0         0           0            0   \n",
       "\n",
       "   Shizuoka-ken  \n",
       "0             0  \n",
       "\n",
       "[1 rows x 59 columns]"
      ]
     },
     "execution_count": 59,
     "metadata": {},
     "output_type": "execute_result"
    }
   ],
   "source": [
    "test1.head(1)"
   ]
  },
  {
   "cell_type": "code",
   "execution_count": 39,
   "metadata": {},
   "outputs": [],
   "source": [
    "def RMSLE(y, pred):\n",
    "    return metrics.mean_squared_error(y, pred)**0.5"
   ]
  },
  {
   "cell_type": "markdown",
   "metadata": {},
   "source": [
    "[Up to the header](#up)"
   ]
  },
  {
   "cell_type": "markdown",
   "metadata": {},
   "source": [
    "### <a id='gb-model'>2.1 Gradient Boosting Model</a>"
   ]
  },
  {
   "cell_type": "code",
   "execution_count": 40,
   "metadata": {},
   "outputs": [],
   "source": [
    "model1 = ensemble.GradientBoostingRegressor(learning_rate=0.2, random_state=3, n_estimators=200, subsample=0.8, \n",
    "                      max_depth =10)"
   ]
  },
  {
   "cell_type": "markdown",
   "metadata": {},
   "source": [
    "### <a id='kn-model'>2.2 KNeighbors Model</a>"
   ]
  },
  {
   "cell_type": "code",
   "execution_count": 41,
   "metadata": {},
   "outputs": [],
   "source": [
    "model2 = neighbors.KNeighborsRegressor(n_jobs=-1, n_neighbors=4)"
   ]
  },
  {
   "cell_type": "markdown",
   "metadata": {},
   "source": [
    "### <a id='xgb-model'>2.3 XGB Model</a>"
   ]
  },
  {
   "cell_type": "code",
   "execution_count": 42,
   "metadata": {},
   "outputs": [],
   "source": [
    "model3 = XGBRegressor(learning_rate=0.2, n_estimators=280, subsample=0.8, \n",
    "                      colsample_bytree=0.8, max_depth =12)\n",
    "#random_state=3"
   ]
  },
  {
   "cell_type": "markdown",
   "metadata": {},
   "source": [
    "[Up to the header](#up)"
   ]
  },
  {
   "cell_type": "code",
   "execution_count": null,
   "metadata": {},
   "outputs": [],
   "source": []
  },
  {
   "cell_type": "code",
   "execution_count": 43,
   "metadata": {
    "scrolled": true
   },
   "outputs": [
    {
     "data": {
      "text/plain": [
       "GradientBoostingRegressor(alpha=0.9, criterion='friedman_mse', init=None,\n",
       "             learning_rate=0.2, loss='ls', max_depth=10, max_features=None,\n",
       "             max_leaf_nodes=None, min_impurity_decrease=0.0,\n",
       "             min_impurity_split=None, min_samples_leaf=1,\n",
       "             min_samples_split=2, min_weight_fraction_leaf=0.0,\n",
       "             n_estimators=200, n_iter_no_change=None, presort='auto',\n",
       "             random_state=3, subsample=0.8, tol=0.0001,\n",
       "             validation_fraction=0.1, verbose=0, warm_start=False)"
      ]
     },
     "execution_count": 43,
     "metadata": {},
     "output_type": "execute_result"
    }
   ],
   "source": [
    "model1.fit(train[col10], np.log1p(train['visitors'].values))"
   ]
  },
  {
   "cell_type": "code",
   "execution_count": 46,
   "metadata": {},
   "outputs": [
    {
     "data": {
      "text/plain": [
       "KNeighborsRegressor(algorithm='auto', leaf_size=30, metric='minkowski',\n",
       "          metric_params=None, n_jobs=-1, n_neighbors=4, p=2,\n",
       "          weights='uniform')"
      ]
     },
     "execution_count": 46,
     "metadata": {},
     "output_type": "execute_result"
    }
   ],
   "source": [
    "model2.fit(train[col10], np.log1p(train['visitors'].values))"
   ]
  },
  {
   "cell_type": "code",
   "execution_count": 47,
   "metadata": {
    "scrolled": false
   },
   "outputs": [
    {
     "data": {
      "text/plain": [
       "XGBRegressor(base_score=0.5, booster='gbtree', colsample_bylevel=1,\n",
       "       colsample_bytree=0.8, gamma=0, learning_rate=0.2, max_delta_step=0,\n",
       "       max_depth=12, min_child_weight=1, missing=None, n_estimators=280,\n",
       "       n_jobs=1, nthread=None, objective='reg:linear', random_state=0,\n",
       "       reg_alpha=0, reg_lambda=1, scale_pos_weight=1, seed=None,\n",
       "       silent=True, subsample=0.8)"
      ]
     },
     "execution_count": 47,
     "metadata": {},
     "output_type": "execute_result"
    }
   ],
   "source": [
    "model3.fit(train[col10], np.log1p(train['visitors'].values))"
   ]
  },
  {
   "cell_type": "markdown",
   "metadata": {},
   "source": [
    "[Up to the header](#up)"
   ]
  },
  {
   "cell_type": "markdown",
   "metadata": {},
   "source": [
    "## <a id='prediction'>Prediction</a>"
   ]
  },
  {
   "cell_type": "code",
   "execution_count": 48,
   "metadata": {},
   "outputs": [],
   "source": [
    "preds1 = model1.predict(train[col10])"
   ]
  },
  {
   "cell_type": "code",
   "execution_count": 49,
   "metadata": {},
   "outputs": [],
   "source": [
    "preds2 = model2.predict(train[col10])"
   ]
  },
  {
   "cell_type": "code",
   "execution_count": 50,
   "metadata": {},
   "outputs": [],
   "source": [
    "preds3 = model3.predict(train[col10])"
   ]
  },
  {
   "cell_type": "markdown",
   "metadata": {},
   "source": [
    "[Up to the header](#up)"
   ]
  },
  {
   "cell_type": "code",
   "execution_count": 51,
   "metadata": {},
   "outputs": [
    {
     "name": "stdout",
     "output_type": "stream",
     "text": [
      "RMSE GradientBoostingRegressor:  0.6019631986290861\n"
     ]
    }
   ],
   "source": [
    "print('RMSE GradientBoostingRegressor: ', RMSLE(np.log1p(train['visitors'].values), preds1))"
   ]
  },
  {
   "cell_type": "code",
   "execution_count": 52,
   "metadata": {
    "scrolled": true
   },
   "outputs": [
    {
     "name": "stdout",
     "output_type": "stream",
     "text": [
      "RMSE KNeighborsRegressor:  0.6649371164127708\n"
     ]
    }
   ],
   "source": [
    "print('RMSE KNeighborsRegressor: ', RMSLE(np.log1p(train['visitors'].values), preds2))"
   ]
  },
  {
   "cell_type": "code",
   "execution_count": 53,
   "metadata": {},
   "outputs": [
    {
     "name": "stdout",
     "output_type": "stream",
     "text": [
      "RMSE XGBRegressor:  0.5713126937807613\n"
     ]
    }
   ],
   "source": [
    "print('RMSE XGBRegressor: ', RMSLE(np.log1p(train['visitors'].values), preds3))"
   ]
  },
  {
   "cell_type": "code",
   "execution_count": 60,
   "metadata": {},
   "outputs": [],
   "source": [
    "preds1 = model1.predict(test1[col10])"
   ]
  },
  {
   "cell_type": "code",
   "execution_count": 61,
   "metadata": {},
   "outputs": [],
   "source": [
    "preds2 = model2.predict(test1[col10])"
   ]
  },
  {
   "cell_type": "code",
   "execution_count": 63,
   "metadata": {},
   "outputs": [],
   "source": [
    "preds3 = model3.predict(test1[col10])"
   ]
  },
  {
   "cell_type": "code",
   "execution_count": 64,
   "metadata": {},
   "outputs": [],
   "source": [
    "test1['visitors'] = 0.3*preds1+0.3*preds2+0.4*preds3\n",
    "test1['visitors'] = np.expm1(test1['visitors']).clip(lower=0.)"
   ]
  },
  {
   "cell_type": "code",
   "execution_count": 69,
   "metadata": {},
   "outputs": [],
   "source": [
    "sub1 = test1[['id','visitors']].copy()\n",
    "#del train #del data;"
   ]
  },
  {
   "cell_type": "markdown",
   "metadata": {},
   "source": [
    "### <a id='export-csv'>Export to csv</a>"
   ]
  },
  {
   "cell_type": "code",
   "execution_count": 74,
   "metadata": {},
   "outputs": [],
   "source": [
    "# here you have to write path, where result file will be stored\n",
    "#export_csv = sub1.to_csv ('../input/submission.csv', index = None, header=True) \n",
    "#print (df4)"
   ]
  },
  {
   "cell_type": "markdown",
   "metadata": {},
   "source": [
    "[Up to the header](#up)"
   ]
  },
  {
   "cell_type": "markdown",
   "metadata": {},
   "source": [
    "### <a id='golden-week'>Golden Week</a>"
   ]
  },
  {
   "cell_type": "code",
   "execution_count": 2,
   "metadata": {},
   "outputs": [
    {
     "ename": "NameError",
     "evalue": "name 'sub1' is not defined",
     "output_type": "error",
     "traceback": [
      "\u001b[1;31m---------------------------------------------------------------------------\u001b[0m",
      "\u001b[1;31mNameError\u001b[0m                                 Traceback (most recent call last)",
      "\u001b[1;32m<ipython-input-2-f2febdcf0920>\u001b[0m in \u001b[0;36m<module>\u001b[1;34m\u001b[0m\n\u001b[1;32m----> 1\u001b[1;33m \u001b[0msubCopy\u001b[0m \u001b[1;33m=\u001b[0m \u001b[0msub1\u001b[0m\u001b[1;33m.\u001b[0m\u001b[0mcopy\u001b[0m\u001b[1;33m(\u001b[0m\u001b[1;33m)\u001b[0m\u001b[1;33m\u001b[0m\u001b[1;33m\u001b[0m\u001b[0m\n\u001b[0m",
      "\u001b[1;31mNameError\u001b[0m: name 'sub1' is not defined"
     ]
    }
   ],
   "source": [
    "sub11 = pd.r\n",
    "subCopy = sub11.copy()"
   ]
  },
  {
   "cell_type": "code",
   "execution_count": 42,
   "metadata": {},
   "outputs": [],
   "source": [
    "first_sub['tmp'] = np.nan\n",
    "         \n",
    "first_sub['air_store_id'] = first_sub.id.map(lambda x: '_'.join(x.split('_')[:-1]))\n",
    "first_sub['date'] = first_sub.id.map(lambda x: x.split('_')[2])\n",
    "first_sub['date'] =first_sub['date'].astype('datetime64[ns]')\n",
    "\n",
    "first_sub.loc[first_sub.date=='2017-5-3','tmp'] = np.sqrt(first_sub.loc[first_sub.date=='2017-4-29','visitors']\\\n",
    "                                                          .values*first_sub.loc[first_sub.date=='2017-5-13','visitors']\\\n",
    "                                                          .values)\n",
    "\n",
    "first_sub.loc[first_sub.date=='2017-5-4','tmp'] = np.sqrt(first_sub.loc[first_sub.date=='2017-4-29','visitors']\\\n",
    "                                                          .values*first_sub.loc[first_sub.date=='2017-5-13','visitors']\\\n",
    "                                                          .values)\n",
    "\n",
    "first_sub.loc[first_sub.date=='2017-5-5','tmp'] = np.sqrt(first_sub.loc[first_sub.date=='2017-4-29','visitors']\\\n",
    "                                                          .values*first_sub.loc[first_sub.date=='2017-5-13','visitors']\\\n",
    "                                                          .values)\n",
    "\n",
    "first_sub.loc[first_sub.date=='2017-5-2','tmp'] = np.sqrt(first_sub.loc[first_sub.date=='2017-4-28','visitors']\\\n",
    "                                                          .values*first_sub.loc[first_sub.date=='2017-5-12','visitors']\\\n",
    "                                                          .values)\n"
   ]
  },
  {
   "cell_type": "code",
   "execution_count": 50,
   "metadata": {},
   "outputs": [],
   "source": [
    "model1 = ensemble.GradientBoostingRegressor(learning_rate=0.2, random_state=3, n_estimators=200, subsample=0.8, \n",
    "                      max_depth =10)\n",
    "model2 = neighbors.KNeighborsRegressor(n_jobs=-1, n_neighbors=4)\n",
    "model3 = XGBRegressor(learning_rate=0.2, n_estimators=280, subsample=0.8, colsample_bytree=0.8, max_depth =12)"
   ]
  },
  {
   "cell_type": "code",
   "execution_count": 51,
   "metadata": {},
   "outputs": [
    {
     "data": {
      "text/plain": [
       "GradientBoostingRegressor(alpha=0.9, criterion='friedman_mse', init=None,\n",
       "             learning_rate=0.2, loss='ls', max_depth=10, max_features=None,\n",
       "             max_leaf_nodes=None, min_impurity_decrease=0.0,\n",
       "             min_impurity_split=None, min_samples_leaf=1,\n",
       "             min_samples_split=2, min_weight_fraction_leaf=0.0,\n",
       "             n_estimators=200, n_iter_no_change=None, presort='auto',\n",
       "             random_state=3, subsample=0.8, tol=0.0001,\n",
       "             validation_fraction=0.1, verbose=0, warm_start=False)"
      ]
     },
     "execution_count": 51,
     "metadata": {},
     "output_type": "execute_result"
    }
   ],
   "source": [
    "model1.fit(train_io[col], np.log1p(train_io['visitors'].values))"
   ]
  },
  {
   "cell_type": "code",
   "execution_count": 54,
   "metadata": {},
   "outputs": [
    {
     "data": {
      "text/plain": [
       "KNeighborsRegressor(algorithm='auto', leaf_size=30, metric='minkowski',\n",
       "          metric_params=None, n_jobs=-1, n_neighbors=4, p=2,\n",
       "          weights='uniform')"
      ]
     },
     "execution_count": 54,
     "metadata": {},
     "output_type": "execute_result"
    }
   ],
   "source": [
    "model2.fit(train_io[col], np.log1p(train_io['visitors'].values))"
   ]
  },
  {
   "cell_type": "code",
   "execution_count": 56,
   "metadata": {},
   "outputs": [
    {
     "data": {
      "text/plain": [
       "XGBRegressor(base_score=0.5, colsample_bylevel=1, colsample_bytree=0.8,\n",
       "       gamma=0, learning_rate=0.2, max_delta_step=0, max_depth=12,\n",
       "       min_child_weight=1, missing=None, n_estimators=280, nthread=-1,\n",
       "       objective='reg:linear', reg_alpha=0, reg_lambda=1,\n",
       "       scale_pos_weight=1, seed=0, silent=True, subsample=0.8)"
      ]
     },
     "execution_count": 56,
     "metadata": {},
     "output_type": "execute_result"
    }
   ],
   "source": [
    "model3.fit(train_io[col], np.log1p(train_io['visitors'].values))"
   ]
  },
  {
   "cell_type": "code",
   "execution_count": 58,
   "metadata": {},
   "outputs": [],
   "source": [
    "preds1 = model1.predict(train_io[col])\n",
    "preds2 = model2.predict(train_io[col])\n",
    "preds3 = model3.predict(train_io[col])"
   ]
  },
  {
   "cell_type": "code",
   "execution_count": 60,
   "metadata": {},
   "outputs": [
    {
     "name": "stdout",
     "output_type": "stream",
     "text": [
      "('RMSE GradientBoostingRegressor: ', 0.07063084570011836)\n",
      "('RMSE KNeighborsRegressor: ', 0.5199218454804754)\n",
      "('RMSE XGBRegressor: ', 0.00899810689801468)\n"
     ]
    }
   ],
   "source": [
    "print('RMSE GradientBoostingRegressor: ', RMSLE(np.log1p(train_io['visitors'].values), preds1))\n",
    "print('RMSE KNeighborsRegressor: ', RMSLE(np.log1p(train_io['visitors'].values), preds2))\n",
    "print('RMSE XGBRegressor: ', RMSLE(np.log1p(train_io['visitors'].values), preds3))"
   ]
  },
  {
   "cell_type": "code",
   "execution_count": 30,
   "metadata": {},
   "outputs": [
    {
     "name": "stdout",
     "output_type": "stream",
     "text": [
      "('RMSE GradientBoostingRegressor: ', 0.5707351538377076)\n"
     ]
    }
   ],
   "source": [
    "preds1 = model1.predict(train_io[col])\n",
    "\n",
    "print('RMSE GradientBoostingRegressor: ', RMSLE(np.log1p(train_io['visitors'].values), preds1))\n",
    "#preds1 = model1.predict(test[col])"
   ]
  },
  {
   "cell_type": "code",
   "execution_count": null,
   "metadata": {},
   "outputs": [],
   "source": [
    "preds1 = model1.predict(test[col])\n",
    "preds2 = model2.predict(test[col])\n",
    "preds3 = model3.predict(test[col])"
   ]
  },
  {
   "cell_type": "code",
   "execution_count": null,
   "metadata": {},
   "outputs": [],
   "source": []
  },
  {
   "cell_type": "code",
   "execution_count": null,
   "metadata": {},
   "outputs": [],
   "source": []
  },
  {
   "cell_type": "code",
   "execution_count": null,
   "metadata": {},
   "outputs": [],
   "source": [
    "test['visitors'] = 0.3*preds1+0.3*preds2+0.4*preds3\n",
    "test['visitors'] = np.expm1(test['visitors']).clip(lower=0.)\n",
    "sub1 = test[['id','visitors']].copy()\n",
    "del train; del data;"
   ]
  },
  {
   "cell_type": "code",
   "execution_count": 23,
   "metadata": {},
   "outputs": [],
   "source": [
    "from sklearn.ensemble import RandomForestClassifier\n",
    "from sklearn.feature_selection import SelectFromModel"
   ]
  },
  {
   "cell_type": "code",
   "execution_count": 38,
   "metadata": {},
   "outputs": [],
   "source": [
    "test.to_csv(r'C:\\Users\\sergey\\Documents\\Recruit Restaurant Visitor_2\\test.csv')"
   ]
  }
 ],
 "metadata": {
  "kernelspec": {
   "display_name": "Python 3",
   "language": "python",
   "name": "python3"
  },
  "language_info": {
   "codemirror_mode": {
    "name": "ipython",
    "version": 3
   },
   "file_extension": ".py",
   "mimetype": "text/x-python",
   "name": "python",
   "nbconvert_exporter": "python",
   "pygments_lexer": "ipython3",
   "version": "3.7.1"
  }
 },
 "nbformat": 4,
 "nbformat_minor": 1
}
