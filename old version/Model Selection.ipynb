{
 "cells": [
  {
   "cell_type": "markdown",
   "metadata": {
    "_cell_guid": "3d031044-522c-4468-83f6-15c2fef96bd8",
    "_uuid": "ca266113f6bd4ce070fda0e120d5895adf6e37c8"
   },
   "source": [
    "## Model Selection"
   ]
  },
  {
   "cell_type": "code",
   "execution_count": 1,
   "metadata": {},
   "outputs": [],
   "source": [
    "# Load libraries\n",
    "import numpy as np \n",
    "import pandas as pd \n",
    "from subprocess import check_output\n",
    "import matplotlib.pyplot as plt\n",
    "import seaborn as sns"
   ]
  },
  {
   "cell_type": "code",
   "execution_count": 2,
   "metadata": {},
   "outputs": [],
   "source": [
    "import glob, re\n",
    "from sklearn import *\n",
    "from datetime import datetime\n",
    "from xgboost import XGBRegressor"
   ]
  },
  {
   "cell_type": "code",
   "execution_count": 3,
   "metadata": {},
   "outputs": [],
   "source": [
    "np.random.seed(10)\n",
    "\n",
    "from sklearn.preprocessing import LabelEncoder\n",
    "from sklearn.preprocessing import MinMaxScaler\n",
    "from sklearn.metrics import mean_squared_error"
   ]
  },
  {
   "cell_type": "markdown",
   "metadata": {
    "_cell_guid": "51340418-bc4c-422c-b818-e298c00cee01",
    "_uuid": "fb62ece54cd6bae9192911b8b1498dfd73b393b8"
   },
   "source": [
    "### 1.Data import and aggregation"
   ]
  },
  {
   "cell_type": "code",
   "execution_count": 6,
   "metadata": {
    "_cell_guid": "899733d1-b239-4cb5-9d87-b16f9ab0111b",
    "_uuid": "b8e3eceff3d3edb5f3617fd5a7799f0947fb9f60"
   },
   "outputs": [],
   "source": [
    "# Data Aggregation\n",
    "train = pd.read_csv('train.csv')\n",
    "test = pd.read_csv('test.csv')"
   ]
  },
  {
   "cell_type": "code",
   "execution_count": 7,
   "metadata": {},
   "outputs": [
    {
     "data": {
      "text/html": [
       "<div>\n",
       "<style scoped>\n",
       "    .dataframe tbody tr th:only-of-type {\n",
       "        vertical-align: middle;\n",
       "    }\n",
       "\n",
       "    .dataframe tbody tr th {\n",
       "        vertical-align: top;\n",
       "    }\n",
       "\n",
       "    .dataframe thead th {\n",
       "        text-align: right;\n",
       "    }\n",
       "</style>\n",
       "<table border=\"1\" class=\"dataframe\">\n",
       "  <thead>\n",
       "    <tr style=\"text-align: right;\">\n",
       "      <th></th>\n",
       "      <th>Unnamed: 0</th>\n",
       "      <th>Unnamed: 0.1</th>\n",
       "      <th>visit_date</th>\n",
       "      <th>visitors</th>\n",
       "      <th>air_store_id</th>\n",
       "      <th>latitude</th>\n",
       "      <th>longitude</th>\n",
       "      <th>month</th>\n",
       "      <th>date</th>\n",
       "      <th>dw</th>\n",
       "      <th>...</th>\n",
       "      <th>Ōsaka-fu</th>\n",
       "      <th>Hyōgo-ken</th>\n",
       "      <th>Hokkaidō</th>\n",
       "      <th>Shizuoka-ken</th>\n",
       "      <th>Fukuoka-ken</th>\n",
       "      <th>Hiroshima-ken</th>\n",
       "      <th>Niigata-ken</th>\n",
       "      <th>Miyagi-ken</th>\n",
       "      <th>reserve_visitors_air_1</th>\n",
       "      <th>air_date_diff_1</th>\n",
       "    </tr>\n",
       "  </thead>\n",
       "  <tbody>\n",
       "    <tr>\n",
       "      <th>0</th>\n",
       "      <td>0</td>\n",
       "      <td>0</td>\n",
       "      <td>2016-01-13</td>\n",
       "      <td>25</td>\n",
       "      <td>air_ba937bf13d40fb24</td>\n",
       "      <td>35.658068</td>\n",
       "      <td>139.751599</td>\n",
       "      <td>1</td>\n",
       "      <td>13</td>\n",
       "      <td>2</td>\n",
       "      <td>...</td>\n",
       "      <td>0</td>\n",
       "      <td>0</td>\n",
       "      <td>0</td>\n",
       "      <td>0</td>\n",
       "      <td>0</td>\n",
       "      <td>0</td>\n",
       "      <td>0</td>\n",
       "      <td>0</td>\n",
       "      <td>NaN</td>\n",
       "      <td>NaN</td>\n",
       "    </tr>\n",
       "    <tr>\n",
       "      <th>1</th>\n",
       "      <td>1</td>\n",
       "      <td>1</td>\n",
       "      <td>2016-01-13</td>\n",
       "      <td>21</td>\n",
       "      <td>air_25e9888d30b386df</td>\n",
       "      <td>35.626568</td>\n",
       "      <td>139.725858</td>\n",
       "      <td>1</td>\n",
       "      <td>13</td>\n",
       "      <td>2</td>\n",
       "      <td>...</td>\n",
       "      <td>0</td>\n",
       "      <td>0</td>\n",
       "      <td>0</td>\n",
       "      <td>0</td>\n",
       "      <td>0</td>\n",
       "      <td>0</td>\n",
       "      <td>0</td>\n",
       "      <td>0</td>\n",
       "      <td>NaN</td>\n",
       "      <td>NaN</td>\n",
       "    </tr>\n",
       "    <tr>\n",
       "      <th>2</th>\n",
       "      <td>2</td>\n",
       "      <td>2</td>\n",
       "      <td>2016-01-13</td>\n",
       "      <td>40</td>\n",
       "      <td>air_fd6aac1043520e83</td>\n",
       "      <td>35.658068</td>\n",
       "      <td>139.751599</td>\n",
       "      <td>1</td>\n",
       "      <td>13</td>\n",
       "      <td>2</td>\n",
       "      <td>...</td>\n",
       "      <td>0</td>\n",
       "      <td>0</td>\n",
       "      <td>0</td>\n",
       "      <td>0</td>\n",
       "      <td>0</td>\n",
       "      <td>0</td>\n",
       "      <td>0</td>\n",
       "      <td>0</td>\n",
       "      <td>NaN</td>\n",
       "      <td>NaN</td>\n",
       "    </tr>\n",
       "    <tr>\n",
       "      <th>3</th>\n",
       "      <td>3</td>\n",
       "      <td>3</td>\n",
       "      <td>2016-01-13</td>\n",
       "      <td>5</td>\n",
       "      <td>air_64d4491ad8cdb1c6</td>\n",
       "      <td>35.658068</td>\n",
       "      <td>139.751599</td>\n",
       "      <td>1</td>\n",
       "      <td>13</td>\n",
       "      <td>2</td>\n",
       "      <td>...</td>\n",
       "      <td>0</td>\n",
       "      <td>0</td>\n",
       "      <td>0</td>\n",
       "      <td>0</td>\n",
       "      <td>0</td>\n",
       "      <td>0</td>\n",
       "      <td>0</td>\n",
       "      <td>0</td>\n",
       "      <td>NaN</td>\n",
       "      <td>NaN</td>\n",
       "    </tr>\n",
       "    <tr>\n",
       "      <th>4</th>\n",
       "      <td>4</td>\n",
       "      <td>4</td>\n",
       "      <td>2016-01-13</td>\n",
       "      <td>16</td>\n",
       "      <td>air_5c65468938c07fa5</td>\n",
       "      <td>35.661777</td>\n",
       "      <td>139.704051</td>\n",
       "      <td>1</td>\n",
       "      <td>13</td>\n",
       "      <td>2</td>\n",
       "      <td>...</td>\n",
       "      <td>0</td>\n",
       "      <td>0</td>\n",
       "      <td>0</td>\n",
       "      <td>0</td>\n",
       "      <td>0</td>\n",
       "      <td>0</td>\n",
       "      <td>0</td>\n",
       "      <td>0</td>\n",
       "      <td>NaN</td>\n",
       "      <td>NaN</td>\n",
       "    </tr>\n",
       "  </tbody>\n",
       "</table>\n",
       "<p>5 rows × 60 columns</p>\n",
       "</div>"
      ],
      "text/plain": [
       "   Unnamed: 0  Unnamed: 0.1  visit_date  visitors          air_store_id  \\\n",
       "0           0             0  2016-01-13        25  air_ba937bf13d40fb24   \n",
       "1           1             1  2016-01-13        21  air_25e9888d30b386df   \n",
       "2           2             2  2016-01-13        40  air_fd6aac1043520e83   \n",
       "3           3             3  2016-01-13         5  air_64d4491ad8cdb1c6   \n",
       "4           4             4  2016-01-13        16  air_5c65468938c07fa5   \n",
       "\n",
       "    latitude   longitude  month  date  dw  ...  Ōsaka-fu  Hyōgo-ken  Hokkaidō  \\\n",
       "0  35.658068  139.751599      1    13   2  ...         0          0         0   \n",
       "1  35.626568  139.725858      1    13   2  ...         0          0         0   \n",
       "2  35.658068  139.751599      1    13   2  ...         0          0         0   \n",
       "3  35.658068  139.751599      1    13   2  ...         0          0         0   \n",
       "4  35.661777  139.704051      1    13   2  ...         0          0         0   \n",
       "\n",
       "   Shizuoka-ken  Fukuoka-ken  Hiroshima-ken  Niigata-ken  Miyagi-ken  \\\n",
       "0             0            0              0            0           0   \n",
       "1             0            0              0            0           0   \n",
       "2             0            0              0            0           0   \n",
       "3             0            0              0            0           0   \n",
       "4             0            0              0            0           0   \n",
       "\n",
       "   reserve_visitors_air_1  air_date_diff_1  \n",
       "0                     NaN              NaN  \n",
       "1                     NaN              NaN  \n",
       "2                     NaN              NaN  \n",
       "3                     NaN              NaN  \n",
       "4                     NaN              NaN  \n",
       "\n",
       "[5 rows x 60 columns]"
      ]
     },
     "execution_count": 7,
     "metadata": {},
     "output_type": "execute_result"
    }
   ],
   "source": [
    "train.head()"
   ]
  },
  {
   "cell_type": "code",
   "execution_count": 10,
   "metadata": {},
   "outputs": [
    {
     "name": "stdout",
     "output_type": "stream",
     "text": [
      "<class 'pandas.core.frame.DataFrame'>\n",
      "RangeIndex: 247009 entries, 0 to 247008\n",
      "Data columns (total 58 columns):\n",
      "visit_date                      247009 non-null object\n",
      "visitors                        247009 non-null int64\n",
      "air_store_id                    247009 non-null object\n",
      "latitude                        247009 non-null float64\n",
      "longitude                       247009 non-null float64\n",
      "month                           247009 non-null int64\n",
      "date                            247009 non-null int64\n",
      "dw                              247009 non-null int64\n",
      "dy                              247009 non-null int64\n",
      "holiday_flg                     247009 non-null int64\n",
      "sunday                          247009 non-null int64\n",
      "saturday                        247009 non-null int64\n",
      "sat/sun/hol                     247009 non-null float64\n",
      "precipitation                   247009 non-null float64\n",
      "avg_temperature                 247009 non-null float64\n",
      "hours_sunlight                  247009 non-null float64\n",
      "avg_wind_speed                  247009 non-null float64\n",
      "avg_vapor_pressure              246843 non-null float64\n",
      "avg_humidity                    246843 non-null float64\n",
      "avg_sea_pressure                247009 non-null float64\n",
      "avg_local_pressure              247009 non-null float64\n",
      "solar_radiation                 206342 non-null float64\n",
      "cloud_cover                     247009 non-null float64\n",
      "high_temperature                247009 non-null float64\n",
      "low_temperature                 247009 non-null float64\n",
      "lon_plus_lat                    247009 non-null float64\n",
      "Dining bar                      247009 non-null int64\n",
      "Izakaya                         247009 non-null int64\n",
      "Other                           247009 non-null int64\n",
      "Italian/French                  247009 non-null int64\n",
      "Cafe/Sweets                     247009 non-null int64\n",
      "Japanese food                   247009 non-null int64\n",
      "Bar/Cocktail                    247009 non-null int64\n",
      "Creative cuisine                247009 non-null int64\n",
      "Western food                    247009 non-null int64\n",
      "Yakiniku/Korean food            247009 non-null int64\n",
      "Asian                           247009 non-null int64\n",
      "International cuisine           247009 non-null int64\n",
      "Okonomiyaki/Monja/Teppanyaki    247009 non-null int64\n",
      "Karaoke/Party                   247009 non-null int64\n",
      "Wednesday                       247009 non-null int64\n",
      "Thursday                        247009 non-null int64\n",
      "Friday                          247009 non-null int64\n",
      "Saturday                        247009 non-null int64\n",
      "Monday                          247009 non-null int64\n",
      "Tuesday                         247009 non-null int64\n",
      "Sunday                          247009 non-null int64\n",
      "Tōkyō-to                        247009 non-null int64\n",
      "Ōsaka-fu                        247009 non-null int64\n",
      "Hyōgo-ken                       247009 non-null int64\n",
      "Hokkaidō                        247009 non-null int64\n",
      "Shizuoka-ken                    247009 non-null int64\n",
      "Fukuoka-ken                     247009 non-null int64\n",
      "Hiroshima-ken                   247009 non-null int64\n",
      "Niigata-ken                     247009 non-null int64\n",
      "Miyagi-ken                      247009 non-null int64\n",
      "reserve_visitors_air_1          26729 non-null float64\n",
      "air_date_diff_1                 26729 non-null float64\n",
      "dtypes: float64(18), int64(38), object(2)\n",
      "memory usage: 109.3+ MB\n"
     ]
    }
   ],
   "source": [
    "train.info()"
   ]
  },
  {
   "cell_type": "code",
   "execution_count": 9,
   "metadata": {},
   "outputs": [],
   "source": [
    "train = train.drop(['Unnamed: 0' , 'Unnamed: 0.1'], axis=1)"
   ]
  },
  {
   "cell_type": "code",
   "execution_count": 11,
   "metadata": {
    "_cell_guid": "e51cb468-5e2e-4d2a-bf29-d0c7f81ad64f",
    "_uuid": "800f4126e39a8bc94bfdb2bf40d301276eb5661b",
    "scrolled": true
   },
   "outputs": [
    {
     "data": {
      "text/html": [
       "<div>\n",
       "<style scoped>\n",
       "    .dataframe tbody tr th:only-of-type {\n",
       "        vertical-align: middle;\n",
       "    }\n",
       "\n",
       "    .dataframe tbody tr th {\n",
       "        vertical-align: top;\n",
       "    }\n",
       "\n",
       "    .dataframe thead th {\n",
       "        text-align: right;\n",
       "    }\n",
       "</style>\n",
       "<table border=\"1\" class=\"dataframe\">\n",
       "  <thead>\n",
       "    <tr style=\"text-align: right;\">\n",
       "      <th></th>\n",
       "      <th>Unnamed: 0</th>\n",
       "      <th>id</th>\n",
       "      <th>visitors</th>\n",
       "      <th>visit_date</th>\n",
       "      <th>air_store_id</th>\n",
       "      <th>dw</th>\n",
       "      <th>dy</th>\n",
       "      <th>month</th>\n",
       "      <th>holiday_flg</th>\n",
       "      <th>latitude</th>\n",
       "      <th>...</th>\n",
       "      <th>Saturday</th>\n",
       "      <th>Tōkyō-to</th>\n",
       "      <th>Ōsaka-fu</th>\n",
       "      <th>Hyōgo-ken</th>\n",
       "      <th>Hiroshima-ken</th>\n",
       "      <th>Fukuoka-ken</th>\n",
       "      <th>Hokkaidō</th>\n",
       "      <th>Miyagi-ken</th>\n",
       "      <th>Niigata-ken</th>\n",
       "      <th>Shizuoka-ken</th>\n",
       "    </tr>\n",
       "  </thead>\n",
       "  <tbody>\n",
       "    <tr>\n",
       "      <th>0</th>\n",
       "      <td>0</td>\n",
       "      <td>air_00a91d42b08b08d9_2017-04-23</td>\n",
       "      <td>0</td>\n",
       "      <td>2017-04-23</td>\n",
       "      <td>air_00a91d42b08b08d9</td>\n",
       "      <td>6</td>\n",
       "      <td>2017</td>\n",
       "      <td>4</td>\n",
       "      <td>0</td>\n",
       "      <td>35.694003</td>\n",
       "      <td>...</td>\n",
       "      <td>0</td>\n",
       "      <td>1</td>\n",
       "      <td>0</td>\n",
       "      <td>0</td>\n",
       "      <td>0</td>\n",
       "      <td>0</td>\n",
       "      <td>0</td>\n",
       "      <td>0</td>\n",
       "      <td>0</td>\n",
       "      <td>0</td>\n",
       "    </tr>\n",
       "    <tr>\n",
       "      <th>1</th>\n",
       "      <td>1</td>\n",
       "      <td>air_00a91d42b08b08d9_2017-04-24</td>\n",
       "      <td>0</td>\n",
       "      <td>2017-04-24</td>\n",
       "      <td>air_00a91d42b08b08d9</td>\n",
       "      <td>0</td>\n",
       "      <td>2017</td>\n",
       "      <td>4</td>\n",
       "      <td>0</td>\n",
       "      <td>35.694003</td>\n",
       "      <td>...</td>\n",
       "      <td>0</td>\n",
       "      <td>1</td>\n",
       "      <td>0</td>\n",
       "      <td>0</td>\n",
       "      <td>0</td>\n",
       "      <td>0</td>\n",
       "      <td>0</td>\n",
       "      <td>0</td>\n",
       "      <td>0</td>\n",
       "      <td>0</td>\n",
       "    </tr>\n",
       "    <tr>\n",
       "      <th>2</th>\n",
       "      <td>2</td>\n",
       "      <td>air_00a91d42b08b08d9_2017-04-25</td>\n",
       "      <td>0</td>\n",
       "      <td>2017-04-25</td>\n",
       "      <td>air_00a91d42b08b08d9</td>\n",
       "      <td>1</td>\n",
       "      <td>2017</td>\n",
       "      <td>4</td>\n",
       "      <td>0</td>\n",
       "      <td>35.694003</td>\n",
       "      <td>...</td>\n",
       "      <td>0</td>\n",
       "      <td>1</td>\n",
       "      <td>0</td>\n",
       "      <td>0</td>\n",
       "      <td>0</td>\n",
       "      <td>0</td>\n",
       "      <td>0</td>\n",
       "      <td>0</td>\n",
       "      <td>0</td>\n",
       "      <td>0</td>\n",
       "    </tr>\n",
       "    <tr>\n",
       "      <th>3</th>\n",
       "      <td>3</td>\n",
       "      <td>air_00a91d42b08b08d9_2017-04-26</td>\n",
       "      <td>0</td>\n",
       "      <td>2017-04-26</td>\n",
       "      <td>air_00a91d42b08b08d9</td>\n",
       "      <td>2</td>\n",
       "      <td>2017</td>\n",
       "      <td>4</td>\n",
       "      <td>0</td>\n",
       "      <td>35.694003</td>\n",
       "      <td>...</td>\n",
       "      <td>0</td>\n",
       "      <td>1</td>\n",
       "      <td>0</td>\n",
       "      <td>0</td>\n",
       "      <td>0</td>\n",
       "      <td>0</td>\n",
       "      <td>0</td>\n",
       "      <td>0</td>\n",
       "      <td>0</td>\n",
       "      <td>0</td>\n",
       "    </tr>\n",
       "    <tr>\n",
       "      <th>4</th>\n",
       "      <td>4</td>\n",
       "      <td>air_00a91d42b08b08d9_2017-04-27</td>\n",
       "      <td>0</td>\n",
       "      <td>2017-04-27</td>\n",
       "      <td>air_00a91d42b08b08d9</td>\n",
       "      <td>3</td>\n",
       "      <td>2017</td>\n",
       "      <td>4</td>\n",
       "      <td>0</td>\n",
       "      <td>35.694003</td>\n",
       "      <td>...</td>\n",
       "      <td>0</td>\n",
       "      <td>1</td>\n",
       "      <td>0</td>\n",
       "      <td>0</td>\n",
       "      <td>0</td>\n",
       "      <td>0</td>\n",
       "      <td>0</td>\n",
       "      <td>0</td>\n",
       "      <td>0</td>\n",
       "      <td>0</td>\n",
       "    </tr>\n",
       "  </tbody>\n",
       "</table>\n",
       "<p>5 rows × 57 columns</p>\n",
       "</div>"
      ],
      "text/plain": [
       "   Unnamed: 0                               id  visitors  visit_date  \\\n",
       "0           0  air_00a91d42b08b08d9_2017-04-23         0  2017-04-23   \n",
       "1           1  air_00a91d42b08b08d9_2017-04-24         0  2017-04-24   \n",
       "2           2  air_00a91d42b08b08d9_2017-04-25         0  2017-04-25   \n",
       "3           3  air_00a91d42b08b08d9_2017-04-26         0  2017-04-26   \n",
       "4           4  air_00a91d42b08b08d9_2017-04-27         0  2017-04-27   \n",
       "\n",
       "           air_store_id  dw    dy  month  holiday_flg   latitude  ...  \\\n",
       "0  air_00a91d42b08b08d9   6  2017      4            0  35.694003  ...   \n",
       "1  air_00a91d42b08b08d9   0  2017      4            0  35.694003  ...   \n",
       "2  air_00a91d42b08b08d9   1  2017      4            0  35.694003  ...   \n",
       "3  air_00a91d42b08b08d9   2  2017      4            0  35.694003  ...   \n",
       "4  air_00a91d42b08b08d9   3  2017      4            0  35.694003  ...   \n",
       "\n",
       "   Saturday  Tōkyō-to  Ōsaka-fu  Hyōgo-ken  Hiroshima-ken  Fukuoka-ken  \\\n",
       "0         0         1         0          0              0            0   \n",
       "1         0         1         0          0              0            0   \n",
       "2         0         1         0          0              0            0   \n",
       "3         0         1         0          0              0            0   \n",
       "4         0         1         0          0              0            0   \n",
       "\n",
       "   Hokkaidō  Miyagi-ken  Niigata-ken  Shizuoka-ken  \n",
       "0         0           0            0             0  \n",
       "1         0           0            0             0  \n",
       "2         0           0            0             0  \n",
       "3         0           0            0             0  \n",
       "4         0           0            0             0  \n",
       "\n",
       "[5 rows x 57 columns]"
      ]
     },
     "execution_count": 11,
     "metadata": {},
     "output_type": "execute_result"
    }
   ],
   "source": [
    "test.head()"
   ]
  },
  {
   "cell_type": "code",
   "execution_count": 16,
   "metadata": {},
   "outputs": [
    {
     "name": "stdout",
     "output_type": "stream",
     "text": [
      "<class 'pandas.core.frame.DataFrame'>\n",
      "RangeIndex: 32019 entries, 0 to 32018\n",
      "Data columns (total 56 columns):\n",
      "id                              32019 non-null object\n",
      "visitors                        32019 non-null int64\n",
      "visit_date                      32019 non-null object\n",
      "air_store_id                    32019 non-null object\n",
      "dw                              32019 non-null int64\n",
      "dy                              32019 non-null int64\n",
      "month                           32019 non-null int64\n",
      "holiday_flg                     32019 non-null int64\n",
      "latitude                        32019 non-null float64\n",
      "longitude                       32019 non-null float64\n",
      "sunday                          32019 non-null int64\n",
      "saturday                        32019 non-null int64\n",
      "sat/sun/hol                     32019 non-null float64\n",
      "precipitation                   32019 non-null float64\n",
      "avg_temperature                 32019 non-null float64\n",
      "hours_sunlight                  32019 non-null float64\n",
      "avg_wind_speed                  32019 non-null float64\n",
      "avg_vapor_pressure              32019 non-null float64\n",
      "avg_humidity                    32019 non-null float64\n",
      "avg_sea_pressure                32019 non-null float64\n",
      "avg_local_pressure              32019 non-null float64\n",
      "solar_radiation                 26910 non-null float64\n",
      "cloud_cover                     32019 non-null float64\n",
      "high_temperature                32019 non-null float64\n",
      "low_temperature                 32019 non-null float64\n",
      "lon_plus_lat                    32019 non-null float64\n",
      "Italian/French                  32019 non-null int64\n",
      "Izakaya                         32019 non-null int64\n",
      "Dining bar                      32019 non-null int64\n",
      "Cafe/Sweets                     32019 non-null int64\n",
      "Japanese food                   32019 non-null int64\n",
      "Western food                    32019 non-null int64\n",
      "Okonomiyaki/Monja/Teppanyaki    32019 non-null int64\n",
      "Other                           32019 non-null int64\n",
      "Yakiniku/Korean food            32019 non-null int64\n",
      "Asian                           32019 non-null int64\n",
      "Bar/Cocktail                    32019 non-null int64\n",
      "Creative cuisine                32019 non-null int64\n",
      "International cuisine           32019 non-null int64\n",
      "Karaoke/Party                   32019 non-null int64\n",
      "Sunday                          32019 non-null int64\n",
      "Monday                          32019 non-null int64\n",
      "Tuesday                         32019 non-null int64\n",
      "Wednesday                       32019 non-null int64\n",
      "Thursday                        32019 non-null int64\n",
      "Friday                          32019 non-null int64\n",
      "Saturday                        32019 non-null int64\n",
      "Tōkyō-to                        32019 non-null int64\n",
      "Ōsaka-fu                        32019 non-null int64\n",
      "Hyōgo-ken                       32019 non-null int64\n",
      "Hiroshima-ken                   32019 non-null int64\n",
      "Fukuoka-ken                     32019 non-null int64\n",
      "Hokkaidō                        32019 non-null int64\n",
      "Miyagi-ken                      32019 non-null int64\n",
      "Niigata-ken                     32019 non-null int64\n",
      "Shizuoka-ken                    32019 non-null int64\n",
      "dtypes: float64(16), int64(37), object(3)\n",
      "memory usage: 13.7+ MB\n"
     ]
    }
   ],
   "source": [
    "test.info()"
   ]
  },
  {
   "cell_type": "code",
   "execution_count": 15,
   "metadata": {},
   "outputs": [],
   "source": [
    "test = test.drop(['Unnamed: 0'], axis=1)"
   ]
  },
  {
   "cell_type": "code",
   "execution_count": 20,
   "metadata": {},
   "outputs": [],
   "source": [
    "#for c, dtype in zip(train.columns, train.dtypes):\n",
    "#    if dtype == np.float64:\n",
    "#        train[c] = train[c].astype(np.float32)\n",
    "\n",
    "#for c, dtype in zip(test.columns, test.dtypes):\n",
    "#    if dtype == np.float64:\n",
    " #       test[c] = test[c].astype(np.float32)"
   ]
  },
  {
   "cell_type": "markdown",
   "metadata": {},
   "source": [
    "## Model selection "
   ]
  },
  {
   "cell_type": "code",
   "execution_count": 17,
   "metadata": {},
   "outputs": [],
   "source": [
    "col = [c for c in train if c not in ['id', 'air_store_id', 'visit_date','visitors']]"
   ]
  },
  {
   "cell_type": "code",
   "execution_count": 18,
   "metadata": {},
   "outputs": [],
   "source": [
    "train = train.fillna(-1)\n",
    "test = test.fillna(-1)"
   ]
  },
  {
   "cell_type": "code",
   "execution_count": 19,
   "metadata": {},
   "outputs": [],
   "source": [
    "def RMSLE(y, pred):\n",
    "    return metrics.mean_squared_error(y, pred)**0.5"
   ]
  },
  {
   "cell_type": "code",
   "execution_count": 20,
   "metadata": {},
   "outputs": [],
   "source": [
    "model1 = ensemble.GradientBoostingRegressor(learning_rate=0.2, random_state=3, n_estimators=200, subsample=0.8, \n",
    "                      max_depth =10)"
   ]
  },
  {
   "cell_type": "code",
   "execution_count": 21,
   "metadata": {},
   "outputs": [],
   "source": [
    "model2 = neighbors.KNeighborsRegressor(n_jobs=-1, n_neighbors=4)"
   ]
  },
  {
   "cell_type": "code",
   "execution_count": 22,
   "metadata": {},
   "outputs": [],
   "source": [
    "model3 = XGBRegressor(learning_rate=0.2, n_estimators=280, subsample=0.8, \n",
    "                      colsample_bytree=0.8, max_depth =12)\n",
    "#random_state=3"
   ]
  },
  {
   "cell_type": "code",
   "execution_count": 23,
   "metadata": {},
   "outputs": [
    {
     "data": {
      "text/plain": [
       "GradientBoostingRegressor(alpha=0.9, criterion='friedman_mse', init=None,\n",
       "             learning_rate=0.2, loss='ls', max_depth=10, max_features=None,\n",
       "             max_leaf_nodes=None, min_impurity_decrease=0.0,\n",
       "             min_impurity_split=None, min_samples_leaf=1,\n",
       "             min_samples_split=2, min_weight_fraction_leaf=0.0,\n",
       "             n_estimators=200, n_iter_no_change=None, presort='auto',\n",
       "             random_state=3, subsample=0.8, tol=0.0001,\n",
       "             validation_fraction=0.1, verbose=0, warm_start=False)"
      ]
     },
     "execution_count": 23,
     "metadata": {},
     "output_type": "execute_result"
    }
   ],
   "source": [
    "model1.fit(train[col], np.log1p(train['visitors'].values))"
   ]
  },
  {
   "cell_type": "code",
   "execution_count": 24,
   "metadata": {},
   "outputs": [
    {
     "data": {
      "text/plain": [
       "KNeighborsRegressor(algorithm='auto', leaf_size=30, metric='minkowski',\n",
       "          metric_params=None, n_jobs=-1, n_neighbors=4, p=2,\n",
       "          weights='uniform')"
      ]
     },
     "execution_count": 24,
     "metadata": {},
     "output_type": "execute_result"
    }
   ],
   "source": [
    "model2.fit(train[col], np.log1p(train['visitors'].values))"
   ]
  },
  {
   "cell_type": "code",
   "execution_count": 25,
   "metadata": {},
   "outputs": [
    {
     "data": {
      "text/plain": [
       "XGBRegressor(base_score=0.5, colsample_bylevel=1, colsample_bytree=0.8,\n",
       "       gamma=0, learning_rate=0.2, max_delta_step=0, max_depth=12,\n",
       "       min_child_weight=1, missing=None, n_estimators=280, nthread=-1,\n",
       "       objective='reg:linear', reg_alpha=0, reg_lambda=1,\n",
       "       scale_pos_weight=1, seed=0, silent=True, subsample=0.8)"
      ]
     },
     "execution_count": 25,
     "metadata": {},
     "output_type": "execute_result"
    }
   ],
   "source": [
    "model3.fit(train[col], np.log1p(train['visitors'].values))"
   ]
  },
  {
   "cell_type": "code",
   "execution_count": 26,
   "metadata": {},
   "outputs": [],
   "source": [
    "preds1 = model1.predict(train[col])"
   ]
  },
  {
   "cell_type": "code",
   "execution_count": 27,
   "metadata": {},
   "outputs": [],
   "source": [
    "preds2 = model2.predict(train[col])"
   ]
  },
  {
   "cell_type": "code",
   "execution_count": 28,
   "metadata": {},
   "outputs": [],
   "source": [
    "preds3 = model3.predict(train[col])"
   ]
  },
  {
   "cell_type": "code",
   "execution_count": 29,
   "metadata": {},
   "outputs": [
    {
     "name": "stdout",
     "output_type": "stream",
     "text": [
      "('RMSE GradientBoostingRegressor: ', 0.6043729591762557)\n"
     ]
    }
   ],
   "source": [
    "print('RMSE GradientBoostingRegressor: ', RMSLE(np.log1p(train['visitors'].values), preds1))"
   ]
  },
  {
   "cell_type": "code",
   "execution_count": 30,
   "metadata": {},
   "outputs": [
    {
     "name": "stdout",
     "output_type": "stream",
     "text": [
      "('RMSE KNeighborsRegressor: ', 0.6657030733438531)\n"
     ]
    }
   ],
   "source": [
    "print('RMSE KNeighborsRegressor: ', RMSLE(np.log1p(train['visitors'].values), preds2))"
   ]
  },
  {
   "cell_type": "code",
   "execution_count": 31,
   "metadata": {},
   "outputs": [
    {
     "name": "stdout",
     "output_type": "stream",
     "text": [
      "('RMSE XGBRegressor: ', 0.5748429053017586)\n"
     ]
    }
   ],
   "source": [
    "print('RMSE XGBRegressor: ', RMSLE(np.log1p(train['visitors'].values), preds3))"
   ]
  },
  {
   "cell_type": "code",
   "execution_count": null,
   "metadata": {},
   "outputs": [],
   "source": [
    "preds1 = model1.predict(test[col])"
   ]
  },
  {
   "cell_type": "code",
   "execution_count": null,
   "metadata": {},
   "outputs": [],
   "source": [
    "preds2 = model2.predict(test[col])"
   ]
  },
  {
   "cell_type": "code",
   "execution_count": null,
   "metadata": {},
   "outputs": [],
   "source": [
    "preds3 = model3.predict(test[col])"
   ]
  },
  {
   "cell_type": "code",
   "execution_count": null,
   "metadata": {},
   "outputs": [],
   "source": [
    "test['visitors'] = 0.3*preds1+0.3*preds2+0.4*preds3\n",
    "test['visitors'] = np.expm1(test['visitors']).clip(lower=0.)"
   ]
  },
  {
   "cell_type": "code",
   "execution_count": null,
   "metadata": {},
   "outputs": [],
   "source": [
    "sub1 = test[['id','visitors']].copy()\n",
    "del train; del data;"
   ]
  },
  {
   "cell_type": "code",
   "execution_count": 32,
   "metadata": {},
   "outputs": [],
   "source": [
    "X=train_io[col]\n",
    "X_train = train_io[train_io.visit_date<'2017-03-01'][col]\n",
    "X_test = train_io[train_io.visit_date>'2017-03-01'][col]\n",
    "\n",
    "y_train = np.log1p(train_io[train_io.visit_date<'2017-03-01']['visitors'].values)\n",
    "y_test = np.log1p(train_io[train_io.visit_date>'2017-03-01']['visitors'].values)"
   ]
  },
  {
   "cell_type": "code",
   "execution_count": 42,
   "metadata": {},
   "outputs": [],
   "source": [
    "def RMSLE(y, pred):\n",
    "    return mean_squared_error(y, pred)**0.5"
   ]
  },
  {
   "cell_type": "code",
   "execution_count": 50,
   "metadata": {},
   "outputs": [],
   "source": [
    "model1 = ensemble.GradientBoostingRegressor(learning_rate=0.2, random_state=3, n_estimators=200, subsample=0.8, \n",
    "                      max_depth =10)\n",
    "model2 = neighbors.KNeighborsRegressor(n_jobs=-1, n_neighbors=4)\n",
    "model3 = XGBRegressor(learning_rate=0.2, n_estimators=280, subsample=0.8, colsample_bytree=0.8, max_depth =12)"
   ]
  },
  {
   "cell_type": "code",
   "execution_count": 51,
   "metadata": {},
   "outputs": [
    {
     "data": {
      "text/plain": [
       "GradientBoostingRegressor(alpha=0.9, criterion='friedman_mse', init=None,\n",
       "             learning_rate=0.2, loss='ls', max_depth=10, max_features=None,\n",
       "             max_leaf_nodes=None, min_impurity_decrease=0.0,\n",
       "             min_impurity_split=None, min_samples_leaf=1,\n",
       "             min_samples_split=2, min_weight_fraction_leaf=0.0,\n",
       "             n_estimators=200, n_iter_no_change=None, presort='auto',\n",
       "             random_state=3, subsample=0.8, tol=0.0001,\n",
       "             validation_fraction=0.1, verbose=0, warm_start=False)"
      ]
     },
     "execution_count": 51,
     "metadata": {},
     "output_type": "execute_result"
    }
   ],
   "source": [
    "model1.fit(train_io[col], np.log1p(train_io['visitors'].values))"
   ]
  },
  {
   "cell_type": "code",
   "execution_count": 54,
   "metadata": {},
   "outputs": [
    {
     "data": {
      "text/plain": [
       "KNeighborsRegressor(algorithm='auto', leaf_size=30, metric='minkowski',\n",
       "          metric_params=None, n_jobs=-1, n_neighbors=4, p=2,\n",
       "          weights='uniform')"
      ]
     },
     "execution_count": 54,
     "metadata": {},
     "output_type": "execute_result"
    }
   ],
   "source": [
    "model2.fit(train_io[col], np.log1p(train_io['visitors'].values))"
   ]
  },
  {
   "cell_type": "code",
   "execution_count": 56,
   "metadata": {},
   "outputs": [
    {
     "data": {
      "text/plain": [
       "XGBRegressor(base_score=0.5, colsample_bylevel=1, colsample_bytree=0.8,\n",
       "       gamma=0, learning_rate=0.2, max_delta_step=0, max_depth=12,\n",
       "       min_child_weight=1, missing=None, n_estimators=280, nthread=-1,\n",
       "       objective='reg:linear', reg_alpha=0, reg_lambda=1,\n",
       "       scale_pos_weight=1, seed=0, silent=True, subsample=0.8)"
      ]
     },
     "execution_count": 56,
     "metadata": {},
     "output_type": "execute_result"
    }
   ],
   "source": [
    "model3.fit(train_io[col], np.log1p(train_io['visitors'].values))"
   ]
  },
  {
   "cell_type": "code",
   "execution_count": 58,
   "metadata": {},
   "outputs": [],
   "source": [
    "preds1 = model1.predict(train_io[col])\n",
    "preds2 = model2.predict(train_io[col])\n",
    "preds3 = model3.predict(train_io[col])"
   ]
  },
  {
   "cell_type": "code",
   "execution_count": 60,
   "metadata": {},
   "outputs": [
    {
     "name": "stdout",
     "output_type": "stream",
     "text": [
      "('RMSE GradientBoostingRegressor: ', 0.07063084570011836)\n",
      "('RMSE KNeighborsRegressor: ', 0.5199218454804754)\n",
      "('RMSE XGBRegressor: ', 0.00899810689801468)\n"
     ]
    }
   ],
   "source": [
    "print('RMSE GradientBoostingRegressor: ', RMSLE(np.log1p(train_io['visitors'].values), preds1))\n",
    "print('RMSE KNeighborsRegressor: ', RMSLE(np.log1p(train_io['visitors'].values), preds2))\n",
    "print('RMSE XGBRegressor: ', RMSLE(np.log1p(train_io['visitors'].values), preds3))"
   ]
  },
  {
   "cell_type": "code",
   "execution_count": 30,
   "metadata": {},
   "outputs": [
    {
     "name": "stdout",
     "output_type": "stream",
     "text": [
      "('RMSE GradientBoostingRegressor: ', 0.5707351538377076)\n"
     ]
    }
   ],
   "source": [
    "preds1 = model1.predict(train_io[col])\n",
    "\n",
    "print('RMSE GradientBoostingRegressor: ', RMSLE(np.log1p(train_io['visitors'].values), preds1))\n",
    "#preds1 = model1.predict(test[col])"
   ]
  },
  {
   "cell_type": "code",
   "execution_count": null,
   "metadata": {},
   "outputs": [],
   "source": [
    "preds1 = model1.predict(test[col])\n",
    "preds2 = model2.predict(test[col])\n",
    "preds3 = model3.predict(test[col])"
   ]
  },
  {
   "cell_type": "code",
   "execution_count": null,
   "metadata": {},
   "outputs": [],
   "source": []
  },
  {
   "cell_type": "code",
   "execution_count": null,
   "metadata": {},
   "outputs": [],
   "source": []
  },
  {
   "cell_type": "code",
   "execution_count": null,
   "metadata": {},
   "outputs": [],
   "source": [
    "test['visitors'] = 0.3*preds1+0.3*preds2+0.4*preds3\n",
    "test['visitors'] = np.expm1(test['visitors']).clip(lower=0.)\n",
    "sub1 = test[['id','visitors']].copy()\n",
    "del train; del data;"
   ]
  },
  {
   "cell_type": "code",
   "execution_count": 23,
   "metadata": {},
   "outputs": [],
   "source": [
    "from sklearn.ensemble import RandomForestClassifier\n",
    "from sklearn.feature_selection import SelectFromModel"
   ]
  },
  {
   "cell_type": "code",
   "execution_count": 38,
   "metadata": {},
   "outputs": [],
   "source": [
    "test.to_csv(r'C:\\Users\\sergey\\Documents\\Recruit Restaurant Visitor_2\\test_2.csv')"
   ]
  }
 ],
 "metadata": {
  "kernelspec": {
   "display_name": "Python 2",
   "language": "python",
   "name": "python2"
  },
  "language_info": {
   "codemirror_mode": {
    "name": "ipython",
    "version": 2
   },
   "file_extension": ".py",
   "mimetype": "text/x-python",
   "name": "python",
   "nbconvert_exporter": "python",
   "pygments_lexer": "ipython2",
   "version": "2.7.15"
  }
 },
 "nbformat": 4,
 "nbformat_minor": 1
}
