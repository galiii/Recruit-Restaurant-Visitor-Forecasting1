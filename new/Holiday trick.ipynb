{
 "cells": [
  {
   "cell_type": "markdown",
   "metadata": {
    "_cell_guid": "3d031044-522c-4468-83f6-15c2fef96bd8",
    "_uuid": "ca266113f6bd4ce070fda0e120d5895adf6e37c8"
   },
   "source": [
    "## Holiday trick"
   ]
  },
  {
   "cell_type": "code",
   "execution_count": 2,
   "metadata": {},
   "outputs": [],
   "source": [
    "# Load libraries\n",
    "import numpy as np \n",
    "import pandas as pd \n",
    "from subprocess import check_output\n",
    "import matplotlib.pyplot as plt\n",
    "import seaborn as sns"
   ]
  },
  {
   "cell_type": "code",
   "execution_count": 3,
   "metadata": {},
   "outputs": [],
   "source": [
    "submission_ht = pd.read_csv(\"submission.csv\")\n",
    "\n",
    "submission_ht['tmp'] = np.nan        \n",
    "submission_ht['air_store_id'] = submission_ht.id.map(lambda x: '_'.join(x.split('_')[:-1]))\n",
    "submission_ht['date'] = submission_ht.id.map(lambda x: x.split('_')[2])\n",
    "submission_ht['date'] =submission_ht['date'].astype('datetime64[ns]')"
   ]
  },
  {
   "cell_type": "code",
   "execution_count": 4,
   "metadata": {},
   "outputs": [],
   "source": [
    "submission_ht.loc[submission_ht.date=='2017-5-3','tmp'] = np.sqrt(submission_ht.loc[submission_ht.date=='2017-4-29','visitors'].values*submission_ht.loc[submission_ht.date=='2017-5-13','visitors'].values)\n",
    "submission_ht.loc[submission_ht.date=='2017-5-4','tmp'] = np.sqrt(submission_ht.loc[submission_ht.date=='2017-4-29','visitors'].values*submission_ht.loc[submission_ht.date=='2017-5-13','visitors'].values)\n",
    "submission_ht.loc[submission_ht.date=='2017-5-5','tmp'] = np.sqrt(submission_ht.loc[submission_ht.date=='2017-4-29','visitors'].values*submission_ht.loc[submission_ht.date=='2017-5-13','visitors'].values)\n",
    "submission_ht.loc[submission_ht.date=='2017-5-2','tmp'] = np.sqrt(submission_ht.loc[submission_ht.date=='2017-4-28','visitors'].values*submission_ht.loc[submission_ht.date=='2017-5-12','visitors'].values)\n"
   ]
  },
  {
   "cell_type": "code",
   "execution_count": 6,
   "metadata": {},
   "outputs": [],
   "source": [
    "#radical\n",
    "submission_ht.loc[submission_ht.date=='2017-5-3','visitors'] = submission_ht.loc[submission_ht.date=='2017-5-3','tmp']\n",
    "submission_ht.loc[submission_ht.date=='2017-5-4','visitors'] = submission_ht.loc[submission_ht.date=='2017-5-4','tmp']\n",
    "submission_ht.loc[submission_ht.date=='2017-5-5','visitors'] = submission_ht.loc[submission_ht.date=='2017-5-5','tmp']\n",
    "submission_ht.loc[submission_ht.date=='2017-5-2','visitors'] = submission_ht.loc[submission_ht.date=='2017-5-2','tmp']"
   ]
  },
  {
   "cell_type": "code",
   "execution_count": 9,
   "metadata": {},
   "outputs": [],
   "source": [
    "submission_ht = submission_ht[['id','visitors']]"
   ]
  },
  {
   "cell_type": "code",
   "execution_count": 10,
   "metadata": {},
   "outputs": [],
   "source": [
    "submission_ht.to_csv(r'C:\\Users\\sergey\\Documents\\Recruit Restaurant Visitor_2\\submission_ht.csv')"
   ]
  }
 ],
 "metadata": {
  "kernelspec": {
   "display_name": "Python 3",
   "language": "python",
   "name": "python3"
  },
  "language_info": {
   "codemirror_mode": {
    "name": "ipython",
    "version": 3
   },
   "file_extension": ".py",
   "mimetype": "text/x-python",
   "name": "python",
   "nbconvert_exporter": "python",
   "pygments_lexer": "ipython3",
   "version": "3.7.1"
  }
 },
 "nbformat": 4,
 "nbformat_minor": 1
}
