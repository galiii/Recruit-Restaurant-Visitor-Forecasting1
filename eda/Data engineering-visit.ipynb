{
 "cells": [
  {
   "cell_type": "markdown",
   "metadata": {
    "_cell_guid": "3d031044-522c-4468-83f6-15c2fef96bd8",
    "_uuid": "ca266113f6bd4ce070fda0e120d5895adf6e37c8"
   },
   "source": [
    "## Variable engineering"
   ]
  },
  {
   "cell_type": "markdown",
   "metadata": {
    "_cell_guid": "5b61c995-7921-449d-b253-04baaf697dde",
    "_uuid": "c01cce3cca8b6d8fb276d7979bc7c416de7a1d0b"
   },
   "source": [
    " The aim of this challenge is to predict the future numbers of restaurant visitors. This makes it a Time Series Forecasting problem. The data was collected from Japanese restaurants. We have chosen this project, because the data set is small and easily accessible.<br>\n",
    " The project is very important and interesting for us because it is a real data set, and real business problem.\n"
   ]
  },
  {
   "cell_type": "markdown",
   "metadata": {
    "_cell_guid": "6632454f-47ef-45da-9462-ca1ccce1b126",
    "_uuid": "d70d9ef0a6a1778ecdb1a4d30e073cc733e9723b"
   },
   "source": [
    "In this section, we create new variables.Change their types.Check the relevance of each variable for the future model.<br>\n",
    "let's try!!!"
   ]
  },
  {
   "cell_type": "markdown",
   "metadata": {},
   "source": [
    "## Chapters"
   ]
  },
  {
   "cell_type": "markdown",
   "metadata": {},
   "source": [
    "* 1. [Load Libraries](#load-libraries-cell)\n",
    "* 2. [Data Wrangling](#data-wrangling-cell)\n",
    "     * 0 . [Data Aggregation](#data-aggregation-cell)\n",
    "     * 1 . [Air Visit Data table](#air-visit-cell)\n",
    "     * 2 . [Air Reserve](#air-reserve-cell)\n",
    "     * 3 . [Hpg Store Info table](#hpg-store-cell)\n",
    " \n",
    " \n",
    "* 3. [Convert the date format and group by date reservation data.](#convert-date-format-cell) \n",
    "    * 1.1 [Air Reserve date format](#airres-date-format-cell)\n",
    "    * 1.2 [Adding new column Air Reserve: air_date_diff](#air-date-diff-cell)\n",
    "    * 1.3 [Adding new table airMedian](#air-median-cell)\n",
    "    * 1.4 [Adding new table airres_visit_sum](#airres-visit-sum-cell)\n",
    "    * 1.5 [Adding new table airresgrupp](#airresgrupp-cell)\n",
    "    * 2.1 [HPG Reserve date format](#hpgres-date-format-cell)\n",
    "    * 2.2 [Adding new column Air Reserve: hpg_date_diff](#hpg-date-diff-cell)\n",
    "    * 2.3 [Adding new table temp1_date_diff_median](#hpg-median-cell)\n",
    "    * 2.4 [Adding new table temp2_reserve_visitors_sum](#hpgres-visit-sum-cell)\n",
    "    * 2.5 [Adding new table hpgres_grup](#hpgres-grup-cell)\n",
    "\n",
    "\n",
    "\n",
    "\n",
    "* 4. [Data aggregation 2](#data-aggregation2-cell)\n",
    "    * 1.1 [AIR Merge tables airvisit and airresgrupp](#air-new-table-cell)\n",
    "    * 1.2 [AIRVISSTOR Merge tables air and airstore](#airvisstor-new-table-cell)\n",
    "    * 1.3 [AIRREL Merge tables airvisstor and rel](#airrel-new-table-cell)\n",
    "    * 2.1 [HPG Merge tables hpgres_grup and hpgstore](#hpg-new-table-cell)\n",
    "    * 2.2 [HPGREL Merge tables hpg and rel](#hpgrel-new-table-cell)\n",
    "    * 3 . [full merge with airrel and hpgres_grup](#full3-cell)\n",
    "    \n",
    "    \n",
    "* 5. [Geography Clustering](#geography-clustering-cell)\n",
    "    * 1. [KMeans cluster](#kmeans-cell)\n",
    "            * 1.1 [Full table after cluster](#full-kmeans-cell)\n",
    "            * 1.2 [Full Graphs (HPG AIR) cluster](#full-graph-cell)\n",
    "            * 2.1 [Separate the first part of the name of the region](#region1-cell)\n",
    "            * 2.2 [We calculate what percentage of all restaurants are in each region](#region2-cell)\n",
    "            * 3 [Explain](#region3-cell)\n",
    "        \n",
    "\n",
    "\n",
    "* 6. [Cousine Genres](#cousine-genres-cell)\n",
    "\n",
    "\n",
    "* 7. [Japanese Holidays and date conversion](#japanese-holidays-cell)\n",
    "\n",
    "* 8. [Weather Data](#weather-cell)\n",
    "\n",
    "* 9. [Missing values](#missing-values-cell)\n",
    "\n",
    "* 10. [Variable selection](#variable-selection-cell)\n",
    "    * 0. [Graph Variable selection](#graph-variable-selection-cell)\n",
    "    * 1 . [One Hat Encoding function](#one-hat-code-cell)\n",
    "           * 1.1 [One Hat Encoding air_genre_name](#genre-name-one-hat-code-cell)\n",
    "           * 1.2 [One Hat Encoding cluster](#cluster-one-hat-code-cell)\n",
    "           \n"
   ]
  },
  {
   "cell_type": "markdown",
   "metadata": {},
   "source": [
    "## <a id='load-libraries-cell'>0 Load Libraries</a>"
   ]
  },
  {
   "cell_type": "code",
   "execution_count": 1,
   "metadata": {},
   "outputs": [],
   "source": [
    "# NumPy is a general-purpose array-processing package. \n",
    "# It provides a high-performance multidimensional array object, and tools for working with these arrays.\n",
    "import numpy as np \n",
    "\n",
    "# Providing high-performance, easy-to-use data structures and data analysis tools for the Python programming language\n",
    "import pandas as pd \n",
    "\n",
    "from subprocess import check_output \n",
    "\n",
    "import matplotlib.pyplot as plt #\n",
    "import seaborn as sns #\n",
    "\n",
    "%matplotlib inline \n",
    "import matplotlib\n",
    "matplotlib.style.use('ggplot')"
   ]
  },
  {
   "cell_type": "markdown",
   "metadata": {
    "_cell_guid": "51340418-bc4c-422c-b818-e298c00cee01",
    "_uuid": "fb62ece54cd6bae9192911b8b1498dfd73b393b8"
   },
   "source": [
    "## <a id='data-wrangling-cell'> 1. Data Wrangling</a>"
   ]
  },
  {
   "cell_type": "markdown",
   "metadata": {
    "_cell_guid": "b1f1bc79-03aa-4f3a-ba5d-c7051b767f5f",
    "_uuid": "e04ca75b09b5d84327ceb7fa2c4e88df51dd2c4e"
   },
   "source": [
    "The training data covers the dates from 2016 until April 2017. The test set covers the last week of April and May of 2017. The test set is split based on time (the public fold coming first, the private fold following the public) and covers a chosen subset of the air restaurants. Note that the test set intentionally spans a holiday week in Japan called the \"Golden Week.\""
   ]
  },
  {
   "cell_type": "markdown",
   "metadata": {},
   "source": [
    "##### <a id='data-aggregation-cell'>Data Aggregation</a>"
   ]
  },
  {
   "cell_type": "code",
   "execution_count": 2,
   "metadata": {
    "_cell_guid": "899733d1-b239-4cb5-9d87-b16f9ab0111b",
    "_uuid": "b8e3eceff3d3edb5f3617fd5a7799f0947fb9f60"
   },
   "outputs": [],
   "source": [
    "airres = pd.read_csv('../input/air_reserve.csv')\n",
    "airstore = pd.read_csv('../input/air_store_info.csv')\n",
    "hpgres = pd.read_csv('../input/hpg_reserve.csv')\n",
    "hpgstore = pd.read_csv('../input/hpg_store_info.csv')\n",
    "airvisit = pd.read_csv('../input/air_visit_data.csv')\n",
    "dates = pd.read_csv('../input/date_info.csv')\n",
    "wd = pd.read_csv('../input/WeatherData.csv')\n",
    "rel = pd.read_csv('../input/store_id_relation.csv')\n",
    "test = pd.read_csv('../input/sample_submission.csv')"
   ]
  },
  {
   "cell_type": "markdown",
   "metadata": {},
   "source": [
    "<a id='air-visit-cell'>Air Visit Data</a>"
   ]
  },
  {
   "cell_type": "code",
   "execution_count": 3,
   "metadata": {
    "_cell_guid": "e51cb468-5e2e-4d2a-bf29-d0c7f81ad64f",
    "_uuid": "800f4126e39a8bc94bfdb2bf40d301276eb5661b"
   },
   "outputs": [
    {
     "data": {
      "text/html": [
       "<div>\n",
       "<style scoped>\n",
       "    .dataframe tbody tr th:only-of-type {\n",
       "        vertical-align: middle;\n",
       "    }\n",
       "\n",
       "    .dataframe tbody tr th {\n",
       "        vertical-align: top;\n",
       "    }\n",
       "\n",
       "    .dataframe thead th {\n",
       "        text-align: right;\n",
       "    }\n",
       "</style>\n",
       "<table border=\"1\" class=\"dataframe\">\n",
       "  <thead>\n",
       "    <tr style=\"text-align: right;\">\n",
       "      <th></th>\n",
       "      <th>air_store_id</th>\n",
       "      <th>visit_date</th>\n",
       "      <th>visitors</th>\n",
       "    </tr>\n",
       "  </thead>\n",
       "  <tbody>\n",
       "    <tr>\n",
       "      <th>252107</th>\n",
       "      <td>air_24e8414b9b07decb</td>\n",
       "      <td>2017-04-22</td>\n",
       "      <td>5</td>\n",
       "    </tr>\n",
       "  </tbody>\n",
       "</table>\n",
       "</div>"
      ],
      "text/plain": [
       "                air_store_id  visit_date  visitors\n",
       "252107  air_24e8414b9b07decb  2017-04-22         5"
      ]
     },
     "execution_count": 3,
     "metadata": {},
     "output_type": "execute_result"
    }
   ],
   "source": [
    "airvisit.tail(1)"
   ]
  },
  {
   "cell_type": "code",
   "execution_count": 4,
   "metadata": {},
   "outputs": [
    {
     "name": "stdout",
     "output_type": "stream",
     "text": [
      "<class 'pandas.core.frame.DataFrame'>\n",
      "RangeIndex: 252108 entries, 0 to 252107\n",
      "Data columns (total 3 columns):\n",
      "air_store_id    252108 non-null object\n",
      "visit_date      252108 non-null object\n",
      "visitors        252108 non-null int64\n",
      "dtypes: int64(1), object(2)\n",
      "memory usage: 5.8+ MB\n"
     ]
    }
   ],
   "source": [
    "airvisit.info()"
   ]
  },
  {
   "cell_type": "markdown",
   "metadata": {},
   "source": [
    "<a id='air-reserve-cell'>Air Reserve</a>"
   ]
  },
  {
   "cell_type": "code",
   "execution_count": 5,
   "metadata": {
    "scrolled": true
   },
   "outputs": [
    {
     "data": {
      "text/html": [
       "<div>\n",
       "<style scoped>\n",
       "    .dataframe tbody tr th:only-of-type {\n",
       "        vertical-align: middle;\n",
       "    }\n",
       "\n",
       "    .dataframe tbody tr th {\n",
       "        vertical-align: top;\n",
       "    }\n",
       "\n",
       "    .dataframe thead th {\n",
       "        text-align: right;\n",
       "    }\n",
       "</style>\n",
       "<table border=\"1\" class=\"dataframe\">\n",
       "  <thead>\n",
       "    <tr style=\"text-align: right;\">\n",
       "      <th></th>\n",
       "      <th>air_store_id</th>\n",
       "      <th>visit_datetime</th>\n",
       "      <th>reserve_datetime</th>\n",
       "      <th>reserve_visitors</th>\n",
       "    </tr>\n",
       "  </thead>\n",
       "  <tbody>\n",
       "    <tr>\n",
       "      <th>0</th>\n",
       "      <td>air_877f79706adbfb06</td>\n",
       "      <td>2016-01-01 19:00:00</td>\n",
       "      <td>2016-01-01 16:00:00</td>\n",
       "      <td>1</td>\n",
       "    </tr>\n",
       "  </tbody>\n",
       "</table>\n",
       "</div>"
      ],
      "text/plain": [
       "           air_store_id       visit_datetime     reserve_datetime  \\\n",
       "0  air_877f79706adbfb06  2016-01-01 19:00:00  2016-01-01 16:00:00   \n",
       "\n",
       "   reserve_visitors  \n",
       "0                 1  "
      ]
     },
     "execution_count": 5,
     "metadata": {},
     "output_type": "execute_result"
    }
   ],
   "source": [
    "airres.head(1)"
   ]
  },
  {
   "cell_type": "markdown",
   "metadata": {},
   "source": [
    "<a id='hpg-store-cell'>Hpg store info</a>"
   ]
  },
  {
   "cell_type": "code",
   "execution_count": 6,
   "metadata": {},
   "outputs": [
    {
     "name": "stdout",
     "output_type": "stream",
     "text": [
      "<class 'pandas.core.frame.DataFrame'>\n",
      "RangeIndex: 4690 entries, 0 to 4689\n",
      "Data columns (total 5 columns):\n",
      "hpg_store_id      4690 non-null object\n",
      "hpg_genre_name    4690 non-null object\n",
      "hpg_area_name     4690 non-null object\n",
      "latitude          4690 non-null float64\n",
      "longitude         4690 non-null float64\n",
      "dtypes: float64(2), object(3)\n",
      "memory usage: 183.3+ KB\n"
     ]
    }
   ],
   "source": [
    "hpgstore.info()"
   ]
  },
  {
   "cell_type": "markdown",
   "metadata": {},
   "source": [
    "  ## <a id='convert-date-format-cell'>3. Convert the date format and group by date reservation data. </a>"
   ]
  },
  {
   "cell_type": "markdown",
   "metadata": {},
   "source": [
    "We want to group reservation data from AIR and HPG by date on which registration was made.As we predict the total number of visitors at a particular time in a particular restaurant.We also calculate the time interval between the date of the order and the date of the visit of the restaurant."
   ]
  },
  {
   "cell_type": "markdown",
   "metadata": {},
   "source": [
    "<a id='airres-date-format-cell'>1.1 Air Reserve date format</a>"
   ]
  },
  {
   "cell_type": "code",
   "execution_count": 7,
   "metadata": {},
   "outputs": [],
   "source": [
    "vdt = pd.to_datetime(airres.visit_datetime)\n",
    "rdt = pd.to_datetime(airres.reserve_datetime)\n",
    "airres['visit_date']=vdt.dt.date\n",
    "airres['rd']=rdt.dt.date"
   ]
  },
  {
   "cell_type": "code",
   "execution_count": 8,
   "metadata": {
    "scrolled": true
   },
   "outputs": [
    {
     "data": {
      "text/html": [
       "<div>\n",
       "<style scoped>\n",
       "    .dataframe tbody tr th:only-of-type {\n",
       "        vertical-align: middle;\n",
       "    }\n",
       "\n",
       "    .dataframe tbody tr th {\n",
       "        vertical-align: top;\n",
       "    }\n",
       "\n",
       "    .dataframe thead th {\n",
       "        text-align: right;\n",
       "    }\n",
       "</style>\n",
       "<table border=\"1\" class=\"dataframe\">\n",
       "  <thead>\n",
       "    <tr style=\"text-align: right;\">\n",
       "      <th></th>\n",
       "      <th>air_store_id</th>\n",
       "      <th>visit_datetime</th>\n",
       "      <th>reserve_datetime</th>\n",
       "      <th>reserve_visitors</th>\n",
       "      <th>visit_date</th>\n",
       "      <th>rd</th>\n",
       "    </tr>\n",
       "  </thead>\n",
       "  <tbody>\n",
       "    <tr>\n",
       "      <th>0</th>\n",
       "      <td>air_877f79706adbfb06</td>\n",
       "      <td>2016-01-01 19:00:00</td>\n",
       "      <td>2016-01-01 16:00:00</td>\n",
       "      <td>1</td>\n",
       "      <td>2016-01-01</td>\n",
       "      <td>2016-01-01</td>\n",
       "    </tr>\n",
       "    <tr>\n",
       "      <th>1</th>\n",
       "      <td>air_db4b38ebe7a7ceff</td>\n",
       "      <td>2016-01-01 19:00:00</td>\n",
       "      <td>2016-01-01 19:00:00</td>\n",
       "      <td>3</td>\n",
       "      <td>2016-01-01</td>\n",
       "      <td>2016-01-01</td>\n",
       "    </tr>\n",
       "    <tr>\n",
       "      <th>2</th>\n",
       "      <td>air_db4b38ebe7a7ceff</td>\n",
       "      <td>2016-01-01 19:00:00</td>\n",
       "      <td>2016-01-01 19:00:00</td>\n",
       "      <td>6</td>\n",
       "      <td>2016-01-01</td>\n",
       "      <td>2016-01-01</td>\n",
       "    </tr>\n",
       "    <tr>\n",
       "      <th>3</th>\n",
       "      <td>air_877f79706adbfb06</td>\n",
       "      <td>2016-01-01 20:00:00</td>\n",
       "      <td>2016-01-01 16:00:00</td>\n",
       "      <td>2</td>\n",
       "      <td>2016-01-01</td>\n",
       "      <td>2016-01-01</td>\n",
       "    </tr>\n",
       "    <tr>\n",
       "      <th>4</th>\n",
       "      <td>air_db80363d35f10926</td>\n",
       "      <td>2016-01-01 20:00:00</td>\n",
       "      <td>2016-01-01 01:00:00</td>\n",
       "      <td>5</td>\n",
       "      <td>2016-01-01</td>\n",
       "      <td>2016-01-01</td>\n",
       "    </tr>\n",
       "  </tbody>\n",
       "</table>\n",
       "</div>"
      ],
      "text/plain": [
       "           air_store_id       visit_datetime     reserve_datetime  \\\n",
       "0  air_877f79706adbfb06  2016-01-01 19:00:00  2016-01-01 16:00:00   \n",
       "1  air_db4b38ebe7a7ceff  2016-01-01 19:00:00  2016-01-01 19:00:00   \n",
       "2  air_db4b38ebe7a7ceff  2016-01-01 19:00:00  2016-01-01 19:00:00   \n",
       "3  air_877f79706adbfb06  2016-01-01 20:00:00  2016-01-01 16:00:00   \n",
       "4  air_db80363d35f10926  2016-01-01 20:00:00  2016-01-01 01:00:00   \n",
       "\n",
       "   reserve_visitors  visit_date          rd  \n",
       "0                 1  2016-01-01  2016-01-01  \n",
       "1                 3  2016-01-01  2016-01-01  \n",
       "2                 6  2016-01-01  2016-01-01  \n",
       "3                 2  2016-01-01  2016-01-01  \n",
       "4                 5  2016-01-01  2016-01-01  "
      ]
     },
     "execution_count": 8,
     "metadata": {},
     "output_type": "execute_result"
    }
   ],
   "source": [
    "#airres.info()\n",
    "airres.head()"
   ]
  },
  {
   "cell_type": "markdown",
   "metadata": {},
   "source": [
    "<a id='air-date-diff-cell'>1.2 Adding new column <code>airres</code>: <code>air_date_diff</code></a>"
   ]
  },
  {
   "cell_type": "code",
   "execution_count": 9,
   "metadata": {
    "scrolled": true
   },
   "outputs": [
    {
     "data": {
      "text/html": [
       "<div>\n",
       "<style scoped>\n",
       "    .dataframe tbody tr th:only-of-type {\n",
       "        vertical-align: middle;\n",
       "    }\n",
       "\n",
       "    .dataframe tbody tr th {\n",
       "        vertical-align: top;\n",
       "    }\n",
       "\n",
       "    .dataframe thead th {\n",
       "        text-align: right;\n",
       "    }\n",
       "</style>\n",
       "<table border=\"1\" class=\"dataframe\">\n",
       "  <thead>\n",
       "    <tr style=\"text-align: right;\">\n",
       "      <th></th>\n",
       "      <th>air_store_id</th>\n",
       "      <th>visit_datetime</th>\n",
       "      <th>reserve_datetime</th>\n",
       "      <th>reserve_visitors</th>\n",
       "      <th>visit_date</th>\n",
       "      <th>rd</th>\n",
       "      <th>air_date_diff</th>\n",
       "    </tr>\n",
       "  </thead>\n",
       "  <tbody>\n",
       "    <tr>\n",
       "      <th>0</th>\n",
       "      <td>air_877f79706adbfb06</td>\n",
       "      <td>2016-01-01 19:00:00</td>\n",
       "      <td>2016-01-01 16:00:00</td>\n",
       "      <td>1</td>\n",
       "      <td>2016-01-01</td>\n",
       "      <td>2016-01-01</td>\n",
       "      <td>0</td>\n",
       "    </tr>\n",
       "    <tr>\n",
       "      <th>1</th>\n",
       "      <td>air_db4b38ebe7a7ceff</td>\n",
       "      <td>2016-01-01 19:00:00</td>\n",
       "      <td>2016-01-01 19:00:00</td>\n",
       "      <td>3</td>\n",
       "      <td>2016-01-01</td>\n",
       "      <td>2016-01-01</td>\n",
       "      <td>0</td>\n",
       "    </tr>\n",
       "    <tr>\n",
       "      <th>2</th>\n",
       "      <td>air_db4b38ebe7a7ceff</td>\n",
       "      <td>2016-01-01 19:00:00</td>\n",
       "      <td>2016-01-01 19:00:00</td>\n",
       "      <td>6</td>\n",
       "      <td>2016-01-01</td>\n",
       "      <td>2016-01-01</td>\n",
       "      <td>0</td>\n",
       "    </tr>\n",
       "    <tr>\n",
       "      <th>3</th>\n",
       "      <td>air_877f79706adbfb06</td>\n",
       "      <td>2016-01-01 20:00:00</td>\n",
       "      <td>2016-01-01 16:00:00</td>\n",
       "      <td>2</td>\n",
       "      <td>2016-01-01</td>\n",
       "      <td>2016-01-01</td>\n",
       "      <td>0</td>\n",
       "    </tr>\n",
       "    <tr>\n",
       "      <th>4</th>\n",
       "      <td>air_db80363d35f10926</td>\n",
       "      <td>2016-01-01 20:00:00</td>\n",
       "      <td>2016-01-01 01:00:00</td>\n",
       "      <td>5</td>\n",
       "      <td>2016-01-01</td>\n",
       "      <td>2016-01-01</td>\n",
       "      <td>0</td>\n",
       "    </tr>\n",
       "    <tr>\n",
       "      <th>5</th>\n",
       "      <td>air_db80363d35f10926</td>\n",
       "      <td>2016-01-02 01:00:00</td>\n",
       "      <td>2016-01-01 16:00:00</td>\n",
       "      <td>2</td>\n",
       "      <td>2016-01-02</td>\n",
       "      <td>2016-01-01</td>\n",
       "      <td>1</td>\n",
       "    </tr>\n",
       "    <tr>\n",
       "      <th>6</th>\n",
       "      <td>air_db80363d35f10926</td>\n",
       "      <td>2016-01-02 01:00:00</td>\n",
       "      <td>2016-01-01 15:00:00</td>\n",
       "      <td>4</td>\n",
       "      <td>2016-01-02</td>\n",
       "      <td>2016-01-01</td>\n",
       "      <td>1</td>\n",
       "    </tr>\n",
       "    <tr>\n",
       "      <th>7</th>\n",
       "      <td>air_3bb99a1fe0583897</td>\n",
       "      <td>2016-01-02 16:00:00</td>\n",
       "      <td>2016-01-02 14:00:00</td>\n",
       "      <td>2</td>\n",
       "      <td>2016-01-02</td>\n",
       "      <td>2016-01-02</td>\n",
       "      <td>0</td>\n",
       "    </tr>\n",
       "    <tr>\n",
       "      <th>8</th>\n",
       "      <td>air_3bb99a1fe0583897</td>\n",
       "      <td>2016-01-02 16:00:00</td>\n",
       "      <td>2016-01-01 20:00:00</td>\n",
       "      <td>2</td>\n",
       "      <td>2016-01-02</td>\n",
       "      <td>2016-01-01</td>\n",
       "      <td>1</td>\n",
       "    </tr>\n",
       "    <tr>\n",
       "      <th>9</th>\n",
       "      <td>air_2b8b29ddfd35018e</td>\n",
       "      <td>2016-01-02 17:00:00</td>\n",
       "      <td>2016-01-02 17:00:00</td>\n",
       "      <td>2</td>\n",
       "      <td>2016-01-02</td>\n",
       "      <td>2016-01-02</td>\n",
       "      <td>0</td>\n",
       "    </tr>\n",
       "  </tbody>\n",
       "</table>\n",
       "</div>"
      ],
      "text/plain": [
       "           air_store_id       visit_datetime     reserve_datetime  \\\n",
       "0  air_877f79706adbfb06  2016-01-01 19:00:00  2016-01-01 16:00:00   \n",
       "1  air_db4b38ebe7a7ceff  2016-01-01 19:00:00  2016-01-01 19:00:00   \n",
       "2  air_db4b38ebe7a7ceff  2016-01-01 19:00:00  2016-01-01 19:00:00   \n",
       "3  air_877f79706adbfb06  2016-01-01 20:00:00  2016-01-01 16:00:00   \n",
       "4  air_db80363d35f10926  2016-01-01 20:00:00  2016-01-01 01:00:00   \n",
       "5  air_db80363d35f10926  2016-01-02 01:00:00  2016-01-01 16:00:00   \n",
       "6  air_db80363d35f10926  2016-01-02 01:00:00  2016-01-01 15:00:00   \n",
       "7  air_3bb99a1fe0583897  2016-01-02 16:00:00  2016-01-02 14:00:00   \n",
       "8  air_3bb99a1fe0583897  2016-01-02 16:00:00  2016-01-01 20:00:00   \n",
       "9  air_2b8b29ddfd35018e  2016-01-02 17:00:00  2016-01-02 17:00:00   \n",
       "\n",
       "   reserve_visitors  visit_date          rd  air_date_diff  \n",
       "0                 1  2016-01-01  2016-01-01              0  \n",
       "1                 3  2016-01-01  2016-01-01              0  \n",
       "2                 6  2016-01-01  2016-01-01              0  \n",
       "3                 2  2016-01-01  2016-01-01              0  \n",
       "4                 5  2016-01-01  2016-01-01              0  \n",
       "5                 2  2016-01-02  2016-01-01              1  \n",
       "6                 4  2016-01-02  2016-01-01              1  \n",
       "7                 2  2016-01-02  2016-01-02              0  \n",
       "8                 2  2016-01-02  2016-01-01              1  \n",
       "9                 2  2016-01-02  2016-01-02              0  "
      ]
     },
     "execution_count": 9,
     "metadata": {},
     "output_type": "execute_result"
    }
   ],
   "source": [
    "airres['air_date_diff'] = airres.apply(lambda r: (r['visit_date'] - r['rd']).days, axis=1)\n",
    "airres.head(10)"
   ]
  },
  {
   "cell_type": "markdown",
   "metadata": {},
   "source": [
    "<a id='air-median-cell'>1.3 Adding new table <code>airMedian</code></a>"
   ]
  },
  {
   "cell_type": "markdown",
   "metadata": {},
   "source": [
    "<p> new table <code>airMedian</code> from <code>airres</code></p>\n",
    "<p> Grouping <code>air_store_id'</code> and <code>visit_date</code></p>\n",
    "<p> And by <code>air_date_diff</code> by the help of <code>.median()</code></p>\n"
   ]
  },
  {
   "cell_type": "code",
   "execution_count": 10,
   "metadata": {},
   "outputs": [
    {
     "data": {
      "text/html": [
       "<div>\n",
       "<style scoped>\n",
       "    .dataframe tbody tr th:only-of-type {\n",
       "        vertical-align: middle;\n",
       "    }\n",
       "\n",
       "    .dataframe tbody tr th {\n",
       "        vertical-align: top;\n",
       "    }\n",
       "\n",
       "    .dataframe thead th {\n",
       "        text-align: right;\n",
       "    }\n",
       "</style>\n",
       "<table border=\"1\" class=\"dataframe\">\n",
       "  <thead>\n",
       "    <tr style=\"text-align: right;\">\n",
       "      <th></th>\n",
       "      <th>air_store_id</th>\n",
       "      <th>visit_date</th>\n",
       "      <th>air_date_diff</th>\n",
       "    </tr>\n",
       "  </thead>\n",
       "  <tbody>\n",
       "    <tr>\n",
       "      <th>0</th>\n",
       "      <td>air_00a91d42b08b08d9</td>\n",
       "      <td>2016-10-31</td>\n",
       "      <td>0.0</td>\n",
       "    </tr>\n",
       "    <tr>\n",
       "      <th>1</th>\n",
       "      <td>air_00a91d42b08b08d9</td>\n",
       "      <td>2016-12-05</td>\n",
       "      <td>4.0</td>\n",
       "    </tr>\n",
       "    <tr>\n",
       "      <th>2</th>\n",
       "      <td>air_00a91d42b08b08d9</td>\n",
       "      <td>2016-12-14</td>\n",
       "      <td>6.0</td>\n",
       "    </tr>\n",
       "    <tr>\n",
       "      <th>3</th>\n",
       "      <td>air_00a91d42b08b08d9</td>\n",
       "      <td>2016-12-17</td>\n",
       "      <td>6.0</td>\n",
       "    </tr>\n",
       "    <tr>\n",
       "      <th>4</th>\n",
       "      <td>air_00a91d42b08b08d9</td>\n",
       "      <td>2016-12-20</td>\n",
       "      <td>2.0</td>\n",
       "    </tr>\n",
       "  </tbody>\n",
       "</table>\n",
       "</div>"
      ],
      "text/plain": [
       "           air_store_id  visit_date  air_date_diff\n",
       "0  air_00a91d42b08b08d9  2016-10-31            0.0\n",
       "1  air_00a91d42b08b08d9  2016-12-05            4.0\n",
       "2  air_00a91d42b08b08d9  2016-12-14            6.0\n",
       "3  air_00a91d42b08b08d9  2016-12-17            6.0\n",
       "4  air_00a91d42b08b08d9  2016-12-20            2.0"
      ]
     },
     "execution_count": 10,
     "metadata": {},
     "output_type": "execute_result"
    }
   ],
   "source": [
    "airMedian = airres.groupby(['air_store_id','visit_date'], as_index=False)['air_date_diff'].median()\n",
    "#sort_values('mpg',ascending=False)\n",
    "#airMedian = airMedian.sort_values('visit_date')\n",
    "airMedian.head()"
   ]
  },
  {
   "cell_type": "markdown",
   "metadata": {},
   "source": [
    "<a id='airres-visit-sum-cell'>1.4 Adding new table <code>airres_visit_sum</code></a>"
   ]
  },
  {
   "cell_type": "markdown",
   "metadata": {},
   "source": [
    "<p> new table <code>airres_visit_sum</code> from <code>airres</code></p>\n",
    "<p> Grouping <code>air_store_id</code> and <code>visit_date</code></p>\n",
    "<p> And by <code>reserve_visitors</code> by the help of <code>.sum()</code></p>\n",
    "<p> And rename this column to <code>reserve_visitors_air</code></p>"
   ]
  },
  {
   "cell_type": "code",
   "execution_count": 11,
   "metadata": {
    "scrolled": true
   },
   "outputs": [
    {
     "data": {
      "text/html": [
       "<div>\n",
       "<style scoped>\n",
       "    .dataframe tbody tr th:only-of-type {\n",
       "        vertical-align: middle;\n",
       "    }\n",
       "\n",
       "    .dataframe tbody tr th {\n",
       "        vertical-align: top;\n",
       "    }\n",
       "\n",
       "    .dataframe thead th {\n",
       "        text-align: right;\n",
       "    }\n",
       "</style>\n",
       "<table border=\"1\" class=\"dataframe\">\n",
       "  <thead>\n",
       "    <tr style=\"text-align: right;\">\n",
       "      <th></th>\n",
       "      <th>air_store_id</th>\n",
       "      <th>visit_date</th>\n",
       "      <th>reserve_visitors_air</th>\n",
       "    </tr>\n",
       "  </thead>\n",
       "  <tbody>\n",
       "    <tr>\n",
       "      <th>0</th>\n",
       "      <td>air_00a91d42b08b08d9</td>\n",
       "      <td>2016-10-31</td>\n",
       "      <td>2</td>\n",
       "    </tr>\n",
       "    <tr>\n",
       "      <th>1</th>\n",
       "      <td>air_00a91d42b08b08d9</td>\n",
       "      <td>2016-12-05</td>\n",
       "      <td>9</td>\n",
       "    </tr>\n",
       "    <tr>\n",
       "      <th>2</th>\n",
       "      <td>air_00a91d42b08b08d9</td>\n",
       "      <td>2016-12-14</td>\n",
       "      <td>18</td>\n",
       "    </tr>\n",
       "    <tr>\n",
       "      <th>3</th>\n",
       "      <td>air_00a91d42b08b08d9</td>\n",
       "      <td>2016-12-17</td>\n",
       "      <td>2</td>\n",
       "    </tr>\n",
       "    <tr>\n",
       "      <th>4</th>\n",
       "      <td>air_00a91d42b08b08d9</td>\n",
       "      <td>2016-12-20</td>\n",
       "      <td>4</td>\n",
       "    </tr>\n",
       "  </tbody>\n",
       "</table>\n",
       "</div>"
      ],
      "text/plain": [
       "           air_store_id  visit_date  reserve_visitors_air\n",
       "0  air_00a91d42b08b08d9  2016-10-31                     2\n",
       "1  air_00a91d42b08b08d9  2016-12-05                     9\n",
       "2  air_00a91d42b08b08d9  2016-12-14                    18\n",
       "3  air_00a91d42b08b08d9  2016-12-17                     2\n",
       "4  air_00a91d42b08b08d9  2016-12-20                     4"
      ]
     },
     "execution_count": 11,
     "metadata": {},
     "output_type": "execute_result"
    }
   ],
   "source": [
    "airres_visit_sum = airres.groupby(['air_store_id','visit_date'], as_index=False)['reserve_visitors'].sum().rename(\n",
    "    columns={'reserve_visitors': 'reserve_visitors_air'})\n",
    "#airres_visit_sum =  airres_visit_sum.sort_values('visit_date')\n",
    "airres_visit_sum.head()"
   ]
  },
  {
   "cell_type": "markdown",
   "metadata": {},
   "source": [
    "<a id='airresgrupp-cell'>1.5 Adding new table <code>airresgrupp</code></a>"
   ]
  },
  {
   "cell_type": "markdown",
   "metadata": {},
   "source": [
    "<p> new table <code>airresgrupp</code> from <code>airres_visit_sum</code> and <code>airMedian</code></p>\n",
    "<p> Merging the 2 tables and by the keys of <code>air_store_id</code> and <code>visit_date</code></p>\n",
    "<p> The columns we now have <code>air_store_id</code>,<code>visit_date</code>,<code>reserve_visitors_air</code>,<code>air_date_diff</code></p>\n",
    "<p> the table len is 29830</p>"
   ]
  },
  {
   "cell_type": "code",
   "execution_count": 12,
   "metadata": {},
   "outputs": [
    {
     "data": {
      "text/html": [
       "<div>\n",
       "<style scoped>\n",
       "    .dataframe tbody tr th:only-of-type {\n",
       "        vertical-align: middle;\n",
       "    }\n",
       "\n",
       "    .dataframe tbody tr th {\n",
       "        vertical-align: top;\n",
       "    }\n",
       "\n",
       "    .dataframe thead th {\n",
       "        text-align: right;\n",
       "    }\n",
       "</style>\n",
       "<table border=\"1\" class=\"dataframe\">\n",
       "  <thead>\n",
       "    <tr style=\"text-align: right;\">\n",
       "      <th></th>\n",
       "      <th>air_store_id</th>\n",
       "      <th>visit_date</th>\n",
       "      <th>reserve_visitors_air</th>\n",
       "      <th>air_date_diff</th>\n",
       "    </tr>\n",
       "  </thead>\n",
       "  <tbody>\n",
       "    <tr>\n",
       "      <th>0</th>\n",
       "      <td>air_00a91d42b08b08d9</td>\n",
       "      <td>2016-10-31</td>\n",
       "      <td>2</td>\n",
       "      <td>0.0</td>\n",
       "    </tr>\n",
       "    <tr>\n",
       "      <th>1</th>\n",
       "      <td>air_00a91d42b08b08d9</td>\n",
       "      <td>2016-12-05</td>\n",
       "      <td>9</td>\n",
       "      <td>4.0</td>\n",
       "    </tr>\n",
       "    <tr>\n",
       "      <th>2</th>\n",
       "      <td>air_00a91d42b08b08d9</td>\n",
       "      <td>2016-12-14</td>\n",
       "      <td>18</td>\n",
       "      <td>6.0</td>\n",
       "    </tr>\n",
       "    <tr>\n",
       "      <th>3</th>\n",
       "      <td>air_00a91d42b08b08d9</td>\n",
       "      <td>2016-12-17</td>\n",
       "      <td>2</td>\n",
       "      <td>6.0</td>\n",
       "    </tr>\n",
       "    <tr>\n",
       "      <th>4</th>\n",
       "      <td>air_00a91d42b08b08d9</td>\n",
       "      <td>2016-12-20</td>\n",
       "      <td>4</td>\n",
       "      <td>2.0</td>\n",
       "    </tr>\n",
       "    <tr>\n",
       "      <th>5</th>\n",
       "      <td>air_00a91d42b08b08d9</td>\n",
       "      <td>2017-02-18</td>\n",
       "      <td>9</td>\n",
       "      <td>5.0</td>\n",
       "    </tr>\n",
       "    <tr>\n",
       "      <th>6</th>\n",
       "      <td>air_00a91d42b08b08d9</td>\n",
       "      <td>2017-02-23</td>\n",
       "      <td>12</td>\n",
       "      <td>2.0</td>\n",
       "    </tr>\n",
       "    <tr>\n",
       "      <th>7</th>\n",
       "      <td>air_00a91d42b08b08d9</td>\n",
       "      <td>2017-03-01</td>\n",
       "      <td>3</td>\n",
       "      <td>11.0</td>\n",
       "    </tr>\n",
       "    <tr>\n",
       "      <th>8</th>\n",
       "      <td>air_00a91d42b08b08d9</td>\n",
       "      <td>2017-03-14</td>\n",
       "      <td>4</td>\n",
       "      <td>0.0</td>\n",
       "    </tr>\n",
       "    <tr>\n",
       "      <th>9</th>\n",
       "      <td>air_00a91d42b08b08d9</td>\n",
       "      <td>2017-03-21</td>\n",
       "      <td>3</td>\n",
       "      <td>5.0</td>\n",
       "    </tr>\n",
       "    <tr>\n",
       "      <th>10</th>\n",
       "      <td>air_00a91d42b08b08d9</td>\n",
       "      <td>2017-03-24</td>\n",
       "      <td>2</td>\n",
       "      <td>1.0</td>\n",
       "    </tr>\n",
       "    <tr>\n",
       "      <th>11</th>\n",
       "      <td>air_00a91d42b08b08d9</td>\n",
       "      <td>2017-04-04</td>\n",
       "      <td>2</td>\n",
       "      <td>2.0</td>\n",
       "    </tr>\n",
       "    <tr>\n",
       "      <th>12</th>\n",
       "      <td>air_0164b9927d20bcc3</td>\n",
       "      <td>2016-10-28</td>\n",
       "      <td>12</td>\n",
       "      <td>5.0</td>\n",
       "    </tr>\n",
       "    <tr>\n",
       "      <th>13</th>\n",
       "      <td>air_0164b9927d20bcc3</td>\n",
       "      <td>2016-11-01</td>\n",
       "      <td>10</td>\n",
       "      <td>2.5</td>\n",
       "    </tr>\n",
       "    <tr>\n",
       "      <th>14</th>\n",
       "      <td>air_0164b9927d20bcc3</td>\n",
       "      <td>2016-11-02</td>\n",
       "      <td>3</td>\n",
       "      <td>0.0</td>\n",
       "    </tr>\n",
       "    <tr>\n",
       "      <th>15</th>\n",
       "      <td>air_0164b9927d20bcc3</td>\n",
       "      <td>2016-11-08</td>\n",
       "      <td>9</td>\n",
       "      <td>8.0</td>\n",
       "    </tr>\n",
       "    <tr>\n",
       "      <th>16</th>\n",
       "      <td>air_0164b9927d20bcc3</td>\n",
       "      <td>2016-11-10</td>\n",
       "      <td>6</td>\n",
       "      <td>21.5</td>\n",
       "    </tr>\n",
       "    <tr>\n",
       "      <th>17</th>\n",
       "      <td>air_0164b9927d20bcc3</td>\n",
       "      <td>2016-11-11</td>\n",
       "      <td>4</td>\n",
       "      <td>0.5</td>\n",
       "    </tr>\n",
       "    <tr>\n",
       "      <th>18</th>\n",
       "      <td>air_0164b9927d20bcc3</td>\n",
       "      <td>2016-11-14</td>\n",
       "      <td>17</td>\n",
       "      <td>5.0</td>\n",
       "    </tr>\n",
       "    <tr>\n",
       "      <th>19</th>\n",
       "      <td>air_0164b9927d20bcc3</td>\n",
       "      <td>2016-11-15</td>\n",
       "      <td>3</td>\n",
       "      <td>4.0</td>\n",
       "    </tr>\n",
       "  </tbody>\n",
       "</table>\n",
       "</div>"
      ],
      "text/plain": [
       "            air_store_id  visit_date  reserve_visitors_air  air_date_diff\n",
       "0   air_00a91d42b08b08d9  2016-10-31                     2            0.0\n",
       "1   air_00a91d42b08b08d9  2016-12-05                     9            4.0\n",
       "2   air_00a91d42b08b08d9  2016-12-14                    18            6.0\n",
       "3   air_00a91d42b08b08d9  2016-12-17                     2            6.0\n",
       "4   air_00a91d42b08b08d9  2016-12-20                     4            2.0\n",
       "5   air_00a91d42b08b08d9  2017-02-18                     9            5.0\n",
       "6   air_00a91d42b08b08d9  2017-02-23                    12            2.0\n",
       "7   air_00a91d42b08b08d9  2017-03-01                     3           11.0\n",
       "8   air_00a91d42b08b08d9  2017-03-14                     4            0.0\n",
       "9   air_00a91d42b08b08d9  2017-03-21                     3            5.0\n",
       "10  air_00a91d42b08b08d9  2017-03-24                     2            1.0\n",
       "11  air_00a91d42b08b08d9  2017-04-04                     2            2.0\n",
       "12  air_0164b9927d20bcc3  2016-10-28                    12            5.0\n",
       "13  air_0164b9927d20bcc3  2016-11-01                    10            2.5\n",
       "14  air_0164b9927d20bcc3  2016-11-02                     3            0.0\n",
       "15  air_0164b9927d20bcc3  2016-11-08                     9            8.0\n",
       "16  air_0164b9927d20bcc3  2016-11-10                     6           21.5\n",
       "17  air_0164b9927d20bcc3  2016-11-11                     4            0.5\n",
       "18  air_0164b9927d20bcc3  2016-11-14                    17            5.0\n",
       "19  air_0164b9927d20bcc3  2016-11-15                     3            4.0"
      ]
     },
     "execution_count": 12,
     "metadata": {},
     "output_type": "execute_result"
    }
   ],
   "source": [
    "airresgrupp = pd.merge(airres_visit_sum,airMedian,how='left',on=['air_store_id','visit_date'])\n",
    "airresgrupp.head(20)"
   ]
  },
  {
   "cell_type": "code",
   "execution_count": 13,
   "metadata": {},
   "outputs": [
    {
     "name": "stdout",
     "output_type": "stream",
     "text": [
      "<class 'pandas.core.frame.DataFrame'>\n",
      "Int64Index: 29830 entries, 0 to 29829\n",
      "Data columns (total 4 columns):\n",
      "air_store_id            29830 non-null object\n",
      "visit_date              29830 non-null object\n",
      "reserve_visitors_air    29830 non-null int64\n",
      "air_date_diff           29830 non-null float64\n",
      "dtypes: float64(1), int64(1), object(2)\n",
      "memory usage: 1.1+ MB\n"
     ]
    }
   ],
   "source": [
    "airresgrupp.info()"
   ]
  },
  {
   "cell_type": "markdown",
   "metadata": {},
   "source": [
    "<a id='hpgres-date-format-cell'>2.1 HPG Reserve date format</a>"
   ]
  },
  {
   "cell_type": "code",
   "execution_count": 14,
   "metadata": {},
   "outputs": [
    {
     "data": {
      "text/html": [
       "<div>\n",
       "<style scoped>\n",
       "    .dataframe tbody tr th:only-of-type {\n",
       "        vertical-align: middle;\n",
       "    }\n",
       "\n",
       "    .dataframe tbody tr th {\n",
       "        vertical-align: top;\n",
       "    }\n",
       "\n",
       "    .dataframe thead th {\n",
       "        text-align: right;\n",
       "    }\n",
       "</style>\n",
       "<table border=\"1\" class=\"dataframe\">\n",
       "  <thead>\n",
       "    <tr style=\"text-align: right;\">\n",
       "      <th></th>\n",
       "      <th>hpg_store_id</th>\n",
       "      <th>visit_datetime</th>\n",
       "      <th>reserve_datetime</th>\n",
       "      <th>reserve_visitors</th>\n",
       "      <th>visit_date</th>\n",
       "      <th>rd</th>\n",
       "    </tr>\n",
       "  </thead>\n",
       "  <tbody>\n",
       "    <tr>\n",
       "      <th>0</th>\n",
       "      <td>hpg_c63f6f42e088e50f</td>\n",
       "      <td>2016-01-01 11:00:00</td>\n",
       "      <td>2016-01-01 09:00:00</td>\n",
       "      <td>1</td>\n",
       "      <td>2016-01-01</td>\n",
       "      <td>2016-01-01</td>\n",
       "    </tr>\n",
       "  </tbody>\n",
       "</table>\n",
       "</div>"
      ],
      "text/plain": [
       "           hpg_store_id       visit_datetime     reserve_datetime  \\\n",
       "0  hpg_c63f6f42e088e50f  2016-01-01 11:00:00  2016-01-01 09:00:00   \n",
       "\n",
       "   reserve_visitors  visit_date          rd  \n",
       "0                 1  2016-01-01  2016-01-01  "
      ]
     },
     "execution_count": 14,
     "metadata": {},
     "output_type": "execute_result"
    }
   ],
   "source": [
    "# HPG\n",
    "vdt = pd.to_datetime(hpgres.visit_datetime)\n",
    "rdt = pd.to_datetime(hpgres.reserve_datetime)\n",
    "hpgres['visit_date'] = vdt.dt.date\n",
    "hpgres['rd'] = rdt.dt.date\n",
    "hpgres.head(1)"
   ]
  },
  {
   "cell_type": "code",
   "execution_count": 15,
   "metadata": {
    "scrolled": true
   },
   "outputs": [
    {
     "name": "stdout",
     "output_type": "stream",
     "text": [
      "<class 'pandas.core.frame.DataFrame'>\n",
      "RangeIndex: 2000320 entries, 0 to 2000319\n",
      "Data columns (total 6 columns):\n",
      "hpg_store_id        object\n",
      "visit_datetime      object\n",
      "reserve_datetime    object\n",
      "reserve_visitors    int64\n",
      "visit_date          object\n",
      "rd                  object\n",
      "dtypes: int64(1), object(5)\n",
      "memory usage: 91.6+ MB\n"
     ]
    }
   ],
   "source": [
    "hpgres.info()"
   ]
  },
  {
   "cell_type": "markdown",
   "metadata": {},
   "source": [
    "<a id='hpg-date-diff-cell'>2.2 Adding new column <code>hpgres</code>: <code>hpg_date_diff</code></a>"
   ]
  },
  {
   "cell_type": "code",
   "execution_count": 16,
   "metadata": {},
   "outputs": [],
   "source": [
    "hpgres['hpg_date_diff'] = hpgres.apply(lambda r: (r['visit_date'] - r['rd']).days, axis=1)"
   ]
  },
  {
   "cell_type": "markdown",
   "metadata": {},
   "source": [
    "<a id='hpg-median-cell'>2.3 Adding new table <code>temp1_date_diff_median</code></a>"
   ]
  },
  {
   "cell_type": "markdown",
   "metadata": {},
   "source": [
    "<p> new table <code>temp1_date_diff_median</code> from <code>hpgres</code></p>\n",
    "<p> Grouping <code>hpg_store_id'</code> and <code>visit_date</code></p>\n",
    "<p> And by <code>hpg_date_diff</code> by the help of <code>.median()</code></p>"
   ]
  },
  {
   "cell_type": "code",
   "execution_count": 17,
   "metadata": {},
   "outputs": [],
   "source": [
    "#hpgres = hpgres.groupby(['hpg_store_id','vd'], as_index=False)[['date_diff', 'reserve_visitors']].sum().rename(columns={'visit_datetime':'visit_date'})\n",
    "temp1_date_diff_median = hpgres.groupby(['hpg_store_id','visit_date'], as_index=False)['hpg_date_diff'].median()\n",
    "#temp1_date_diff_median = temp1_date_diff_median.sort_values('visit_date')\n",
    "#temp1_date_diff_median.head(30)"
   ]
  },
  {
   "cell_type": "code",
   "execution_count": 18,
   "metadata": {},
   "outputs": [
    {
     "data": {
      "text/html": [
       "<div>\n",
       "<style scoped>\n",
       "    .dataframe tbody tr th:only-of-type {\n",
       "        vertical-align: middle;\n",
       "    }\n",
       "\n",
       "    .dataframe tbody tr th {\n",
       "        vertical-align: top;\n",
       "    }\n",
       "\n",
       "    .dataframe thead th {\n",
       "        text-align: right;\n",
       "    }\n",
       "</style>\n",
       "<table border=\"1\" class=\"dataframe\">\n",
       "  <thead>\n",
       "    <tr style=\"text-align: right;\">\n",
       "      <th></th>\n",
       "      <th>hpg_store_id</th>\n",
       "      <th>visit_date</th>\n",
       "      <th>hpg_date_diff</th>\n",
       "    </tr>\n",
       "  </thead>\n",
       "  <tbody>\n",
       "    <tr>\n",
       "      <th>0</th>\n",
       "      <td>hpg_001112ef76b9802c</td>\n",
       "      <td>2016-02-26</td>\n",
       "      <td>17.0</td>\n",
       "    </tr>\n",
       "    <tr>\n",
       "      <th>1</th>\n",
       "      <td>hpg_001112ef76b9802c</td>\n",
       "      <td>2016-03-17</td>\n",
       "      <td>14.0</td>\n",
       "    </tr>\n",
       "    <tr>\n",
       "      <th>2</th>\n",
       "      <td>hpg_001112ef76b9802c</td>\n",
       "      <td>2016-03-31</td>\n",
       "      <td>6.0</td>\n",
       "    </tr>\n",
       "    <tr>\n",
       "      <th>3</th>\n",
       "      <td>hpg_001112ef76b9802c</td>\n",
       "      <td>2016-04-05</td>\n",
       "      <td>4.0</td>\n",
       "    </tr>\n",
       "    <tr>\n",
       "      <th>4</th>\n",
       "      <td>hpg_001112ef76b9802c</td>\n",
       "      <td>2016-04-18</td>\n",
       "      <td>3.0</td>\n",
       "    </tr>\n",
       "  </tbody>\n",
       "</table>\n",
       "</div>"
      ],
      "text/plain": [
       "           hpg_store_id  visit_date  hpg_date_diff\n",
       "0  hpg_001112ef76b9802c  2016-02-26           17.0\n",
       "1  hpg_001112ef76b9802c  2016-03-17           14.0\n",
       "2  hpg_001112ef76b9802c  2016-03-31            6.0\n",
       "3  hpg_001112ef76b9802c  2016-04-05            4.0\n",
       "4  hpg_001112ef76b9802c  2016-04-18            3.0"
      ]
     },
     "execution_count": 18,
     "metadata": {},
     "output_type": "execute_result"
    }
   ],
   "source": [
    "temp1_date_diff_median.head()"
   ]
  },
  {
   "cell_type": "code",
   "execution_count": 19,
   "metadata": {
    "scrolled": true
   },
   "outputs": [
    {
     "data": {
      "text/html": [
       "<div>\n",
       "<style scoped>\n",
       "    .dataframe tbody tr th:only-of-type {\n",
       "        vertical-align: middle;\n",
       "    }\n",
       "\n",
       "    .dataframe tbody tr th {\n",
       "        vertical-align: top;\n",
       "    }\n",
       "\n",
       "    .dataframe thead th {\n",
       "        text-align: right;\n",
       "    }\n",
       "</style>\n",
       "<table border=\"1\" class=\"dataframe\">\n",
       "  <thead>\n",
       "    <tr style=\"text-align: right;\">\n",
       "      <th></th>\n",
       "      <th>hpg_date_diff</th>\n",
       "    </tr>\n",
       "  </thead>\n",
       "  <tbody>\n",
       "    <tr>\n",
       "      <th>count</th>\n",
       "      <td>1.355053e+06</td>\n",
       "    </tr>\n",
       "    <tr>\n",
       "      <th>mean</th>\n",
       "      <td>7.003639e+00</td>\n",
       "    </tr>\n",
       "    <tr>\n",
       "      <th>std</th>\n",
       "      <td>8.001880e+00</td>\n",
       "    </tr>\n",
       "    <tr>\n",
       "      <th>min</th>\n",
       "      <td>0.000000e+00</td>\n",
       "    </tr>\n",
       "    <tr>\n",
       "      <th>25%</th>\n",
       "      <td>2.000000e+00</td>\n",
       "    </tr>\n",
       "    <tr>\n",
       "      <th>50%</th>\n",
       "      <td>4.000000e+00</td>\n",
       "    </tr>\n",
       "    <tr>\n",
       "      <th>75%</th>\n",
       "      <td>9.000000e+00</td>\n",
       "    </tr>\n",
       "    <tr>\n",
       "      <th>max</th>\n",
       "      <td>3.680000e+02</td>\n",
       "    </tr>\n",
       "  </tbody>\n",
       "</table>\n",
       "</div>"
      ],
      "text/plain": [
       "       hpg_date_diff\n",
       "count   1.355053e+06\n",
       "mean    7.003639e+00\n",
       "std     8.001880e+00\n",
       "min     0.000000e+00\n",
       "25%     2.000000e+00\n",
       "50%     4.000000e+00\n",
       "75%     9.000000e+00\n",
       "max     3.680000e+02"
      ]
     },
     "execution_count": 19,
     "metadata": {},
     "output_type": "execute_result"
    }
   ],
   "source": [
    "#temp1_date_diff_median.info()\n",
    "temp1_date_diff_median.describe()"
   ]
  },
  {
   "cell_type": "markdown",
   "metadata": {},
   "source": [
    "<a id='hpgres-visit-sum-cell'>2.4 Adding new table <code>temp2_reserve_visitors_sum</code></a>"
   ]
  },
  {
   "cell_type": "markdown",
   "metadata": {},
   "source": [
    "<p> new table <code>temp2_reserve_visitors_sum</code> from <code>hpgres</code></p>\n",
    "<p> Grouping <code>air_store_id</code> and <code>visit_date</code></p>\n",
    "<p> And by <code>reserve_visitors</code> by the help of <code>.sum()</code></p>\n",
    "<p> And rename this column to <code>reserve_visitors_hpg</code></p>"
   ]
  },
  {
   "cell_type": "code",
   "execution_count": 20,
   "metadata": {},
   "outputs": [],
   "source": [
    "#hpgres = hpgres.groupby(['hpg_store_id','vd'], as_index=False)[['date_diff', 'reserve_visitors']].sum().rename(columns={'visit_datetime':'visit_date'})\n",
    "#temp1_date_diff_median = hpgres.groupby(['hpg_store_id','visit_date'], as_index=False)['hpg_date_diff'].median()\n",
    "temp2_reserve_visitors_sum = hpgres.groupby(['hpg_store_id','visit_date'], as_index=False)\\\n",
    "['reserve_visitors'].sum().rename(\n",
    "    columns={'reserve_visitors': 'reserve_visitors_hpg'})\n",
    "#temp2_reserve_visitors_sum = temp2_reserve_visitors_sum.sort_values('visit_date')"
   ]
  },
  {
   "cell_type": "markdown",
   "metadata": {},
   "source": [
    "<a id='hpgres-grup-cell'>2.5 Adding new table <code>hpgres_grup</code></a>"
   ]
  },
  {
   "cell_type": "markdown",
   "metadata": {},
   "source": [
    "<p> new table <code>hpgres_grup</code> from <code>temp2_reserve_visitors_sum</code> and <code>temp1_date_diff_median</code></p>\n",
    "<p> Merging the 2 tables and by the keys of <code>hpg_store_id</code> and <code>visit_date</code></p>\n",
    "<p> The columns we now have <code>hpg_store_id</code>,<code>visit_date</code>,<code>reserve_visitors_hpg</code>,<code>hpg_date_diff</code></p>\n",
    "<p> the table len is 29830</p>"
   ]
  },
  {
   "cell_type": "code",
   "execution_count": 21,
   "metadata": {},
   "outputs": [
    {
     "data": {
      "text/html": [
       "<div>\n",
       "<style scoped>\n",
       "    .dataframe tbody tr th:only-of-type {\n",
       "        vertical-align: middle;\n",
       "    }\n",
       "\n",
       "    .dataframe tbody tr th {\n",
       "        vertical-align: top;\n",
       "    }\n",
       "\n",
       "    .dataframe thead th {\n",
       "        text-align: right;\n",
       "    }\n",
       "</style>\n",
       "<table border=\"1\" class=\"dataframe\">\n",
       "  <thead>\n",
       "    <tr style=\"text-align: right;\">\n",
       "      <th></th>\n",
       "      <th>hpg_store_id</th>\n",
       "      <th>visit_date</th>\n",
       "      <th>reserve_visitors_hpg</th>\n",
       "      <th>hpg_date_diff</th>\n",
       "    </tr>\n",
       "  </thead>\n",
       "  <tbody>\n",
       "    <tr>\n",
       "      <th>0</th>\n",
       "      <td>hpg_001112ef76b9802c</td>\n",
       "      <td>2016-02-26</td>\n",
       "      <td>9</td>\n",
       "      <td>17.0</td>\n",
       "    </tr>\n",
       "    <tr>\n",
       "      <th>1</th>\n",
       "      <td>hpg_001112ef76b9802c</td>\n",
       "      <td>2016-03-17</td>\n",
       "      <td>3</td>\n",
       "      <td>14.0</td>\n",
       "    </tr>\n",
       "    <tr>\n",
       "      <th>2</th>\n",
       "      <td>hpg_001112ef76b9802c</td>\n",
       "      <td>2016-03-31</td>\n",
       "      <td>5</td>\n",
       "      <td>6.0</td>\n",
       "    </tr>\n",
       "    <tr>\n",
       "      <th>3</th>\n",
       "      <td>hpg_001112ef76b9802c</td>\n",
       "      <td>2016-04-05</td>\n",
       "      <td>13</td>\n",
       "      <td>4.0</td>\n",
       "    </tr>\n",
       "    <tr>\n",
       "      <th>4</th>\n",
       "      <td>hpg_001112ef76b9802c</td>\n",
       "      <td>2016-04-18</td>\n",
       "      <td>9</td>\n",
       "      <td>3.0</td>\n",
       "    </tr>\n",
       "    <tr>\n",
       "      <th>5</th>\n",
       "      <td>hpg_001112ef76b9802c</td>\n",
       "      <td>2016-07-05</td>\n",
       "      <td>3</td>\n",
       "      <td>11.0</td>\n",
       "    </tr>\n",
       "    <tr>\n",
       "      <th>6</th>\n",
       "      <td>hpg_001112ef76b9802c</td>\n",
       "      <td>2016-07-14</td>\n",
       "      <td>5</td>\n",
       "      <td>6.0</td>\n",
       "    </tr>\n",
       "    <tr>\n",
       "      <th>7</th>\n",
       "      <td>hpg_001112ef76b9802c</td>\n",
       "      <td>2016-07-21</td>\n",
       "      <td>3</td>\n",
       "      <td>27.0</td>\n",
       "    </tr>\n",
       "    <tr>\n",
       "      <th>8</th>\n",
       "      <td>hpg_001112ef76b9802c</td>\n",
       "      <td>2016-07-26</td>\n",
       "      <td>3</td>\n",
       "      <td>32.0</td>\n",
       "    </tr>\n",
       "    <tr>\n",
       "      <th>9</th>\n",
       "      <td>hpg_001112ef76b9802c</td>\n",
       "      <td>2016-07-28</td>\n",
       "      <td>3</td>\n",
       "      <td>29.0</td>\n",
       "    </tr>\n",
       "    <tr>\n",
       "      <th>10</th>\n",
       "      <td>hpg_001112ef76b9802c</td>\n",
       "      <td>2016-08-04</td>\n",
       "      <td>3</td>\n",
       "      <td>3.0</td>\n",
       "    </tr>\n",
       "    <tr>\n",
       "      <th>11</th>\n",
       "      <td>hpg_001112ef76b9802c</td>\n",
       "      <td>2016-08-23</td>\n",
       "      <td>6</td>\n",
       "      <td>3.0</td>\n",
       "    </tr>\n",
       "    <tr>\n",
       "      <th>12</th>\n",
       "      <td>hpg_001112ef76b9802c</td>\n",
       "      <td>2016-09-07</td>\n",
       "      <td>5</td>\n",
       "      <td>16.0</td>\n",
       "    </tr>\n",
       "    <tr>\n",
       "      <th>13</th>\n",
       "      <td>hpg_001112ef76b9802c</td>\n",
       "      <td>2016-09-23</td>\n",
       "      <td>4</td>\n",
       "      <td>14.0</td>\n",
       "    </tr>\n",
       "    <tr>\n",
       "      <th>14</th>\n",
       "      <td>hpg_001112ef76b9802c</td>\n",
       "      <td>2016-09-26</td>\n",
       "      <td>3</td>\n",
       "      <td>12.0</td>\n",
       "    </tr>\n",
       "    <tr>\n",
       "      <th>15</th>\n",
       "      <td>hpg_001112ef76b9802c</td>\n",
       "      <td>2016-10-06</td>\n",
       "      <td>22</td>\n",
       "      <td>4.0</td>\n",
       "    </tr>\n",
       "    <tr>\n",
       "      <th>16</th>\n",
       "      <td>hpg_001112ef76b9802c</td>\n",
       "      <td>2016-10-11</td>\n",
       "      <td>15</td>\n",
       "      <td>4.0</td>\n",
       "    </tr>\n",
       "    <tr>\n",
       "      <th>17</th>\n",
       "      <td>hpg_001112ef76b9802c</td>\n",
       "      <td>2016-10-18</td>\n",
       "      <td>6</td>\n",
       "      <td>7.0</td>\n",
       "    </tr>\n",
       "    <tr>\n",
       "      <th>18</th>\n",
       "      <td>hpg_001112ef76b9802c</td>\n",
       "      <td>2016-11-14</td>\n",
       "      <td>1</td>\n",
       "      <td>4.0</td>\n",
       "    </tr>\n",
       "    <tr>\n",
       "      <th>19</th>\n",
       "      <td>hpg_001112ef76b9802c</td>\n",
       "      <td>2016-11-18</td>\n",
       "      <td>10</td>\n",
       "      <td>5.5</td>\n",
       "    </tr>\n",
       "  </tbody>\n",
       "</table>\n",
       "</div>"
      ],
      "text/plain": [
       "            hpg_store_id  visit_date  reserve_visitors_hpg  hpg_date_diff\n",
       "0   hpg_001112ef76b9802c  2016-02-26                     9           17.0\n",
       "1   hpg_001112ef76b9802c  2016-03-17                     3           14.0\n",
       "2   hpg_001112ef76b9802c  2016-03-31                     5            6.0\n",
       "3   hpg_001112ef76b9802c  2016-04-05                    13            4.0\n",
       "4   hpg_001112ef76b9802c  2016-04-18                     9            3.0\n",
       "5   hpg_001112ef76b9802c  2016-07-05                     3           11.0\n",
       "6   hpg_001112ef76b9802c  2016-07-14                     5            6.0\n",
       "7   hpg_001112ef76b9802c  2016-07-21                     3           27.0\n",
       "8   hpg_001112ef76b9802c  2016-07-26                     3           32.0\n",
       "9   hpg_001112ef76b9802c  2016-07-28                     3           29.0\n",
       "10  hpg_001112ef76b9802c  2016-08-04                     3            3.0\n",
       "11  hpg_001112ef76b9802c  2016-08-23                     6            3.0\n",
       "12  hpg_001112ef76b9802c  2016-09-07                     5           16.0\n",
       "13  hpg_001112ef76b9802c  2016-09-23                     4           14.0\n",
       "14  hpg_001112ef76b9802c  2016-09-26                     3           12.0\n",
       "15  hpg_001112ef76b9802c  2016-10-06                    22            4.0\n",
       "16  hpg_001112ef76b9802c  2016-10-11                    15            4.0\n",
       "17  hpg_001112ef76b9802c  2016-10-18                     6            7.0\n",
       "18  hpg_001112ef76b9802c  2016-11-14                     1            4.0\n",
       "19  hpg_001112ef76b9802c  2016-11-18                    10            5.5"
      ]
     },
     "execution_count": 21,
     "metadata": {},
     "output_type": "execute_result"
    }
   ],
   "source": [
    "hpgres_grup = pd.merge(temp2_reserve_visitors_sum ,temp1_date_diff_median,how='left',on=['hpg_store_id','visit_date'])\n",
    "hpgres_grup.head(20)"
   ]
  },
  {
   "cell_type": "markdown",
   "metadata": {},
   "source": [
    "After each section we check that there are no null values"
   ]
  },
  {
   "cell_type": "markdown",
   "metadata": {},
   "source": [
    "## <a id='data-aggregation2-cell'>4. Data aggregation 2</a>"
   ]
  },
  {
   "cell_type": "code",
   "execution_count": 22,
   "metadata": {},
   "outputs": [],
   "source": [
    "# Format the datetime airvisit and airresgrupp\n",
    "airvisit['visit_date'] = pd.to_datetime(airvisit['visit_date'])\n",
    "airresgrupp['visit_date'] = pd.to_datetime(airresgrupp['visit_date'])"
   ]
  },
  {
   "cell_type": "code",
   "execution_count": 23,
   "metadata": {},
   "outputs": [],
   "source": [
    "#airvisit.head(10)"
   ]
  },
  {
   "cell_type": "code",
   "execution_count": 24,
   "metadata": {},
   "outputs": [
    {
     "name": "stdout",
     "output_type": "stream",
     "text": [
      "<class 'pandas.core.frame.DataFrame'>\n",
      "Int64Index: 29830 entries, 0 to 29829\n",
      "Data columns (total 4 columns):\n",
      "air_store_id            29830 non-null object\n",
      "visit_date              29830 non-null datetime64[ns]\n",
      "reserve_visitors_air    29830 non-null int64\n",
      "air_date_diff           29830 non-null float64\n",
      "dtypes: datetime64[ns](1), float64(1), int64(1), object(1)\n",
      "memory usage: 1.1+ MB\n"
     ]
    }
   ],
   "source": [
    "airresgrupp.info()"
   ]
  },
  {
   "cell_type": "markdown",
   "metadata": {},
   "source": [
    "<a id='air-new-table-cell'>1.1 air Merge tables <code>airvisit</code> and <code>airresgrupp</code></a>"
   ]
  },
  {
   "cell_type": "code",
   "execution_count": 25,
   "metadata": {},
   "outputs": [],
   "source": [
    "air= pd.merge(airvisit,airresgrupp,how='left',on=['air_store_id','visit_date'])"
   ]
  },
  {
   "cell_type": "code",
   "execution_count": 26,
   "metadata": {},
   "outputs": [
    {
     "name": "stdout",
     "output_type": "stream",
     "text": [
      "<class 'pandas.core.frame.DataFrame'>\n",
      "Int64Index: 252108 entries, 0 to 252107\n",
      "Data columns (total 5 columns):\n",
      "air_store_id            252108 non-null object\n",
      "visit_date              252108 non-null datetime64[ns]\n",
      "visitors                252108 non-null int64\n",
      "reserve_visitors_air    28064 non-null float64\n",
      "air_date_diff           28064 non-null float64\n",
      "dtypes: datetime64[ns](1), float64(2), int64(1), object(1)\n",
      "memory usage: 11.5+ MB\n"
     ]
    }
   ],
   "source": [
    "#air.describe()\n",
    "air.info()\n",
    "#252108 - 28064"
   ]
  },
  {
   "cell_type": "markdown",
   "metadata": {},
   "source": [
    "<a id='airvisstor-new-table-cell'>1.2 <code>airvisstor</code> Merge tables <code>air</code> and <code>airstore</code></a>"
   ]
  },
  {
   "cell_type": "code",
   "execution_count": 27,
   "metadata": {},
   "outputs": [],
   "source": [
    "airvisstor = pd.merge(air,airstore,on='air_store_id')"
   ]
  },
  {
   "cell_type": "code",
   "execution_count": 28,
   "metadata": {},
   "outputs": [
    {
     "name": "stdout",
     "output_type": "stream",
     "text": [
      "<class 'pandas.core.frame.DataFrame'>\n",
      "Int64Index: 252108 entries, 0 to 252107\n",
      "Data columns (total 9 columns):\n",
      "air_store_id            252108 non-null object\n",
      "visit_date              252108 non-null datetime64[ns]\n",
      "visitors                252108 non-null int64\n",
      "reserve_visitors_air    28064 non-null float64\n",
      "air_date_diff           28064 non-null float64\n",
      "air_genre_name          252108 non-null object\n",
      "air_area_name           252108 non-null object\n",
      "latitude                252108 non-null float64\n",
      "longitude               252108 non-null float64\n",
      "dtypes: datetime64[ns](1), float64(4), int64(1), object(3)\n",
      "memory usage: 19.2+ MB\n"
     ]
    }
   ],
   "source": [
    "airvisstor.info()"
   ]
  },
  {
   "cell_type": "markdown",
   "metadata": {},
   "source": [
    "<a id='airrel-new-table-cell'>1.3 <code>airrel</code> Merge tables <code>airvisstor</code> and <code>rel</code></a>"
   ]
  },
  {
   "cell_type": "code",
   "execution_count": 29,
   "metadata": {
    "scrolled": true
   },
   "outputs": [
    {
     "name": "stdout",
     "output_type": "stream",
     "text": [
      "<class 'pandas.core.frame.DataFrame'>\n",
      "Int64Index: 252108 entries, 0 to 252107\n",
      "Data columns (total 10 columns):\n",
      "air_store_id            252108 non-null object\n",
      "visit_date              252108 non-null datetime64[ns]\n",
      "visitors                252108 non-null int64\n",
      "reserve_visitors_air    28064 non-null float64\n",
      "air_date_diff           28064 non-null float64\n",
      "air_genre_name          252108 non-null object\n",
      "air_area_name           252108 non-null object\n",
      "latitude                252108 non-null float64\n",
      "longitude               252108 non-null float64\n",
      "hpg_store_id            46019 non-null object\n",
      "dtypes: datetime64[ns](1), float64(4), int64(1), object(4)\n",
      "memory usage: 21.2+ MB\n"
     ]
    }
   ],
   "source": [
    "airrel = pd.merge(airvisstor,rel,how='left',on='air_store_id')\n",
    "airrel.info()"
   ]
  },
  {
   "cell_type": "markdown",
   "metadata": {},
   "source": [
    "<a id='hpg-new-table-cell'>2.1 <code>hpg</code> Merge tables <code>hpgres_grup</code> and <code>hpgstore</code></a>"
   ]
  },
  {
   "cell_type": "code",
   "execution_count": 30,
   "metadata": {
    "scrolled": false
   },
   "outputs": [
    {
     "name": "stdout",
     "output_type": "stream",
     "text": [
      "<class 'pandas.core.frame.DataFrame'>\n",
      "Int64Index: 561109 entries, 0 to 561108\n",
      "Data columns (total 8 columns):\n",
      "hpg_store_id            561109 non-null object\n",
      "visit_date              561109 non-null object\n",
      "reserve_visitors_hpg    561109 non-null int64\n",
      "hpg_date_diff           561109 non-null float64\n",
      "hpg_genre_name          561109 non-null object\n",
      "hpg_area_name           561109 non-null object\n",
      "latitude                561109 non-null float64\n",
      "longitude               561109 non-null float64\n",
      "dtypes: float64(3), int64(1), object(4)\n",
      "memory usage: 38.5+ MB\n"
     ]
    }
   ],
   "source": [
    "hpg = pd.merge(hpgres_grup,hpgstore,on='hpg_store_id')\n",
    "hpg.info()"
   ]
  },
  {
   "cell_type": "markdown",
   "metadata": {},
   "source": [
    "<a id='hpgrel-new-table-cell'>2.2 <code>hpgrel</code> Merge tables <code>hpg</code> and <code>rel</code></a>"
   ]
  },
  {
   "cell_type": "code",
   "execution_count": 31,
   "metadata": {
    "scrolled": true
   },
   "outputs": [
    {
     "name": "stdout",
     "output_type": "stream",
     "text": [
      "<class 'pandas.core.frame.DataFrame'>\n",
      "Int64Index: 561109 entries, 0 to 561108\n",
      "Data columns (total 9 columns):\n",
      "hpg_store_id            561109 non-null object\n",
      "visit_date              561109 non-null object\n",
      "reserve_visitors_hpg    561109 non-null int64\n",
      "hpg_date_diff           561109 non-null float64\n",
      "hpg_genre_name          561109 non-null object\n",
      "hpg_area_name           561109 non-null object\n",
      "latitude                561109 non-null float64\n",
      "longitude               561109 non-null float64\n",
      "air_store_id            8877 non-null object\n",
      "dtypes: float64(3), int64(1), object(5)\n",
      "memory usage: 42.8+ MB\n"
     ]
    }
   ],
   "source": [
    "hpgrel = pd.merge(hpg,rel,how='left',on=['hpg_store_id'])\n",
    "hpgrel.info()\n",
    "#hh = pd.merge(rel,how='left',on=['hpg_store_id','air_store_id'])"
   ]
  },
  {
   "cell_type": "code",
   "execution_count": 32,
   "metadata": {},
   "outputs": [],
   "source": [
    "# Format the datetime airvisit and airresgrupp\n",
    "airrel['visit_date'] = pd.to_datetime(airrel['visit_date'])\n",
    "hpgres_grup['visit_date'] = pd.to_datetime(hpgres_grup['visit_date'])"
   ]
  },
  {
   "cell_type": "markdown",
   "metadata": {},
   "source": [
    "<a id='full3-cell'>3. <code>full</code>merge with <code>airrel</code> and <code>hpgres_grup</code></a>"
   ]
  },
  {
   "cell_type": "markdown",
   "metadata": {},
   "source": []
  },
  {
   "cell_type": "code",
   "execution_count": 33,
   "metadata": {},
   "outputs": [
    {
     "name": "stdout",
     "output_type": "stream",
     "text": [
      "there are  252108  restaurants with AIR and  561109  with HPG. 150  have both.\n"
     ]
    }
   ],
   "source": [
    "full = pd.merge(airrel,hpgres_grup, how = 'left', on = ['hpg_store_id','visit_date'])\n",
    "print(\"there are \",len(air),\" restaurants with AIR and \",len(hpg),\" with HPG.\",len(rel),' have both.')"
   ]
  },
  {
   "cell_type": "code",
   "execution_count": 34,
   "metadata": {},
   "outputs": [
    {
     "data": {
      "text/html": [
       "<div>\n",
       "<style scoped>\n",
       "    .dataframe tbody tr th:only-of-type {\n",
       "        vertical-align: middle;\n",
       "    }\n",
       "\n",
       "    .dataframe tbody tr th {\n",
       "        vertical-align: top;\n",
       "    }\n",
       "\n",
       "    .dataframe thead th {\n",
       "        text-align: right;\n",
       "    }\n",
       "</style>\n",
       "<table border=\"1\" class=\"dataframe\">\n",
       "  <thead>\n",
       "    <tr style=\"text-align: right;\">\n",
       "      <th></th>\n",
       "      <th>air_store_id</th>\n",
       "      <th>visit_date</th>\n",
       "      <th>visitors</th>\n",
       "      <th>reserve_visitors_air</th>\n",
       "      <th>air_date_diff</th>\n",
       "      <th>air_genre_name</th>\n",
       "      <th>air_area_name</th>\n",
       "      <th>latitude</th>\n",
       "      <th>longitude</th>\n",
       "      <th>hpg_store_id</th>\n",
       "      <th>reserve_visitors_hpg</th>\n",
       "      <th>hpg_date_diff</th>\n",
       "    </tr>\n",
       "  </thead>\n",
       "  <tbody>\n",
       "    <tr>\n",
       "      <th>0</th>\n",
       "      <td>air_ba937bf13d40fb24</td>\n",
       "      <td>2016-01-13</td>\n",
       "      <td>25</td>\n",
       "      <td>NaN</td>\n",
       "      <td>NaN</td>\n",
       "      <td>Dining bar</td>\n",
       "      <td>Tōkyō-to Minato-ku Shibakōen</td>\n",
       "      <td>35.658068</td>\n",
       "      <td>139.751599</td>\n",
       "      <td>NaN</td>\n",
       "      <td>NaN</td>\n",
       "      <td>NaN</td>\n",
       "    </tr>\n",
       "    <tr>\n",
       "      <th>1</th>\n",
       "      <td>air_ba937bf13d40fb24</td>\n",
       "      <td>2016-01-14</td>\n",
       "      <td>32</td>\n",
       "      <td>NaN</td>\n",
       "      <td>NaN</td>\n",
       "      <td>Dining bar</td>\n",
       "      <td>Tōkyō-to Minato-ku Shibakōen</td>\n",
       "      <td>35.658068</td>\n",
       "      <td>139.751599</td>\n",
       "      <td>NaN</td>\n",
       "      <td>NaN</td>\n",
       "      <td>NaN</td>\n",
       "    </tr>\n",
       "    <tr>\n",
       "      <th>2</th>\n",
       "      <td>air_ba937bf13d40fb24</td>\n",
       "      <td>2016-01-15</td>\n",
       "      <td>29</td>\n",
       "      <td>NaN</td>\n",
       "      <td>NaN</td>\n",
       "      <td>Dining bar</td>\n",
       "      <td>Tōkyō-to Minato-ku Shibakōen</td>\n",
       "      <td>35.658068</td>\n",
       "      <td>139.751599</td>\n",
       "      <td>NaN</td>\n",
       "      <td>NaN</td>\n",
       "      <td>NaN</td>\n",
       "    </tr>\n",
       "    <tr>\n",
       "      <th>3</th>\n",
       "      <td>air_ba937bf13d40fb24</td>\n",
       "      <td>2016-01-16</td>\n",
       "      <td>22</td>\n",
       "      <td>NaN</td>\n",
       "      <td>NaN</td>\n",
       "      <td>Dining bar</td>\n",
       "      <td>Tōkyō-to Minato-ku Shibakōen</td>\n",
       "      <td>35.658068</td>\n",
       "      <td>139.751599</td>\n",
       "      <td>NaN</td>\n",
       "      <td>NaN</td>\n",
       "      <td>NaN</td>\n",
       "    </tr>\n",
       "    <tr>\n",
       "      <th>4</th>\n",
       "      <td>air_ba937bf13d40fb24</td>\n",
       "      <td>2016-01-18</td>\n",
       "      <td>6</td>\n",
       "      <td>NaN</td>\n",
       "      <td>NaN</td>\n",
       "      <td>Dining bar</td>\n",
       "      <td>Tōkyō-to Minato-ku Shibakōen</td>\n",
       "      <td>35.658068</td>\n",
       "      <td>139.751599</td>\n",
       "      <td>NaN</td>\n",
       "      <td>NaN</td>\n",
       "      <td>NaN</td>\n",
       "    </tr>\n",
       "  </tbody>\n",
       "</table>\n",
       "</div>"
      ],
      "text/plain": [
       "           air_store_id visit_date  visitors  reserve_visitors_air  \\\n",
       "0  air_ba937bf13d40fb24 2016-01-13        25                   NaN   \n",
       "1  air_ba937bf13d40fb24 2016-01-14        32                   NaN   \n",
       "2  air_ba937bf13d40fb24 2016-01-15        29                   NaN   \n",
       "3  air_ba937bf13d40fb24 2016-01-16        22                   NaN   \n",
       "4  air_ba937bf13d40fb24 2016-01-18         6                   NaN   \n",
       "\n",
       "   air_date_diff air_genre_name                 air_area_name   latitude  \\\n",
       "0            NaN     Dining bar  Tōkyō-to Minato-ku Shibakōen  35.658068   \n",
       "1            NaN     Dining bar  Tōkyō-to Minato-ku Shibakōen  35.658068   \n",
       "2            NaN     Dining bar  Tōkyō-to Minato-ku Shibakōen  35.658068   \n",
       "3            NaN     Dining bar  Tōkyō-to Minato-ku Shibakōen  35.658068   \n",
       "4            NaN     Dining bar  Tōkyō-to Minato-ku Shibakōen  35.658068   \n",
       "\n",
       "    longitude hpg_store_id  reserve_visitors_hpg  hpg_date_diff  \n",
       "0  139.751599          NaN                   NaN            NaN  \n",
       "1  139.751599          NaN                   NaN            NaN  \n",
       "2  139.751599          NaN                   NaN            NaN  \n",
       "3  139.751599          NaN                   NaN            NaN  \n",
       "4  139.751599          NaN                   NaN            NaN  "
      ]
     },
     "execution_count": 34,
     "metadata": {},
     "output_type": "execute_result"
    }
   ],
   "source": [
    "full.head()"
   ]
  },
  {
   "cell_type": "code",
   "execution_count": 35,
   "metadata": {},
   "outputs": [
    {
     "data": {
      "text/plain": [
       "Index(['air_store_id', 'visit_date', 'visitors', 'reserve_visitors_air',\n",
       "       'air_date_diff', 'air_genre_name', 'air_area_name', 'latitude',\n",
       "       'longitude', 'hpg_store_id', 'reserve_visitors_hpg', 'hpg_date_diff'],\n",
       "      dtype='object')"
      ]
     },
     "execution_count": 35,
     "metadata": {},
     "output_type": "execute_result"
    }
   ],
   "source": [
    "#full.drop(['visit_date_y'], axis=1, inplace=True)\n",
    "full.columns"
   ]
  },
  {
   "cell_type": "code",
   "execution_count": 36,
   "metadata": {},
   "outputs": [],
   "source": [
    "#full['visit_date']=full['visit_date_x']\n",
    "#full.drop(['visit_date_x'], axis=1, inplace=True)"
   ]
  },
  {
   "cell_type": "code",
   "execution_count": 37,
   "metadata": {},
   "outputs": [
    {
     "data": {
      "text/plain": [
       "829"
      ]
     },
     "execution_count": 37,
     "metadata": {},
     "output_type": "execute_result"
    }
   ],
   "source": [
    "#full.info()\n",
    "len(full['air_store_id'].unique())"
   ]
  },
  {
   "cell_type": "markdown",
   "metadata": {},
   "source": [
    "In this step, we see that there are very few intersections in the two systems AIR and HPG."
   ]
  },
  {
   "cell_type": "markdown",
   "metadata": {},
   "source": [
    "Missing Values Now we can start the analysis by looking at the percentage of missing values in each column. Missing values are fine when we do Exploratory Data Analysis, but they will have to be filled in for machine learning methods.  Following is a function that calculates the number of missing values and the percentage of the total values that are missing for each column. As with many tasks in data science, I did not write this function myself, but rather found it online in a Stack Overflow forum!"
   ]
  },
  {
   "cell_type": "markdown",
   "metadata": {
    "_cell_guid": "631c0199-cd66-465b-8058-079ebf12fadd",
    "_uuid": "bf4a642de8ed75f0da36b171b735b1277ab662ab"
   },
   "source": [
    "## <a id='geography-clustering-cell'>5 Geography Clustering</a>"
   ]
  },
  {
   "cell_type": "markdown",
   "metadata": {
    "_cell_guid": "2fda040b-40f9-43e0-a582-c3bf53679086",
    "_uuid": "f4196cb08968577f49f3908abe7eccd8ab74483b"
   },
   "source": [
    "Apparently Japan's terittory is divided in 8 regions which are not official administrative units, but have been traditionally used as the regional division of Japan in a number of contexts [https://en.wikipedia.org/wiki/List_of_regions_of_Japan ]\n",
    "\n",
    "From north to south, the traditional regions are:\n",
    "* **Hokkaidō** (the island of Hokkaidō and nearby islands, population: 5,507,456, largest city: Sapporo)\n",
    "* **Tōhoku** region (northern Honshū, population: 9,335,088, largest city: Sendai)\n",
    "* **Kantō** region (eastern Honshū, population: 42,607,376, largest city: Tokyo)\n",
    "* **Chūbu region** (central Honshū, including Mt. Fuji, population: 21,714,995, largest city: Nagoya), sometimes divided into:\n",
    "   * Hokuriku region (northwestern Chūbu, largest city: Kanazawa)\n",
    "   * Kōshin'etsu region (northeastern Chūbu, largest city: Niigata)\n",
    "  * Tōkai region (southern Chūbu, largest city: Nagoya)\n",
    "* **Kansai or Kinki** region (west-central Honshū, including the old capital, Kyoto, population: 22,755,030, largest city: Osaka)\n",
    "* **Chūgoku** region (western Honshū, population: 7,561,899, largest city: Hiroshima)\n",
    "* **Shikoku** (island, population: 3,977,205, largest city: Matsuyama)\n",
    "* **Kyūshū** (island, population: 14,596,977, largest city: Fukuoka) which includes:\n",
    "  * Northern Kyushu: Fukuoka, Saga, Nagasaki and Ōita (largest city: Fukuoka)\n",
    "  * Southern Kyushu: Kumamoto, Miyazaki and Kagoshima (largest city: Kagoshima)\n",
    "  * Okinawa (largest city: Naha)"
   ]
  },
  {
   "cell_type": "markdown",
   "metadata": {},
   "source": [
    "##### <a id='kmeans-cell'>KMeans cluster</a>"
   ]
  },
  {
   "cell_type": "markdown",
   "metadata": {},
   "source": [
    "<p>Having new column to table <code>full</code></p>\n",
    "<p><code>cluster</code> : we do cluster analysis by geographic position(Longitude,Latitude)</p>\n",
    "<p>the number of classes is equal to 9 because in Japan there are 9 areas(n_clusters=8)</p>"
   ]
  },
  {
   "cell_type": "code",
   "execution_count": 38,
   "metadata": {
    "_cell_guid": "b22b114a-460f-40a1-ac75-ec310536e66f",
    "_uuid": "dcc991a9081862e2dca69132bc4f2627fc9ce370"
   },
   "outputs": [],
   "source": [
    "#we do cluster analysis by geographic position(Longitude,Latitude)\n",
    "#the number of classes is equal to 9 because in Japan there are 9 areas(n_clusters=8)\n",
    "from sklearn.cluster import KMeans\n",
    "kmeans = KMeans(n_clusters=8, random_state=0).fit(full[['longitude','latitude']])\n",
    "full['cluster'] = kmeans.predict(full[['longitude','latitude']])"
   ]
  },
  {
   "cell_type": "markdown",
   "metadata": {},
   "source": [
    "<a id='full-kmeans-cell'> 1.1 <code>full</code> table after cluster</a>"
   ]
  },
  {
   "cell_type": "markdown",
   "metadata": {},
   "source": [
    "<p> The columns that now we have are:</p>\n",
    "<p><code>air_store_id</code>, <code>visit_date</code>, <code>visitors</code>, <code>reserve_visitors_air</code></p>\t\n",
    "<p><code>air_date_diff</code>,<code>air_genre_name</code>, <code>air_area_name</code>,</p>\n",
    "<p><code>latitude</code>,<code>longitude</code>, <code>hpg_store_id</code>,<code>reserve_visitors_hpg</code>,</p>\n",
    "<p><code>hpg_date_diff</code>,<code>cluster</code>.</p>"
   ]
  },
  {
   "cell_type": "code",
   "execution_count": 39,
   "metadata": {
    "scrolled": false
   },
   "outputs": [
    {
     "data": {
      "text/html": [
       "<div>\n",
       "<style scoped>\n",
       "    .dataframe tbody tr th:only-of-type {\n",
       "        vertical-align: middle;\n",
       "    }\n",
       "\n",
       "    .dataframe tbody tr th {\n",
       "        vertical-align: top;\n",
       "    }\n",
       "\n",
       "    .dataframe thead th {\n",
       "        text-align: right;\n",
       "    }\n",
       "</style>\n",
       "<table border=\"1\" class=\"dataframe\">\n",
       "  <thead>\n",
       "    <tr style=\"text-align: right;\">\n",
       "      <th></th>\n",
       "      <th>air_store_id</th>\n",
       "      <th>visit_date</th>\n",
       "      <th>visitors</th>\n",
       "      <th>reserve_visitors_air</th>\n",
       "      <th>air_date_diff</th>\n",
       "      <th>air_genre_name</th>\n",
       "      <th>air_area_name</th>\n",
       "      <th>latitude</th>\n",
       "      <th>longitude</th>\n",
       "      <th>hpg_store_id</th>\n",
       "      <th>reserve_visitors_hpg</th>\n",
       "      <th>hpg_date_diff</th>\n",
       "      <th>cluster</th>\n",
       "    </tr>\n",
       "  </thead>\n",
       "  <tbody>\n",
       "    <tr>\n",
       "      <th>0</th>\n",
       "      <td>air_ba937bf13d40fb24</td>\n",
       "      <td>2016-01-13</td>\n",
       "      <td>25</td>\n",
       "      <td>NaN</td>\n",
       "      <td>NaN</td>\n",
       "      <td>Dining bar</td>\n",
       "      <td>Tōkyō-to Minato-ku Shibakōen</td>\n",
       "      <td>35.658068</td>\n",
       "      <td>139.751599</td>\n",
       "      <td>NaN</td>\n",
       "      <td>NaN</td>\n",
       "      <td>NaN</td>\n",
       "      <td>0</td>\n",
       "    </tr>\n",
       "    <tr>\n",
       "      <th>1</th>\n",
       "      <td>air_ba937bf13d40fb24</td>\n",
       "      <td>2016-01-14</td>\n",
       "      <td>32</td>\n",
       "      <td>NaN</td>\n",
       "      <td>NaN</td>\n",
       "      <td>Dining bar</td>\n",
       "      <td>Tōkyō-to Minato-ku Shibakōen</td>\n",
       "      <td>35.658068</td>\n",
       "      <td>139.751599</td>\n",
       "      <td>NaN</td>\n",
       "      <td>NaN</td>\n",
       "      <td>NaN</td>\n",
       "      <td>0</td>\n",
       "    </tr>\n",
       "    <tr>\n",
       "      <th>2</th>\n",
       "      <td>air_ba937bf13d40fb24</td>\n",
       "      <td>2016-01-15</td>\n",
       "      <td>29</td>\n",
       "      <td>NaN</td>\n",
       "      <td>NaN</td>\n",
       "      <td>Dining bar</td>\n",
       "      <td>Tōkyō-to Minato-ku Shibakōen</td>\n",
       "      <td>35.658068</td>\n",
       "      <td>139.751599</td>\n",
       "      <td>NaN</td>\n",
       "      <td>NaN</td>\n",
       "      <td>NaN</td>\n",
       "      <td>0</td>\n",
       "    </tr>\n",
       "    <tr>\n",
       "      <th>3</th>\n",
       "      <td>air_ba937bf13d40fb24</td>\n",
       "      <td>2016-01-16</td>\n",
       "      <td>22</td>\n",
       "      <td>NaN</td>\n",
       "      <td>NaN</td>\n",
       "      <td>Dining bar</td>\n",
       "      <td>Tōkyō-to Minato-ku Shibakōen</td>\n",
       "      <td>35.658068</td>\n",
       "      <td>139.751599</td>\n",
       "      <td>NaN</td>\n",
       "      <td>NaN</td>\n",
       "      <td>NaN</td>\n",
       "      <td>0</td>\n",
       "    </tr>\n",
       "    <tr>\n",
       "      <th>4</th>\n",
       "      <td>air_ba937bf13d40fb24</td>\n",
       "      <td>2016-01-18</td>\n",
       "      <td>6</td>\n",
       "      <td>NaN</td>\n",
       "      <td>NaN</td>\n",
       "      <td>Dining bar</td>\n",
       "      <td>Tōkyō-to Minato-ku Shibakōen</td>\n",
       "      <td>35.658068</td>\n",
       "      <td>139.751599</td>\n",
       "      <td>NaN</td>\n",
       "      <td>NaN</td>\n",
       "      <td>NaN</td>\n",
       "      <td>0</td>\n",
       "    </tr>\n",
       "  </tbody>\n",
       "</table>\n",
       "</div>"
      ],
      "text/plain": [
       "           air_store_id visit_date  visitors  reserve_visitors_air  \\\n",
       "0  air_ba937bf13d40fb24 2016-01-13        25                   NaN   \n",
       "1  air_ba937bf13d40fb24 2016-01-14        32                   NaN   \n",
       "2  air_ba937bf13d40fb24 2016-01-15        29                   NaN   \n",
       "3  air_ba937bf13d40fb24 2016-01-16        22                   NaN   \n",
       "4  air_ba937bf13d40fb24 2016-01-18         6                   NaN   \n",
       "\n",
       "   air_date_diff air_genre_name                 air_area_name   latitude  \\\n",
       "0            NaN     Dining bar  Tōkyō-to Minato-ku Shibakōen  35.658068   \n",
       "1            NaN     Dining bar  Tōkyō-to Minato-ku Shibakōen  35.658068   \n",
       "2            NaN     Dining bar  Tōkyō-to Minato-ku Shibakōen  35.658068   \n",
       "3            NaN     Dining bar  Tōkyō-to Minato-ku Shibakōen  35.658068   \n",
       "4            NaN     Dining bar  Tōkyō-to Minato-ku Shibakōen  35.658068   \n",
       "\n",
       "    longitude hpg_store_id  reserve_visitors_hpg  hpg_date_diff  cluster  \n",
       "0  139.751599          NaN                   NaN            NaN        0  \n",
       "1  139.751599          NaN                   NaN            NaN        0  \n",
       "2  139.751599          NaN                   NaN            NaN        0  \n",
       "3  139.751599          NaN                   NaN            NaN        0  \n",
       "4  139.751599          NaN                   NaN            NaN        0  "
      ]
     },
     "execution_count": 39,
     "metadata": {},
     "output_type": "execute_result"
    }
   ],
   "source": [
    "full.head()"
   ]
  },
  {
   "cell_type": "markdown",
   "metadata": {},
   "source": [
    "<a id='full-graph-cell'> 1.2 <code>full</code> Graphs (HPG AIR) <code>cluster</code></a>"
   ]
  },
  {
   "cell_type": "code",
   "execution_count": 40,
   "metadata": {},
   "outputs": [
    {
     "data": {
      "image/png": "[encoded data removed]",
      "text/plain": [
       "<Figure size 1080x432 with 2 Axes>"
      ]
     },
     "metadata": {
      "needs_background": "light"
     },
     "output_type": "display_data"
    }
   ],
   "source": [
    "f,axa = plt.subplots(1,2,figsize=(15,6))\n",
    "hist_clust = full.groupby(['cluster'],as_index=False).count()\n",
    "sns.barplot(x=hist_clust.cluster,y=hist_clust.air_store_id,ax=axa[0])\n",
    "sns.barplot(x=hist_clust.cluster,y=hist_clust.hpg_store_id,ax=axa[1])\n",
    "plt.show()"
   ]
  },
  {
   "cell_type": "code",
   "execution_count": 41,
   "metadata": {},
   "outputs": [],
   "source": [
    "#we import the library \"Basemap\" from mpl_toolkits.basemap and projection to create a map\n",
    "#import os\n",
    "#os.environ[\"PROJ_LIB\"] = \"C:\\\\Users\\\\sergey\\\\Anaconda3\\\\Library\\\\share\";\n",
    "#from mpl_toolkits.basemap import Basemap"
   ]
  },
  {
   "cell_type": "code",
   "execution_count": 42,
   "metadata": {},
   "outputs": [],
   "source": [
    "#m = Basemap(projection='aeqd',width=2000000,height=2000000, lat_0=37.5, lon_0=138.2)"
   ]
  },
  {
   "cell_type": "code",
   "execution_count": 43,
   "metadata": {
    "scrolled": true
   },
   "outputs": [],
   "source": [
    "#cx = [c[0] for c in kmeans.cluster_centers_]\n",
    "#cy = [c[1] for c in kmeans.cluster_centers_]\n",
    "#cm = plt.get_cmap('gist_rainbow')\n",
    "\n",
    "#colors = [cm(2.*i/10) for i in range(10)]\n",
    "#colored = [colors[k] for k in full['cluster']]\n",
    "#f,axa = plt.subplots(1,1,figsize=(22,48))\n",
    "\n",
    "#m.shadedrelief()\n",
    "#m.drawcoastlines()\n",
    "#m.fillcontinents(color='lightyellow',lake_color='aqua',zorder=1)\n",
    "#m.drawcoastlines()\n",
    "#m.drawcountries(linewidth = 3)\n",
    "#m.drawstates(color='0.3')\n",
    "#parallels = np.arange(0.,360,10.,)\n",
    "#m.drawparallels(parallels, labels = [True for s in range(len(parallels))])\n",
    "#meridians = np.arange(0.,360,10.,)\n",
    "\n",
    "#m.scatter(full.longitude.values,full.latitude.values,color=colored,s=20,alpha=1,zorder=999,latlon=True)\n",
    "#m.scatter(df_full.longitude.values,df_full.latitude.values,color=colored,s=20,alpha=1,zorder=999,latlon=True)\n",
    "#m.scatter(cx,cy,color='Black',s=50,alpha=1,latlon=True,zorder=999)\n",
    "#plt.setp(axa.get_yticklabels(), visible=True)\n",
    "#plt.annotate('Fukuoka', xy=(0.04, 0.32), xycoords='axes fraction',fontsize=20)\n",
    "#plt.annotate('Shikoku', xy=(0.25, 0.25), xycoords='axes fraction',fontsize=20)\n",
    "#plt.annotate('Hiroshima', xy=(0.2, 0.36), xycoords='axes fraction',fontsize=20)\n",
    "#plt.annotate('Osaka', xy=(0.40, 0.32), xycoords='axes fraction',fontsize=20)\n",
    "#plt.annotate('Tokyo', xy=(0.60, 0.4), xycoords='axes fraction',fontsize=20)\n",
    "#plt.annotate('Shizuoka', xy=(0.50, 0.32), xycoords='axes fraction',fontsize=20)\n",
    "#plt.annotate('Niigata', xy=(0.48, 0.54), xycoords='axes fraction',fontsize=20)\n",
    "#plt.annotate('Fukushima', xy=(0.62, 0.54), xycoords='axes fraction',fontsize=20)\n",
    "#plt.annotate('Hokkaido', xy=(0.7, 0.74), xycoords='axes fraction',fontsize=20)\n",
    "#plt.annotate('Hyogo', xy=(0.34, 0.30), xycoords='axes fraction',fontsize=20)\n",
    "\n",
    "#for i in range(len(cx)):\n",
    " #   xpt,ypt = m(cx[i],cy[i])\n",
    " #   plt.annotate(i, (xpt+500,ypt+500),zorder=99999,fontsize=16)\n",
    " #   plt.title(\"Map of cluster distribution\",fontsize=25)\n",
    "#plt.show()"
   ]
  },
  {
   "cell_type": "markdown",
   "metadata": {},
   "source": [
    "On the map we can see by the color of the points that the classes are rightly spread out and distributed around the black points.<br>\n",
    "Now we check which class number is equal to which region."
   ]
  },
  {
   "cell_type": "markdown",
   "metadata": {},
   "source": [
    "<a id='region1-cell'> 2.1 separate the first part of the name of the region</a>"
   ]
  },
  {
   "cell_type": "markdown",
   "metadata": {},
   "source": [
    "<p>separate the first part of the name of the region</p>"
   ]
  },
  {
   "cell_type": "code",
   "execution_count": 44,
   "metadata": {},
   "outputs": [
    {
     "data": {
      "text/html": [
       "<div>\n",
       "<style scoped>\n",
       "    .dataframe tbody tr th:only-of-type {\n",
       "        vertical-align: middle;\n",
       "    }\n",
       "\n",
       "    .dataframe tbody tr th {\n",
       "        vertical-align: top;\n",
       "    }\n",
       "\n",
       "    .dataframe thead th {\n",
       "        text-align: right;\n",
       "    }\n",
       "</style>\n",
       "<table border=\"1\" class=\"dataframe\">\n",
       "  <thead>\n",
       "    <tr style=\"text-align: right;\">\n",
       "      <th></th>\n",
       "      <th>air_store_id</th>\n",
       "      <th>visit_date</th>\n",
       "      <th>visitors</th>\n",
       "      <th>reserve_visitors_air</th>\n",
       "      <th>air_date_diff</th>\n",
       "      <th>air_genre_name</th>\n",
       "      <th>air_area_name</th>\n",
       "      <th>latitude</th>\n",
       "      <th>longitude</th>\n",
       "      <th>hpg_store_id</th>\n",
       "      <th>reserve_visitors_hpg</th>\n",
       "      <th>hpg_date_diff</th>\n",
       "      <th>cluster</th>\n",
       "      <th>prefecture</th>\n",
       "    </tr>\n",
       "  </thead>\n",
       "  <tbody>\n",
       "    <tr>\n",
       "      <th>0</th>\n",
       "      <td>air_ba937bf13d40fb24</td>\n",
       "      <td>2016-01-13</td>\n",
       "      <td>25</td>\n",
       "      <td>NaN</td>\n",
       "      <td>NaN</td>\n",
       "      <td>Dining bar</td>\n",
       "      <td>Tōkyō-to Minato-ku Shibakōen</td>\n",
       "      <td>35.658068</td>\n",
       "      <td>139.751599</td>\n",
       "      <td>NaN</td>\n",
       "      <td>NaN</td>\n",
       "      <td>NaN</td>\n",
       "      <td>0</td>\n",
       "      <td>Tōkyō-to</td>\n",
       "    </tr>\n",
       "  </tbody>\n",
       "</table>\n",
       "</div>"
      ],
      "text/plain": [
       "           air_store_id visit_date  visitors  reserve_visitors_air  \\\n",
       "0  air_ba937bf13d40fb24 2016-01-13        25                   NaN   \n",
       "\n",
       "   air_date_diff air_genre_name                 air_area_name   latitude  \\\n",
       "0            NaN     Dining bar  Tōkyō-to Minato-ku Shibakōen  35.658068   \n",
       "\n",
       "    longitude hpg_store_id  reserve_visitors_hpg  hpg_date_diff  cluster  \\\n",
       "0  139.751599          NaN                   NaN            NaN        0   \n",
       "\n",
       "  prefecture  \n",
       "0   Tōkyō-to  "
      ]
     },
     "execution_count": 44,
     "metadata": {},
     "output_type": "execute_result"
    }
   ],
   "source": [
    "full['prefecture'] = full['air_area_name'].map(lambda x: str(x).split(' ')[0])\n",
    "full.head(1)"
   ]
  },
  {
   "cell_type": "markdown",
   "metadata": {},
   "source": [
    "<a id='region2-cell'> 2.2 we calculate what percentage of all restaurants are in each region</a>"
   ]
  },
  {
   "cell_type": "markdown",
   "metadata": {},
   "source": [
    "<p>we calculate what percentage of all restaurants are in each region</p>"
   ]
  },
  {
   "cell_type": "code",
   "execution_count": 45,
   "metadata": {
    "scrolled": true
   },
   "outputs": [
    {
     "data": {
      "text/html": [
       "<div>\n",
       "<style scoped>\n",
       "    .dataframe tbody tr th:only-of-type {\n",
       "        vertical-align: middle;\n",
       "    }\n",
       "\n",
       "    .dataframe tbody tr th {\n",
       "        vertical-align: top;\n",
       "    }\n",
       "\n",
       "    .dataframe thead th {\n",
       "        text-align: right;\n",
       "    }\n",
       "</style>\n",
       "<table border=\"1\" class=\"dataframe\">\n",
       "  <thead>\n",
       "    <tr style=\"text-align: right;\">\n",
       "      <th></th>\n",
       "      <th>prefecture</th>\n",
       "      <th>cluster</th>\n",
       "      <th>air_store_id</th>\n",
       "      <th>percent</th>\n",
       "    </tr>\n",
       "  </thead>\n",
       "  <tbody>\n",
       "    <tr>\n",
       "      <th>0</th>\n",
       "      <td>Fukuoka-ken</td>\n",
       "      <td>4</td>\n",
       "      <td>39645</td>\n",
       "      <td>15.725403</td>\n",
       "    </tr>\n",
       "    <tr>\n",
       "      <th>1</th>\n",
       "      <td>Hiroshima-ken</td>\n",
       "      <td>1</td>\n",
       "      <td>9858</td>\n",
       "      <td>3.910229</td>\n",
       "    </tr>\n",
       "    <tr>\n",
       "      <th>2</th>\n",
       "      <td>Hokkaidō</td>\n",
       "      <td>2</td>\n",
       "      <td>13055</td>\n",
       "      <td>5.178336</td>\n",
       "    </tr>\n",
       "    <tr>\n",
       "      <th>3</th>\n",
       "      <td>Hyōgo-ken</td>\n",
       "      <td>3</td>\n",
       "      <td>17846</td>\n",
       "      <td>7.078712</td>\n",
       "    </tr>\n",
       "    <tr>\n",
       "      <th>4</th>\n",
       "      <td>Miyagi-ken</td>\n",
       "      <td>6</td>\n",
       "      <td>5959</td>\n",
       "      <td>2.363670</td>\n",
       "    </tr>\n",
       "  </tbody>\n",
       "</table>\n",
       "</div>"
      ],
      "text/plain": [
       "      prefecture  cluster  air_store_id    percent\n",
       "0    Fukuoka-ken        4         39645  15.725403\n",
       "1  Hiroshima-ken        1          9858   3.910229\n",
       "2       Hokkaidō        2         13055   5.178336\n",
       "3      Hyōgo-ken        3         17846   7.078712\n",
       "4     Miyagi-ken        6          5959   2.363670"
      ]
     },
     "execution_count": 45,
     "metadata": {},
     "output_type": "execute_result"
    }
   ],
   "source": [
    "aircluster = full.groupby(['prefecture','cluster',], as_index=False)['air_store_id'].count()\n",
    "aircluster['percent'] = aircluster.air_store_id/aircluster.air_store_id.sum()*100\n",
    "aircluster.head()"
   ]
  },
  {
   "cell_type": "markdown",
   "metadata": {},
   "source": [
    "<p><code>prefecture</code></p>\n",
    "<p><code>cluster</code></p>\n",
    "<p><code>air_store_id</code></p>\n",
    "<p><code>percent</code></p>"
   ]
  },
  {
   "cell_type": "code",
   "execution_count": null,
   "metadata": {},
   "outputs": [],
   "source": []
  },
  {
   "cell_type": "markdown",
   "metadata": {},
   "source": [
    "<a id='region3-cell'>3. Explain</a>"
   ]
  },
  {
   "cell_type": "markdown",
   "metadata": {},
   "source": [
    "Let's try to relate the identified groups with the biggest cities:\n",
    "\n",
    "* Cluster 1 refers to Hiroshima-ken.\n",
    "* Cluster 5 refers  to Niigata-ken\n",
    "* Cluster 2 refers to Hokkaidō\n",
    "* Cluster 0 refers to Tōkyō-to\n",
    "* Cluster 3 refers to Hyōgo-ken\n",
    "* Cluster 4 referst to Fukuoka-ken\n",
    "* Cluster 7 refers to Shizuoka-ken\n",
    "* Cluster 6 refers to Miyagi-ken"
   ]
  },
  {
   "cell_type": "code",
   "execution_count": 46,
   "metadata": {},
   "outputs": [
    {
     "data": {
      "text/plain": [
       "252108"
      ]
     },
     "execution_count": 46,
     "metadata": {},
     "output_type": "execute_result"
    }
   ],
   "source": [
    "aircluster.air_store_id.sum()"
   ]
  },
  {
   "cell_type": "markdown",
   "metadata": {},
   "source": [
    "## <a id='cousine-genres-cell'>Cousine Genres</a>"
   ]
  },
  {
   "cell_type": "markdown",
   "metadata": {},
   "source": [
    "Now let's check out wht are the genres appreciated in Japan. I have prepared two heatmaps: the former with thenumber of restaurants for each genre (columns) in each region (row) for thos with AIR reservation system; the latter with the HPG.\n",
    "We are very interested in popularity by region and by genre.<br>\n",
    "These are the main factors determining the choice!"
   ]
  },
  {
   "cell_type": "code",
   "execution_count": 47,
   "metadata": {
    "scrolled": true
   },
   "outputs": [
    {
     "name": "stdout",
     "output_type": "stream",
     "text": [
      "<class 'pandas.core.frame.DataFrame'>\n",
      "Int64Index: 252108 entries, 0 to 252107\n",
      "Data columns (total 5 columns):\n",
      "air_store_id            252108 non-null object\n",
      "visit_date              252108 non-null datetime64[ns]\n",
      "visitors                252108 non-null int64\n",
      "reserve_visitors_air    28064 non-null float64\n",
      "air_date_diff           28064 non-null float64\n",
      "dtypes: datetime64[ns](1), float64(2), int64(1), object(1)\n",
      "memory usage: 11.5+ MB\n"
     ]
    }
   ],
   "source": [
    "air.info()"
   ]
  },
  {
   "cell_type": "code",
   "execution_count": 48,
   "metadata": {
    "scrolled": true
   },
   "outputs": [
    {
     "data": {
      "image/png": "[encoded data removed]",
      "text/plain": [
       "<Figure size 1872x576 with 2 Axes>"
      ]
     },
     "metadata": {
      "needs_background": "light"
     },
     "output_type": "display_data"
    }
   ],
   "source": [
    "air_genre = full.loc[full.air_genre_name.isnull()==False].groupby(['cluster','air_genre_name'],as_index=False).count()\n",
    "genres = airstore['air_genre_name'].unique()\n",
    "\n",
    "#i = 0\n",
    "fig=plt.figure(figsize=(26,8))\n",
    "ax2 = fig.add_subplot(122)\n",
    "hm = []\n",
    "for i in range(10):\n",
    "    genres_count = [ air_genre.loc[air_genre.cluster==i].loc[air_genre.air_genre_name==name]['air_store_id'].values[0] if name in air_genre.loc[air_genre.cluster==i].air_genre_name.values else 0 for name in genres] \n",
    "    hm.append(genres_count)\n",
    "hm = pd.DataFrame(hm,columns=genres,)\n",
    "sns.heatmap(hm.transpose(),cmap=\"YlGnBu\",ax=ax2)\n",
    "\n",
    "plt.show()"
   ]
  },
  {
   "cell_type": "markdown",
   "metadata": {},
   "source": [
    "From the resulting heat map we see that the most popular region is number \"3\"- Tōkyō-to and genre \"Italian\\French\". <br>\n",
    "Also we cen see that the in other region the most popula genre is \"Izakaya\". An izakaya (居酒屋) is a type of informal Japanese pub. They are casual places for after-work drinking. They have been compared to Irish pubs, tapas bars and early American saloons and taverns."
   ]
  },
  {
   "cell_type": "markdown",
   "metadata": {
    "_cell_guid": "5fe0a3b0-062c-4014-a800-91cfca021e16",
    "_uuid": "06910c8310d0f44bbd0b1b2bc41890f161d209bb"
   },
   "source": [
    "## <a id='japanese-holidays-cell'>Japanese Holidays and date conversion</a>"
   ]
  },
  {
   "cell_type": "markdown",
   "metadata": {},
   "source": [
    "  At the stage ofdata analysis(EDA), we see that one of the important factors affecting the attendance of restaurants are day of the week, month and holidays."
   ]
  },
  {
   "cell_type": "markdown",
   "metadata": {
    "_cell_guid": "7e2573c1-ccce-449b-8156-5a132d802e80",
    "_uuid": "856cc3b1094fc49abbe5aaababf04e1146fffca0"
   },
   "source": [
    "I want to learn more about that so I will rely on this list https://www.officeholidays.com/countries/japan/index.php\n",
    "\n",
    "* Jan 1st - **New Years day**;\n",
    "* 2nd Monday of January - **Coming of Age day **: The day honors young Japanese who will reach the age of 20 at any point during the year. Twenty is the age of majority in Japan, and people who have reached this age gain the right to vote in elections as well as to drink;\n",
    "* Feb 11th - **National Foundation day**:  a national holiday for Japanese people to remind themselves of the nation's founding and foster their love for the nation;\n",
    "* March 20th or 21st- **Vernal Equinox day**: The day is intended to celebrate the love of nature and living things.In modern Japan, the day still maintains its older traditions as visiting family graves and holding family reunions is a common way of celebrating the equinox;\n",
    "* April 29th - ** Showa day**: Showa Day honours the birthday of Emperor Hirohito, the reigning Emperor before, during, and after World War II (from 1926 - 1989);"
   ]
  },
  {
   "cell_type": "code",
   "execution_count": 49,
   "metadata": {
    "scrolled": false
   },
   "outputs": [
    {
     "data": {
      "text/html": [
       "<div>\n",
       "<style scoped>\n",
       "    .dataframe tbody tr th:only-of-type {\n",
       "        vertical-align: middle;\n",
       "    }\n",
       "\n",
       "    .dataframe tbody tr th {\n",
       "        vertical-align: top;\n",
       "    }\n",
       "\n",
       "    .dataframe thead th {\n",
       "        text-align: right;\n",
       "    }\n",
       "</style>\n",
       "<table border=\"1\" class=\"dataframe\">\n",
       "  <thead>\n",
       "    <tr style=\"text-align: right;\">\n",
       "      <th></th>\n",
       "      <th>calendar_date</th>\n",
       "      <th>day_of_week</th>\n",
       "      <th>holiday_flg</th>\n",
       "      <th>visit_date</th>\n",
       "    </tr>\n",
       "  </thead>\n",
       "  <tbody>\n",
       "    <tr>\n",
       "      <th>0</th>\n",
       "      <td>2016-01-01</td>\n",
       "      <td>Friday</td>\n",
       "      <td>1</td>\n",
       "      <td>2016-01-01</td>\n",
       "    </tr>\n",
       "    <tr>\n",
       "      <th>1</th>\n",
       "      <td>2016-01-02</td>\n",
       "      <td>Saturday</td>\n",
       "      <td>1</td>\n",
       "      <td>2016-01-02</td>\n",
       "    </tr>\n",
       "    <tr>\n",
       "      <th>2</th>\n",
       "      <td>2016-01-03</td>\n",
       "      <td>Sunday</td>\n",
       "      <td>1</td>\n",
       "      <td>2016-01-03</td>\n",
       "    </tr>\n",
       "  </tbody>\n",
       "</table>\n",
       "</div>"
      ],
      "text/plain": [
       "  calendar_date day_of_week  holiday_flg  visit_date\n",
       "0    2016-01-01      Friday            1  2016-01-01\n",
       "1    2016-01-02    Saturday            1  2016-01-02\n",
       "2    2016-01-03      Sunday            1  2016-01-03"
      ]
     },
     "execution_count": 49,
     "metadata": {},
     "output_type": "execute_result"
    }
   ],
   "source": [
    "dates['visit_date']=dates['calendar_date']\n",
    "dates.head(3)"
   ]
  },
  {
   "cell_type": "code",
   "execution_count": 50,
   "metadata": {},
   "outputs": [],
   "source": [
    "dates.drop(['calendar_date'], axis=1, inplace=True)"
   ]
  },
  {
   "cell_type": "code",
   "execution_count": 51,
   "metadata": {
    "scrolled": true
   },
   "outputs": [
    {
     "name": "stdout",
     "output_type": "stream",
     "text": [
      "<class 'pandas.core.frame.DataFrame'>\n",
      "Int64Index: 252108 entries, 0 to 252107\n",
      "Data columns (total 14 columns):\n",
      "air_store_id            252108 non-null object\n",
      "visit_date              252108 non-null datetime64[ns]\n",
      "visitors                252108 non-null int64\n",
      "reserve_visitors_air    28064 non-null float64\n",
      "air_date_diff           28064 non-null float64\n",
      "air_genre_name          252108 non-null object\n",
      "air_area_name           252108 non-null object\n",
      "latitude                252108 non-null float64\n",
      "longitude               252108 non-null float64\n",
      "hpg_store_id            46019 non-null object\n",
      "reserve_visitors_hpg    13550 non-null float64\n",
      "hpg_date_diff           13550 non-null float64\n",
      "cluster                 252108 non-null int32\n",
      "prefecture              252108 non-null object\n",
      "dtypes: datetime64[ns](1), float64(6), int32(1), int64(1), object(5)\n",
      "memory usage: 27.9+ MB\n"
     ]
    }
   ],
   "source": [
    "full.info()"
   ]
  },
  {
   "cell_type": "code",
   "execution_count": 52,
   "metadata": {},
   "outputs": [
    {
     "data": {
      "text/plain": [
       "Index(['air_store_id', 'visit_date', 'visitors', 'reserve_visitors_air',\n",
       "       'air_date_diff', 'air_genre_name', 'air_area_name', 'latitude',\n",
       "       'longitude', 'hpg_store_id', 'reserve_visitors_hpg', 'hpg_date_diff',\n",
       "       'cluster', 'prefecture'],\n",
       "      dtype='object')"
      ]
     },
     "execution_count": 52,
     "metadata": {},
     "output_type": "execute_result"
    }
   ],
   "source": [
    "full.columns"
   ]
  },
  {
   "cell_type": "code",
   "execution_count": 53,
   "metadata": {},
   "outputs": [],
   "source": [
    "full.drop(['hpg_store_id','hpg_date_diff','air_area_name',], axis=1, inplace=True)"
   ]
  },
  {
   "cell_type": "code",
   "execution_count": 54,
   "metadata": {},
   "outputs": [],
   "source": [
    "full['visit_date'] = pd.to_datetime(full['visit_date'])"
   ]
  },
  {
   "cell_type": "code",
   "execution_count": 55,
   "metadata": {},
   "outputs": [
    {
     "data": {
      "text/plain": [
       "Index(['air_store_id', 'visit_date', 'visitors', 'reserve_visitors_air',\n",
       "       'air_date_diff', 'air_genre_name', 'latitude', 'longitude',\n",
       "       'reserve_visitors_hpg', 'cluster', 'prefecture'],\n",
       "      dtype='object')"
      ]
     },
     "execution_count": 55,
     "metadata": {},
     "output_type": "execute_result"
    }
   ],
   "source": [
    "full.columns"
   ]
  },
  {
   "cell_type": "code",
   "execution_count": 56,
   "metadata": {
    "scrolled": true
   },
   "outputs": [
    {
     "data": {
      "text/html": [
       "<div>\n",
       "<style scoped>\n",
       "    .dataframe tbody tr th:only-of-type {\n",
       "        vertical-align: middle;\n",
       "    }\n",
       "\n",
       "    .dataframe tbody tr th {\n",
       "        vertical-align: top;\n",
       "    }\n",
       "\n",
       "    .dataframe thead th {\n",
       "        text-align: right;\n",
       "    }\n",
       "</style>\n",
       "<table border=\"1\" class=\"dataframe\">\n",
       "  <thead>\n",
       "    <tr style=\"text-align: right;\">\n",
       "      <th></th>\n",
       "      <th>air_store_id</th>\n",
       "      <th>visit_date</th>\n",
       "      <th>visitors</th>\n",
       "      <th>reserve_visitors_air</th>\n",
       "      <th>air_date_diff</th>\n",
       "      <th>air_genre_name</th>\n",
       "      <th>latitude</th>\n",
       "      <th>longitude</th>\n",
       "      <th>reserve_visitors_hpg</th>\n",
       "      <th>cluster</th>\n",
       "      <th>prefecture</th>\n",
       "      <th>month</th>\n",
       "      <th>date</th>\n",
       "      <th>dw</th>\n",
       "      <th>dy</th>\n",
       "    </tr>\n",
       "  </thead>\n",
       "  <tbody>\n",
       "    <tr>\n",
       "      <th>0</th>\n",
       "      <td>air_ba937bf13d40fb24</td>\n",
       "      <td>2016-01-13</td>\n",
       "      <td>25</td>\n",
       "      <td>NaN</td>\n",
       "      <td>NaN</td>\n",
       "      <td>Dining bar</td>\n",
       "      <td>35.658068</td>\n",
       "      <td>139.751599</td>\n",
       "      <td>NaN</td>\n",
       "      <td>0</td>\n",
       "      <td>Tōkyō-to</td>\n",
       "      <td>1</td>\n",
       "      <td>13</td>\n",
       "      <td>2</td>\n",
       "      <td>13</td>\n",
       "    </tr>\n",
       "    <tr>\n",
       "      <th>1</th>\n",
       "      <td>air_ba937bf13d40fb24</td>\n",
       "      <td>2016-01-14</td>\n",
       "      <td>32</td>\n",
       "      <td>NaN</td>\n",
       "      <td>NaN</td>\n",
       "      <td>Dining bar</td>\n",
       "      <td>35.658068</td>\n",
       "      <td>139.751599</td>\n",
       "      <td>NaN</td>\n",
       "      <td>0</td>\n",
       "      <td>Tōkyō-to</td>\n",
       "      <td>1</td>\n",
       "      <td>14</td>\n",
       "      <td>3</td>\n",
       "      <td>14</td>\n",
       "    </tr>\n",
       "    <tr>\n",
       "      <th>2</th>\n",
       "      <td>air_ba937bf13d40fb24</td>\n",
       "      <td>2016-01-15</td>\n",
       "      <td>29</td>\n",
       "      <td>NaN</td>\n",
       "      <td>NaN</td>\n",
       "      <td>Dining bar</td>\n",
       "      <td>35.658068</td>\n",
       "      <td>139.751599</td>\n",
       "      <td>NaN</td>\n",
       "      <td>0</td>\n",
       "      <td>Tōkyō-to</td>\n",
       "      <td>1</td>\n",
       "      <td>15</td>\n",
       "      <td>4</td>\n",
       "      <td>15</td>\n",
       "    </tr>\n",
       "    <tr>\n",
       "      <th>3</th>\n",
       "      <td>air_ba937bf13d40fb24</td>\n",
       "      <td>2016-01-16</td>\n",
       "      <td>22</td>\n",
       "      <td>NaN</td>\n",
       "      <td>NaN</td>\n",
       "      <td>Dining bar</td>\n",
       "      <td>35.658068</td>\n",
       "      <td>139.751599</td>\n",
       "      <td>NaN</td>\n",
       "      <td>0</td>\n",
       "      <td>Tōkyō-to</td>\n",
       "      <td>1</td>\n",
       "      <td>16</td>\n",
       "      <td>5</td>\n",
       "      <td>16</td>\n",
       "    </tr>\n",
       "    <tr>\n",
       "      <th>4</th>\n",
       "      <td>air_ba937bf13d40fb24</td>\n",
       "      <td>2016-01-18</td>\n",
       "      <td>6</td>\n",
       "      <td>NaN</td>\n",
       "      <td>NaN</td>\n",
       "      <td>Dining bar</td>\n",
       "      <td>35.658068</td>\n",
       "      <td>139.751599</td>\n",
       "      <td>NaN</td>\n",
       "      <td>0</td>\n",
       "      <td>Tōkyō-to</td>\n",
       "      <td>1</td>\n",
       "      <td>18</td>\n",
       "      <td>0</td>\n",
       "      <td>18</td>\n",
       "    </tr>\n",
       "  </tbody>\n",
       "</table>\n",
       "</div>"
      ],
      "text/plain": [
       "           air_store_id visit_date  visitors  reserve_visitors_air  \\\n",
       "0  air_ba937bf13d40fb24 2016-01-13        25                   NaN   \n",
       "1  air_ba937bf13d40fb24 2016-01-14        32                   NaN   \n",
       "2  air_ba937bf13d40fb24 2016-01-15        29                   NaN   \n",
       "3  air_ba937bf13d40fb24 2016-01-16        22                   NaN   \n",
       "4  air_ba937bf13d40fb24 2016-01-18         6                   NaN   \n",
       "\n",
       "   air_date_diff air_genre_name   latitude   longitude  reserve_visitors_hpg  \\\n",
       "0            NaN     Dining bar  35.658068  139.751599                   NaN   \n",
       "1            NaN     Dining bar  35.658068  139.751599                   NaN   \n",
       "2            NaN     Dining bar  35.658068  139.751599                   NaN   \n",
       "3            NaN     Dining bar  35.658068  139.751599                   NaN   \n",
       "4            NaN     Dining bar  35.658068  139.751599                   NaN   \n",
       "\n",
       "   cluster prefecture  month  date  dw  dy  \n",
       "0        0   Tōkyō-to      1    13   2  13  \n",
       "1        0   Tōkyō-to      1    14   3  14  \n",
       "2        0   Tōkyō-to      1    15   4  15  \n",
       "3        0   Tōkyō-to      1    16   5  16  \n",
       "4        0   Tōkyō-to      1    18   0  18  "
      ]
     },
     "execution_count": 56,
     "metadata": {},
     "output_type": "execute_result"
    }
   ],
   "source": [
    "full['month'] = full['visit_date'].dt.month \n",
    "full['date'] = full['visit_date'].dt.day\n",
    "full['dw'] = full['visit_date'].dt.dayofweek\n",
    "full['dy'] = full['visit_date'].dt.dayofyear\n",
    "full.head()"
   ]
  },
  {
   "cell_type": "code",
   "execution_count": 57,
   "metadata": {},
   "outputs": [
    {
     "data": {
      "text/plain": [
       "Index(['air_store_id', 'visit_date', 'visitors', 'reserve_visitors_air',\n",
       "       'air_date_diff', 'air_genre_name', 'latitude', 'longitude',\n",
       "       'reserve_visitors_hpg', 'cluster', 'prefecture', 'month', 'date', 'dw',\n",
       "       'dy'],\n",
       "      dtype='object')"
      ]
     },
     "execution_count": 57,
     "metadata": {},
     "output_type": "execute_result"
    }
   ],
   "source": [
    "full.columns"
   ]
  },
  {
   "cell_type": "code",
   "execution_count": 58,
   "metadata": {},
   "outputs": [],
   "source": [
    "dates['visit_date'] = pd.to_datetime(dates['visit_date'])\n",
    "full['visit_date'] = pd.to_datetime(full['visit_date'])"
   ]
  },
  {
   "cell_type": "code",
   "execution_count": 59,
   "metadata": {},
   "outputs": [
    {
     "data": {
      "text/plain": [
       "Index(['air_store_id', 'visit_date', 'visitors', 'reserve_visitors_air',\n",
       "       'air_date_diff', 'air_genre_name', 'latitude', 'longitude',\n",
       "       'reserve_visitors_hpg', 'cluster', 'prefecture', 'month', 'date', 'dw',\n",
       "       'dy'],\n",
       "      dtype='object')"
      ]
     },
     "execution_count": 59,
     "metadata": {},
     "output_type": "execute_result"
    }
   ],
   "source": [
    "full.columns"
   ]
  },
  {
   "cell_type": "code",
   "execution_count": 60,
   "metadata": {
    "scrolled": true
   },
   "outputs": [
    {
     "data": {
      "text/html": [
       "<div>\n",
       "<style scoped>\n",
       "    .dataframe tbody tr th:only-of-type {\n",
       "        vertical-align: middle;\n",
       "    }\n",
       "\n",
       "    .dataframe tbody tr th {\n",
       "        vertical-align: top;\n",
       "    }\n",
       "\n",
       "    .dataframe thead th {\n",
       "        text-align: right;\n",
       "    }\n",
       "</style>\n",
       "<table border=\"1\" class=\"dataframe\">\n",
       "  <thead>\n",
       "    <tr style=\"text-align: right;\">\n",
       "      <th></th>\n",
       "      <th>air_store_id</th>\n",
       "      <th>visit_date</th>\n",
       "      <th>visitors</th>\n",
       "      <th>reserve_visitors_air</th>\n",
       "      <th>air_date_diff</th>\n",
       "      <th>air_genre_name</th>\n",
       "      <th>latitude</th>\n",
       "      <th>longitude</th>\n",
       "      <th>reserve_visitors_hpg</th>\n",
       "      <th>cluster</th>\n",
       "      <th>prefecture</th>\n",
       "      <th>month</th>\n",
       "      <th>date</th>\n",
       "      <th>dw</th>\n",
       "      <th>dy</th>\n",
       "      <th>day_of_week</th>\n",
       "      <th>holiday_flg</th>\n",
       "    </tr>\n",
       "  </thead>\n",
       "  <tbody>\n",
       "    <tr>\n",
       "      <th>0</th>\n",
       "      <td>air_ba937bf13d40fb24</td>\n",
       "      <td>2016-01-13</td>\n",
       "      <td>25</td>\n",
       "      <td>NaN</td>\n",
       "      <td>NaN</td>\n",
       "      <td>Dining bar</td>\n",
       "      <td>35.658068</td>\n",
       "      <td>139.751599</td>\n",
       "      <td>NaN</td>\n",
       "      <td>0</td>\n",
       "      <td>Tōkyō-to</td>\n",
       "      <td>1</td>\n",
       "      <td>13</td>\n",
       "      <td>2</td>\n",
       "      <td>13</td>\n",
       "      <td>Wednesday</td>\n",
       "      <td>0</td>\n",
       "    </tr>\n",
       "    <tr>\n",
       "      <th>1</th>\n",
       "      <td>air_ba937bf13d40fb24</td>\n",
       "      <td>2016-01-14</td>\n",
       "      <td>32</td>\n",
       "      <td>NaN</td>\n",
       "      <td>NaN</td>\n",
       "      <td>Dining bar</td>\n",
       "      <td>35.658068</td>\n",
       "      <td>139.751599</td>\n",
       "      <td>NaN</td>\n",
       "      <td>0</td>\n",
       "      <td>Tōkyō-to</td>\n",
       "      <td>1</td>\n",
       "      <td>14</td>\n",
       "      <td>3</td>\n",
       "      <td>14</td>\n",
       "      <td>Thursday</td>\n",
       "      <td>0</td>\n",
       "    </tr>\n",
       "    <tr>\n",
       "      <th>2</th>\n",
       "      <td>air_ba937bf13d40fb24</td>\n",
       "      <td>2016-01-15</td>\n",
       "      <td>29</td>\n",
       "      <td>NaN</td>\n",
       "      <td>NaN</td>\n",
       "      <td>Dining bar</td>\n",
       "      <td>35.658068</td>\n",
       "      <td>139.751599</td>\n",
       "      <td>NaN</td>\n",
       "      <td>0</td>\n",
       "      <td>Tōkyō-to</td>\n",
       "      <td>1</td>\n",
       "      <td>15</td>\n",
       "      <td>4</td>\n",
       "      <td>15</td>\n",
       "      <td>Friday</td>\n",
       "      <td>0</td>\n",
       "    </tr>\n",
       "    <tr>\n",
       "      <th>3</th>\n",
       "      <td>air_ba937bf13d40fb24</td>\n",
       "      <td>2016-01-16</td>\n",
       "      <td>22</td>\n",
       "      <td>NaN</td>\n",
       "      <td>NaN</td>\n",
       "      <td>Dining bar</td>\n",
       "      <td>35.658068</td>\n",
       "      <td>139.751599</td>\n",
       "      <td>NaN</td>\n",
       "      <td>0</td>\n",
       "      <td>Tōkyō-to</td>\n",
       "      <td>1</td>\n",
       "      <td>16</td>\n",
       "      <td>5</td>\n",
       "      <td>16</td>\n",
       "      <td>Saturday</td>\n",
       "      <td>0</td>\n",
       "    </tr>\n",
       "    <tr>\n",
       "      <th>4</th>\n",
       "      <td>air_ba937bf13d40fb24</td>\n",
       "      <td>2016-01-18</td>\n",
       "      <td>6</td>\n",
       "      <td>NaN</td>\n",
       "      <td>NaN</td>\n",
       "      <td>Dining bar</td>\n",
       "      <td>35.658068</td>\n",
       "      <td>139.751599</td>\n",
       "      <td>NaN</td>\n",
       "      <td>0</td>\n",
       "      <td>Tōkyō-to</td>\n",
       "      <td>1</td>\n",
       "      <td>18</td>\n",
       "      <td>0</td>\n",
       "      <td>18</td>\n",
       "      <td>Monday</td>\n",
       "      <td>0</td>\n",
       "    </tr>\n",
       "  </tbody>\n",
       "</table>\n",
       "</div>"
      ],
      "text/plain": [
       "           air_store_id visit_date  visitors  reserve_visitors_air  \\\n",
       "0  air_ba937bf13d40fb24 2016-01-13        25                   NaN   \n",
       "1  air_ba937bf13d40fb24 2016-01-14        32                   NaN   \n",
       "2  air_ba937bf13d40fb24 2016-01-15        29                   NaN   \n",
       "3  air_ba937bf13d40fb24 2016-01-16        22                   NaN   \n",
       "4  air_ba937bf13d40fb24 2016-01-18         6                   NaN   \n",
       "\n",
       "   air_date_diff air_genre_name   latitude   longitude  reserve_visitors_hpg  \\\n",
       "0            NaN     Dining bar  35.658068  139.751599                   NaN   \n",
       "1            NaN     Dining bar  35.658068  139.751599                   NaN   \n",
       "2            NaN     Dining bar  35.658068  139.751599                   NaN   \n",
       "3            NaN     Dining bar  35.658068  139.751599                   NaN   \n",
       "4            NaN     Dining bar  35.658068  139.751599                   NaN   \n",
       "\n",
       "   cluster prefecture  month  date  dw  dy day_of_week  holiday_flg  \n",
       "0        0   Tōkyō-to      1    13   2  13   Wednesday            0  \n",
       "1        0   Tōkyō-to      1    14   3  14    Thursday            0  \n",
       "2        0   Tōkyō-to      1    15   4  15      Friday            0  \n",
       "3        0   Tōkyō-to      1    16   5  16    Saturday            0  \n",
       "4        0   Tōkyō-to      1    18   0  18      Monday            0  "
      ]
     },
     "execution_count": 60,
     "metadata": {},
     "output_type": "execute_result"
    }
   ],
   "source": [
    "nf = pd.merge(full, dates, how='left', on=['visit_date']) \n",
    "nf.head()"
   ]
  },
  {
   "cell_type": "code",
   "execution_count": 61,
   "metadata": {},
   "outputs": [
    {
     "name": "stdout",
     "output_type": "stream",
     "text": [
      "<class 'pandas.core.frame.DataFrame'>\n",
      "Int64Index: 252108 entries, 0 to 252107\n",
      "Data columns (total 17 columns):\n",
      "air_store_id            252108 non-null object\n",
      "visit_date              252108 non-null datetime64[ns]\n",
      "visitors                252108 non-null int64\n",
      "reserve_visitors_air    28064 non-null float64\n",
      "air_date_diff           28064 non-null float64\n",
      "air_genre_name          252108 non-null object\n",
      "latitude                252108 non-null float64\n",
      "longitude               252108 non-null float64\n",
      "reserve_visitors_hpg    13550 non-null float64\n",
      "cluster                 252108 non-null int32\n",
      "prefecture              252108 non-null object\n",
      "month                   252108 non-null int64\n",
      "date                    252108 non-null int64\n",
      "dw                      252108 non-null int64\n",
      "dy                      252108 non-null int64\n",
      "day_of_week             252108 non-null object\n",
      "holiday_flg             252108 non-null int64\n",
      "dtypes: datetime64[ns](1), float64(5), int32(1), int64(6), object(4)\n",
      "memory usage: 33.7+ MB\n"
     ]
    }
   ],
   "source": [
    "nf.info()"
   ]
  },
  {
   "cell_type": "code",
   "execution_count": 62,
   "metadata": {},
   "outputs": [
    {
     "data": {
      "text/plain": [
       "Index(['air_store_id', 'visit_date', 'visitors', 'reserve_visitors_air',\n",
       "       'air_date_diff', 'air_genre_name', 'latitude', 'longitude',\n",
       "       'reserve_visitors_hpg', 'cluster', 'prefecture', 'month', 'date', 'dw',\n",
       "       'dy', 'day_of_week', 'holiday_flg'],\n",
       "      dtype='object')"
      ]
     },
     "execution_count": 62,
     "metadata": {},
     "output_type": "execute_result"
    }
   ],
   "source": [
    "#nf.to_csv(r'C:\\Users\\sergey\\Documents\\Recruit Restaurant Visitor_2\\nf.csv')\n",
    "nf.columns"
   ]
  },
  {
   "cell_type": "code",
   "execution_count": 63,
   "metadata": {
    "scrolled": true
   },
   "outputs": [
    {
     "data": {
      "text/html": [
       "<div>\n",
       "<style scoped>\n",
       "    .dataframe tbody tr th:only-of-type {\n",
       "        vertical-align: middle;\n",
       "    }\n",
       "\n",
       "    .dataframe tbody tr th {\n",
       "        vertical-align: top;\n",
       "    }\n",
       "\n",
       "    .dataframe thead th {\n",
       "        text-align: right;\n",
       "    }\n",
       "</style>\n",
       "<table border=\"1\" class=\"dataframe\">\n",
       "  <thead>\n",
       "    <tr style=\"text-align: right;\">\n",
       "      <th></th>\n",
       "      <th>air_store_id</th>\n",
       "      <th>visit_date</th>\n",
       "      <th>visitors</th>\n",
       "      <th>reserve_visitors_air</th>\n",
       "      <th>air_date_diff</th>\n",
       "      <th>air_genre_name</th>\n",
       "      <th>latitude</th>\n",
       "      <th>longitude</th>\n",
       "      <th>reserve_visitors_hpg</th>\n",
       "      <th>cluster</th>\n",
       "      <th>prefecture</th>\n",
       "      <th>month</th>\n",
       "      <th>date</th>\n",
       "      <th>dw</th>\n",
       "      <th>dy</th>\n",
       "      <th>day_of_week</th>\n",
       "      <th>holiday_flg</th>\n",
       "      <th>sunday</th>\n",
       "      <th>saturday</th>\n",
       "      <th>sat/sun/hol</th>\n",
       "    </tr>\n",
       "  </thead>\n",
       "  <tbody>\n",
       "    <tr>\n",
       "      <th>0</th>\n",
       "      <td>air_ba937bf13d40fb24</td>\n",
       "      <td>2016-01-13</td>\n",
       "      <td>25</td>\n",
       "      <td>NaN</td>\n",
       "      <td>NaN</td>\n",
       "      <td>Dining bar</td>\n",
       "      <td>35.658068</td>\n",
       "      <td>139.751599</td>\n",
       "      <td>NaN</td>\n",
       "      <td>0</td>\n",
       "      <td>Tōkyō-to</td>\n",
       "      <td>1</td>\n",
       "      <td>13</td>\n",
       "      <td>2</td>\n",
       "      <td>13</td>\n",
       "      <td>Wednesday</td>\n",
       "      <td>0</td>\n",
       "      <td>0</td>\n",
       "      <td>0</td>\n",
       "      <td>0.0</td>\n",
       "    </tr>\n",
       "    <tr>\n",
       "      <th>1</th>\n",
       "      <td>air_ba937bf13d40fb24</td>\n",
       "      <td>2016-01-14</td>\n",
       "      <td>32</td>\n",
       "      <td>NaN</td>\n",
       "      <td>NaN</td>\n",
       "      <td>Dining bar</td>\n",
       "      <td>35.658068</td>\n",
       "      <td>139.751599</td>\n",
       "      <td>NaN</td>\n",
       "      <td>0</td>\n",
       "      <td>Tōkyō-to</td>\n",
       "      <td>1</td>\n",
       "      <td>14</td>\n",
       "      <td>3</td>\n",
       "      <td>14</td>\n",
       "      <td>Thursday</td>\n",
       "      <td>0</td>\n",
       "      <td>0</td>\n",
       "      <td>0</td>\n",
       "      <td>0.0</td>\n",
       "    </tr>\n",
       "    <tr>\n",
       "      <th>2</th>\n",
       "      <td>air_ba937bf13d40fb24</td>\n",
       "      <td>2016-01-15</td>\n",
       "      <td>29</td>\n",
       "      <td>NaN</td>\n",
       "      <td>NaN</td>\n",
       "      <td>Dining bar</td>\n",
       "      <td>35.658068</td>\n",
       "      <td>139.751599</td>\n",
       "      <td>NaN</td>\n",
       "      <td>0</td>\n",
       "      <td>Tōkyō-to</td>\n",
       "      <td>1</td>\n",
       "      <td>15</td>\n",
       "      <td>4</td>\n",
       "      <td>15</td>\n",
       "      <td>Friday</td>\n",
       "      <td>0</td>\n",
       "      <td>0</td>\n",
       "      <td>0</td>\n",
       "      <td>0.0</td>\n",
       "    </tr>\n",
       "    <tr>\n",
       "      <th>3</th>\n",
       "      <td>air_ba937bf13d40fb24</td>\n",
       "      <td>2016-01-16</td>\n",
       "      <td>22</td>\n",
       "      <td>NaN</td>\n",
       "      <td>NaN</td>\n",
       "      <td>Dining bar</td>\n",
       "      <td>35.658068</td>\n",
       "      <td>139.751599</td>\n",
       "      <td>NaN</td>\n",
       "      <td>0</td>\n",
       "      <td>Tōkyō-to</td>\n",
       "      <td>1</td>\n",
       "      <td>16</td>\n",
       "      <td>5</td>\n",
       "      <td>16</td>\n",
       "      <td>Saturday</td>\n",
       "      <td>0</td>\n",
       "      <td>0</td>\n",
       "      <td>1</td>\n",
       "      <td>0.3</td>\n",
       "    </tr>\n",
       "    <tr>\n",
       "      <th>4</th>\n",
       "      <td>air_ba937bf13d40fb24</td>\n",
       "      <td>2016-01-18</td>\n",
       "      <td>6</td>\n",
       "      <td>NaN</td>\n",
       "      <td>NaN</td>\n",
       "      <td>Dining bar</td>\n",
       "      <td>35.658068</td>\n",
       "      <td>139.751599</td>\n",
       "      <td>NaN</td>\n",
       "      <td>0</td>\n",
       "      <td>Tōkyō-to</td>\n",
       "      <td>1</td>\n",
       "      <td>18</td>\n",
       "      <td>0</td>\n",
       "      <td>18</td>\n",
       "      <td>Monday</td>\n",
       "      <td>0</td>\n",
       "      <td>0</td>\n",
       "      <td>0</td>\n",
       "      <td>0.0</td>\n",
       "    </tr>\n",
       "  </tbody>\n",
       "</table>\n",
       "</div>"
      ],
      "text/plain": [
       "           air_store_id visit_date  visitors  reserve_visitors_air  \\\n",
       "0  air_ba937bf13d40fb24 2016-01-13        25                   NaN   \n",
       "1  air_ba937bf13d40fb24 2016-01-14        32                   NaN   \n",
       "2  air_ba937bf13d40fb24 2016-01-15        29                   NaN   \n",
       "3  air_ba937bf13d40fb24 2016-01-16        22                   NaN   \n",
       "4  air_ba937bf13d40fb24 2016-01-18         6                   NaN   \n",
       "\n",
       "   air_date_diff air_genre_name   latitude   longitude  reserve_visitors_hpg  \\\n",
       "0            NaN     Dining bar  35.658068  139.751599                   NaN   \n",
       "1            NaN     Dining bar  35.658068  139.751599                   NaN   \n",
       "2            NaN     Dining bar  35.658068  139.751599                   NaN   \n",
       "3            NaN     Dining bar  35.658068  139.751599                   NaN   \n",
       "4            NaN     Dining bar  35.658068  139.751599                   NaN   \n",
       "\n",
       "   cluster prefecture  month  date  dw  dy day_of_week  holiday_flg  sunday  \\\n",
       "0        0   Tōkyō-to      1    13   2  13   Wednesday            0       0   \n",
       "1        0   Tōkyō-to      1    14   3  14    Thursday            0       0   \n",
       "2        0   Tōkyō-to      1    15   4  15      Friday            0       0   \n",
       "3        0   Tōkyō-to      1    16   5  16    Saturday            0       0   \n",
       "4        0   Tōkyō-to      1    18   0  18      Monday            0       0   \n",
       "\n",
       "   saturday  sat/sun/hol  \n",
       "0         0          0.0  \n",
       "1         0          0.0  \n",
       "2         0          0.0  \n",
       "3         1          0.3  \n",
       "4         0          0.0  "
      ]
     },
     "execution_count": 63,
     "metadata": {},
     "output_type": "execute_result"
    }
   ],
   "source": [
    "#we assign indexes for holiday, sunday, saturday.\n",
    "nf['sunday'] = nf['visit_date'].dt.dayofweek.apply(lambda x:1 if x==6 else 0)\n",
    "nf['saturday'] = nf['visit_date'].dt.dayofweek.apply(lambda x:1 if x==5 else 0)\n",
    "nf['sat/sun/hol']=nf['holiday_flg']*1+nf['sunday']*0.5+nf['saturday']*0.3\n",
    "\n",
    "nf2016 = nf[nf['visit_date'].dt.year==2016]\n",
    "nf2017 = nf[nf['visit_date'].dt.year==2017]\n",
    "nf.head()"
   ]
  },
  {
   "cell_type": "markdown",
   "metadata": {
    "_cell_guid": "2fe5a416-6c29-49b6-a377-31800782dc1c",
    "_uuid": "52922863d36c8bd732a4eda6a3cdbc941186a684"
   },
   "source": [
    "We can check how many days before the visit japenese people make the reservation."
   ]
  },
  {
   "cell_type": "code",
   "execution_count": 64,
   "metadata": {
    "_cell_guid": "c1574275-79c5-413e-b336-d15423a66de3",
    "_uuid": "eb2c69ae09b2e22684efa0dd14c418aa2e49f4a7"
   },
   "outputs": [
    {
     "data": {
      "text/plain": [
       "count    28064.000000\n",
       "mean         5.043561\n",
       "std          8.534882\n",
       "min          0.000000\n",
       "25%          0.500000\n",
       "50%          2.000000\n",
       "75%          6.000000\n",
       "max        349.500000\n",
       "Name: air_date_diff, dtype: float64"
      ]
     },
     "execution_count": 64,
     "metadata": {},
     "output_type": "execute_result"
    }
   ],
   "source": [
    "nf.air_date_diff.describe()"
   ]
  },
  {
   "cell_type": "markdown",
   "metadata": {
    "_cell_guid": "09a75284-edbc-48c1-bd13-2f52419c8f63",
    "_uuid": "3e8f1c66143f1345f85658d4174db85107c36b67",
    "collapsed": true
   },
   "source": [
    "## <a id='weather-cell'>5. Weather Data</a>"
   ]
  },
  {
   "cell_type": "code",
   "execution_count": 65,
   "metadata": {
    "_cell_guid": "c27cba35-f631-4ae4-9822-a91aa900076f",
    "_uuid": "36f4cb9f70cc7e70b99c4ad3e3bb75e04de31403"
   },
   "outputs": [
    {
     "data": {
      "text/html": [
       "<div>\n",
       "<style scoped>\n",
       "    .dataframe tbody tr th:only-of-type {\n",
       "        vertical-align: middle;\n",
       "    }\n",
       "\n",
       "    .dataframe tbody tr th {\n",
       "        vertical-align: top;\n",
       "    }\n",
       "\n",
       "    .dataframe thead th {\n",
       "        text-align: right;\n",
       "    }\n",
       "</style>\n",
       "<table border=\"1\" class=\"dataframe\">\n",
       "  <thead>\n",
       "    <tr style=\"text-align: right;\">\n",
       "      <th></th>\n",
       "      <th>area_name</th>\n",
       "      <th>calendar_date</th>\n",
       "      <th>precipitation</th>\n",
       "      <th>avg_temperature</th>\n",
       "      <th>total_snowfall</th>\n",
       "      <th>deepest_snowfall</th>\n",
       "      <th>hours_sunlight</th>\n",
       "      <th>avg_wind_speed</th>\n",
       "      <th>avg_vapor_pressure</th>\n",
       "      <th>avg_humidity</th>\n",
       "      <th>avg_sea_pressure</th>\n",
       "      <th>avg_local_pressure</th>\n",
       "      <th>solar_radiation</th>\n",
       "      <th>cloud_cover</th>\n",
       "      <th>high_temperature</th>\n",
       "      <th>low_temperature</th>\n",
       "    </tr>\n",
       "  </thead>\n",
       "  <tbody>\n",
       "    <tr>\n",
       "      <th>0</th>\n",
       "      <td>fukuoka_dazaifu-kana_dasaif</td>\n",
       "      <td>1/1/16</td>\n",
       "      <td>0.0</td>\n",
       "      <td>5.7</td>\n",
       "      <td>NaN</td>\n",
       "      <td>NaN</td>\n",
       "      <td>5.1</td>\n",
       "      <td>1.9</td>\n",
       "      <td>NaN</td>\n",
       "      <td>NaN</td>\n",
       "      <td>NaN</td>\n",
       "      <td>NaN</td>\n",
       "      <td>NaN</td>\n",
       "      <td>NaN</td>\n",
       "      <td>11.0</td>\n",
       "      <td>2.1</td>\n",
       "    </tr>\n",
       "    <tr>\n",
       "      <th>1</th>\n",
       "      <td>fukuoka_dazaifu-kana_dasaif</td>\n",
       "      <td>1/2/16</td>\n",
       "      <td>0.5</td>\n",
       "      <td>10.2</td>\n",
       "      <td>NaN</td>\n",
       "      <td>NaN</td>\n",
       "      <td>1.3</td>\n",
       "      <td>2.2</td>\n",
       "      <td>NaN</td>\n",
       "      <td>NaN</td>\n",
       "      <td>NaN</td>\n",
       "      <td>NaN</td>\n",
       "      <td>NaN</td>\n",
       "      <td>NaN</td>\n",
       "      <td>15.3</td>\n",
       "      <td>6.1</td>\n",
       "    </tr>\n",
       "    <tr>\n",
       "      <th>2</th>\n",
       "      <td>fukuoka_dazaifu-kana_dasaif</td>\n",
       "      <td>1/3/16</td>\n",
       "      <td>0.0</td>\n",
       "      <td>11.2</td>\n",
       "      <td>NaN</td>\n",
       "      <td>NaN</td>\n",
       "      <td>0.5</td>\n",
       "      <td>0.9</td>\n",
       "      <td>NaN</td>\n",
       "      <td>NaN</td>\n",
       "      <td>NaN</td>\n",
       "      <td>NaN</td>\n",
       "      <td>NaN</td>\n",
       "      <td>NaN</td>\n",
       "      <td>15.5</td>\n",
       "      <td>7.1</td>\n",
       "    </tr>\n",
       "    <tr>\n",
       "      <th>3</th>\n",
       "      <td>fukuoka_dazaifu-kana_dasaif</td>\n",
       "      <td>1/4/16</td>\n",
       "      <td>0.0</td>\n",
       "      <td>9.4</td>\n",
       "      <td>NaN</td>\n",
       "      <td>NaN</td>\n",
       "      <td>4.2</td>\n",
       "      <td>1.8</td>\n",
       "      <td>NaN</td>\n",
       "      <td>NaN</td>\n",
       "      <td>NaN</td>\n",
       "      <td>NaN</td>\n",
       "      <td>NaN</td>\n",
       "      <td>NaN</td>\n",
       "      <td>16.1</td>\n",
       "      <td>5.9</td>\n",
       "    </tr>\n",
       "    <tr>\n",
       "      <th>4</th>\n",
       "      <td>fukuoka_dazaifu-kana_dasaif</td>\n",
       "      <td>1/5/16</td>\n",
       "      <td>1.5</td>\n",
       "      <td>8.8</td>\n",
       "      <td>NaN</td>\n",
       "      <td>NaN</td>\n",
       "      <td>0.0</td>\n",
       "      <td>0.8</td>\n",
       "      <td>NaN</td>\n",
       "      <td>NaN</td>\n",
       "      <td>NaN</td>\n",
       "      <td>NaN</td>\n",
       "      <td>NaN</td>\n",
       "      <td>NaN</td>\n",
       "      <td>12.3</td>\n",
       "      <td>7.1</td>\n",
       "    </tr>\n",
       "  </tbody>\n",
       "</table>\n",
       "</div>"
      ],
      "text/plain": [
       "                     area_name calendar_date  precipitation  avg_temperature  \\\n",
       "0  fukuoka_dazaifu-kana_dasaif        1/1/16            0.0              5.7   \n",
       "1  fukuoka_dazaifu-kana_dasaif        1/2/16            0.5             10.2   \n",
       "2  fukuoka_dazaifu-kana_dasaif        1/3/16            0.0             11.2   \n",
       "3  fukuoka_dazaifu-kana_dasaif        1/4/16            0.0              9.4   \n",
       "4  fukuoka_dazaifu-kana_dasaif        1/5/16            1.5              8.8   \n",
       "\n",
       "   total_snowfall  deepest_snowfall  hours_sunlight  avg_wind_speed  \\\n",
       "0             NaN               NaN             5.1             1.9   \n",
       "1             NaN               NaN             1.3             2.2   \n",
       "2             NaN               NaN             0.5             0.9   \n",
       "3             NaN               NaN             4.2             1.8   \n",
       "4             NaN               NaN             0.0             0.8   \n",
       "\n",
       "   avg_vapor_pressure  avg_humidity  avg_sea_pressure  avg_local_pressure  \\\n",
       "0                 NaN           NaN               NaN                 NaN   \n",
       "1                 NaN           NaN               NaN                 NaN   \n",
       "2                 NaN           NaN               NaN                 NaN   \n",
       "3                 NaN           NaN               NaN                 NaN   \n",
       "4                 NaN           NaN               NaN                 NaN   \n",
       "\n",
       "   solar_radiation  cloud_cover  high_temperature  low_temperature  \n",
       "0              NaN          NaN              11.0              2.1  \n",
       "1              NaN          NaN              15.3              6.1  \n",
       "2              NaN          NaN              15.5              7.1  \n",
       "3              NaN          NaN              16.1              5.9  \n",
       "4              NaN          NaN              12.3              7.1  "
      ]
     },
     "execution_count": 65,
     "metadata": {},
     "output_type": "execute_result"
    }
   ],
   "source": [
    "wd.head()"
   ]
  },
  {
   "cell_type": "code",
   "execution_count": 66,
   "metadata": {},
   "outputs": [
    {
     "data": {
      "text/html": [
       "<div>\n",
       "<style scoped>\n",
       "    .dataframe tbody tr th:only-of-type {\n",
       "        vertical-align: middle;\n",
       "    }\n",
       "\n",
       "    .dataframe tbody tr th {\n",
       "        vertical-align: top;\n",
       "    }\n",
       "\n",
       "    .dataframe thead th {\n",
       "        text-align: right;\n",
       "    }\n",
       "</style>\n",
       "<table border=\"1\" class=\"dataframe\">\n",
       "  <thead>\n",
       "    <tr style=\"text-align: right;\">\n",
       "      <th></th>\n",
       "      <th>area_name</th>\n",
       "      <th>calendar_date</th>\n",
       "      <th>precipitation</th>\n",
       "      <th>avg_temperature</th>\n",
       "      <th>total_snowfall</th>\n",
       "      <th>deepest_snowfall</th>\n",
       "      <th>hours_sunlight</th>\n",
       "      <th>avg_wind_speed</th>\n",
       "      <th>avg_vapor_pressure</th>\n",
       "      <th>avg_humidity</th>\n",
       "      <th>avg_sea_pressure</th>\n",
       "      <th>avg_local_pressure</th>\n",
       "      <th>solar_radiation</th>\n",
       "      <th>cloud_cover</th>\n",
       "      <th>high_temperature</th>\n",
       "      <th>low_temperature</th>\n",
       "      <th>prefecture</th>\n",
       "    </tr>\n",
       "  </thead>\n",
       "  <tbody>\n",
       "    <tr>\n",
       "      <th>0</th>\n",
       "      <td>fukuoka_dazaifu-kana_dasaif</td>\n",
       "      <td>1/1/16</td>\n",
       "      <td>0.0</td>\n",
       "      <td>5.7</td>\n",
       "      <td>NaN</td>\n",
       "      <td>NaN</td>\n",
       "      <td>5.1</td>\n",
       "      <td>1.9</td>\n",
       "      <td>NaN</td>\n",
       "      <td>NaN</td>\n",
       "      <td>NaN</td>\n",
       "      <td>NaN</td>\n",
       "      <td>NaN</td>\n",
       "      <td>NaN</td>\n",
       "      <td>11.0</td>\n",
       "      <td>2.1</td>\n",
       "      <td>fukuoka</td>\n",
       "    </tr>\n",
       "  </tbody>\n",
       "</table>\n",
       "</div>"
      ],
      "text/plain": [
       "                     area_name calendar_date  precipitation  avg_temperature  \\\n",
       "0  fukuoka_dazaifu-kana_dasaif        1/1/16            0.0              5.7   \n",
       "\n",
       "   total_snowfall  deepest_snowfall  hours_sunlight  avg_wind_speed  \\\n",
       "0             NaN               NaN             5.1             1.9   \n",
       "\n",
       "   avg_vapor_pressure  avg_humidity  avg_sea_pressure  avg_local_pressure  \\\n",
       "0                 NaN           NaN               NaN                 NaN   \n",
       "\n",
       "   solar_radiation  cloud_cover  high_temperature  low_temperature prefecture  \n",
       "0              NaN          NaN              11.0              2.1    fukuoka  "
      ]
     },
     "execution_count": 66,
     "metadata": {},
     "output_type": "execute_result"
    }
   ],
   "source": [
    "#separate the first part of the name of the region\n",
    "wd['prefecture'] = wd['area_name'].map(lambda x: str(x).split('_')[0])\n",
    "wd.head(1)"
   ]
  },
  {
   "cell_type": "code",
   "execution_count": 67,
   "metadata": {},
   "outputs": [
    {
     "data": {
      "text/html": [
       "<div>\n",
       "<style scoped>\n",
       "    .dataframe tbody tr th:only-of-type {\n",
       "        vertical-align: middle;\n",
       "    }\n",
       "\n",
       "    .dataframe tbody tr th {\n",
       "        vertical-align: top;\n",
       "    }\n",
       "\n",
       "    .dataframe thead th {\n",
       "        text-align: right;\n",
       "    }\n",
       "</style>\n",
       "<table border=\"1\" class=\"dataframe\">\n",
       "  <thead>\n",
       "    <tr style=\"text-align: right;\">\n",
       "      <th></th>\n",
       "      <th>prefecture</th>\n",
       "      <th>avg_temperature</th>\n",
       "    </tr>\n",
       "  </thead>\n",
       "  <tbody>\n",
       "    <tr>\n",
       "      <th>0</th>\n",
       "      <td>fukuoka</td>\n",
       "      <td>15.728844</td>\n",
       "    </tr>\n",
       "    <tr>\n",
       "      <th>1</th>\n",
       "      <td>hiroshima</td>\n",
       "      <td>14.317344</td>\n",
       "    </tr>\n",
       "    <tr>\n",
       "      <th>2</th>\n",
       "      <td>hokkaido</td>\n",
       "      <td>5.872029</td>\n",
       "    </tr>\n",
       "    <tr>\n",
       "      <th>3</th>\n",
       "      <td>hyogo</td>\n",
       "      <td>14.592747</td>\n",
       "    </tr>\n",
       "    <tr>\n",
       "      <th>4</th>\n",
       "      <td>kanagawa</td>\n",
       "      <td>15.356673</td>\n",
       "    </tr>\n",
       "    <tr>\n",
       "      <th>5</th>\n",
       "      <td>miyagi</td>\n",
       "      <td>11.087105</td>\n",
       "    </tr>\n",
       "    <tr>\n",
       "      <th>6</th>\n",
       "      <td>niigata</td>\n",
       "      <td>12.433745</td>\n",
       "    </tr>\n",
       "    <tr>\n",
       "      <th>7</th>\n",
       "      <td>osaka</td>\n",
       "      <td>14.812773</td>\n",
       "    </tr>\n",
       "    <tr>\n",
       "      <th>8</th>\n",
       "      <td>saitama</td>\n",
       "      <td>13.533269</td>\n",
       "    </tr>\n",
       "    <tr>\n",
       "      <th>9</th>\n",
       "      <td>shizuoka</td>\n",
       "      <td>15.470068</td>\n",
       "    </tr>\n",
       "    <tr>\n",
       "      <th>10</th>\n",
       "      <td>tokyo</td>\n",
       "      <td>14.489196</td>\n",
       "    </tr>\n",
       "    <tr>\n",
       "      <th>11</th>\n",
       "      <td>yamaguchi</td>\n",
       "      <td>16.160542</td>\n",
       "    </tr>\n",
       "  </tbody>\n",
       "</table>\n",
       "</div>"
      ],
      "text/plain": [
       "   prefecture  avg_temperature\n",
       "0     fukuoka        15.728844\n",
       "1   hiroshima        14.317344\n",
       "2    hokkaido         5.872029\n",
       "3       hyogo        14.592747\n",
       "4    kanagawa        15.356673\n",
       "5      miyagi        11.087105\n",
       "6     niigata        12.433745\n",
       "7       osaka        14.812773\n",
       "8     saitama        13.533269\n",
       "9    shizuoka        15.470068\n",
       "10      tokyo        14.489196\n",
       "11  yamaguchi        16.160542"
      ]
     },
     "execution_count": 67,
     "metadata": {},
     "output_type": "execute_result"
    }
   ],
   "source": [
    "wdmytest = wd.groupby(['prefecture'], as_index=False)['avg_temperature'].mean()\n",
    "wdmytest.head(15)"
   ]
  },
  {
   "cell_type": "markdown",
   "metadata": {},
   "source": [
    "Let's try to relate the identified groups with the biggest cities:\n",
    "\n",
    "* Cluster 1 refers to Hiroshima-ken.\n",
    "* Cluster 5 refers  to Niigata-ken\n",
    "* Cluster 2 refers to Hokkaidō\n",
    "* Cluster 0 refers to Tōkyō-to\n",
    "* Cluster 3 refers to Hyōgo-ken\n",
    "* Cluster 4 referst to Fukuoka-ken\n",
    "* Cluster 7 refers to Shizuoka-ken\n",
    "* Cluster 6 refers to Miyagi-ken"
   ]
  },
  {
   "cell_type": "code",
   "execution_count": 68,
   "metadata": {
    "_cell_guid": "01918d4a-b516-41b3-bc44-7973a581fff1",
    "_uuid": "06a74168bb6286ef8bb1b39531ea7067cf42ff97",
    "scrolled": false
   },
   "outputs": [],
   "source": [
    "import re\n",
    "def area2group(area):\n",
    "    if re.match(r'tokyo.*',area) !=None:\n",
    "        return 0\n",
    "    if re.match(r'hyogo.*',area) !=None:\n",
    "        return 3\n",
    "    if re.match(r'hokkaido.*',area) !=None:\n",
    "        return 2    \n",
    "    if re.match(r'fukuoka.*',area) !=None:\n",
    "        return 4\n",
    "    if re.match(r'niigata.*',area) !=None:\n",
    "        return 5\n",
    "    if re.match(r'hiroshima.*',area) !=None:\n",
    "        return 1\n",
    "    if re.match(r'shizuoka.*',area) !=None:\n",
    "        return 7\n",
    "    if re.match(r'miyagi.*',area) !=None:\n",
    "        return 6\n",
    "    else:\n",
    "        return -1\n",
    "\n",
    "warea = [area2group(area) for area in wd.area_name]\n",
    "wd['cluster'] = warea\n",
    "#re.match(r'fukuoka.*',wd.area_name[0])\n",
    "#wd.area_name"
   ]
  },
  {
   "cell_type": "code",
   "execution_count": 69,
   "metadata": {},
   "outputs": [
    {
     "data": {
      "text/html": [
       "<div>\n",
       "<style scoped>\n",
       "    .dataframe tbody tr th:only-of-type {\n",
       "        vertical-align: middle;\n",
       "    }\n",
       "\n",
       "    .dataframe tbody tr th {\n",
       "        vertical-align: top;\n",
       "    }\n",
       "\n",
       "    .dataframe thead th {\n",
       "        text-align: right;\n",
       "    }\n",
       "</style>\n",
       "<table border=\"1\" class=\"dataframe\">\n",
       "  <thead>\n",
       "    <tr style=\"text-align: right;\">\n",
       "      <th></th>\n",
       "      <th>area_name</th>\n",
       "      <th>calendar_date</th>\n",
       "      <th>precipitation</th>\n",
       "      <th>avg_temperature</th>\n",
       "      <th>total_snowfall</th>\n",
       "      <th>deepest_snowfall</th>\n",
       "      <th>hours_sunlight</th>\n",
       "      <th>avg_wind_speed</th>\n",
       "      <th>avg_vapor_pressure</th>\n",
       "      <th>avg_humidity</th>\n",
       "      <th>avg_sea_pressure</th>\n",
       "      <th>avg_local_pressure</th>\n",
       "      <th>solar_radiation</th>\n",
       "      <th>cloud_cover</th>\n",
       "      <th>high_temperature</th>\n",
       "      <th>low_temperature</th>\n",
       "      <th>prefecture</th>\n",
       "      <th>cluster</th>\n",
       "    </tr>\n",
       "  </thead>\n",
       "  <tbody>\n",
       "    <tr>\n",
       "      <th>0</th>\n",
       "      <td>fukuoka_dazaifu-kana_dasaif</td>\n",
       "      <td>2016-01-01</td>\n",
       "      <td>0.0</td>\n",
       "      <td>5.7</td>\n",
       "      <td>NaN</td>\n",
       "      <td>NaN</td>\n",
       "      <td>5.1</td>\n",
       "      <td>1.9</td>\n",
       "      <td>NaN</td>\n",
       "      <td>NaN</td>\n",
       "      <td>NaN</td>\n",
       "      <td>NaN</td>\n",
       "      <td>NaN</td>\n",
       "      <td>NaN</td>\n",
       "      <td>11.0</td>\n",
       "      <td>2.1</td>\n",
       "      <td>fukuoka</td>\n",
       "      <td>4</td>\n",
       "    </tr>\n",
       "    <tr>\n",
       "      <th>1</th>\n",
       "      <td>fukuoka_dazaifu-kana_dasaif</td>\n",
       "      <td>2016-01-02</td>\n",
       "      <td>0.5</td>\n",
       "      <td>10.2</td>\n",
       "      <td>NaN</td>\n",
       "      <td>NaN</td>\n",
       "      <td>1.3</td>\n",
       "      <td>2.2</td>\n",
       "      <td>NaN</td>\n",
       "      <td>NaN</td>\n",
       "      <td>NaN</td>\n",
       "      <td>NaN</td>\n",
       "      <td>NaN</td>\n",
       "      <td>NaN</td>\n",
       "      <td>15.3</td>\n",
       "      <td>6.1</td>\n",
       "      <td>fukuoka</td>\n",
       "      <td>4</td>\n",
       "    </tr>\n",
       "    <tr>\n",
       "      <th>2</th>\n",
       "      <td>fukuoka_dazaifu-kana_dasaif</td>\n",
       "      <td>2016-01-03</td>\n",
       "      <td>0.0</td>\n",
       "      <td>11.2</td>\n",
       "      <td>NaN</td>\n",
       "      <td>NaN</td>\n",
       "      <td>0.5</td>\n",
       "      <td>0.9</td>\n",
       "      <td>NaN</td>\n",
       "      <td>NaN</td>\n",
       "      <td>NaN</td>\n",
       "      <td>NaN</td>\n",
       "      <td>NaN</td>\n",
       "      <td>NaN</td>\n",
       "      <td>15.5</td>\n",
       "      <td>7.1</td>\n",
       "      <td>fukuoka</td>\n",
       "      <td>4</td>\n",
       "    </tr>\n",
       "    <tr>\n",
       "      <th>3</th>\n",
       "      <td>fukuoka_dazaifu-kana_dasaif</td>\n",
       "      <td>2016-01-04</td>\n",
       "      <td>0.0</td>\n",
       "      <td>9.4</td>\n",
       "      <td>NaN</td>\n",
       "      <td>NaN</td>\n",
       "      <td>4.2</td>\n",
       "      <td>1.8</td>\n",
       "      <td>NaN</td>\n",
       "      <td>NaN</td>\n",
       "      <td>NaN</td>\n",
       "      <td>NaN</td>\n",
       "      <td>NaN</td>\n",
       "      <td>NaN</td>\n",
       "      <td>16.1</td>\n",
       "      <td>5.9</td>\n",
       "      <td>fukuoka</td>\n",
       "      <td>4</td>\n",
       "    </tr>\n",
       "    <tr>\n",
       "      <th>4</th>\n",
       "      <td>fukuoka_dazaifu-kana_dasaif</td>\n",
       "      <td>2016-01-05</td>\n",
       "      <td>1.5</td>\n",
       "      <td>8.8</td>\n",
       "      <td>NaN</td>\n",
       "      <td>NaN</td>\n",
       "      <td>0.0</td>\n",
       "      <td>0.8</td>\n",
       "      <td>NaN</td>\n",
       "      <td>NaN</td>\n",
       "      <td>NaN</td>\n",
       "      <td>NaN</td>\n",
       "      <td>NaN</td>\n",
       "      <td>NaN</td>\n",
       "      <td>12.3</td>\n",
       "      <td>7.1</td>\n",
       "      <td>fukuoka</td>\n",
       "      <td>4</td>\n",
       "    </tr>\n",
       "  </tbody>\n",
       "</table>\n",
       "</div>"
      ],
      "text/plain": [
       "                     area_name calendar_date  precipitation  avg_temperature  \\\n",
       "0  fukuoka_dazaifu-kana_dasaif    2016-01-01            0.0              5.7   \n",
       "1  fukuoka_dazaifu-kana_dasaif    2016-01-02            0.5             10.2   \n",
       "2  fukuoka_dazaifu-kana_dasaif    2016-01-03            0.0             11.2   \n",
       "3  fukuoka_dazaifu-kana_dasaif    2016-01-04            0.0              9.4   \n",
       "4  fukuoka_dazaifu-kana_dasaif    2016-01-05            1.5              8.8   \n",
       "\n",
       "   total_snowfall  deepest_snowfall  hours_sunlight  avg_wind_speed  \\\n",
       "0             NaN               NaN             5.1             1.9   \n",
       "1             NaN               NaN             1.3             2.2   \n",
       "2             NaN               NaN             0.5             0.9   \n",
       "3             NaN               NaN             4.2             1.8   \n",
       "4             NaN               NaN             0.0             0.8   \n",
       "\n",
       "   avg_vapor_pressure  avg_humidity  avg_sea_pressure  avg_local_pressure  \\\n",
       "0                 NaN           NaN               NaN                 NaN   \n",
       "1                 NaN           NaN               NaN                 NaN   \n",
       "2                 NaN           NaN               NaN                 NaN   \n",
       "3                 NaN           NaN               NaN                 NaN   \n",
       "4                 NaN           NaN               NaN                 NaN   \n",
       "\n",
       "   solar_radiation  cloud_cover  high_temperature  low_temperature prefecture  \\\n",
       "0              NaN          NaN              11.0              2.1    fukuoka   \n",
       "1              NaN          NaN              15.3              6.1    fukuoka   \n",
       "2              NaN          NaN              15.5              7.1    fukuoka   \n",
       "3              NaN          NaN              16.1              5.9    fukuoka   \n",
       "4              NaN          NaN              12.3              7.1    fukuoka   \n",
       "\n",
       "   cluster  \n",
       "0        4  \n",
       "1        4  \n",
       "2        4  \n",
       "3        4  \n",
       "4        4  "
      ]
     },
     "execution_count": 69,
     "metadata": {},
     "output_type": "execute_result"
    }
   ],
   "source": [
    "wd['calendar_date'] = pd.to_datetime(wd.calendar_date).dt.date\n",
    "wd.head()"
   ]
  },
  {
   "cell_type": "code",
   "execution_count": 70,
   "metadata": {
    "_cell_guid": "7b41e6b2-ad05-4d48-a8c3-727fa1350699",
    "_uuid": "367aa158b0a33fea311c1b384ad626bd9a0fd415",
    "scrolled": false
   },
   "outputs": [
    {
     "data": {
      "text/html": [
       "<div>\n",
       "<style scoped>\n",
       "    .dataframe tbody tr th:only-of-type {\n",
       "        vertical-align: middle;\n",
       "    }\n",
       "\n",
       "    .dataframe tbody tr th {\n",
       "        vertical-align: top;\n",
       "    }\n",
       "\n",
       "    .dataframe thead th {\n",
       "        text-align: right;\n",
       "    }\n",
       "</style>\n",
       "<table border=\"1\" class=\"dataframe\">\n",
       "  <thead>\n",
       "    <tr style=\"text-align: right;\">\n",
       "      <th></th>\n",
       "      <th>cluster</th>\n",
       "      <th>calendar_date</th>\n",
       "      <th>precipitation</th>\n",
       "      <th>avg_temperature</th>\n",
       "      <th>total_snowfall</th>\n",
       "      <th>deepest_snowfall</th>\n",
       "      <th>hours_sunlight</th>\n",
       "      <th>avg_wind_speed</th>\n",
       "      <th>avg_vapor_pressure</th>\n",
       "      <th>avg_humidity</th>\n",
       "      <th>avg_sea_pressure</th>\n",
       "      <th>avg_local_pressure</th>\n",
       "      <th>solar_radiation</th>\n",
       "      <th>cloud_cover</th>\n",
       "      <th>high_temperature</th>\n",
       "      <th>low_temperature</th>\n",
       "    </tr>\n",
       "  </thead>\n",
       "  <tbody>\n",
       "    <tr>\n",
       "      <th>0</th>\n",
       "      <td>-1</td>\n",
       "      <td>2016-01-01</td>\n",
       "      <td>0.0</td>\n",
       "      <td>6.36</td>\n",
       "      <td>NaN</td>\n",
       "      <td>NaN</td>\n",
       "      <td>8.4125</td>\n",
       "      <td>2.09</td>\n",
       "      <td>5.966667</td>\n",
       "      <td>55.333333</td>\n",
       "      <td>1028.500000</td>\n",
       "      <td>1022.500000</td>\n",
       "      <td>11.215</td>\n",
       "      <td>2.833333</td>\n",
       "      <td>11.13</td>\n",
       "      <td>2.35</td>\n",
       "    </tr>\n",
       "    <tr>\n",
       "      <th>1</th>\n",
       "      <td>-1</td>\n",
       "      <td>2016-01-02</td>\n",
       "      <td>0.0</td>\n",
       "      <td>7.46</td>\n",
       "      <td>NaN</td>\n",
       "      <td>NaN</td>\n",
       "      <td>5.6250</td>\n",
       "      <td>1.78</td>\n",
       "      <td>7.366667</td>\n",
       "      <td>62.666667</td>\n",
       "      <td>1024.100000</td>\n",
       "      <td>1018.166667</td>\n",
       "      <td>7.080</td>\n",
       "      <td>6.433333</td>\n",
       "      <td>13.02</td>\n",
       "      <td>2.44</td>\n",
       "    </tr>\n",
       "    <tr>\n",
       "      <th>2</th>\n",
       "      <td>-1</td>\n",
       "      <td>2016-01-03</td>\n",
       "      <td>0.0</td>\n",
       "      <td>9.84</td>\n",
       "      <td>NaN</td>\n",
       "      <td>NaN</td>\n",
       "      <td>6.0125</td>\n",
       "      <td>1.52</td>\n",
       "      <td>9.533333</td>\n",
       "      <td>71.000000</td>\n",
       "      <td>1018.500000</td>\n",
       "      <td>1012.600000</td>\n",
       "      <td>8.080</td>\n",
       "      <td>6.266667</td>\n",
       "      <td>15.52</td>\n",
       "      <td>5.91</td>\n",
       "    </tr>\n",
       "    <tr>\n",
       "      <th>3</th>\n",
       "      <td>-1</td>\n",
       "      <td>2016-01-04</td>\n",
       "      <td>0.0</td>\n",
       "      <td>10.08</td>\n",
       "      <td>NaN</td>\n",
       "      <td>NaN</td>\n",
       "      <td>6.7250</td>\n",
       "      <td>2.06</td>\n",
       "      <td>9.033333</td>\n",
       "      <td>66.333333</td>\n",
       "      <td>1017.433333</td>\n",
       "      <td>1011.533333</td>\n",
       "      <td>9.305</td>\n",
       "      <td>1.600000</td>\n",
       "      <td>15.13</td>\n",
       "      <td>5.07</td>\n",
       "    </tr>\n",
       "    <tr>\n",
       "      <th>4</th>\n",
       "      <td>-1</td>\n",
       "      <td>2016-01-05</td>\n",
       "      <td>0.0</td>\n",
       "      <td>9.01</td>\n",
       "      <td>NaN</td>\n",
       "      <td>NaN</td>\n",
       "      <td>3.1750</td>\n",
       "      <td>1.74</td>\n",
       "      <td>7.866667</td>\n",
       "      <td>62.333333</td>\n",
       "      <td>1020.200000</td>\n",
       "      <td>1014.333333</td>\n",
       "      <td>3.080</td>\n",
       "      <td>6.433333</td>\n",
       "      <td>12.27</td>\n",
       "      <td>5.57</td>\n",
       "    </tr>\n",
       "  </tbody>\n",
       "</table>\n",
       "</div>"
      ],
      "text/plain": [
       "   cluster calendar_date  precipitation  avg_temperature  total_snowfall  \\\n",
       "0       -1    2016-01-01            0.0             6.36             NaN   \n",
       "1       -1    2016-01-02            0.0             7.46             NaN   \n",
       "2       -1    2016-01-03            0.0             9.84             NaN   \n",
       "3       -1    2016-01-04            0.0            10.08             NaN   \n",
       "4       -1    2016-01-05            0.0             9.01             NaN   \n",
       "\n",
       "   deepest_snowfall  hours_sunlight  avg_wind_speed  avg_vapor_pressure  \\\n",
       "0               NaN          8.4125            2.09            5.966667   \n",
       "1               NaN          5.6250            1.78            7.366667   \n",
       "2               NaN          6.0125            1.52            9.533333   \n",
       "3               NaN          6.7250            2.06            9.033333   \n",
       "4               NaN          3.1750            1.74            7.866667   \n",
       "\n",
       "   avg_humidity  avg_sea_pressure  avg_local_pressure  solar_radiation  \\\n",
       "0     55.333333       1028.500000         1022.500000           11.215   \n",
       "1     62.666667       1024.100000         1018.166667            7.080   \n",
       "2     71.000000       1018.500000         1012.600000            8.080   \n",
       "3     66.333333       1017.433333         1011.533333            9.305   \n",
       "4     62.333333       1020.200000         1014.333333            3.080   \n",
       "\n",
       "   cloud_cover  high_temperature  low_temperature  \n",
       "0     2.833333             11.13             2.35  \n",
       "1     6.433333             13.02             2.44  \n",
       "2     6.266667             15.52             5.91  \n",
       "3     1.600000             15.13             5.07  \n",
       "4     6.433333             12.27             5.57  "
      ]
     },
     "execution_count": 70,
     "metadata": {},
     "output_type": "execute_result"
    }
   ],
   "source": [
    "wdg = wd.groupby(['cluster','calendar_date'],as_index=False).mean()\n",
    "wdg.head()"
   ]
  },
  {
   "cell_type": "code",
   "execution_count": 71,
   "metadata": {},
   "outputs": [
    {
     "data": {
      "text/html": [
       "<div>\n",
       "<style scoped>\n",
       "    .dataframe tbody tr th:only-of-type {\n",
       "        vertical-align: middle;\n",
       "    }\n",
       "\n",
       "    .dataframe tbody tr th {\n",
       "        vertical-align: top;\n",
       "    }\n",
       "\n",
       "    .dataframe thead th {\n",
       "        text-align: right;\n",
       "    }\n",
       "</style>\n",
       "<table border=\"1\" class=\"dataframe\">\n",
       "  <thead>\n",
       "    <tr style=\"text-align: right;\">\n",
       "      <th></th>\n",
       "      <th>air_store_id</th>\n",
       "      <th>visit_date</th>\n",
       "      <th>visitors</th>\n",
       "      <th>reserve_visitors_air</th>\n",
       "      <th>air_date_diff</th>\n",
       "      <th>air_genre_name</th>\n",
       "      <th>latitude</th>\n",
       "      <th>longitude</th>\n",
       "      <th>reserve_visitors_hpg</th>\n",
       "      <th>cluster</th>\n",
       "      <th>prefecture</th>\n",
       "      <th>month</th>\n",
       "      <th>date</th>\n",
       "      <th>dw</th>\n",
       "      <th>dy</th>\n",
       "      <th>day_of_week</th>\n",
       "      <th>holiday_flg</th>\n",
       "      <th>sunday</th>\n",
       "      <th>saturday</th>\n",
       "      <th>sat/sun/hol</th>\n",
       "    </tr>\n",
       "  </thead>\n",
       "  <tbody>\n",
       "    <tr>\n",
       "      <th>0</th>\n",
       "      <td>air_ba937bf13d40fb24</td>\n",
       "      <td>2016-01-13</td>\n",
       "      <td>25</td>\n",
       "      <td>NaN</td>\n",
       "      <td>NaN</td>\n",
       "      <td>Dining bar</td>\n",
       "      <td>35.658068</td>\n",
       "      <td>139.751599</td>\n",
       "      <td>NaN</td>\n",
       "      <td>0</td>\n",
       "      <td>Tōkyō-to</td>\n",
       "      <td>1</td>\n",
       "      <td>13</td>\n",
       "      <td>2</td>\n",
       "      <td>13</td>\n",
       "      <td>Wednesday</td>\n",
       "      <td>0</td>\n",
       "      <td>0</td>\n",
       "      <td>0</td>\n",
       "      <td>0.0</td>\n",
       "    </tr>\n",
       "    <tr>\n",
       "      <th>1</th>\n",
       "      <td>air_ba937bf13d40fb24</td>\n",
       "      <td>2016-01-14</td>\n",
       "      <td>32</td>\n",
       "      <td>NaN</td>\n",
       "      <td>NaN</td>\n",
       "      <td>Dining bar</td>\n",
       "      <td>35.658068</td>\n",
       "      <td>139.751599</td>\n",
       "      <td>NaN</td>\n",
       "      <td>0</td>\n",
       "      <td>Tōkyō-to</td>\n",
       "      <td>1</td>\n",
       "      <td>14</td>\n",
       "      <td>3</td>\n",
       "      <td>14</td>\n",
       "      <td>Thursday</td>\n",
       "      <td>0</td>\n",
       "      <td>0</td>\n",
       "      <td>0</td>\n",
       "      <td>0.0</td>\n",
       "    </tr>\n",
       "    <tr>\n",
       "      <th>2</th>\n",
       "      <td>air_ba937bf13d40fb24</td>\n",
       "      <td>2016-01-15</td>\n",
       "      <td>29</td>\n",
       "      <td>NaN</td>\n",
       "      <td>NaN</td>\n",
       "      <td>Dining bar</td>\n",
       "      <td>35.658068</td>\n",
       "      <td>139.751599</td>\n",
       "      <td>NaN</td>\n",
       "      <td>0</td>\n",
       "      <td>Tōkyō-to</td>\n",
       "      <td>1</td>\n",
       "      <td>15</td>\n",
       "      <td>4</td>\n",
       "      <td>15</td>\n",
       "      <td>Friday</td>\n",
       "      <td>0</td>\n",
       "      <td>0</td>\n",
       "      <td>0</td>\n",
       "      <td>0.0</td>\n",
       "    </tr>\n",
       "    <tr>\n",
       "      <th>3</th>\n",
       "      <td>air_ba937bf13d40fb24</td>\n",
       "      <td>2016-01-16</td>\n",
       "      <td>22</td>\n",
       "      <td>NaN</td>\n",
       "      <td>NaN</td>\n",
       "      <td>Dining bar</td>\n",
       "      <td>35.658068</td>\n",
       "      <td>139.751599</td>\n",
       "      <td>NaN</td>\n",
       "      <td>0</td>\n",
       "      <td>Tōkyō-to</td>\n",
       "      <td>1</td>\n",
       "      <td>16</td>\n",
       "      <td>5</td>\n",
       "      <td>16</td>\n",
       "      <td>Saturday</td>\n",
       "      <td>0</td>\n",
       "      <td>0</td>\n",
       "      <td>1</td>\n",
       "      <td>0.3</td>\n",
       "    </tr>\n",
       "    <tr>\n",
       "      <th>4</th>\n",
       "      <td>air_ba937bf13d40fb24</td>\n",
       "      <td>2016-01-18</td>\n",
       "      <td>6</td>\n",
       "      <td>NaN</td>\n",
       "      <td>NaN</td>\n",
       "      <td>Dining bar</td>\n",
       "      <td>35.658068</td>\n",
       "      <td>139.751599</td>\n",
       "      <td>NaN</td>\n",
       "      <td>0</td>\n",
       "      <td>Tōkyō-to</td>\n",
       "      <td>1</td>\n",
       "      <td>18</td>\n",
       "      <td>0</td>\n",
       "      <td>18</td>\n",
       "      <td>Monday</td>\n",
       "      <td>0</td>\n",
       "      <td>0</td>\n",
       "      <td>0</td>\n",
       "      <td>0.0</td>\n",
       "    </tr>\n",
       "  </tbody>\n",
       "</table>\n",
       "</div>"
      ],
      "text/plain": [
       "           air_store_id visit_date  visitors  reserve_visitors_air  \\\n",
       "0  air_ba937bf13d40fb24 2016-01-13        25                   NaN   \n",
       "1  air_ba937bf13d40fb24 2016-01-14        32                   NaN   \n",
       "2  air_ba937bf13d40fb24 2016-01-15        29                   NaN   \n",
       "3  air_ba937bf13d40fb24 2016-01-16        22                   NaN   \n",
       "4  air_ba937bf13d40fb24 2016-01-18         6                   NaN   \n",
       "\n",
       "   air_date_diff air_genre_name   latitude   longitude  reserve_visitors_hpg  \\\n",
       "0            NaN     Dining bar  35.658068  139.751599                   NaN   \n",
       "1            NaN     Dining bar  35.658068  139.751599                   NaN   \n",
       "2            NaN     Dining bar  35.658068  139.751599                   NaN   \n",
       "3            NaN     Dining bar  35.658068  139.751599                   NaN   \n",
       "4            NaN     Dining bar  35.658068  139.751599                   NaN   \n",
       "\n",
       "   cluster prefecture  month  date  dw  dy day_of_week  holiday_flg  sunday  \\\n",
       "0        0   Tōkyō-to      1    13   2  13   Wednesday            0       0   \n",
       "1        0   Tōkyō-to      1    14   3  14    Thursday            0       0   \n",
       "2        0   Tōkyō-to      1    15   4  15      Friday            0       0   \n",
       "3        0   Tōkyō-to      1    16   5  16    Saturday            0       0   \n",
       "4        0   Tōkyō-to      1    18   0  18      Monday            0       0   \n",
       "\n",
       "   saturday  sat/sun/hol  \n",
       "0         0          0.0  \n",
       "1         0          0.0  \n",
       "2         0          0.0  \n",
       "3         1          0.3  \n",
       "4         0          0.0  "
      ]
     },
     "execution_count": 71,
     "metadata": {},
     "output_type": "execute_result"
    }
   ],
   "source": [
    "nf.head()"
   ]
  },
  {
   "cell_type": "code",
   "execution_count": 72,
   "metadata": {},
   "outputs": [
    {
     "data": {
      "text/html": [
       "<div>\n",
       "<style scoped>\n",
       "    .dataframe tbody tr th:only-of-type {\n",
       "        vertical-align: middle;\n",
       "    }\n",
       "\n",
       "    .dataframe tbody tr th {\n",
       "        vertical-align: top;\n",
       "    }\n",
       "\n",
       "    .dataframe thead th {\n",
       "        text-align: right;\n",
       "    }\n",
       "</style>\n",
       "<table border=\"1\" class=\"dataframe\">\n",
       "  <thead>\n",
       "    <tr style=\"text-align: right;\">\n",
       "      <th></th>\n",
       "      <th>air_store_id</th>\n",
       "      <th>visit_date</th>\n",
       "      <th>visitors</th>\n",
       "      <th>reserve_visitors_air</th>\n",
       "      <th>air_date_diff</th>\n",
       "      <th>air_genre_name</th>\n",
       "      <th>latitude</th>\n",
       "      <th>longitude</th>\n",
       "      <th>reserve_visitors_hpg</th>\n",
       "      <th>cluster</th>\n",
       "      <th>prefecture</th>\n",
       "      <th>month</th>\n",
       "      <th>date</th>\n",
       "      <th>dw</th>\n",
       "      <th>dy</th>\n",
       "      <th>day_of_week</th>\n",
       "      <th>holiday_flg</th>\n",
       "      <th>sunday</th>\n",
       "      <th>saturday</th>\n",
       "      <th>sat/sun/hol</th>\n",
       "    </tr>\n",
       "  </thead>\n",
       "  <tbody>\n",
       "    <tr>\n",
       "      <th>0</th>\n",
       "      <td>air_ba937bf13d40fb24</td>\n",
       "      <td>2016-01-13</td>\n",
       "      <td>25</td>\n",
       "      <td>NaN</td>\n",
       "      <td>NaN</td>\n",
       "      <td>Dining bar</td>\n",
       "      <td>35.658068</td>\n",
       "      <td>139.751599</td>\n",
       "      <td>NaN</td>\n",
       "      <td>0</td>\n",
       "      <td>Tōkyō-to</td>\n",
       "      <td>1</td>\n",
       "      <td>13</td>\n",
       "      <td>2</td>\n",
       "      <td>13</td>\n",
       "      <td>Wednesday</td>\n",
       "      <td>0</td>\n",
       "      <td>0</td>\n",
       "      <td>0</td>\n",
       "      <td>0.0</td>\n",
       "    </tr>\n",
       "  </tbody>\n",
       "</table>\n",
       "</div>"
      ],
      "text/plain": [
       "           air_store_id  visit_date  visitors  reserve_visitors_air  \\\n",
       "0  air_ba937bf13d40fb24  2016-01-13        25                   NaN   \n",
       "\n",
       "   air_date_diff air_genre_name   latitude   longitude  reserve_visitors_hpg  \\\n",
       "0            NaN     Dining bar  35.658068  139.751599                   NaN   \n",
       "\n",
       "   cluster prefecture  month  date  dw  dy day_of_week  holiday_flg  sunday  \\\n",
       "0        0   Tōkyō-to      1    13   2  13   Wednesday            0       0   \n",
       "\n",
       "   saturday  sat/sun/hol  \n",
       "0         0          0.0  "
      ]
     },
     "execution_count": 72,
     "metadata": {},
     "output_type": "execute_result"
    }
   ],
   "source": [
    "nf['visit_date']=pd.to_datetime(nf.visit_date).dt.date\n",
    "nf.head(1)"
   ]
  },
  {
   "cell_type": "code",
   "execution_count": 73,
   "metadata": {
    "scrolled": true
   },
   "outputs": [
    {
     "data": {
      "text/html": [
       "<div>\n",
       "<style scoped>\n",
       "    .dataframe tbody tr th:only-of-type {\n",
       "        vertical-align: middle;\n",
       "    }\n",
       "\n",
       "    .dataframe tbody tr th {\n",
       "        vertical-align: top;\n",
       "    }\n",
       "\n",
       "    .dataframe thead th {\n",
       "        text-align: right;\n",
       "    }\n",
       "</style>\n",
       "<table border=\"1\" class=\"dataframe\">\n",
       "  <thead>\n",
       "    <tr style=\"text-align: right;\">\n",
       "      <th></th>\n",
       "      <th>air_store_id</th>\n",
       "      <th>visit_date</th>\n",
       "      <th>visitors</th>\n",
       "      <th>reserve_visitors_air</th>\n",
       "      <th>air_date_diff</th>\n",
       "      <th>air_genre_name</th>\n",
       "      <th>latitude</th>\n",
       "      <th>longitude</th>\n",
       "      <th>reserve_visitors_hpg</th>\n",
       "      <th>cluster</th>\n",
       "      <th>...</th>\n",
       "      <th>hours_sunlight</th>\n",
       "      <th>avg_wind_speed</th>\n",
       "      <th>avg_vapor_pressure</th>\n",
       "      <th>avg_humidity</th>\n",
       "      <th>avg_sea_pressure</th>\n",
       "      <th>avg_local_pressure</th>\n",
       "      <th>solar_radiation</th>\n",
       "      <th>cloud_cover</th>\n",
       "      <th>high_temperature</th>\n",
       "      <th>low_temperature</th>\n",
       "    </tr>\n",
       "  </thead>\n",
       "  <tbody>\n",
       "    <tr>\n",
       "      <th>0</th>\n",
       "      <td>air_ba937bf13d40fb24</td>\n",
       "      <td>2016-01-13</td>\n",
       "      <td>25</td>\n",
       "      <td>NaN</td>\n",
       "      <td>NaN</td>\n",
       "      <td>Dining bar</td>\n",
       "      <td>35.658068</td>\n",
       "      <td>139.751599</td>\n",
       "      <td>NaN</td>\n",
       "      <td>0</td>\n",
       "      <td>...</td>\n",
       "      <td>8.833333</td>\n",
       "      <td>1.514286</td>\n",
       "      <td>4.9</td>\n",
       "      <td>60.0</td>\n",
       "      <td>1013.1</td>\n",
       "      <td>1010.1</td>\n",
       "      <td>10.86</td>\n",
       "      <td>2.5</td>\n",
       "      <td>9.171429</td>\n",
       "      <td>-2.028571</td>\n",
       "    </tr>\n",
       "    <tr>\n",
       "      <th>1</th>\n",
       "      <td>air_25e9888d30b386df</td>\n",
       "      <td>2016-01-13</td>\n",
       "      <td>21</td>\n",
       "      <td>NaN</td>\n",
       "      <td>NaN</td>\n",
       "      <td>Izakaya</td>\n",
       "      <td>35.626568</td>\n",
       "      <td>139.725858</td>\n",
       "      <td>NaN</td>\n",
       "      <td>0</td>\n",
       "      <td>...</td>\n",
       "      <td>8.833333</td>\n",
       "      <td>1.514286</td>\n",
       "      <td>4.9</td>\n",
       "      <td>60.0</td>\n",
       "      <td>1013.1</td>\n",
       "      <td>1010.1</td>\n",
       "      <td>10.86</td>\n",
       "      <td>2.5</td>\n",
       "      <td>9.171429</td>\n",
       "      <td>-2.028571</td>\n",
       "    </tr>\n",
       "    <tr>\n",
       "      <th>2</th>\n",
       "      <td>air_fd6aac1043520e83</td>\n",
       "      <td>2016-01-13</td>\n",
       "      <td>40</td>\n",
       "      <td>NaN</td>\n",
       "      <td>NaN</td>\n",
       "      <td>Izakaya</td>\n",
       "      <td>35.658068</td>\n",
       "      <td>139.751599</td>\n",
       "      <td>NaN</td>\n",
       "      <td>0</td>\n",
       "      <td>...</td>\n",
       "      <td>8.833333</td>\n",
       "      <td>1.514286</td>\n",
       "      <td>4.9</td>\n",
       "      <td>60.0</td>\n",
       "      <td>1013.1</td>\n",
       "      <td>1010.1</td>\n",
       "      <td>10.86</td>\n",
       "      <td>2.5</td>\n",
       "      <td>9.171429</td>\n",
       "      <td>-2.028571</td>\n",
       "    </tr>\n",
       "    <tr>\n",
       "      <th>3</th>\n",
       "      <td>air_64d4491ad8cdb1c6</td>\n",
       "      <td>2016-01-13</td>\n",
       "      <td>5</td>\n",
       "      <td>NaN</td>\n",
       "      <td>NaN</td>\n",
       "      <td>Dining bar</td>\n",
       "      <td>35.658068</td>\n",
       "      <td>139.751599</td>\n",
       "      <td>NaN</td>\n",
       "      <td>0</td>\n",
       "      <td>...</td>\n",
       "      <td>8.833333</td>\n",
       "      <td>1.514286</td>\n",
       "      <td>4.9</td>\n",
       "      <td>60.0</td>\n",
       "      <td>1013.1</td>\n",
       "      <td>1010.1</td>\n",
       "      <td>10.86</td>\n",
       "      <td>2.5</td>\n",
       "      <td>9.171429</td>\n",
       "      <td>-2.028571</td>\n",
       "    </tr>\n",
       "    <tr>\n",
       "      <th>4</th>\n",
       "      <td>air_5c65468938c07fa5</td>\n",
       "      <td>2016-01-13</td>\n",
       "      <td>16</td>\n",
       "      <td>NaN</td>\n",
       "      <td>NaN</td>\n",
       "      <td>Other</td>\n",
       "      <td>35.661777</td>\n",
       "      <td>139.704051</td>\n",
       "      <td>NaN</td>\n",
       "      <td>0</td>\n",
       "      <td>...</td>\n",
       "      <td>8.833333</td>\n",
       "      <td>1.514286</td>\n",
       "      <td>4.9</td>\n",
       "      <td>60.0</td>\n",
       "      <td>1013.1</td>\n",
       "      <td>1010.1</td>\n",
       "      <td>10.86</td>\n",
       "      <td>2.5</td>\n",
       "      <td>9.171429</td>\n",
       "      <td>-2.028571</td>\n",
       "    </tr>\n",
       "  </tbody>\n",
       "</table>\n",
       "<p>5 rows × 35 columns</p>\n",
       "</div>"
      ],
      "text/plain": [
       "           air_store_id  visit_date  visitors  reserve_visitors_air  \\\n",
       "0  air_ba937bf13d40fb24  2016-01-13        25                   NaN   \n",
       "1  air_25e9888d30b386df  2016-01-13        21                   NaN   \n",
       "2  air_fd6aac1043520e83  2016-01-13        40                   NaN   \n",
       "3  air_64d4491ad8cdb1c6  2016-01-13         5                   NaN   \n",
       "4  air_5c65468938c07fa5  2016-01-13        16                   NaN   \n",
       "\n",
       "   air_date_diff air_genre_name   latitude   longitude  reserve_visitors_hpg  \\\n",
       "0            NaN     Dining bar  35.658068  139.751599                   NaN   \n",
       "1            NaN        Izakaya  35.626568  139.725858                   NaN   \n",
       "2            NaN        Izakaya  35.658068  139.751599                   NaN   \n",
       "3            NaN     Dining bar  35.658068  139.751599                   NaN   \n",
       "4            NaN          Other  35.661777  139.704051                   NaN   \n",
       "\n",
       "   cluster       ...        hours_sunlight  avg_wind_speed  \\\n",
       "0        0       ...              8.833333        1.514286   \n",
       "1        0       ...              8.833333        1.514286   \n",
       "2        0       ...              8.833333        1.514286   \n",
       "3        0       ...              8.833333        1.514286   \n",
       "4        0       ...              8.833333        1.514286   \n",
       "\n",
       "   avg_vapor_pressure  avg_humidity  avg_sea_pressure avg_local_pressure  \\\n",
       "0                 4.9          60.0            1013.1             1010.1   \n",
       "1                 4.9          60.0            1013.1             1010.1   \n",
       "2                 4.9          60.0            1013.1             1010.1   \n",
       "3                 4.9          60.0            1013.1             1010.1   \n",
       "4                 4.9          60.0            1013.1             1010.1   \n",
       "\n",
       "   solar_radiation  cloud_cover  high_temperature  low_temperature  \n",
       "0            10.86          2.5          9.171429        -2.028571  \n",
       "1            10.86          2.5          9.171429        -2.028571  \n",
       "2            10.86          2.5          9.171429        -2.028571  \n",
       "3            10.86          2.5          9.171429        -2.028571  \n",
       "4            10.86          2.5          9.171429        -2.028571  \n",
       "\n",
       "[5 rows x 35 columns]"
      ]
     },
     "execution_count": 73,
     "metadata": {},
     "output_type": "execute_result"
    }
   ],
   "source": [
    "wnf = pd.merge(nf,wdg,left_on=['cluster','visit_date'], right_on=['cluster','calendar_date'])\n",
    "#wnf = pd.merge(wdg,nf,left_on=['cluster','calendar_date'],right_on=['cluster','visit_date'])\n",
    "wnf.head()"
   ]
  },
  {
   "cell_type": "markdown",
   "metadata": {},
   "source": [
    "### <a id='missing-values-cell'>6. Missing values</a>"
   ]
  },
  {
   "cell_type": "code",
   "execution_count": 74,
   "metadata": {},
   "outputs": [
    {
     "name": "stdout",
     "output_type": "stream",
     "text": [
      "<class 'pandas.core.frame.DataFrame'>\n",
      "Int64Index: 252108 entries, 0 to 252107\n",
      "Data columns (total 35 columns):\n",
      "air_store_id            252108 non-null object\n",
      "visit_date              252108 non-null object\n",
      "visitors                252108 non-null int64\n",
      "reserve_visitors_air    28064 non-null float64\n",
      "air_date_diff           28064 non-null float64\n",
      "air_genre_name          252108 non-null object\n",
      "latitude                252108 non-null float64\n",
      "longitude               252108 non-null float64\n",
      "reserve_visitors_hpg    13550 non-null float64\n",
      "cluster                 252108 non-null int32\n",
      "prefecture              252108 non-null object\n",
      "month                   252108 non-null int64\n",
      "date                    252108 non-null int64\n",
      "dw                      252108 non-null int64\n",
      "dy                      252108 non-null int64\n",
      "day_of_week             252108 non-null object\n",
      "holiday_flg             252108 non-null int64\n",
      "sunday                  252108 non-null int64\n",
      "saturday                252108 non-null int64\n",
      "sat/sun/hol             252108 non-null float64\n",
      "calendar_date           252108 non-null object\n",
      "precipitation           252108 non-null float64\n",
      "avg_temperature         252108 non-null float64\n",
      "total_snowfall          23531 non-null float64\n",
      "deepest_snowfall        24806 non-null float64\n",
      "hours_sunlight          252108 non-null float64\n",
      "avg_wind_speed          252108 non-null float64\n",
      "avg_vapor_pressure      251940 non-null float64\n",
      "avg_humidity            251940 non-null float64\n",
      "avg_sea_pressure        252108 non-null float64\n",
      "avg_local_pressure      252108 non-null float64\n",
      "solar_radiation         211441 non-null float64\n",
      "cloud_cover             252108 non-null float64\n",
      "high_temperature        252108 non-null float64\n",
      "low_temperature         252108 non-null float64\n",
      "dtypes: float64(20), int32(1), int64(8), object(6)\n",
      "memory usage: 68.3+ MB\n"
     ]
    }
   ],
   "source": [
    "wnf.info()"
   ]
  },
  {
   "cell_type": "markdown",
   "metadata": {},
   "source": [
    "We can see that there are two columns in which there are zero values: \"Total snowfall\" and \"Deepest snowfall\".\n",
    "It's snowing in japan only in winter.This is less than half of our data.We also make a forecast for the spring."
   ]
  },
  {
   "cell_type": "markdown",
   "metadata": {},
   "source": [
    "We decided to delete the following columns"
   ]
  },
  {
   "cell_type": "markdown",
   "metadata": {},
   "source": [
    "## <a id='variable-selection-cell'> 7. Variable selection</a>"
   ]
  },
  {
   "cell_type": "markdown",
   "metadata": {},
   "source": [
    "<a id='graph-variable-selection-cell'>0. Graph Variable selection</a>"
   ]
  },
  {
   "cell_type": "code",
   "execution_count": 75,
   "metadata": {
    "scrolled": true
   },
   "outputs": [
    {
     "data": {
      "text/plain": [
       "<matplotlib.axes._subplots.AxesSubplot at 0x3eb75390>"
      ]
     },
     "execution_count": 75,
     "metadata": {},
     "output_type": "execute_result"
    },
    {
     "data": {
      "image/png": "[encoded data removed]",
      "text/plain": [
       "<Figure size 1080x720 with 2 Axes>"
      ]
     },
     "metadata": {
      "needs_background": "light"
     },
     "output_type": "display_data"
    }
   ],
   "source": [
    "f,axa = plt.subplots(1,1,figsize=(15,10))\n",
    "sns.heatmap(wnf.corr()[['visitors']])"
   ]
  },
  {
   "cell_type": "markdown",
   "metadata": {
    "_cell_guid": "3997111b-153c-4d6d-addf-e4b8f9595cce",
    "_uuid": "975f97de7143128edecd8a73542263b820c79155"
   },
   "source": [
    "Apparently there number of visitors is not correlated with the weather conditions"
   ]
  },
  {
   "cell_type": "markdown",
   "metadata": {},
   "source": [
    "<a id='one-hat-code-cell'> 1.One Hat Encoding function</a>"
   ]
  },
  {
   "cell_type": "code",
   "execution_count": 76,
   "metadata": {},
   "outputs": [],
   "source": [
    "def our_hat_code(myData, colQuery):\n",
    "    temp = list(myData[colQuery].unique())\n",
    "    print(temp)\n",
    "    n = len(temp) \n",
    "    print(n)\n",
    "    for ii in range(0,n):\n",
    "        #print('test')\n",
    "        #print(\"1\",myData[ii])\n",
    "        #print(\"2\",myData[temp[ii]])\n",
    "        myData[temp[ii]] = None\n",
    "        myData.loc[(myData[colQuery] == temp[ii] ),temp[ii]] = 1\n",
    "        myData.loc[(myData[colQuery] != temp[ii]),temp[ii]] = 0"
   ]
  },
  {
   "cell_type": "code",
   "execution_count": 77,
   "metadata": {},
   "outputs": [],
   "source": [
    "copyTest = wnf.copy()"
   ]
  },
  {
   "cell_type": "markdown",
   "metadata": {},
   "source": [
    "<a id='genre-name-one-hat-code-cell'> 1.1. One Hat Encoding <code>air_genre_name</code></a>"
   ]
  },
  {
   "cell_type": "code",
   "execution_count": 78,
   "metadata": {},
   "outputs": [
    {
     "name": "stdout",
     "output_type": "stream",
     "text": [
      "['Dining bar', 'Izakaya', 'Other', 'Italian/French', 'Cafe/Sweets', 'Japanese food', 'Bar/Cocktail', 'Creative cuisine', 'Western food', 'Yakiniku/Korean food', 'Asian', 'International cuisine', 'Okonomiyaki/Monja/Teppanyaki', 'Karaoke/Party']\n",
      "14\n"
     ]
    }
   ],
   "source": [
    "our_hat_code(copyTest,'air_genre_name')"
   ]
  },
  {
   "cell_type": "code",
   "execution_count": 79,
   "metadata": {},
   "outputs": [],
   "source": [
    "#copyTest.info()"
   ]
  },
  {
   "cell_type": "code",
   "execution_count": 80,
   "metadata": {},
   "outputs": [
    {
     "data": {
      "text/plain": [
       "<matplotlib.axes._subplots.AxesSubplot at 0x3dced1d0>"
      ]
     },
     "execution_count": 80,
     "metadata": {},
     "output_type": "execute_result"
    },
    {
     "data": {
      "image/png": "[encoded data removed]",
      "text/plain": [
       "<Figure size 1080x720 with 2 Axes>"
      ]
     },
     "metadata": {
      "needs_background": "light"
     },
     "output_type": "display_data"
    }
   ],
   "source": [
    "f,axa = plt.subplots(1,1,figsize=(15,10))\n",
    "sns.heatmap(copyTest.corr()[['visitors']])"
   ]
  },
  {
   "cell_type": "code",
   "execution_count": 81,
   "metadata": {},
   "outputs": [],
   "source": [
    "#f,axa = plt.subplots(1,1,figsize=(15,10))\n",
    "#sns.heatmap(wnf.corr()[['visitors']])"
   ]
  },
  {
   "cell_type": "markdown",
   "metadata": {},
   "source": [
    "<a id='cluster-one-hat-code-cell'> 1.2. One Hat Encoding <code>cluster</code></a>"
   ]
  },
  {
   "cell_type": "code",
   "execution_count": 82,
   "metadata": {},
   "outputs": [
    {
     "name": "stdout",
     "output_type": "stream",
     "text": [
      "[0, 3, 2, 7, 4, 1, 5, 6]\n",
      "8\n"
     ]
    }
   ],
   "source": [
    "copyTest['cluster'] = copyTest['cluster'].astype('category')\n",
    "our_hat_code(copyTest,'cluster')"
   ]
  },
  {
   "cell_type": "code",
   "execution_count": 83,
   "metadata": {},
   "outputs": [
    {
     "data": {
      "text/plain": [
       "<matplotlib.axes._subplots.AxesSubplot at 0x3dde9240>"
      ]
     },
     "execution_count": 83,
     "metadata": {},
     "output_type": "execute_result"
    },
    {
     "data": {
      "image/png": "[encoded data removed]",
      "text/plain": [
       "<Figure size 1080x720 with 2 Axes>"
      ]
     },
     "metadata": {
      "needs_background": "light"
     },
     "output_type": "display_data"
    }
   ],
   "source": [
    "f,axa = plt.subplots(1,1,figsize=(15,10))\n",
    "sns.heatmap(copyTest.corr()[['visitors']])"
   ]
  },
  {
   "cell_type": "code",
   "execution_count": 84,
   "metadata": {},
   "outputs": [
    {
     "name": "stdout",
     "output_type": "stream",
     "text": [
      "<class 'pandas.core.frame.DataFrame'>\n",
      "Int64Index: 252108 entries, 0 to 252107\n",
      "Data columns (total 57 columns):\n",
      "air_store_id                    252108 non-null object\n",
      "visit_date                      252108 non-null object\n",
      "visitors                        252108 non-null int64\n",
      "reserve_visitors_air            28064 non-null float64\n",
      "air_date_diff                   28064 non-null float64\n",
      "air_genre_name                  252108 non-null object\n",
      "latitude                        252108 non-null float64\n",
      "longitude                       252108 non-null float64\n",
      "reserve_visitors_hpg            13550 non-null float64\n",
      "cluster                         252108 non-null category\n",
      "prefecture                      252108 non-null object\n",
      "month                           252108 non-null int64\n",
      "date                            252108 non-null int64\n",
      "dw                              252108 non-null int64\n",
      "dy                              252108 non-null int64\n",
      "day_of_week                     252108 non-null object\n",
      "holiday_flg                     252108 non-null int64\n",
      "sunday                          252108 non-null int64\n",
      "saturday                        252108 non-null int64\n",
      "sat/sun/hol                     252108 non-null float64\n",
      "calendar_date                   252108 non-null object\n",
      "precipitation                   252108 non-null float64\n",
      "avg_temperature                 252108 non-null float64\n",
      "total_snowfall                  23531 non-null float64\n",
      "deepest_snowfall                24806 non-null float64\n",
      "hours_sunlight                  252108 non-null float64\n",
      "avg_wind_speed                  252108 non-null float64\n",
      "avg_vapor_pressure              251940 non-null float64\n",
      "avg_humidity                    251940 non-null float64\n",
      "avg_sea_pressure                252108 non-null float64\n",
      "avg_local_pressure              252108 non-null float64\n",
      "solar_radiation                 211441 non-null float64\n",
      "cloud_cover                     252108 non-null float64\n",
      "high_temperature                252108 non-null float64\n",
      "low_temperature                 252108 non-null float64\n",
      "Dining bar                      252108 non-null int64\n",
      "Izakaya                         252108 non-null int64\n",
      "Other                           252108 non-null int64\n",
      "Italian/French                  252108 non-null int64\n",
      "Cafe/Sweets                     252108 non-null int64\n",
      "Japanese food                   252108 non-null int64\n",
      "Bar/Cocktail                    252108 non-null int64\n",
      "Creative cuisine                252108 non-null int64\n",
      "Western food                    252108 non-null int64\n",
      "Yakiniku/Korean food            252108 non-null int64\n",
      "Asian                           252108 non-null int64\n",
      "International cuisine           252108 non-null int64\n",
      "Okonomiyaki/Monja/Teppanyaki    252108 non-null int64\n",
      "Karaoke/Party                   252108 non-null int64\n",
      "0                               252108 non-null int64\n",
      "3                               252108 non-null int64\n",
      "2                               252108 non-null int64\n",
      "7                               252108 non-null int64\n",
      "4                               252108 non-null int64\n",
      "1                               252108 non-null int64\n",
      "5                               252108 non-null int64\n",
      "6                               252108 non-null int64\n",
      "dtypes: category(1), float64(20), int64(30), object(6)\n",
      "memory usage: 109.9+ MB\n"
     ]
    }
   ],
   "source": [
    "copyTest.info()"
   ]
  },
  {
   "cell_type": "code",
   "execution_count": null,
   "metadata": {},
   "outputs": [],
   "source": []
  }
 ],
 "metadata": {
  "kernelspec": {
   "display_name": "Python 3",
   "language": "python",
   "name": "python3"
  },
  "language_info": {
   "codemirror_mode": {
    "name": "ipython",
    "version": 3
   },
   "file_extension": ".py",
   "mimetype": "text/x-python",
   "name": "python",
   "nbconvert_exporter": "python",
   "pygments_lexer": "ipython3",
   "version": "3.7.1"
  }
 },
 "nbformat": 4,
 "nbformat_minor": 1
}
