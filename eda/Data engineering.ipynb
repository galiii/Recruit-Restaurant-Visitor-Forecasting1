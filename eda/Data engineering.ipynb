{
 "cells": [
  {
   "cell_type": "code",
   "execution_count": null,
   "metadata": {},
   "outputs": [],
   "source": []
  },
  {
   "cell_type": "markdown",
   "metadata": {},
   "source": [
    "* 0. [Variable engineering](#variable-engineering-cell)\n",
    "* 1. [Load Libraries](#load-libraries-cell)\n",
    "* 2. [Data Wrangling](#data-wrangling-cell)\n",
    "     * 0 . [Data Aggregation](#data-aggregation-cell)\n",
    "     * 1 . [Air Visit Data table](#air-visit-cell)\n",
    "     * 2 . [Air Reserve](#air-reserve-cell)\n",
    "     * 3 . [Hpg Reserve table](#hpg-reserve-cell)\n",
    " \n",
    " \n",
    "* 3. [Convert the date format and group by date reservation data.](#convert-date-format-cell) \n",
    "    * 1.1 [Air Reserve date format](#airres-date-format-cell)\n",
    "    * 1.2 [Adding new column Air Reserve: res_date_diff](#res-date-diff-cell)\n",
    "    * 1.3 [Adding new table medianDiff](#air-median-cell)\n",
    "    * 1.4 [Adding new table sumDiff](#airres-visit-sum-cell)\n",
    "    * 1.4 [Adding new table airres_visit_sum](#airres-visit-sum-cell)\n",
    "    * 1.5 [Adding new table sumVisitors](#visit-sum-cell)\n",
    "    * 1.6 [MERGE MEDIAN (diff date) and SUM(visitors reserve)](#merge1)\n",
    "    * 2.1 [HPG Reserve date format](#hpgres-date-format-cell)\n",
    "    * 2.2 [Adding new column HPG Reserve: hpg_res_date_diff](#hpg-date-diff-cell)\n",
    "    * 2.3 [Adding new table hpgMedianDiff](#hpg-median-cell)\n",
    "    * 2.4 [Adding new table hpgSumVisitors](#hpgres-visit-sum-cell)\n",
    "    * 2.5 [MERGE MEDIAN (diff date) and SUM(visitors reserve)](#hpgres-grup-cell)\n",
    "\n",
    "\n",
    "\n",
    "* 4. [Data aggregation 2](#data-aggregation2-cell)\n",
    "    * 1.1 [AIR Merge tables airvisit and airresgrupp](#air-new-table-cell)\n",
    "    * 1.2 [AIRVISSTOR Merge tables air and airstore](#airvisstor-new-table-cell)\n",
    "    * 1.3 [AIRREL Merge tables airvisstor and rel](#airrel-new-table-cell)\n",
    "    * 2.1 [HPG Merge tables hpgres_grup and hpgstore](#hpg-new-table-cell)\n",
    "    * 2.2 [HPGREL Merge tables hpg and rel](#hpgrel-new-table-cell)\n",
    "    * 3 . [full merge with airrel and hpgres_grup](#full3-cell)\n",
    "    \n",
    "    \n",
    "* 5. [Geography Clustering](#geography-clustering-cell)\n",
    "    * 1. [KMeans cluster](#kmeans-cell)\n",
    "            * 1.1 [Full table after cluster](#full-kmeans-cell)\n",
    "            * 1.2 [Full Graphs (HPG AIR) cluster](#full-graph-cell)\n",
    "            * 2.1 [Separate the first part of the name of the region](#region1-cell)\n",
    "            * 2.2 [We calculate what percentage of all restaurants are in each region](#region2-cell)\n",
    "            * 3 [Explain](#region3-cell)\n",
    "        \n",
    "\n",
    "\n",
    "* 6. [Cousine Genres](#cousine-genres-cell)\n",
    "\n",
    "\n",
    "* 7. [Japanese Holidays and date conversion](#japanese-holidays-cell)\n",
    "\n",
    "* 8. [Weather Data](#weather-cell)\n",
    "\n",
    "* 9. [Missing values](#missing-values-cell)\n",
    "\n",
    "* 10. [Variable selection](#variable-selection-cell)\n",
    "    * 0. [Graph Variable selection](#graph-variable-selection-cell)\n",
    "    * 1 . [One Hat Encoding function](#one-hat-code-cell)\n",
    "           * 1.1 [One Hat Encoding air_genre_name](#genre-name-one-hat-code-cell)\n",
    "           * 1.2 [One Hat Encoding cluster](#cluster-one-hat-code-cell)\n",
    "           \n"
   ]
  },
  {
   "cell_type": "markdown",
   "metadata": {
    "_cell_guid": "3d031044-522c-4468-83f6-15c2fef96bd8",
    "_uuid": "ca266113f6bd4ce070fda0e120d5895adf6e37c8"
   },
   "source": [
    "## <a id='variable-engineering-cell'>0 Variable engineering</a>"
   ]
  },
  {
   "cell_type": "markdown",
   "metadata": {
    "_cell_guid": "5b61c995-7921-449d-b253-04baaf697dde",
    "_uuid": "c01cce3cca8b6d8fb276d7979bc7c416de7a1d0b"
   },
   "source": [
    " The aim of this challenge is to predict the future numbers of restaurant visitors. This makes it a Time Series Forecasting problem. The data was collected from Japanese restaurants. We have chosen this project, because the data set is small and easily accessible.<br>\n",
    " The project is very important and interesting for us because it is a real data set, and real business problem.\n"
   ]
  },
  {
   "cell_type": "markdown",
   "metadata": {
    "_cell_guid": "6632454f-47ef-45da-9462-ca1ccce1b126",
    "_uuid": "d70d9ef0a6a1778ecdb1a4d30e073cc733e9723b"
   },
   "source": [
    "In this section, we create new variables.Change their types.Check the relevance of each variable for the future model.<br>\n",
    "let's try!!!"
   ]
  },
  {
   "cell_type": "markdown",
   "metadata": {},
   "source": [
    "## <a id='load-libraries-cell'>1 Load libraries</a>\n",
    "\\\\( P(A \\mid B) = \\frac{P(B \\mid A) \\, P(A)}{P(B)} \\\\)"
   ]
  },
  {
   "cell_type": "code",
   "execution_count": 201,
   "metadata": {},
   "outputs": [],
   "source": [
    "import numpy as np #It provides a high-performance multidimensional array object, and tools for working with these arrays\n",
    "import pandas as pd #\n",
    "from subprocess import check_output\n",
    "import matplotlib.pyplot as plt\n",
    "import seaborn as sns\n",
    "\n",
    "%matplotlib inline\n",
    "import matplotlib\n",
    "matplotlib.style.use('ggplot')"
   ]
  },
  {
   "cell_type": "markdown",
   "metadata": {
    "_cell_guid": "51340418-bc4c-422c-b818-e298c00cee01",
    "_uuid": "fb62ece54cd6bae9192911b8b1498dfd73b393b8"
   },
   "source": [
    "## <a id='data-wrangling-cell'>2 Data Wrangling</a>"
   ]
  },
  {
   "cell_type": "markdown",
   "metadata": {
    "_cell_guid": "b1f1bc79-03aa-4f3a-ba5d-c7051b767f5f",
    "_uuid": "e04ca75b09b5d84327ceb7fa2c4e88df51dd2c4e"
   },
   "source": [
    "The training data covers the dates from 2016 until April 2017. The test set covers the last week of April and May of 2017. The test set is split based on time (the public fold coming first, the private fold following the public) and covers a chosen subset of the air restaurants. Note that the test set intentionally spans a holiday week in Japan called the \"Golden Week.\""
   ]
  },
  {
   "cell_type": "markdown",
   "metadata": {},
   "source": [
    "## <a id='data-aggregation-cell'> 2.0 Data Aggregation</a>"
   ]
  },
  {
   "cell_type": "code",
   "execution_count": 202,
   "metadata": {
    "_cell_guid": "899733d1-b239-4cb5-9d87-b16f9ab0111b",
    "_uuid": "b8e3eceff3d3edb5f3617fd5a7799f0947fb9f60"
   },
   "outputs": [],
   "source": [
    "airres = pd.read_csv('../input/air_reserve.csv')\n",
    "airstore = pd.read_csv('../input/air_store_info.csv')\n",
    "hpgres = pd.read_csv('../input/hpg_reserve.csv')\n",
    "hpgstore = pd.read_csv('../input/hpg_store_info.csv')\n",
    "airvisit = pd.read_csv('../input/air_visit_data.csv')\n",
    "dates = pd.read_csv('../input/date_info.csv')\n",
    "wd = pd.read_csv('../input/WeatherData.csv')\n",
    "rel = pd.read_csv('../input/store_id_relation.csv')\n",
    "test = pd.read_csv('../input/sample_submission.csv')"
   ]
  },
  {
   "cell_type": "markdown",
   "metadata": {},
   "source": [
    "##### <a id='air-reserve-cell'>2.0.1 Air Visit Data table</a>"
   ]
  },
  {
   "cell_type": "code",
   "execution_count": 203,
   "metadata": {
    "scrolled": true
   },
   "outputs": [
    {
     "data": {
      "text/html": [
       "<div>\n",
       "<style scoped>\n",
       "    .dataframe tbody tr th:only-of-type {\n",
       "        vertical-align: middle;\n",
       "    }\n",
       "\n",
       "    .dataframe tbody tr th {\n",
       "        vertical-align: top;\n",
       "    }\n",
       "\n",
       "    .dataframe thead th {\n",
       "        text-align: right;\n",
       "    }\n",
       "</style>\n",
       "<table border=\"1\" class=\"dataframe\">\n",
       "  <thead>\n",
       "    <tr style=\"text-align: right;\">\n",
       "      <th></th>\n",
       "      <th>air_store_id</th>\n",
       "      <th>visit_date</th>\n",
       "      <th>visitors</th>\n",
       "    </tr>\n",
       "  </thead>\n",
       "  <tbody>\n",
       "    <tr>\n",
       "      <th>252107</th>\n",
       "      <td>air_24e8414b9b07decb</td>\n",
       "      <td>2017-04-22</td>\n",
       "      <td>5</td>\n",
       "    </tr>\n",
       "  </tbody>\n",
       "</table>\n",
       "</div>"
      ],
      "text/plain": [
       "                air_store_id  visit_date  visitors\n",
       "252107  air_24e8414b9b07decb  2017-04-22         5"
      ]
     },
     "execution_count": 203,
     "metadata": {},
     "output_type": "execute_result"
    }
   ],
   "source": [
    "airvisit.tail(1)"
   ]
  },
  {
   "cell_type": "markdown",
   "metadata": {},
   "source": [
    "##### <a id='air-visit-cell'>2.0.2 Air Reserve table</a>"
   ]
  },
  {
   "cell_type": "code",
   "execution_count": 204,
   "metadata": {
    "scrolled": true
   },
   "outputs": [
    {
     "data": {
      "text/html": [
       "<div>\n",
       "<style scoped>\n",
       "    .dataframe tbody tr th:only-of-type {\n",
       "        vertical-align: middle;\n",
       "    }\n",
       "\n",
       "    .dataframe tbody tr th {\n",
       "        vertical-align: top;\n",
       "    }\n",
       "\n",
       "    .dataframe thead th {\n",
       "        text-align: right;\n",
       "    }\n",
       "</style>\n",
       "<table border=\"1\" class=\"dataframe\">\n",
       "  <thead>\n",
       "    <tr style=\"text-align: right;\">\n",
       "      <th></th>\n",
       "      <th>air_store_id</th>\n",
       "      <th>visit_datetime</th>\n",
       "      <th>reserve_datetime</th>\n",
       "      <th>reserve_visitors</th>\n",
       "    </tr>\n",
       "  </thead>\n",
       "  <tbody>\n",
       "    <tr>\n",
       "      <th>0</th>\n",
       "      <td>air_877f79706adbfb06</td>\n",
       "      <td>2016-01-01 19:00:00</td>\n",
       "      <td>2016-01-01 16:00:00</td>\n",
       "      <td>1</td>\n",
       "    </tr>\n",
       "  </tbody>\n",
       "</table>\n",
       "</div>"
      ],
      "text/plain": [
       "           air_store_id       visit_datetime     reserve_datetime  \\\n",
       "0  air_877f79706adbfb06  2016-01-01 19:00:00  2016-01-01 16:00:00   \n",
       "\n",
       "   reserve_visitors  \n",
       "0                 1  "
      ]
     },
     "execution_count": 204,
     "metadata": {},
     "output_type": "execute_result"
    }
   ],
   "source": [
    "airres.head(1)"
   ]
  },
  {
   "cell_type": "markdown",
   "metadata": {},
   "source": [
    "##### <a id='hpg-reserve-cell'>2.0.3 Hpg Reserve table</a>"
   ]
  },
  {
   "cell_type": "code",
   "execution_count": 205,
   "metadata": {
    "scrolled": true
   },
   "outputs": [
    {
     "data": {
      "text/html": [
       "<div>\n",
       "<style scoped>\n",
       "    .dataframe tbody tr th:only-of-type {\n",
       "        vertical-align: middle;\n",
       "    }\n",
       "\n",
       "    .dataframe tbody tr th {\n",
       "        vertical-align: top;\n",
       "    }\n",
       "\n",
       "    .dataframe thead th {\n",
       "        text-align: right;\n",
       "    }\n",
       "</style>\n",
       "<table border=\"1\" class=\"dataframe\">\n",
       "  <thead>\n",
       "    <tr style=\"text-align: right;\">\n",
       "      <th></th>\n",
       "      <th>hpg_store_id</th>\n",
       "      <th>visit_datetime</th>\n",
       "      <th>reserve_datetime</th>\n",
       "      <th>reserve_visitors</th>\n",
       "    </tr>\n",
       "  </thead>\n",
       "  <tbody>\n",
       "    <tr>\n",
       "      <th>0</th>\n",
       "      <td>hpg_c63f6f42e088e50f</td>\n",
       "      <td>2016-01-01 11:00:00</td>\n",
       "      <td>2016-01-01 09:00:00</td>\n",
       "      <td>1</td>\n",
       "    </tr>\n",
       "  </tbody>\n",
       "</table>\n",
       "</div>"
      ],
      "text/plain": [
       "           hpg_store_id       visit_datetime     reserve_datetime  \\\n",
       "0  hpg_c63f6f42e088e50f  2016-01-01 11:00:00  2016-01-01 09:00:00   \n",
       "\n",
       "   reserve_visitors  \n",
       "0                 1  "
      ]
     },
     "execution_count": 205,
     "metadata": {},
     "output_type": "execute_result"
    }
   ],
   "source": [
    "hpgres.head(1)"
   ]
  },
  {
   "cell_type": "markdown",
   "metadata": {},
   "source": [
    "## <a id='convert-date-format-cell'>3 Convert the date format and group by date reservation data.</a>"
   ]
  },
  {
   "cell_type": "markdown",
   "metadata": {},
   "source": [
    "We want to group reservation data from AIR and HPG by date on which registration was made.As we predict the total number of visitors at a particular time in a particular restaurant.We also calculate the time interval between the date of the order and the date of the visit of the restaurant."
   ]
  },
  {
   "cell_type": "markdown",
   "metadata": {},
   "source": [
    "<a id='airres-date-format-cell'>1.1 Air Reserve date format</a>"
   ]
  },
  {
   "cell_type": "code",
   "execution_count": 206,
   "metadata": {},
   "outputs": [],
   "source": [
    "#AIR\n",
    "######## COPY ######\n",
    "#copyAirRes = airres.copy()\n",
    "vdt = pd.to_datetime(airres.visit_datetime)\n",
    "rdt = pd.to_datetime(airres.reserve_datetime)\n",
    "airres['visit_date']=vdt.dt.date\n",
    "airres['rd']=rdt.dt.date"
   ]
  },
  {
   "cell_type": "code",
   "execution_count": 207,
   "metadata": {
    "scrolled": true
   },
   "outputs": [
    {
     "data": {
      "text/html": [
       "<div>\n",
       "<style scoped>\n",
       "    .dataframe tbody tr th:only-of-type {\n",
       "        vertical-align: middle;\n",
       "    }\n",
       "\n",
       "    .dataframe tbody tr th {\n",
       "        vertical-align: top;\n",
       "    }\n",
       "\n",
       "    .dataframe thead th {\n",
       "        text-align: right;\n",
       "    }\n",
       "</style>\n",
       "<table border=\"1\" class=\"dataframe\">\n",
       "  <thead>\n",
       "    <tr style=\"text-align: right;\">\n",
       "      <th></th>\n",
       "      <th>air_store_id</th>\n",
       "      <th>visit_datetime</th>\n",
       "      <th>reserve_datetime</th>\n",
       "      <th>reserve_visitors</th>\n",
       "      <th>visit_date</th>\n",
       "      <th>rd</th>\n",
       "    </tr>\n",
       "  </thead>\n",
       "  <tbody>\n",
       "    <tr>\n",
       "      <th>0</th>\n",
       "      <td>air_877f79706adbfb06</td>\n",
       "      <td>2016-01-01 19:00:00</td>\n",
       "      <td>2016-01-01 16:00:00</td>\n",
       "      <td>1</td>\n",
       "      <td>2016-01-01</td>\n",
       "      <td>2016-01-01</td>\n",
       "    </tr>\n",
       "  </tbody>\n",
       "</table>\n",
       "</div>"
      ],
      "text/plain": [
       "           air_store_id       visit_datetime     reserve_datetime  \\\n",
       "0  air_877f79706adbfb06  2016-01-01 19:00:00  2016-01-01 16:00:00   \n",
       "\n",
       "   reserve_visitors  visit_date          rd  \n",
       "0                 1  2016-01-01  2016-01-01  "
      ]
     },
     "execution_count": 207,
     "metadata": {},
     "output_type": "execute_result"
    }
   ],
   "source": [
    "airres.head(1)"
   ]
  },
  {
   "cell_type": "code",
   "execution_count": 208,
   "metadata": {},
   "outputs": [
    {
     "data": {
      "text/html": [
       "<div>\n",
       "<style scoped>\n",
       "    .dataframe tbody tr th:only-of-type {\n",
       "        vertical-align: middle;\n",
       "    }\n",
       "\n",
       "    .dataframe tbody tr th {\n",
       "        vertical-align: top;\n",
       "    }\n",
       "\n",
       "    .dataframe thead th {\n",
       "        text-align: right;\n",
       "    }\n",
       "</style>\n",
       "<table border=\"1\" class=\"dataframe\">\n",
       "  <thead>\n",
       "    <tr style=\"text-align: right;\">\n",
       "      <th></th>\n",
       "      <th>air_store_id</th>\n",
       "      <th>air_genre_name</th>\n",
       "      <th>air_area_name</th>\n",
       "      <th>latitude</th>\n",
       "      <th>longitude</th>\n",
       "    </tr>\n",
       "  </thead>\n",
       "  <tbody>\n",
       "    <tr>\n",
       "      <th>707</th>\n",
       "      <td>air_877f79706adbfb06</td>\n",
       "      <td>Japanese food</td>\n",
       "      <td>Tōkyō-to Minato-ku Shibakōen</td>\n",
       "      <td>35.658068</td>\n",
       "      <td>139.751599</td>\n",
       "    </tr>\n",
       "  </tbody>\n",
       "</table>\n",
       "</div>"
      ],
      "text/plain": [
       "             air_store_id air_genre_name                 air_area_name  \\\n",
       "707  air_877f79706adbfb06  Japanese food  Tōkyō-to Minato-ku Shibakōen   \n",
       "\n",
       "      latitude   longitude  \n",
       "707  35.658068  139.751599  "
      ]
     },
     "execution_count": 208,
     "metadata": {},
     "output_type": "execute_result"
    }
   ],
   "source": [
    "airstore[airstore['air_store_id']=='air_877f79706adbfb06']"
   ]
  },
  {
   "cell_type": "code",
   "execution_count": 209,
   "metadata": {
    "scrolled": true
   },
   "outputs": [
    {
     "name": "stdout",
     "output_type": "stream",
     "text": [
      "<class 'pandas.core.frame.DataFrame'>\n",
      "RangeIndex: 92378 entries, 0 to 92377\n",
      "Data columns (total 6 columns):\n",
      "air_store_id        92378 non-null object\n",
      "visit_datetime      92378 non-null object\n",
      "reserve_datetime    92378 non-null object\n",
      "reserve_visitors    92378 non-null int64\n",
      "visit_date          92378 non-null object\n",
      "rd                  92378 non-null object\n",
      "dtypes: int64(1), object(5)\n",
      "memory usage: 4.2+ MB\n"
     ]
    }
   ],
   "source": [
    "airres.info()"
   ]
  },
  {
   "cell_type": "markdown",
   "metadata": {},
   "source": [
    "<a id='res-date-diff-cell'>1.2 Adding new column Air Reserve: <code>air_date_diff</code></a>"
   ]
  },
  {
   "cell_type": "code",
   "execution_count": 210,
   "metadata": {
    "scrolled": true
   },
   "outputs": [],
   "source": [
    "airres['res_date_diff'] = airres.apply(lambda r: (r['visit_date'] - r['rd']).days, axis=1)"
   ]
  },
  {
   "cell_type": "markdown",
   "metadata": {},
   "source": [
    "<a id='air-median-cell'>1.3 Adding new table medianDiff</a>"
   ]
  },
  {
   "cell_type": "code",
   "execution_count": 211,
   "metadata": {},
   "outputs": [],
   "source": [
    "medianDiff= airres.groupby(['air_store_id','visit_date'], as_index=False)['res_date_diff'].median() # by days"
   ]
  },
  {
   "cell_type": "markdown",
   "metadata": {},
   "source": [
    " <a id='airres-visit-sum-cell'>Adding new table <code>sumDiff</code></a>"
   ]
  },
  {
   "cell_type": "code",
   "execution_count": 212,
   "metadata": {},
   "outputs": [],
   "source": [
    "sumDiff = airres.groupby(['air_store_id','visit_date'], as_index=False)['res_date_diff'].sum() # by days"
   ]
  },
  {
   "cell_type": "markdown",
   "metadata": {},
   "source": [
    "<a id='visit-sum-cell'>1.5 Adding new table <code>sumVisitors</code></a>"
   ]
  },
  {
   "cell_type": "code",
   "execution_count": 213,
   "metadata": {},
   "outputs": [],
   "source": [
    "# By Visitors\n",
    "sumVisitors = airres.groupby(['air_store_id','visit_date'], as_index=False)['reserve_visitors'].sum()"
   ]
  },
  {
   "cell_type": "code",
   "execution_count": 214,
   "metadata": {},
   "outputs": [
    {
     "name": "stdout",
     "output_type": "stream",
     "text": [
      "All the days that in median diff is : 433\n",
      "All the days that in sum diff is : 433\n",
      "All the Resturants that in air reserve  : 314\n",
      "All the days that in air reserve  : 433\n",
      "All the days that in VISITORS : 433\n",
      "135962\n"
     ]
    }
   ],
   "source": [
    "#medianDiff.tail(10)\n",
    "print(\"All the days that in median diff is :\",len(medianDiff['visit_date'].unique()))\n",
    "print(\"All the days that in sum diff is :\",len(sumDiff['visit_date'].unique()))\n",
    "print(\"All the Resturants that in air reserve  :\",len(airres['air_store_id'].unique()))\n",
    "print(\"All the days that in air reserve  :\",len(airres['visit_date'].unique()))\n",
    "print(\"All the days that in VISITORS :\",len(sumVisitors['visit_date'].unique()))\n",
    "print(433*314)\n",
    "\n",
    "#type(medianDiff)"
   ]
  },
  {
   "cell_type": "code",
   "execution_count": 215,
   "metadata": {},
   "outputs": [
    {
     "data": {
      "text/html": [
       "<div>\n",
       "<style scoped>\n",
       "    .dataframe tbody tr th:only-of-type {\n",
       "        vertical-align: middle;\n",
       "    }\n",
       "\n",
       "    .dataframe tbody tr th {\n",
       "        vertical-align: top;\n",
       "    }\n",
       "\n",
       "    .dataframe thead th {\n",
       "        text-align: right;\n",
       "    }\n",
       "</style>\n",
       "<table border=\"1\" class=\"dataframe\">\n",
       "  <thead>\n",
       "    <tr style=\"text-align: right;\">\n",
       "      <th></th>\n",
       "      <th>air_store_id</th>\n",
       "      <th>visit_date</th>\n",
       "      <th>res_date_diff</th>\n",
       "    </tr>\n",
       "  </thead>\n",
       "  <tbody>\n",
       "    <tr>\n",
       "      <th>29820</th>\n",
       "      <td>air_fea5dc9594450608</td>\n",
       "      <td>2017-04-15</td>\n",
       "      <td>10</td>\n",
       "    </tr>\n",
       "    <tr>\n",
       "      <th>29821</th>\n",
       "      <td>air_fea5dc9594450608</td>\n",
       "      <td>2017-04-18</td>\n",
       "      <td>6</td>\n",
       "    </tr>\n",
       "    <tr>\n",
       "      <th>29822</th>\n",
       "      <td>air_fea5dc9594450608</td>\n",
       "      <td>2017-04-19</td>\n",
       "      <td>0</td>\n",
       "    </tr>\n",
       "    <tr>\n",
       "      <th>29823</th>\n",
       "      <td>air_fea5dc9594450608</td>\n",
       "      <td>2017-04-20</td>\n",
       "      <td>3</td>\n",
       "    </tr>\n",
       "    <tr>\n",
       "      <th>29824</th>\n",
       "      <td>air_fea5dc9594450608</td>\n",
       "      <td>2017-04-21</td>\n",
       "      <td>29</td>\n",
       "    </tr>\n",
       "    <tr>\n",
       "      <th>29825</th>\n",
       "      <td>air_fea5dc9594450608</td>\n",
       "      <td>2017-04-22</td>\n",
       "      <td>0</td>\n",
       "    </tr>\n",
       "    <tr>\n",
       "      <th>29826</th>\n",
       "      <td>air_fea5dc9594450608</td>\n",
       "      <td>2017-04-25</td>\n",
       "      <td>9</td>\n",
       "    </tr>\n",
       "    <tr>\n",
       "      <th>29827</th>\n",
       "      <td>air_fea5dc9594450608</td>\n",
       "      <td>2017-04-28</td>\n",
       "      <td>29</td>\n",
       "    </tr>\n",
       "    <tr>\n",
       "      <th>29828</th>\n",
       "      <td>air_fea5dc9594450608</td>\n",
       "      <td>2017-05-20</td>\n",
       "      <td>34</td>\n",
       "    </tr>\n",
       "    <tr>\n",
       "      <th>29829</th>\n",
       "      <td>air_fee8dcf4d619598e</td>\n",
       "      <td>2017-01-09</td>\n",
       "      <td>16</td>\n",
       "    </tr>\n",
       "  </tbody>\n",
       "</table>\n",
       "</div>"
      ],
      "text/plain": [
       "               air_store_id  visit_date  res_date_diff\n",
       "29820  air_fea5dc9594450608  2017-04-15             10\n",
       "29821  air_fea5dc9594450608  2017-04-18              6\n",
       "29822  air_fea5dc9594450608  2017-04-19              0\n",
       "29823  air_fea5dc9594450608  2017-04-20              3\n",
       "29824  air_fea5dc9594450608  2017-04-21             29\n",
       "29825  air_fea5dc9594450608  2017-04-22              0\n",
       "29826  air_fea5dc9594450608  2017-04-25              9\n",
       "29827  air_fea5dc9594450608  2017-04-28             29\n",
       "29828  air_fea5dc9594450608  2017-05-20             34\n",
       "29829  air_fee8dcf4d619598e  2017-01-09             16"
      ]
     },
     "execution_count": 215,
     "metadata": {},
     "output_type": "execute_result"
    }
   ],
   "source": [
    "sumDiff.tail(10)"
   ]
  },
  {
   "cell_type": "code",
   "execution_count": 216,
   "metadata": {},
   "outputs": [
    {
     "data": {
      "text/html": [
       "<div>\n",
       "<style scoped>\n",
       "    .dataframe tbody tr th:only-of-type {\n",
       "        vertical-align: middle;\n",
       "    }\n",
       "\n",
       "    .dataframe tbody tr th {\n",
       "        vertical-align: top;\n",
       "    }\n",
       "\n",
       "    .dataframe thead th {\n",
       "        text-align: right;\n",
       "    }\n",
       "</style>\n",
       "<table border=\"1\" class=\"dataframe\">\n",
       "  <thead>\n",
       "    <tr style=\"text-align: right;\">\n",
       "      <th></th>\n",
       "      <th>air_store_id</th>\n",
       "      <th>visit_date</th>\n",
       "      <th>reserve_visitors</th>\n",
       "    </tr>\n",
       "  </thead>\n",
       "  <tbody>\n",
       "    <tr>\n",
       "      <th>0</th>\n",
       "      <td>air_00a91d42b08b08d9</td>\n",
       "      <td>2016-10-31</td>\n",
       "      <td>2</td>\n",
       "    </tr>\n",
       "    <tr>\n",
       "      <th>1</th>\n",
       "      <td>air_00a91d42b08b08d9</td>\n",
       "      <td>2016-12-05</td>\n",
       "      <td>9</td>\n",
       "    </tr>\n",
       "  </tbody>\n",
       "</table>\n",
       "</div>"
      ],
      "text/plain": [
       "           air_store_id  visit_date  reserve_visitors\n",
       "0  air_00a91d42b08b08d9  2016-10-31                 2\n",
       "1  air_00a91d42b08b08d9  2016-12-05                 9"
      ]
     },
     "execution_count": 216,
     "metadata": {},
     "output_type": "execute_result"
    }
   ],
   "source": [
    "sumVisitors.head(2)\n",
    "#airres = pd.merge(medianDiff,how='left')"
   ]
  },
  {
   "cell_type": "markdown",
   "metadata": {},
   "source": [
    "<a id='merge1'>1.6 MERGE MEDIAN (diff date) and SUM(visitors reserve)</a>"
   ]
  },
  {
   "cell_type": "code",
   "execution_count": 217,
   "metadata": {},
   "outputs": [],
   "source": [
    "# MERGE MEDIAN (diff date) and SUM(visitors reserve)\n",
    "sumVisitors = pd.merge(sumVisitors,medianDiff,how='left',on=['air_store_id','visit_date'])"
   ]
  },
  {
   "cell_type": "code",
   "execution_count": 218,
   "metadata": {},
   "outputs": [
    {
     "data": {
      "text/html": [
       "<div>\n",
       "<style scoped>\n",
       "    .dataframe tbody tr th:only-of-type {\n",
       "        vertical-align: middle;\n",
       "    }\n",
       "\n",
       "    .dataframe tbody tr th {\n",
       "        vertical-align: top;\n",
       "    }\n",
       "\n",
       "    .dataframe thead th {\n",
       "        text-align: right;\n",
       "    }\n",
       "</style>\n",
       "<table border=\"1\" class=\"dataframe\">\n",
       "  <thead>\n",
       "    <tr style=\"text-align: right;\">\n",
       "      <th></th>\n",
       "      <th>air_store_id</th>\n",
       "      <th>visit_date</th>\n",
       "      <th>reserve_visitors</th>\n",
       "      <th>res_date_diff</th>\n",
       "    </tr>\n",
       "  </thead>\n",
       "  <tbody>\n",
       "    <tr>\n",
       "      <th>0</th>\n",
       "      <td>air_00a91d42b08b08d9</td>\n",
       "      <td>2016-10-31</td>\n",
       "      <td>2</td>\n",
       "      <td>0.0</td>\n",
       "    </tr>\n",
       "    <tr>\n",
       "      <th>1</th>\n",
       "      <td>air_00a91d42b08b08d9</td>\n",
       "      <td>2016-12-05</td>\n",
       "      <td>9</td>\n",
       "      <td>4.0</td>\n",
       "    </tr>\n",
       "    <tr>\n",
       "      <th>2</th>\n",
       "      <td>air_00a91d42b08b08d9</td>\n",
       "      <td>2016-12-14</td>\n",
       "      <td>18</td>\n",
       "      <td>6.0</td>\n",
       "    </tr>\n",
       "    <tr>\n",
       "      <th>3</th>\n",
       "      <td>air_00a91d42b08b08d9</td>\n",
       "      <td>2016-12-17</td>\n",
       "      <td>2</td>\n",
       "      <td>6.0</td>\n",
       "    </tr>\n",
       "    <tr>\n",
       "      <th>4</th>\n",
       "      <td>air_00a91d42b08b08d9</td>\n",
       "      <td>2016-12-20</td>\n",
       "      <td>4</td>\n",
       "      <td>2.0</td>\n",
       "    </tr>\n",
       "    <tr>\n",
       "      <th>5</th>\n",
       "      <td>air_00a91d42b08b08d9</td>\n",
       "      <td>2017-02-18</td>\n",
       "      <td>9</td>\n",
       "      <td>5.0</td>\n",
       "    </tr>\n",
       "    <tr>\n",
       "      <th>6</th>\n",
       "      <td>air_00a91d42b08b08d9</td>\n",
       "      <td>2017-02-23</td>\n",
       "      <td>12</td>\n",
       "      <td>2.0</td>\n",
       "    </tr>\n",
       "    <tr>\n",
       "      <th>7</th>\n",
       "      <td>air_00a91d42b08b08d9</td>\n",
       "      <td>2017-03-01</td>\n",
       "      <td>3</td>\n",
       "      <td>11.0</td>\n",
       "    </tr>\n",
       "    <tr>\n",
       "      <th>8</th>\n",
       "      <td>air_00a91d42b08b08d9</td>\n",
       "      <td>2017-03-14</td>\n",
       "      <td>4</td>\n",
       "      <td>0.0</td>\n",
       "    </tr>\n",
       "    <tr>\n",
       "      <th>9</th>\n",
       "      <td>air_00a91d42b08b08d9</td>\n",
       "      <td>2017-03-21</td>\n",
       "      <td>3</td>\n",
       "      <td>5.0</td>\n",
       "    </tr>\n",
       "  </tbody>\n",
       "</table>\n",
       "</div>"
      ],
      "text/plain": [
       "           air_store_id  visit_date  reserve_visitors  res_date_diff\n",
       "0  air_00a91d42b08b08d9  2016-10-31                 2            0.0\n",
       "1  air_00a91d42b08b08d9  2016-12-05                 9            4.0\n",
       "2  air_00a91d42b08b08d9  2016-12-14                18            6.0\n",
       "3  air_00a91d42b08b08d9  2016-12-17                 2            6.0\n",
       "4  air_00a91d42b08b08d9  2016-12-20                 4            2.0\n",
       "5  air_00a91d42b08b08d9  2017-02-18                 9            5.0\n",
       "6  air_00a91d42b08b08d9  2017-02-23                12            2.0\n",
       "7  air_00a91d42b08b08d9  2017-03-01                 3           11.0\n",
       "8  air_00a91d42b08b08d9  2017-03-14                 4            0.0\n",
       "9  air_00a91d42b08b08d9  2017-03-21                 3            5.0"
      ]
     },
     "execution_count": 218,
     "metadata": {},
     "output_type": "execute_result"
    }
   ],
   "source": [
    "sumVisitors.head(10)"
   ]
  },
  {
   "cell_type": "code",
   "execution_count": 219,
   "metadata": {
    "scrolled": true
   },
   "outputs": [
    {
     "name": "stdout",
     "output_type": "stream",
     "text": [
      "<class 'pandas.core.frame.DataFrame'>\n",
      "Int64Index: 29830 entries, 0 to 29829\n",
      "Data columns (total 4 columns):\n",
      "air_store_id        29830 non-null object\n",
      "visit_date          29830 non-null object\n",
      "reserve_visitors    29830 non-null int64\n",
      "res_date_diff       29830 non-null float64\n",
      "dtypes: float64(1), int64(1), object(2)\n",
      "memory usage: 1.1+ MB\n"
     ]
    }
   ],
   "source": [
    "sumVisitors.info()"
   ]
  },
  {
   "cell_type": "code",
   "execution_count": 220,
   "metadata": {},
   "outputs": [
    {
     "data": {
      "text/html": [
       "<div>\n",
       "<style scoped>\n",
       "    .dataframe tbody tr th:only-of-type {\n",
       "        vertical-align: middle;\n",
       "    }\n",
       "\n",
       "    .dataframe tbody tr th {\n",
       "        vertical-align: top;\n",
       "    }\n",
       "\n",
       "    .dataframe thead th {\n",
       "        text-align: right;\n",
       "    }\n",
       "</style>\n",
       "<table border=\"1\" class=\"dataframe\">\n",
       "  <thead>\n",
       "    <tr style=\"text-align: right;\">\n",
       "      <th></th>\n",
       "      <th>reserve_visitors</th>\n",
       "      <th>res_date_diff</th>\n",
       "    </tr>\n",
       "  </thead>\n",
       "  <tbody>\n",
       "    <tr>\n",
       "      <th>count</th>\n",
       "      <td>29830.000000</td>\n",
       "      <td>29830.000000</td>\n",
       "    </tr>\n",
       "    <tr>\n",
       "      <th>mean</th>\n",
       "      <td>13.879149</td>\n",
       "      <td>5.598274</td>\n",
       "    </tr>\n",
       "    <tr>\n",
       "      <th>std</th>\n",
       "      <td>23.729264</td>\n",
       "      <td>9.755162</td>\n",
       "    </tr>\n",
       "    <tr>\n",
       "      <th>min</th>\n",
       "      <td>1.000000</td>\n",
       "      <td>0.000000</td>\n",
       "    </tr>\n",
       "    <tr>\n",
       "      <th>25%</th>\n",
       "      <td>4.000000</td>\n",
       "      <td>1.000000</td>\n",
       "    </tr>\n",
       "    <tr>\n",
       "      <th>50%</th>\n",
       "      <td>10.000000</td>\n",
       "      <td>2.500000</td>\n",
       "    </tr>\n",
       "    <tr>\n",
       "      <th>75%</th>\n",
       "      <td>18.000000</td>\n",
       "      <td>7.000000</td>\n",
       "    </tr>\n",
       "    <tr>\n",
       "      <th>max</th>\n",
       "      <td>2241.000000</td>\n",
       "      <td>349.500000</td>\n",
       "    </tr>\n",
       "  </tbody>\n",
       "</table>\n",
       "</div>"
      ],
      "text/plain": [
       "       reserve_visitors  res_date_diff\n",
       "count      29830.000000   29830.000000\n",
       "mean          13.879149       5.598274\n",
       "std           23.729264       9.755162\n",
       "min            1.000000       0.000000\n",
       "25%            4.000000       1.000000\n",
       "50%           10.000000       2.500000\n",
       "75%           18.000000       7.000000\n",
       "max         2241.000000     349.500000"
      ]
     },
     "execution_count": 220,
     "metadata": {},
     "output_type": "execute_result"
    }
   ],
   "source": [
    "sumVisitors.describe()"
   ]
  },
  {
   "cell_type": "code",
   "execution_count": 221,
   "metadata": {},
   "outputs": [],
   "source": [
    "nullInTable = sumVisitors.dropna()"
   ]
  },
  {
   "cell_type": "code",
   "execution_count": 222,
   "metadata": {},
   "outputs": [
    {
     "name": "stdout",
     "output_type": "stream",
     "text": [
      "<class 'pandas.core.frame.DataFrame'>\n",
      "RangeIndex: 92378 entries, 0 to 92377\n",
      "Data columns (total 7 columns):\n",
      "air_store_id        92378 non-null object\n",
      "visit_datetime      92378 non-null object\n",
      "reserve_datetime    92378 non-null object\n",
      "reserve_visitors    92378 non-null int64\n",
      "visit_date          92378 non-null object\n",
      "rd                  92378 non-null object\n",
      "res_date_diff       92378 non-null int64\n",
      "dtypes: int64(2), object(5)\n",
      "memory usage: 4.9+ MB\n"
     ]
    }
   ],
   "source": [
    "airres.info()"
   ]
  },
  {
   "cell_type": "code",
   "execution_count": 223,
   "metadata": {},
   "outputs": [
    {
     "data": {
      "text/html": [
       "<div>\n",
       "<style scoped>\n",
       "    .dataframe tbody tr th:only-of-type {\n",
       "        vertical-align: middle;\n",
       "    }\n",
       "\n",
       "    .dataframe tbody tr th {\n",
       "        vertical-align: top;\n",
       "    }\n",
       "\n",
       "    .dataframe thead th {\n",
       "        text-align: right;\n",
       "    }\n",
       "</style>\n",
       "<table border=\"1\" class=\"dataframe\">\n",
       "  <thead>\n",
       "    <tr style=\"text-align: right;\">\n",
       "      <th></th>\n",
       "      <th>air_store_id</th>\n",
       "      <th>visit_datetime</th>\n",
       "      <th>reserve_datetime</th>\n",
       "      <th>reserve_visitors</th>\n",
       "      <th>visit_date</th>\n",
       "      <th>rd</th>\n",
       "      <th>res_date_diff</th>\n",
       "    </tr>\n",
       "  </thead>\n",
       "  <tbody>\n",
       "    <tr>\n",
       "      <th>0</th>\n",
       "      <td>air_877f79706adbfb06</td>\n",
       "      <td>2016-01-01 19:00:00</td>\n",
       "      <td>2016-01-01 16:00:00</td>\n",
       "      <td>1</td>\n",
       "      <td>2016-01-01</td>\n",
       "      <td>2016-01-01</td>\n",
       "      <td>0</td>\n",
       "    </tr>\n",
       "    <tr>\n",
       "      <th>1</th>\n",
       "      <td>air_db4b38ebe7a7ceff</td>\n",
       "      <td>2016-01-01 19:00:00</td>\n",
       "      <td>2016-01-01 19:00:00</td>\n",
       "      <td>3</td>\n",
       "      <td>2016-01-01</td>\n",
       "      <td>2016-01-01</td>\n",
       "      <td>0</td>\n",
       "    </tr>\n",
       "    <tr>\n",
       "      <th>2</th>\n",
       "      <td>air_db4b38ebe7a7ceff</td>\n",
       "      <td>2016-01-01 19:00:00</td>\n",
       "      <td>2016-01-01 19:00:00</td>\n",
       "      <td>6</td>\n",
       "      <td>2016-01-01</td>\n",
       "      <td>2016-01-01</td>\n",
       "      <td>0</td>\n",
       "    </tr>\n",
       "    <tr>\n",
       "      <th>3</th>\n",
       "      <td>air_877f79706adbfb06</td>\n",
       "      <td>2016-01-01 20:00:00</td>\n",
       "      <td>2016-01-01 16:00:00</td>\n",
       "      <td>2</td>\n",
       "      <td>2016-01-01</td>\n",
       "      <td>2016-01-01</td>\n",
       "      <td>0</td>\n",
       "    </tr>\n",
       "    <tr>\n",
       "      <th>4</th>\n",
       "      <td>air_db80363d35f10926</td>\n",
       "      <td>2016-01-01 20:00:00</td>\n",
       "      <td>2016-01-01 01:00:00</td>\n",
       "      <td>5</td>\n",
       "      <td>2016-01-01</td>\n",
       "      <td>2016-01-01</td>\n",
       "      <td>0</td>\n",
       "    </tr>\n",
       "  </tbody>\n",
       "</table>\n",
       "</div>"
      ],
      "text/plain": [
       "           air_store_id       visit_datetime     reserve_datetime  \\\n",
       "0  air_877f79706adbfb06  2016-01-01 19:00:00  2016-01-01 16:00:00   \n",
       "1  air_db4b38ebe7a7ceff  2016-01-01 19:00:00  2016-01-01 19:00:00   \n",
       "2  air_db4b38ebe7a7ceff  2016-01-01 19:00:00  2016-01-01 19:00:00   \n",
       "3  air_877f79706adbfb06  2016-01-01 20:00:00  2016-01-01 16:00:00   \n",
       "4  air_db80363d35f10926  2016-01-01 20:00:00  2016-01-01 01:00:00   \n",
       "\n",
       "   reserve_visitors  visit_date          rd  res_date_diff  \n",
       "0                 1  2016-01-01  2016-01-01              0  \n",
       "1                 3  2016-01-01  2016-01-01              0  \n",
       "2                 6  2016-01-01  2016-01-01              0  \n",
       "3                 2  2016-01-01  2016-01-01              0  \n",
       "4                 5  2016-01-01  2016-01-01              0  "
      ]
     },
     "execution_count": 223,
     "metadata": {},
     "output_type": "execute_result"
    }
   ],
   "source": [
    "airres.head(5)"
   ]
  },
  {
   "cell_type": "code",
   "execution_count": 224,
   "metadata": {
    "scrolled": true
   },
   "outputs": [],
   "source": [
    "#airres.rename(columns={'vd':'visit_date'})"
   ]
  },
  {
   "cell_type": "code",
   "execution_count": 225,
   "metadata": {},
   "outputs": [
    {
     "data": {
      "text/plain": [
       "(92378, 7)"
      ]
     },
     "execution_count": 225,
     "metadata": {},
     "output_type": "execute_result"
    }
   ],
   "source": [
    "airres.shape"
   ]
  },
  {
   "cell_type": "code",
   "execution_count": 226,
   "metadata": {},
   "outputs": [
    {
     "data": {
      "text/html": [
       "<div>\n",
       "<style scoped>\n",
       "    .dataframe tbody tr th:only-of-type {\n",
       "        vertical-align: middle;\n",
       "    }\n",
       "\n",
       "    .dataframe tbody tr th {\n",
       "        vertical-align: top;\n",
       "    }\n",
       "\n",
       "    .dataframe thead th {\n",
       "        text-align: right;\n",
       "    }\n",
       "</style>\n",
       "<table border=\"1\" class=\"dataframe\">\n",
       "  <thead>\n",
       "    <tr style=\"text-align: right;\">\n",
       "      <th></th>\n",
       "      <th>hpg_store_id</th>\n",
       "      <th>visit_datetime</th>\n",
       "      <th>reserve_datetime</th>\n",
       "      <th>reserve_visitors</th>\n",
       "      <th>visit_date</th>\n",
       "      <th>rd</th>\n",
       "    </tr>\n",
       "  </thead>\n",
       "  <tbody>\n",
       "    <tr>\n",
       "      <th>0</th>\n",
       "      <td>hpg_c63f6f42e088e50f</td>\n",
       "      <td>2016-01-01 11:00:00</td>\n",
       "      <td>2016-01-01 09:00:00</td>\n",
       "      <td>1</td>\n",
       "      <td>2016-01-01</td>\n",
       "      <td>2016-01-01</td>\n",
       "    </tr>\n",
       "  </tbody>\n",
       "</table>\n",
       "</div>"
      ],
      "text/plain": [
       "           hpg_store_id       visit_datetime     reserve_datetime  \\\n",
       "0  hpg_c63f6f42e088e50f  2016-01-01 11:00:00  2016-01-01 09:00:00   \n",
       "\n",
       "   reserve_visitors  visit_date          rd  \n",
       "0                 1  2016-01-01  2016-01-01  "
      ]
     },
     "execution_count": 226,
     "metadata": {},
     "output_type": "execute_result"
    }
   ],
   "source": [
    "# HPG\n",
    "#hpgres = pd.read_csv('../input/hpg_reserve.csv')\n",
    "vdt = pd.to_datetime(hpgres.visit_datetime)\n",
    "rdt = pd.to_datetime(hpgres.reserve_datetime)\n",
    "hpgres['visit_date']=vdt.dt.date\n",
    "hpgres['rd']=rdt.dt.date\n",
    "hpgres.head(1)"
   ]
  },
  {
   "cell_type": "code",
   "execution_count": 227,
   "metadata": {
    "scrolled": true
   },
   "outputs": [
    {
     "name": "stdout",
     "output_type": "stream",
     "text": [
      "<class 'pandas.core.frame.DataFrame'>\n",
      "RangeIndex: 2000320 entries, 0 to 2000319\n",
      "Data columns (total 6 columns):\n",
      "hpg_store_id        object\n",
      "visit_datetime      object\n",
      "reserve_datetime    object\n",
      "reserve_visitors    int64\n",
      "visit_date          object\n",
      "rd                  object\n",
      "dtypes: int64(1), object(5)\n",
      "memory usage: 91.6+ MB\n"
     ]
    }
   ],
   "source": [
    "hpgres.info()"
   ]
  },
  {
   "cell_type": "markdown",
   "metadata": {},
   "source": [
    "<a id='hpg-date-diff-cell'>2.2 Adding new column HPG Reserve: <code>hpg_res_date_diff</code></a>"
   ]
  },
  {
   "cell_type": "code",
   "execution_count": 228,
   "metadata": {},
   "outputs": [],
   "source": [
    "hpgres['hpg_res_date_diff'] = hpgres.apply(lambda r: (r['visit_date'] - r['rd']).days, axis=1)"
   ]
  },
  {
   "cell_type": "code",
   "execution_count": 229,
   "metadata": {},
   "outputs": [],
   "source": [
    "\n",
    "#hpgres = hpgres.groupby(['hpg_store_id','vd'], as_index=False)\\\n",
    "#[['date_diff', 'reserve_visitors']].sum().rename(columns={'visit_datetime':'visit_date'})\n"
   ]
  },
  {
   "cell_type": "markdown",
   "metadata": {},
   "source": [
    "<a id='hpg-median-cell'>2.3 Adding new table <code>hpgMedianDiff</code></a>"
   ]
  },
  {
   "cell_type": "code",
   "execution_count": 230,
   "metadata": {},
   "outputs": [],
   "source": [
    "# BY DAYS\n",
    "hpgMedianDiff= hpgres.groupby(['hpg_store_id','visit_date'], as_index=False)['hpg_res_date_diff'].median() # by days\n",
    "#sumDiff = airres.groupby(['air_store_id','visit_date'], as_index=False)['res_date_diff'].sum() # by days"
   ]
  },
  {
   "cell_type": "markdown",
   "metadata": {},
   "source": [
    "<a id='hpgres-visit-sum-cell'>2.4 Adding new table hpgSumVisitors</a>"
   ]
  },
  {
   "cell_type": "code",
   "execution_count": 231,
   "metadata": {},
   "outputs": [],
   "source": [
    "# By Visitors\n",
    "hpgSumVisitors = hpgres.groupby(['hpg_store_id','visit_date'], as_index=False)['reserve_visitors'].sum()"
   ]
  },
  {
   "cell_type": "code",
   "execution_count": null,
   "metadata": {},
   "outputs": [],
   "source": []
  },
  {
   "cell_type": "code",
   "execution_count": 232,
   "metadata": {},
   "outputs": [
    {
     "data": {
      "text/html": [
       "<div>\n",
       "<style scoped>\n",
       "    .dataframe tbody tr th:only-of-type {\n",
       "        vertical-align: middle;\n",
       "    }\n",
       "\n",
       "    .dataframe tbody tr th {\n",
       "        vertical-align: top;\n",
       "    }\n",
       "\n",
       "    .dataframe thead th {\n",
       "        text-align: right;\n",
       "    }\n",
       "</style>\n",
       "<table border=\"1\" class=\"dataframe\">\n",
       "  <thead>\n",
       "    <tr style=\"text-align: right;\">\n",
       "      <th></th>\n",
       "      <th>hpg_store_id</th>\n",
       "      <th>visit_datetime</th>\n",
       "      <th>reserve_datetime</th>\n",
       "      <th>reserve_visitors</th>\n",
       "      <th>visit_date</th>\n",
       "      <th>rd</th>\n",
       "      <th>hpg_res_date_diff</th>\n",
       "    </tr>\n",
       "  </thead>\n",
       "  <tbody>\n",
       "    <tr>\n",
       "      <th>0</th>\n",
       "      <td>hpg_c63f6f42e088e50f</td>\n",
       "      <td>2016-01-01 11:00:00</td>\n",
       "      <td>2016-01-01 09:00:00</td>\n",
       "      <td>1</td>\n",
       "      <td>2016-01-01</td>\n",
       "      <td>2016-01-01</td>\n",
       "      <td>0</td>\n",
       "    </tr>\n",
       "    <tr>\n",
       "      <th>1</th>\n",
       "      <td>hpg_dac72789163a3f47</td>\n",
       "      <td>2016-01-01 13:00:00</td>\n",
       "      <td>2016-01-01 06:00:00</td>\n",
       "      <td>3</td>\n",
       "      <td>2016-01-01</td>\n",
       "      <td>2016-01-01</td>\n",
       "      <td>0</td>\n",
       "    </tr>\n",
       "  </tbody>\n",
       "</table>\n",
       "</div>"
      ],
      "text/plain": [
       "           hpg_store_id       visit_datetime     reserve_datetime  \\\n",
       "0  hpg_c63f6f42e088e50f  2016-01-01 11:00:00  2016-01-01 09:00:00   \n",
       "1  hpg_dac72789163a3f47  2016-01-01 13:00:00  2016-01-01 06:00:00   \n",
       "\n",
       "   reserve_visitors  visit_date          rd  hpg_res_date_diff  \n",
       "0                 1  2016-01-01  2016-01-01                  0  \n",
       "1                 3  2016-01-01  2016-01-01                  0  "
      ]
     },
     "execution_count": 232,
     "metadata": {},
     "output_type": "execute_result"
    }
   ],
   "source": [
    "hpgres.head(2)"
   ]
  },
  {
   "cell_type": "code",
   "execution_count": 233,
   "metadata": {},
   "outputs": [
    {
     "name": "stdout",
     "output_type": "stream",
     "text": [
      "<class 'pandas.core.frame.DataFrame'>\n",
      "RangeIndex: 2000320 entries, 0 to 2000319\n",
      "Data columns (total 7 columns):\n",
      "hpg_store_id         object\n",
      "visit_datetime       object\n",
      "reserve_datetime     object\n",
      "reserve_visitors     int64\n",
      "visit_date           object\n",
      "rd                   object\n",
      "hpg_res_date_diff    int64\n",
      "dtypes: int64(2), object(5)\n",
      "memory usage: 106.8+ MB\n"
     ]
    }
   ],
   "source": [
    "hpgres.info()"
   ]
  },
  {
   "cell_type": "code",
   "execution_count": 234,
   "metadata": {},
   "outputs": [
    {
     "name": "stdout",
     "output_type": "stream",
     "text": [
      "<class 'pandas.core.frame.DataFrame'>\n",
      "Int64Index: 1355053 entries, 0 to 1355052\n",
      "Data columns (total 3 columns):\n",
      "hpg_store_id         1355053 non-null object\n",
      "visit_date           1355053 non-null object\n",
      "hpg_res_date_diff    1355053 non-null float64\n",
      "dtypes: float64(1), object(2)\n",
      "memory usage: 41.4+ MB\n"
     ]
    }
   ],
   "source": [
    "hpgMedianDiff.info()"
   ]
  },
  {
   "cell_type": "code",
   "execution_count": 235,
   "metadata": {},
   "outputs": [
    {
     "data": {
      "text/html": [
       "<div>\n",
       "<style scoped>\n",
       "    .dataframe tbody tr th:only-of-type {\n",
       "        vertical-align: middle;\n",
       "    }\n",
       "\n",
       "    .dataframe tbody tr th {\n",
       "        vertical-align: top;\n",
       "    }\n",
       "\n",
       "    .dataframe thead th {\n",
       "        text-align: right;\n",
       "    }\n",
       "</style>\n",
       "<table border=\"1\" class=\"dataframe\">\n",
       "  <thead>\n",
       "    <tr style=\"text-align: right;\">\n",
       "      <th></th>\n",
       "      <th>hpg_store_id</th>\n",
       "      <th>visit_date</th>\n",
       "      <th>hpg_res_date_diff</th>\n",
       "    </tr>\n",
       "  </thead>\n",
       "  <tbody>\n",
       "    <tr>\n",
       "      <th>0</th>\n",
       "      <td>hpg_001112ef76b9802c</td>\n",
       "      <td>2016-02-26</td>\n",
       "      <td>17.0</td>\n",
       "    </tr>\n",
       "    <tr>\n",
       "      <th>1</th>\n",
       "      <td>hpg_001112ef76b9802c</td>\n",
       "      <td>2016-03-17</td>\n",
       "      <td>14.0</td>\n",
       "    </tr>\n",
       "  </tbody>\n",
       "</table>\n",
       "</div>"
      ],
      "text/plain": [
       "           hpg_store_id  visit_date  hpg_res_date_diff\n",
       "0  hpg_001112ef76b9802c  2016-02-26               17.0\n",
       "1  hpg_001112ef76b9802c  2016-03-17               14.0"
      ]
     },
     "execution_count": 235,
     "metadata": {},
     "output_type": "execute_result"
    }
   ],
   "source": [
    "hpgMedianDiff.head(2)"
   ]
  },
  {
   "cell_type": "code",
   "execution_count": 236,
   "metadata": {
    "scrolled": true
   },
   "outputs": [
    {
     "data": {
      "text/html": [
       "<div>\n",
       "<style scoped>\n",
       "    .dataframe tbody tr th:only-of-type {\n",
       "        vertical-align: middle;\n",
       "    }\n",
       "\n",
       "    .dataframe tbody tr th {\n",
       "        vertical-align: top;\n",
       "    }\n",
       "\n",
       "    .dataframe thead th {\n",
       "        text-align: right;\n",
       "    }\n",
       "</style>\n",
       "<table border=\"1\" class=\"dataframe\">\n",
       "  <thead>\n",
       "    <tr style=\"text-align: right;\">\n",
       "      <th></th>\n",
       "      <th>hpg_store_id</th>\n",
       "      <th>visit_date</th>\n",
       "      <th>reserve_visitors</th>\n",
       "    </tr>\n",
       "  </thead>\n",
       "  <tbody>\n",
       "    <tr>\n",
       "      <th>0</th>\n",
       "      <td>hpg_001112ef76b9802c</td>\n",
       "      <td>2016-02-26</td>\n",
       "      <td>9</td>\n",
       "    </tr>\n",
       "    <tr>\n",
       "      <th>1</th>\n",
       "      <td>hpg_001112ef76b9802c</td>\n",
       "      <td>2016-03-17</td>\n",
       "      <td>3</td>\n",
       "    </tr>\n",
       "  </tbody>\n",
       "</table>\n",
       "</div>"
      ],
      "text/plain": [
       "           hpg_store_id  visit_date  reserve_visitors\n",
       "0  hpg_001112ef76b9802c  2016-02-26                 9\n",
       "1  hpg_001112ef76b9802c  2016-03-17                 3"
      ]
     },
     "execution_count": 236,
     "metadata": {},
     "output_type": "execute_result"
    }
   ],
   "source": [
    "hpgSumVisitors.head(2)"
   ]
  },
  {
   "cell_type": "markdown",
   "metadata": {},
   "source": [
    "<a id='hpgres-grup-cell'>MERGE MEDIAN (diff date) and SUM(visitors reserve)</a>"
   ]
  },
  {
   "cell_type": "code",
   "execution_count": 237,
   "metadata": {},
   "outputs": [],
   "source": [
    "# MERGE MEDIAN (diff date) and SUM(visitors reserve)\n",
    "hpgSumVisitors = pd.merge(hpgSumVisitors,hpgMedianDiff,how='left',on=['hpg_store_id','visit_date'])"
   ]
  },
  {
   "cell_type": "code",
   "execution_count": 238,
   "metadata": {},
   "outputs": [
    {
     "data": {
      "text/html": [
       "<div>\n",
       "<style scoped>\n",
       "    .dataframe tbody tr th:only-of-type {\n",
       "        vertical-align: middle;\n",
       "    }\n",
       "\n",
       "    .dataframe tbody tr th {\n",
       "        vertical-align: top;\n",
       "    }\n",
       "\n",
       "    .dataframe thead th {\n",
       "        text-align: right;\n",
       "    }\n",
       "</style>\n",
       "<table border=\"1\" class=\"dataframe\">\n",
       "  <thead>\n",
       "    <tr style=\"text-align: right;\">\n",
       "      <th></th>\n",
       "      <th>reserve_visitors</th>\n",
       "      <th>hpg_res_date_diff</th>\n",
       "    </tr>\n",
       "  </thead>\n",
       "  <tbody>\n",
       "    <tr>\n",
       "      <th>count</th>\n",
       "      <td>1.355053e+06</td>\n",
       "      <td>1.355053e+06</td>\n",
       "    </tr>\n",
       "    <tr>\n",
       "      <th>mean</th>\n",
       "      <td>7.489886e+00</td>\n",
       "      <td>7.003639e+00</td>\n",
       "    </tr>\n",
       "    <tr>\n",
       "      <th>std</th>\n",
       "      <td>8.524270e+00</td>\n",
       "      <td>8.001880e+00</td>\n",
       "    </tr>\n",
       "    <tr>\n",
       "      <th>min</th>\n",
       "      <td>1.000000e+00</td>\n",
       "      <td>0.000000e+00</td>\n",
       "    </tr>\n",
       "    <tr>\n",
       "      <th>25%</th>\n",
       "      <td>3.000000e+00</td>\n",
       "      <td>2.000000e+00</td>\n",
       "    </tr>\n",
       "    <tr>\n",
       "      <th>50%</th>\n",
       "      <td>5.000000e+00</td>\n",
       "      <td>4.000000e+00</td>\n",
       "    </tr>\n",
       "    <tr>\n",
       "      <th>75%</th>\n",
       "      <td>9.000000e+00</td>\n",
       "      <td>9.000000e+00</td>\n",
       "    </tr>\n",
       "    <tr>\n",
       "      <th>max</th>\n",
       "      <td>3.340000e+02</td>\n",
       "      <td>3.680000e+02</td>\n",
       "    </tr>\n",
       "  </tbody>\n",
       "</table>\n",
       "</div>"
      ],
      "text/plain": [
       "       reserve_visitors  hpg_res_date_diff\n",
       "count      1.355053e+06       1.355053e+06\n",
       "mean       7.489886e+00       7.003639e+00\n",
       "std        8.524270e+00       8.001880e+00\n",
       "min        1.000000e+00       0.000000e+00\n",
       "25%        3.000000e+00       2.000000e+00\n",
       "50%        5.000000e+00       4.000000e+00\n",
       "75%        9.000000e+00       9.000000e+00\n",
       "max        3.340000e+02       3.680000e+02"
      ]
     },
     "execution_count": 238,
     "metadata": {},
     "output_type": "execute_result"
    }
   ],
   "source": [
    "hpgSumVisitors.describe()"
   ]
  },
  {
   "cell_type": "markdown",
   "metadata": {},
   "source": [
    "After each section we check that there are no null values"
   ]
  },
  {
   "cell_type": "markdown",
   "metadata": {},
   "source": [
    "## <a id='data-aggregation2-cell'>Data aggregation</a>"
   ]
  },
  {
   "cell_type": "code",
   "execution_count": 239,
   "metadata": {
    "scrolled": true
   },
   "outputs": [],
   "source": [
    "air = pd.merge(sumVisitors,airstore, on='air_store_id')\n",
    "hpg = pd.merge(hpgSumVisitors,hpgstore,on='hpg_store_id')\n",
    "\n",
    "#airrel.head(2)"
   ]
  },
  {
   "cell_type": "code",
   "execution_count": 240,
   "metadata": {
    "scrolled": true
   },
   "outputs": [
    {
     "name": "stdout",
     "output_type": "stream",
     "text": [
      "<class 'pandas.core.frame.DataFrame'>\n",
      "Int64Index: 29830 entries, 0 to 29829\n",
      "Data columns (total 8 columns):\n",
      "air_store_id        29830 non-null object\n",
      "visit_date          29830 non-null object\n",
      "reserve_visitors    29830 non-null int64\n",
      "res_date_diff       29830 non-null float64\n",
      "air_genre_name      29830 non-null object\n",
      "air_area_name       29830 non-null object\n",
      "latitude            29830 non-null float64\n",
      "longitude           29830 non-null float64\n",
      "dtypes: float64(3), int64(1), object(4)\n",
      "memory usage: 2.0+ MB\n"
     ]
    }
   ],
   "source": [
    "air.head(2)\n",
    "air.info()"
   ]
  },
  {
   "cell_type": "code",
   "execution_count": 241,
   "metadata": {},
   "outputs": [
    {
     "name": "stdout",
     "output_type": "stream",
     "text": [
      "<class 'pandas.core.frame.DataFrame'>\n",
      "Int64Index: 561109 entries, 0 to 561108\n",
      "Data columns (total 8 columns):\n",
      "hpg_store_id         561109 non-null object\n",
      "visit_date           561109 non-null object\n",
      "reserve_visitors     561109 non-null int64\n",
      "hpg_res_date_diff    561109 non-null float64\n",
      "hpg_genre_name       561109 non-null object\n",
      "hpg_area_name        561109 non-null object\n",
      "latitude             561109 non-null float64\n",
      "longitude            561109 non-null float64\n",
      "dtypes: float64(3), int64(1), object(4)\n",
      "memory usage: 38.5+ MB\n"
     ]
    }
   ],
   "source": [
    "hpg.info()"
   ]
  },
  {
   "cell_type": "code",
   "execution_count": 242,
   "metadata": {},
   "outputs": [],
   "source": [
    "airrel = pd.merge(air,rel,how='left',on='air_store_id')\n",
    "hpgrel = pd.merge(hpg,rel,how='left',on='hpg_store_id')"
   ]
  },
  {
   "cell_type": "code",
   "execution_count": 243,
   "metadata": {},
   "outputs": [
    {
     "data": {
      "text/html": [
       "<div>\n",
       "<style scoped>\n",
       "    .dataframe tbody tr th:only-of-type {\n",
       "        vertical-align: middle;\n",
       "    }\n",
       "\n",
       "    .dataframe tbody tr th {\n",
       "        vertical-align: top;\n",
       "    }\n",
       "\n",
       "    .dataframe thead th {\n",
       "        text-align: right;\n",
       "    }\n",
       "</style>\n",
       "<table border=\"1\" class=\"dataframe\">\n",
       "  <thead>\n",
       "    <tr style=\"text-align: right;\">\n",
       "      <th></th>\n",
       "      <th>hpg_store_id</th>\n",
       "      <th>visit_date</th>\n",
       "      <th>reserve_visitors</th>\n",
       "      <th>hpg_res_date_diff</th>\n",
       "      <th>hpg_genre_name</th>\n",
       "      <th>hpg_area_name</th>\n",
       "      <th>latitude</th>\n",
       "      <th>longitude</th>\n",
       "      <th>air_store_id</th>\n",
       "    </tr>\n",
       "  </thead>\n",
       "  <tbody>\n",
       "    <tr>\n",
       "      <th>0</th>\n",
       "      <td>hpg_001ce40a1f873e4f</td>\n",
       "      <td>2016-01-13</td>\n",
       "      <td>4</td>\n",
       "      <td>3.0</td>\n",
       "      <td>Japanese style</td>\n",
       "      <td>Hyōgo-ken Kōbe-shi None</td>\n",
       "      <td>34.692109</td>\n",
       "      <td>135.191698</td>\n",
       "      <td>NaN</td>\n",
       "    </tr>\n",
       "  </tbody>\n",
       "</table>\n",
       "</div>"
      ],
      "text/plain": [
       "           hpg_store_id  visit_date  reserve_visitors  hpg_res_date_diff  \\\n",
       "0  hpg_001ce40a1f873e4f  2016-01-13                 4                3.0   \n",
       "\n",
       "   hpg_genre_name            hpg_area_name   latitude   longitude air_store_id  \n",
       "0  Japanese style  Hyōgo-ken Kōbe-shi None  34.692109  135.191698          NaN  "
      ]
     },
     "execution_count": 243,
     "metadata": {},
     "output_type": "execute_result"
    }
   ],
   "source": [
    "hpgrel.head(1)"
   ]
  },
  {
   "cell_type": "code",
   "execution_count": 244,
   "metadata": {},
   "outputs": [
    {
     "name": "stdout",
     "output_type": "stream",
     "text": [
      "<class 'pandas.core.frame.DataFrame'>\n",
      "Int64Index: 561109 entries, 0 to 561108\n",
      "Data columns (total 9 columns):\n",
      "hpg_store_id         561109 non-null object\n",
      "visit_date           561109 non-null object\n",
      "reserve_visitors     561109 non-null int64\n",
      "hpg_res_date_diff    561109 non-null float64\n",
      "hpg_genre_name       561109 non-null object\n",
      "hpg_area_name        561109 non-null object\n",
      "latitude             561109 non-null float64\n",
      "longitude            561109 non-null float64\n",
      "air_store_id         8877 non-null object\n",
      "dtypes: float64(3), int64(1), object(5)\n",
      "memory usage: 42.8+ MB\n"
     ]
    }
   ],
   "source": [
    "hpgrel.info()"
   ]
  },
  {
   "cell_type": "code",
   "execution_count": 245,
   "metadata": {},
   "outputs": [
    {
     "name": "stdout",
     "output_type": "stream",
     "text": [
      "<class 'pandas.core.frame.DataFrame'>\n",
      "Int64Index: 29830 entries, 0 to 29829\n",
      "Data columns (total 9 columns):\n",
      "air_store_id        29830 non-null object\n",
      "visit_date          29830 non-null object\n",
      "reserve_visitors    29830 non-null int64\n",
      "res_date_diff       29830 non-null float64\n",
      "air_genre_name      29830 non-null object\n",
      "air_area_name       29830 non-null object\n",
      "latitude            29830 non-null float64\n",
      "longitude           29830 non-null float64\n",
      "hpg_store_id        12646 non-null object\n",
      "dtypes: float64(3), int64(1), object(5)\n",
      "memory usage: 2.3+ MB\n"
     ]
    }
   ],
   "source": [
    "airrel.info()"
   ]
  },
  {
   "cell_type": "markdown",
   "metadata": {},
   "source": [
    "In this step, we see that there are very few intersections in the two systems AIR and HPG."
   ]
  },
  {
   "cell_type": "code",
   "execution_count": 246,
   "metadata": {},
   "outputs": [
    {
     "name": "stdout",
     "output_type": "stream",
     "text": [
      "there are  29830  restaurants with AIR and  561109  with HPG. 150  have both.\n"
     ]
    }
   ],
   "source": [
    "full = pd.merge(airrel,hpgrel,how='left')\n",
    "print(\"there are \",len(air),\" restaurants with AIR and \",len(hpg),\" with HPG.\",len(rel),' have both.')"
   ]
  },
  {
   "cell_type": "code",
   "execution_count": 247,
   "metadata": {},
   "outputs": [],
   "source": [
    "#full.rename(columns={'vd':'visit_date'})"
   ]
  },
  {
   "cell_type": "code",
   "execution_count": 248,
   "metadata": {},
   "outputs": [
    {
     "name": "stdout",
     "output_type": "stream",
     "text": [
      "<class 'pandas.core.frame.DataFrame'>\n",
      "Int64Index: 29830 entries, 0 to 29829\n",
      "Data columns (total 12 columns):\n",
      "air_store_id         29830 non-null object\n",
      "visit_date           29830 non-null object\n",
      "reserve_visitors     29830 non-null int64\n",
      "res_date_diff        29830 non-null float64\n",
      "air_genre_name       29830 non-null object\n",
      "air_area_name        29830 non-null object\n",
      "latitude             29830 non-null float64\n",
      "longitude            29830 non-null float64\n",
      "hpg_store_id         12646 non-null object\n",
      "hpg_res_date_diff    0 non-null float64\n",
      "hpg_genre_name       0 non-null object\n",
      "hpg_area_name        0 non-null object\n",
      "dtypes: float64(4), int64(1), object(7)\n",
      "memory usage: 3.0+ MB\n"
     ]
    }
   ],
   "source": [
    "full.info()"
   ]
  },
  {
   "cell_type": "code",
   "execution_count": 249,
   "metadata": {},
   "outputs": [],
   "source": [
    "tableNull = full.dropna()\n"
   ]
  },
  {
   "cell_type": "code",
   "execution_count": 250,
   "metadata": {},
   "outputs": [
    {
     "data": {
      "text/html": [
       "<div>\n",
       "<style scoped>\n",
       "    .dataframe tbody tr th:only-of-type {\n",
       "        vertical-align: middle;\n",
       "    }\n",
       "\n",
       "    .dataframe tbody tr th {\n",
       "        vertical-align: top;\n",
       "    }\n",
       "\n",
       "    .dataframe thead th {\n",
       "        text-align: right;\n",
       "    }\n",
       "</style>\n",
       "<table border=\"1\" class=\"dataframe\">\n",
       "  <thead>\n",
       "    <tr style=\"text-align: right;\">\n",
       "      <th></th>\n",
       "      <th>air_store_id</th>\n",
       "      <th>visit_date</th>\n",
       "      <th>reserve_visitors</th>\n",
       "      <th>res_date_diff</th>\n",
       "      <th>air_genre_name</th>\n",
       "      <th>air_area_name</th>\n",
       "      <th>latitude</th>\n",
       "      <th>longitude</th>\n",
       "      <th>hpg_store_id</th>\n",
       "      <th>hpg_res_date_diff</th>\n",
       "      <th>hpg_genre_name</th>\n",
       "      <th>hpg_area_name</th>\n",
       "    </tr>\n",
       "  </thead>\n",
       "  <tbody>\n",
       "  </tbody>\n",
       "</table>\n",
       "</div>"
      ],
      "text/plain": [
       "Empty DataFrame\n",
       "Columns: [air_store_id, visit_date, reserve_visitors, res_date_diff, air_genre_name, air_area_name, latitude, longitude, hpg_store_id, hpg_res_date_diff, hpg_genre_name, hpg_area_name]\n",
       "Index: []"
      ]
     },
     "execution_count": 250,
     "metadata": {},
     "output_type": "execute_result"
    }
   ],
   "source": [
    "tableNull.head(2)"
   ]
  },
  {
   "cell_type": "markdown",
   "metadata": {},
   "source": [
    "Missing Values Now we can start the analysis by looking at the percentage of missing values in each column. Missing values are fine when we do Exploratory Data Analysis, but they will have to be filled in for machine learning methods.  Following is a function that calculates the number of missing values and the percentage of the total values that are missing for each column. As with many tasks in data science, I did not write this function myself, but rather found it online in a Stack Overflow forum!"
   ]
  },
  {
   "cell_type": "markdown",
   "metadata": {
    "_cell_guid": "631c0199-cd66-465b-8058-079ebf12fadd",
    "_uuid": "bf4a642de8ed75f0da36b171b735b1277ab662ab"
   },
   "source": [
    "## <a id='geography-clustering-cell'>Geography clustering</a>"
   ]
  },
  {
   "cell_type": "markdown",
   "metadata": {
    "_cell_guid": "2fda040b-40f9-43e0-a582-c3bf53679086",
    "_uuid": "f4196cb08968577f49f3908abe7eccd8ab74483b"
   },
   "source": [
    "Apparently Japan's terittory is divided in 8 regions which are not official administrative units, but have been traditionally used as the regional division of Japan in a number of contexts [https://en.wikipedia.org/wiki/List_of_regions_of_Japan ]\n",
    "\n",
    "From north to south, the traditional regions are:\n",
    "* **Hokkaidō** (the island of Hokkaidō and nearby islands, population: 5,507,456, largest city: Sapporo)\n",
    "* **Tōhoku** region (northern Honshū, population: 9,335,088, largest city: Sendai)\n",
    "* **Kantō** region (eastern Honshū, population: 42,607,376, largest city: Tokyo)\n",
    "* **Chūbu region** (central Honshū, including Mt. Fuji, population: 21,714,995, largest city: Nagoya), sometimes divided into:\n",
    "   * Hokuriku region (northwestern Chūbu, largest city: Kanazawa)\n",
    "   * Kōshin'etsu region (northeastern Chūbu, largest city: Niigata)\n",
    "  * Tōkai region (southern Chūbu, largest city: Nagoya)\n",
    "* **Kansai or Kinki** region (west-central Honshū, including the old capital, Kyoto, population: 22,755,030, largest city: Osaka)\n",
    "* **Chūgoku** region (western Honshū, population: 7,561,899, largest city: Hiroshima)\n",
    "* **Shikoku** (island, population: 3,977,205, largest city: Matsuyama)\n",
    "* **Kyūshū** (island, population: 14,596,977, largest city: Fukuoka) which includes:\n",
    "  * Northern Kyushu: Fukuoka, Saga, Nagasaki and Ōita (largest city: Fukuoka)\n",
    "  * Southern Kyushu: Kumamoto, Miyazaki and Kagoshima (largest city: Kagoshima)\n",
    "  * Okinawa (largest city: Naha)"
   ]
  },
  {
   "cell_type": "markdown",
   "metadata": {},
   "source": [
    "<a id='region1-cell'>2.1 Separate the first part of the name of the region</a>"
   ]
  },
  {
   "cell_type": "code",
   "execution_count": 251,
   "metadata": {
    "scrolled": true
   },
   "outputs": [
    {
     "data": {
      "text/html": [
       "<div>\n",
       "<style scoped>\n",
       "    .dataframe tbody tr th:only-of-type {\n",
       "        vertical-align: middle;\n",
       "    }\n",
       "\n",
       "    .dataframe tbody tr th {\n",
       "        vertical-align: top;\n",
       "    }\n",
       "\n",
       "    .dataframe thead th {\n",
       "        text-align: right;\n",
       "    }\n",
       "</style>\n",
       "<table border=\"1\" class=\"dataframe\">\n",
       "  <thead>\n",
       "    <tr style=\"text-align: right;\">\n",
       "      <th></th>\n",
       "      <th>air_store_id</th>\n",
       "      <th>visit_date</th>\n",
       "      <th>reserve_visitors</th>\n",
       "      <th>res_date_diff</th>\n",
       "      <th>air_genre_name</th>\n",
       "      <th>air_area_name</th>\n",
       "      <th>latitude</th>\n",
       "      <th>longitude</th>\n",
       "      <th>hpg_store_id</th>\n",
       "      <th>hpg_res_date_diff</th>\n",
       "      <th>hpg_genre_name</th>\n",
       "      <th>hpg_area_name</th>\n",
       "      <th>prefecture</th>\n",
       "    </tr>\n",
       "  </thead>\n",
       "  <tbody>\n",
       "    <tr>\n",
       "      <th>0</th>\n",
       "      <td>air_00a91d42b08b08d9</td>\n",
       "      <td>2016-10-31</td>\n",
       "      <td>2</td>\n",
       "      <td>0.0</td>\n",
       "      <td>Italian/French</td>\n",
       "      <td>Tōkyō-to Chiyoda-ku Kudanminami</td>\n",
       "      <td>35.694003</td>\n",
       "      <td>139.753595</td>\n",
       "      <td>hpg_fbe603376b5980fc</td>\n",
       "      <td>NaN</td>\n",
       "      <td>NaN</td>\n",
       "      <td>NaN</td>\n",
       "      <td>Tōkyō-to</td>\n",
       "    </tr>\n",
       "  </tbody>\n",
       "</table>\n",
       "</div>"
      ],
      "text/plain": [
       "           air_store_id  visit_date  reserve_visitors  res_date_diff  \\\n",
       "0  air_00a91d42b08b08d9  2016-10-31                 2            0.0   \n",
       "\n",
       "   air_genre_name                    air_area_name   latitude   longitude  \\\n",
       "0  Italian/French  Tōkyō-to Chiyoda-ku Kudanminami  35.694003  139.753595   \n",
       "\n",
       "           hpg_store_id  hpg_res_date_diff hpg_genre_name hpg_area_name  \\\n",
       "0  hpg_fbe603376b5980fc                NaN            NaN           NaN   \n",
       "\n",
       "  prefecture  \n",
       "0   Tōkyō-to  "
      ]
     },
     "execution_count": 251,
     "metadata": {},
     "output_type": "execute_result"
    }
   ],
   "source": [
    "#separate the first part of the name of the region\n",
    "full['prefecture'] = full['air_area_name'].map(lambda x: str(x).split(' ')[0])\n",
    "full.head(1)"
   ]
  },
  {
   "cell_type": "markdown",
   "metadata": {},
   "source": [
    "### <a id='kmeans-cell'>1. KMeans cluster</a>"
   ]
  },
  {
   "cell_type": "code",
   "execution_count": 252,
   "metadata": {
    "_cell_guid": "b22b114a-460f-40a1-ac75-ec310536e66f",
    "_uuid": "dcc991a9081862e2dca69132bc4f2627fc9ce370"
   },
   "outputs": [],
   "source": [
    "# we do cluster analysis by geographic position(Longitude,Latitude)\n",
    "#the number of classes is equal to 9 because in Japan there are 9 areas(n_clusters=8)\n",
    "from sklearn.cluster import KMeans\n",
    "kmeans = KMeans(n_clusters=8, random_state=0).fit(full[['longitude','latitude']])\n",
    "full['cluster'] = kmeans.predict(full[['longitude','latitude']])"
   ]
  },
  {
   "cell_type": "markdown",
   "metadata": {},
   "source": [
    "<a id='full-kmeans-cell'>1.1 Full table after cluster</a>"
   ]
  },
  {
   "cell_type": "code",
   "execution_count": 253,
   "metadata": {
    "scrolled": true
   },
   "outputs": [
    {
     "data": {
      "text/html": [
       "<div>\n",
       "<style scoped>\n",
       "    .dataframe tbody tr th:only-of-type {\n",
       "        vertical-align: middle;\n",
       "    }\n",
       "\n",
       "    .dataframe tbody tr th {\n",
       "        vertical-align: top;\n",
       "    }\n",
       "\n",
       "    .dataframe thead th {\n",
       "        text-align: right;\n",
       "    }\n",
       "</style>\n",
       "<table border=\"1\" class=\"dataframe\">\n",
       "  <thead>\n",
       "    <tr style=\"text-align: right;\">\n",
       "      <th></th>\n",
       "      <th>air_store_id</th>\n",
       "      <th>visit_date</th>\n",
       "      <th>reserve_visitors</th>\n",
       "      <th>res_date_diff</th>\n",
       "      <th>air_genre_name</th>\n",
       "      <th>air_area_name</th>\n",
       "      <th>latitude</th>\n",
       "      <th>longitude</th>\n",
       "      <th>hpg_store_id</th>\n",
       "      <th>hpg_res_date_diff</th>\n",
       "      <th>hpg_genre_name</th>\n",
       "      <th>hpg_area_name</th>\n",
       "      <th>prefecture</th>\n",
       "      <th>cluster</th>\n",
       "    </tr>\n",
       "  </thead>\n",
       "  <tbody>\n",
       "    <tr>\n",
       "      <th>0</th>\n",
       "      <td>air_00a91d42b08b08d9</td>\n",
       "      <td>2016-10-31</td>\n",
       "      <td>2</td>\n",
       "      <td>0.0</td>\n",
       "      <td>Italian/French</td>\n",
       "      <td>Tōkyō-to Chiyoda-ku Kudanminami</td>\n",
       "      <td>35.694003</td>\n",
       "      <td>139.753595</td>\n",
       "      <td>hpg_fbe603376b5980fc</td>\n",
       "      <td>NaN</td>\n",
       "      <td>NaN</td>\n",
       "      <td>NaN</td>\n",
       "      <td>Tōkyō-to</td>\n",
       "      <td>3</td>\n",
       "    </tr>\n",
       "    <tr>\n",
       "      <th>1</th>\n",
       "      <td>air_00a91d42b08b08d9</td>\n",
       "      <td>2016-12-05</td>\n",
       "      <td>9</td>\n",
       "      <td>4.0</td>\n",
       "      <td>Italian/French</td>\n",
       "      <td>Tōkyō-to Chiyoda-ku Kudanminami</td>\n",
       "      <td>35.694003</td>\n",
       "      <td>139.753595</td>\n",
       "      <td>hpg_fbe603376b5980fc</td>\n",
       "      <td>NaN</td>\n",
       "      <td>NaN</td>\n",
       "      <td>NaN</td>\n",
       "      <td>Tōkyō-to</td>\n",
       "      <td>3</td>\n",
       "    </tr>\n",
       "    <tr>\n",
       "      <th>2</th>\n",
       "      <td>air_00a91d42b08b08d9</td>\n",
       "      <td>2016-12-14</td>\n",
       "      <td>18</td>\n",
       "      <td>6.0</td>\n",
       "      <td>Italian/French</td>\n",
       "      <td>Tōkyō-to Chiyoda-ku Kudanminami</td>\n",
       "      <td>35.694003</td>\n",
       "      <td>139.753595</td>\n",
       "      <td>hpg_fbe603376b5980fc</td>\n",
       "      <td>NaN</td>\n",
       "      <td>NaN</td>\n",
       "      <td>NaN</td>\n",
       "      <td>Tōkyō-to</td>\n",
       "      <td>3</td>\n",
       "    </tr>\n",
       "    <tr>\n",
       "      <th>3</th>\n",
       "      <td>air_00a91d42b08b08d9</td>\n",
       "      <td>2016-12-17</td>\n",
       "      <td>2</td>\n",
       "      <td>6.0</td>\n",
       "      <td>Italian/French</td>\n",
       "      <td>Tōkyō-to Chiyoda-ku Kudanminami</td>\n",
       "      <td>35.694003</td>\n",
       "      <td>139.753595</td>\n",
       "      <td>hpg_fbe603376b5980fc</td>\n",
       "      <td>NaN</td>\n",
       "      <td>NaN</td>\n",
       "      <td>NaN</td>\n",
       "      <td>Tōkyō-to</td>\n",
       "      <td>3</td>\n",
       "    </tr>\n",
       "    <tr>\n",
       "      <th>4</th>\n",
       "      <td>air_00a91d42b08b08d9</td>\n",
       "      <td>2016-12-20</td>\n",
       "      <td>4</td>\n",
       "      <td>2.0</td>\n",
       "      <td>Italian/French</td>\n",
       "      <td>Tōkyō-to Chiyoda-ku Kudanminami</td>\n",
       "      <td>35.694003</td>\n",
       "      <td>139.753595</td>\n",
       "      <td>hpg_fbe603376b5980fc</td>\n",
       "      <td>NaN</td>\n",
       "      <td>NaN</td>\n",
       "      <td>NaN</td>\n",
       "      <td>Tōkyō-to</td>\n",
       "      <td>3</td>\n",
       "    </tr>\n",
       "  </tbody>\n",
       "</table>\n",
       "</div>"
      ],
      "text/plain": [
       "           air_store_id  visit_date  reserve_visitors  res_date_diff  \\\n",
       "0  air_00a91d42b08b08d9  2016-10-31                 2            0.0   \n",
       "1  air_00a91d42b08b08d9  2016-12-05                 9            4.0   \n",
       "2  air_00a91d42b08b08d9  2016-12-14                18            6.0   \n",
       "3  air_00a91d42b08b08d9  2016-12-17                 2            6.0   \n",
       "4  air_00a91d42b08b08d9  2016-12-20                 4            2.0   \n",
       "\n",
       "   air_genre_name                    air_area_name   latitude   longitude  \\\n",
       "0  Italian/French  Tōkyō-to Chiyoda-ku Kudanminami  35.694003  139.753595   \n",
       "1  Italian/French  Tōkyō-to Chiyoda-ku Kudanminami  35.694003  139.753595   \n",
       "2  Italian/French  Tōkyō-to Chiyoda-ku Kudanminami  35.694003  139.753595   \n",
       "3  Italian/French  Tōkyō-to Chiyoda-ku Kudanminami  35.694003  139.753595   \n",
       "4  Italian/French  Tōkyō-to Chiyoda-ku Kudanminami  35.694003  139.753595   \n",
       "\n",
       "           hpg_store_id  hpg_res_date_diff hpg_genre_name hpg_area_name  \\\n",
       "0  hpg_fbe603376b5980fc                NaN            NaN           NaN   \n",
       "1  hpg_fbe603376b5980fc                NaN            NaN           NaN   \n",
       "2  hpg_fbe603376b5980fc                NaN            NaN           NaN   \n",
       "3  hpg_fbe603376b5980fc                NaN            NaN           NaN   \n",
       "4  hpg_fbe603376b5980fc                NaN            NaN           NaN   \n",
       "\n",
       "  prefecture  cluster  \n",
       "0   Tōkyō-to        3  \n",
       "1   Tōkyō-to        3  \n",
       "2   Tōkyō-to        3  \n",
       "3   Tōkyō-to        3  \n",
       "4   Tōkyō-to        3  "
      ]
     },
     "execution_count": 253,
     "metadata": {},
     "output_type": "execute_result"
    }
   ],
   "source": [
    "full.head()"
   ]
  },
  {
   "cell_type": "markdown",
   "metadata": {},
   "source": [
    "<a id='full-graph-cell'>1.2 Full Graphs (HPG AIR) cluster</a>"
   ]
  },
  {
   "cell_type": "code",
   "execution_count": 254,
   "metadata": {},
   "outputs": [
    {
     "data": {
      "image/png": "[encoded data removed]",
      "text/plain": [
       "<Figure size 1080x432 with 2 Axes>"
      ]
     },
     "metadata": {},
     "output_type": "display_data"
    }
   ],
   "source": [
    "f,axa = plt.subplots(1,2,figsize=(15,6))\n",
    "hist_clust = full.groupby(['cluster'],as_index=False).count()\n",
    "sns.barplot(x=hist_clust['cluster'],y=hist_clust['air_store_id'],ax=axa[0])\n",
    "sns.barplot(x=hist_clust['cluster'],y=hist_clust['hpg_store_id'],ax=axa[1])\n",
    "plt.show()"
   ]
  },
  {
   "cell_type": "markdown",
   "metadata": {},
   "source": [
    "On the map we can see by the color of the points that the classes are rightly spread out and distributed around the black points.<br>\n",
    "Now we check which class number is equal to which region."
   ]
  },
  {
   "cell_type": "code",
   "execution_count": 255,
   "metadata": {},
   "outputs": [],
   "source": [
    "#separate the first part of the name of the region\n",
    "#full['prefecture'] = full['air_area_name'].map(lambda x: str(x).split(' ')[0])\n",
    "#full.head(1)\n",
    "\n",
    "\n",
    "#duplTable = full.drop_duplicates()"
   ]
  },
  {
   "cell_type": "markdown",
   "metadata": {},
   "source": [
    "<a id='region2-cell'>We calculate what percentage of all restaurants are in each region</a>"
   ]
  },
  {
   "cell_type": "code",
   "execution_count": 256,
   "metadata": {},
   "outputs": [
    {
     "data": {
      "text/html": [
       "<div>\n",
       "<style scoped>\n",
       "    .dataframe tbody tr th:only-of-type {\n",
       "        vertical-align: middle;\n",
       "    }\n",
       "\n",
       "    .dataframe tbody tr th {\n",
       "        vertical-align: top;\n",
       "    }\n",
       "\n",
       "    .dataframe thead th {\n",
       "        text-align: right;\n",
       "    }\n",
       "</style>\n",
       "<table border=\"1\" class=\"dataframe\">\n",
       "  <thead>\n",
       "    <tr style=\"text-align: right;\">\n",
       "      <th></th>\n",
       "      <th>prefecture</th>\n",
       "      <th>cluster</th>\n",
       "      <th>air_store_id</th>\n",
       "      <th>percent</th>\n",
       "    </tr>\n",
       "  </thead>\n",
       "  <tbody>\n",
       "    <tr>\n",
       "      <th>0</th>\n",
       "      <td>Fukuoka-ken</td>\n",
       "      <td>5</td>\n",
       "      <td>4623</td>\n",
       "      <td>15.497821</td>\n",
       "    </tr>\n",
       "    <tr>\n",
       "      <th>1</th>\n",
       "      <td>Hiroshima-ken</td>\n",
       "      <td>0</td>\n",
       "      <td>2470</td>\n",
       "      <td>8.280255</td>\n",
       "    </tr>\n",
       "    <tr>\n",
       "      <th>2</th>\n",
       "      <td>Hokkaidō</td>\n",
       "      <td>2</td>\n",
       "      <td>3656</td>\n",
       "      <td>12.256118</td>\n",
       "    </tr>\n",
       "    <tr>\n",
       "      <th>3</th>\n",
       "      <td>Hyōgo-ken</td>\n",
       "      <td>4</td>\n",
       "      <td>2583</td>\n",
       "      <td>8.659068</td>\n",
       "    </tr>\n",
       "    <tr>\n",
       "      <th>4</th>\n",
       "      <td>Miyagi-ken</td>\n",
       "      <td>7</td>\n",
       "      <td>901</td>\n",
       "      <td>3.020449</td>\n",
       "    </tr>\n",
       "    <tr>\n",
       "      <th>5</th>\n",
       "      <td>Niigata-ken</td>\n",
       "      <td>1</td>\n",
       "      <td>1112</td>\n",
       "      <td>3.727791</td>\n",
       "    </tr>\n",
       "    <tr>\n",
       "      <th>6</th>\n",
       "      <td>Shizuoka-ken</td>\n",
       "      <td>6</td>\n",
       "      <td>1914</td>\n",
       "      <td>6.416359</td>\n",
       "    </tr>\n",
       "    <tr>\n",
       "      <th>7</th>\n",
       "      <td>Tōkyō-to</td>\n",
       "      <td>3</td>\n",
       "      <td>10430</td>\n",
       "      <td>34.964801</td>\n",
       "    </tr>\n",
       "    <tr>\n",
       "      <th>8</th>\n",
       "      <td>Ōsaka-fu</td>\n",
       "      <td>4</td>\n",
       "      <td>2141</td>\n",
       "      <td>7.177338</td>\n",
       "    </tr>\n",
       "  </tbody>\n",
       "</table>\n",
       "</div>"
      ],
      "text/plain": [
       "      prefecture  cluster  air_store_id    percent\n",
       "0    Fukuoka-ken        5          4623  15.497821\n",
       "1  Hiroshima-ken        0          2470   8.280255\n",
       "2       Hokkaidō        2          3656  12.256118\n",
       "3      Hyōgo-ken        4          2583   8.659068\n",
       "4     Miyagi-ken        7           901   3.020449\n",
       "5    Niigata-ken        1          1112   3.727791\n",
       "6   Shizuoka-ken        6          1914   6.416359\n",
       "7       Tōkyō-to        3         10430  34.964801\n",
       "8       Ōsaka-fu        4          2141   7.177338"
      ]
     },
     "execution_count": 256,
     "metadata": {},
     "output_type": "execute_result"
    }
   ],
   "source": [
    "aircluster = full.groupby(['prefecture','cluster',], as_index=False)['air_store_id'].count()\n",
    "aircluster['percent'] = aircluster.air_store_id/aircluster.air_store_id.sum()*100\n",
    "aircluster.head(10)\n",
    "#we calculate what percentage of all restaurants are in each region"
   ]
  },
  {
   "cell_type": "code",
   "execution_count": 257,
   "metadata": {},
   "outputs": [
    {
     "data": {
      "text/plain": [
       "Int64Index([0, 1, 2, 3, 4, 5, 6, 7, 8], dtype='int64')"
      ]
     },
     "execution_count": 257,
     "metadata": {},
     "output_type": "execute_result"
    }
   ],
   "source": [
    "#print(len(aircluster['air_store_id'].unique()))\n",
    "aircluster.index"
   ]
  },
  {
   "cell_type": "markdown",
   "metadata": {},
   "source": [
    "Let's try to relate the identified groups with the biggest cities:\n",
    "\n",
    "* Cluster 0 refers to Hiroshima-ken.\n",
    "* Cluster 1 refers  to Niigata-ken\n",
    "* Cluster 2 refers to Hokkaidō\n",
    "* Cluster 3 refers to Tōkyō-to\n",
    "* Cluster 4 refers to Hyōgo-ken\n",
    "* Cluster 5 referst to Fukuoka-ken\n",
    "* Cluster 6 refers to Shizuoka-ken\n",
    "* Cluster 7 refers to Miyagi-ken"
   ]
  },
  {
   "cell_type": "code",
   "execution_count": 258,
   "metadata": {},
   "outputs": [
    {
     "data": {
      "text/plain": [
       "29830"
      ]
     },
     "execution_count": 258,
     "metadata": {},
     "output_type": "execute_result"
    }
   ],
   "source": [
    "aircluster.air_store_id.sum()"
   ]
  },
  {
   "cell_type": "markdown",
   "metadata": {},
   "source": [
    "## <a id='cousine-genres-cell'>6 Cousine Genres</a>"
   ]
  },
  {
   "cell_type": "markdown",
   "metadata": {},
   "source": [
    "Now let's check out wht are the genres appreciated in Japan. I have prepared two heatmaps: the former with thenumber of restaurants for each genre (columns) in each region (row) for thos with AIR reservation system; the latter with the HPG.\n",
    "We are very interested in popularity by region and by genre.<br>\n",
    "These are the main factors determining the choice!"
   ]
  },
  {
   "cell_type": "code",
   "execution_count": 259,
   "metadata": {
    "scrolled": true
   },
   "outputs": [
    {
     "data": {
      "image/png": "[encoded data removed]",
      "text/plain": [
       "<Figure size 1872x576 with 2 Axes>"
      ]
     },
     "metadata": {},
     "output_type": "display_data"
    }
   ],
   "source": [
    "air_genre = full.loc[full.air_genre_name.isnull()==False].groupby(['cluster','air_genre_name'],as_index=False).count()\n",
    "genres = air.air_genre_name.unique()\n",
    "\n",
    "#i = 0\n",
    "fig=plt.figure(figsize=(26,8))\n",
    "ax2 = fig.add_subplot(122)\n",
    "hm = []\n",
    "for i in range(10):\n",
    "    genres_count = [ air_genre.loc[air_genre.cluster==i].loc[air_genre.air_genre_name==name]['air_store_id'].values[0] if name in air_genre.loc[air_genre.cluster==i].air_genre_name.values else 0 for name in genres] \n",
    "    hm.append(genres_count)\n",
    "hm = pd.DataFrame(hm,columns=genres,)\n",
    "sns.heatmap(hm.transpose(),cmap=\"YlGnBu\",ax=ax2)\n",
    "\n",
    "plt.show()"
   ]
  },
  {
   "cell_type": "markdown",
   "metadata": {},
   "source": [
    "From the resulting heat map we see that the most popular region is number \"3\"- Tōkyō-to and genre \"Italian\\French\". <br>\n",
    "Also we cen see that the in other region the most popula genre is \"Izakaya\". An izakaya (居酒屋) is a type of informal Japanese pub. They are casual places for after-work drinking. They have been compared to Irish pubs, tapas bars and early American saloons and taverns."
   ]
  },
  {
   "cell_type": "markdown",
   "metadata": {
    "_cell_guid": "5fe0a3b0-062c-4014-a800-91cfca021e16",
    "_uuid": "06910c8310d0f44bbd0b1b2bc41890f161d209bb"
   },
   "source": [
    "## <a id='japanese-holidays-cell'>7 Japanese Holidays and date conversion</a>"
   ]
  },
  {
   "cell_type": "markdown",
   "metadata": {},
   "source": [
    "  At the stage ofdata analysis(EDA), we see that one of the important factors affecting the attendance of restaurants are day of the week, month and holidays."
   ]
  },
  {
   "cell_type": "markdown",
   "metadata": {
    "_cell_guid": "7e2573c1-ccce-449b-8156-5a132d802e80",
    "_uuid": "856cc3b1094fc49abbe5aaababf04e1146fffca0"
   },
   "source": [
    "I want to learn more about that so I will rely on this list https://www.officeholidays.com/countries/japan/index.php\n",
    "\n",
    "* Jan 1st - **New Years day **;\n",
    "* 2nd Monday of January - **Coming of Age day **: The day honors young Japanese who will reach the age of 20 at any point during the year. Twenty is the age of majority in Japan, and people who have reached this age gain the right to vote in elections as well as to drink;\n",
    "* Feb 11th - **National Foundation day**:  a national holiday for Japanese people to remind themselves of the nation's founding and foster their love for the nation;\n",
    "* March 20th or 21st- **Vernal Equinox day**: The day is intended to celebrate the love of nature and living things.In modern Japan, the day still maintains its older traditions as visiting family graves and holding family reunions is a common way of celebrating the equinox;\n",
    "* April 29th - ** Showa day**: Showa Day honours the birthday of Emperor Hirohito, the reigning Emperor before, during, and after World War II (from 1926 - 1989);"
   ]
  },
  {
   "cell_type": "code",
   "execution_count": 260,
   "metadata": {
    "scrolled": false
   },
   "outputs": [
    {
     "data": {
      "text/html": [
       "<div>\n",
       "<style scoped>\n",
       "    .dataframe tbody tr th:only-of-type {\n",
       "        vertical-align: middle;\n",
       "    }\n",
       "\n",
       "    .dataframe tbody tr th {\n",
       "        vertical-align: top;\n",
       "    }\n",
       "\n",
       "    .dataframe thead th {\n",
       "        text-align: right;\n",
       "    }\n",
       "</style>\n",
       "<table border=\"1\" class=\"dataframe\">\n",
       "  <thead>\n",
       "    <tr style=\"text-align: right;\">\n",
       "      <th></th>\n",
       "      <th>calendar_date</th>\n",
       "      <th>day_of_week</th>\n",
       "      <th>holiday_flg</th>\n",
       "      <th>visit_date</th>\n",
       "    </tr>\n",
       "  </thead>\n",
       "  <tbody>\n",
       "    <tr>\n",
       "      <th>0</th>\n",
       "      <td>2016-01-01</td>\n",
       "      <td>Friday</td>\n",
       "      <td>1</td>\n",
       "      <td>2016-01-01</td>\n",
       "    </tr>\n",
       "    <tr>\n",
       "      <th>1</th>\n",
       "      <td>2016-01-02</td>\n",
       "      <td>Saturday</td>\n",
       "      <td>1</td>\n",
       "      <td>2016-01-02</td>\n",
       "    </tr>\n",
       "    <tr>\n",
       "      <th>2</th>\n",
       "      <td>2016-01-03</td>\n",
       "      <td>Sunday</td>\n",
       "      <td>1</td>\n",
       "      <td>2016-01-03</td>\n",
       "    </tr>\n",
       "  </tbody>\n",
       "</table>\n",
       "</div>"
      ],
      "text/plain": [
       "  calendar_date day_of_week  holiday_flg  visit_date\n",
       "0    2016-01-01      Friday            1  2016-01-01\n",
       "1    2016-01-02    Saturday            1  2016-01-02\n",
       "2    2016-01-03      Sunday            1  2016-01-03"
      ]
     },
     "execution_count": 260,
     "metadata": {},
     "output_type": "execute_result"
    }
   ],
   "source": [
    "#dates.rename(columns={'calendar_date':'visit_date'})\n",
    "dates['visit_date']=dates['calendar_date']\n",
    "dates.head(3)"
   ]
  },
  {
   "cell_type": "code",
   "execution_count": 261,
   "metadata": {},
   "outputs": [],
   "source": [
    "dates.drop(['calendar_date'], axis=1, inplace=True)"
   ]
  },
  {
   "cell_type": "code",
   "execution_count": 262,
   "metadata": {
    "scrolled": true
   },
   "outputs": [
    {
     "data": {
      "text/html": [
       "<div>\n",
       "<style scoped>\n",
       "    .dataframe tbody tr th:only-of-type {\n",
       "        vertical-align: middle;\n",
       "    }\n",
       "\n",
       "    .dataframe tbody tr th {\n",
       "        vertical-align: top;\n",
       "    }\n",
       "\n",
       "    .dataframe thead th {\n",
       "        text-align: right;\n",
       "    }\n",
       "</style>\n",
       "<table border=\"1\" class=\"dataframe\">\n",
       "  <thead>\n",
       "    <tr style=\"text-align: right;\">\n",
       "      <th></th>\n",
       "      <th>air_store_id</th>\n",
       "      <th>visit_date</th>\n",
       "      <th>reserve_visitors</th>\n",
       "      <th>res_date_diff</th>\n",
       "      <th>air_genre_name</th>\n",
       "      <th>air_area_name</th>\n",
       "      <th>latitude</th>\n",
       "      <th>longitude</th>\n",
       "      <th>hpg_store_id</th>\n",
       "      <th>hpg_res_date_diff</th>\n",
       "      <th>hpg_genre_name</th>\n",
       "      <th>hpg_area_name</th>\n",
       "      <th>prefecture</th>\n",
       "      <th>cluster</th>\n",
       "    </tr>\n",
       "  </thead>\n",
       "  <tbody>\n",
       "    <tr>\n",
       "      <th>0</th>\n",
       "      <td>air_00a91d42b08b08d9</td>\n",
       "      <td>2016-10-31</td>\n",
       "      <td>2</td>\n",
       "      <td>0.0</td>\n",
       "      <td>Italian/French</td>\n",
       "      <td>Tōkyō-to Chiyoda-ku Kudanminami</td>\n",
       "      <td>35.694003</td>\n",
       "      <td>139.753595</td>\n",
       "      <td>hpg_fbe603376b5980fc</td>\n",
       "      <td>NaN</td>\n",
       "      <td>NaN</td>\n",
       "      <td>NaN</td>\n",
       "      <td>Tōkyō-to</td>\n",
       "      <td>3</td>\n",
       "    </tr>\n",
       "  </tbody>\n",
       "</table>\n",
       "</div>"
      ],
      "text/plain": [
       "           air_store_id  visit_date  reserve_visitors  res_date_diff  \\\n",
       "0  air_00a91d42b08b08d9  2016-10-31                 2            0.0   \n",
       "\n",
       "   air_genre_name                    air_area_name   latitude   longitude  \\\n",
       "0  Italian/French  Tōkyō-to Chiyoda-ku Kudanminami  35.694003  139.753595   \n",
       "\n",
       "           hpg_store_id  hpg_res_date_diff hpg_genre_name hpg_area_name  \\\n",
       "0  hpg_fbe603376b5980fc                NaN            NaN           NaN   \n",
       "\n",
       "  prefecture  cluster  \n",
       "0   Tōkyō-to        3  "
      ]
     },
     "execution_count": 262,
     "metadata": {},
     "output_type": "execute_result"
    }
   ],
   "source": [
    "full.head(1)"
   ]
  },
  {
   "cell_type": "code",
   "execution_count": 263,
   "metadata": {},
   "outputs": [
    {
     "data": {
      "text/plain": [
       "Index(['air_store_id', 'visit_date', 'reserve_visitors', 'res_date_diff',\n",
       "       'air_genre_name', 'air_area_name', 'latitude', 'longitude',\n",
       "       'hpg_store_id', 'hpg_res_date_diff', 'hpg_genre_name', 'hpg_area_name',\n",
       "       'prefecture', 'cluster'],\n",
       "      dtype='object')"
      ]
     },
     "execution_count": 263,
     "metadata": {},
     "output_type": "execute_result"
    }
   ],
   "source": [
    "full.columns"
   ]
  },
  {
   "cell_type": "code",
   "execution_count": 264,
   "metadata": {},
   "outputs": [],
   "source": [
    "full.drop(['hpg_store_id','hpg_res_date_diff','hpg_genre_name','hpg_area_name','air_area_name'], axis=1, inplace=True)"
   ]
  },
  {
   "cell_type": "code",
   "execution_count": 265,
   "metadata": {},
   "outputs": [
    {
     "data": {
      "text/plain": [
       "Index(['air_store_id', 'visit_date', 'reserve_visitors', 'res_date_diff',\n",
       "       'air_genre_name', 'latitude', 'longitude', 'prefecture', 'cluster'],\n",
       "      dtype='object')"
      ]
     },
     "execution_count": 265,
     "metadata": {},
     "output_type": "execute_result"
    }
   ],
   "source": [
    "full.columns"
   ]
  },
  {
   "cell_type": "code",
   "execution_count": 266,
   "metadata": {},
   "outputs": [],
   "source": [
    "full['visit_date'] = pd.to_datetime(full['visit_date'])"
   ]
  },
  {
   "cell_type": "code",
   "execution_count": null,
   "metadata": {},
   "outputs": [],
   "source": []
  },
  {
   "cell_type": "code",
   "execution_count": 267,
   "metadata": {
    "scrolled": false
   },
   "outputs": [
    {
     "data": {
      "text/html": [
       "<div>\n",
       "<style scoped>\n",
       "    .dataframe tbody tr th:only-of-type {\n",
       "        vertical-align: middle;\n",
       "    }\n",
       "\n",
       "    .dataframe tbody tr th {\n",
       "        vertical-align: top;\n",
       "    }\n",
       "\n",
       "    .dataframe thead th {\n",
       "        text-align: right;\n",
       "    }\n",
       "</style>\n",
       "<table border=\"1\" class=\"dataframe\">\n",
       "  <thead>\n",
       "    <tr style=\"text-align: right;\">\n",
       "      <th></th>\n",
       "      <th>air_store_id</th>\n",
       "      <th>visit_date</th>\n",
       "      <th>reserve_visitors</th>\n",
       "      <th>res_date_diff</th>\n",
       "      <th>air_genre_name</th>\n",
       "      <th>latitude</th>\n",
       "      <th>longitude</th>\n",
       "      <th>prefecture</th>\n",
       "      <th>cluster</th>\n",
       "      <th>month</th>\n",
       "      <th>date</th>\n",
       "      <th>dw</th>\n",
       "      <th>dy</th>\n",
       "    </tr>\n",
       "  </thead>\n",
       "  <tbody>\n",
       "    <tr>\n",
       "      <th>0</th>\n",
       "      <td>air_00a91d42b08b08d9</td>\n",
       "      <td>2016-10-31</td>\n",
       "      <td>2</td>\n",
       "      <td>0.0</td>\n",
       "      <td>Italian/French</td>\n",
       "      <td>35.694003</td>\n",
       "      <td>139.753595</td>\n",
       "      <td>Tōkyō-to</td>\n",
       "      <td>3</td>\n",
       "      <td>10</td>\n",
       "      <td>31</td>\n",
       "      <td>0</td>\n",
       "      <td>305</td>\n",
       "    </tr>\n",
       "    <tr>\n",
       "      <th>1</th>\n",
       "      <td>air_00a91d42b08b08d9</td>\n",
       "      <td>2016-12-05</td>\n",
       "      <td>9</td>\n",
       "      <td>4.0</td>\n",
       "      <td>Italian/French</td>\n",
       "      <td>35.694003</td>\n",
       "      <td>139.753595</td>\n",
       "      <td>Tōkyō-to</td>\n",
       "      <td>3</td>\n",
       "      <td>12</td>\n",
       "      <td>5</td>\n",
       "      <td>0</td>\n",
       "      <td>340</td>\n",
       "    </tr>\n",
       "    <tr>\n",
       "      <th>2</th>\n",
       "      <td>air_00a91d42b08b08d9</td>\n",
       "      <td>2016-12-14</td>\n",
       "      <td>18</td>\n",
       "      <td>6.0</td>\n",
       "      <td>Italian/French</td>\n",
       "      <td>35.694003</td>\n",
       "      <td>139.753595</td>\n",
       "      <td>Tōkyō-to</td>\n",
       "      <td>3</td>\n",
       "      <td>12</td>\n",
       "      <td>14</td>\n",
       "      <td>2</td>\n",
       "      <td>349</td>\n",
       "    </tr>\n",
       "    <tr>\n",
       "      <th>3</th>\n",
       "      <td>air_00a91d42b08b08d9</td>\n",
       "      <td>2016-12-17</td>\n",
       "      <td>2</td>\n",
       "      <td>6.0</td>\n",
       "      <td>Italian/French</td>\n",
       "      <td>35.694003</td>\n",
       "      <td>139.753595</td>\n",
       "      <td>Tōkyō-to</td>\n",
       "      <td>3</td>\n",
       "      <td>12</td>\n",
       "      <td>17</td>\n",
       "      <td>5</td>\n",
       "      <td>352</td>\n",
       "    </tr>\n",
       "    <tr>\n",
       "      <th>4</th>\n",
       "      <td>air_00a91d42b08b08d9</td>\n",
       "      <td>2016-12-20</td>\n",
       "      <td>4</td>\n",
       "      <td>2.0</td>\n",
       "      <td>Italian/French</td>\n",
       "      <td>35.694003</td>\n",
       "      <td>139.753595</td>\n",
       "      <td>Tōkyō-to</td>\n",
       "      <td>3</td>\n",
       "      <td>12</td>\n",
       "      <td>20</td>\n",
       "      <td>1</td>\n",
       "      <td>355</td>\n",
       "    </tr>\n",
       "  </tbody>\n",
       "</table>\n",
       "</div>"
      ],
      "text/plain": [
       "           air_store_id visit_date  reserve_visitors  res_date_diff  \\\n",
       "0  air_00a91d42b08b08d9 2016-10-31                 2            0.0   \n",
       "1  air_00a91d42b08b08d9 2016-12-05                 9            4.0   \n",
       "2  air_00a91d42b08b08d9 2016-12-14                18            6.0   \n",
       "3  air_00a91d42b08b08d9 2016-12-17                 2            6.0   \n",
       "4  air_00a91d42b08b08d9 2016-12-20                 4            2.0   \n",
       "\n",
       "   air_genre_name   latitude   longitude prefecture  cluster  month  date  dw  \\\n",
       "0  Italian/French  35.694003  139.753595   Tōkyō-to        3     10    31   0   \n",
       "1  Italian/French  35.694003  139.753595   Tōkyō-to        3     12     5   0   \n",
       "2  Italian/French  35.694003  139.753595   Tōkyō-to        3     12    14   2   \n",
       "3  Italian/French  35.694003  139.753595   Tōkyō-to        3     12    17   5   \n",
       "4  Italian/French  35.694003  139.753595   Tōkyō-to        3     12    20   1   \n",
       "\n",
       "    dy  \n",
       "0  305  \n",
       "1  340  \n",
       "2  349  \n",
       "3  352  \n",
       "4  355  "
      ]
     },
     "execution_count": 267,
     "metadata": {},
     "output_type": "execute_result"
    }
   ],
   "source": [
    "full['month'] = full['visit_date'].dt.month \n",
    "full['date'] = full['visit_date'].dt.day\n",
    "full['dw'] = full['visit_date'].dt.dayofweek\n",
    "full['dy'] = full['visit_date'].dt.dayofyear\n",
    "full.head()"
   ]
  },
  {
   "cell_type": "code",
   "execution_count": 268,
   "metadata": {},
   "outputs": [],
   "source": [
    "full['visit_date']=full['visit_date']"
   ]
  },
  {
   "cell_type": "code",
   "execution_count": 269,
   "metadata": {},
   "outputs": [],
   "source": [
    "dates['visit_date'] = pd.to_datetime(dates['visit_date'])\n",
    "full['visit_date'] = pd.to_datetime(full['visit_date'])"
   ]
  },
  {
   "cell_type": "code",
   "execution_count": 270,
   "metadata": {
    "scrolled": false
   },
   "outputs": [
    {
     "data": {
      "text/html": [
       "<div>\n",
       "<style scoped>\n",
       "    .dataframe tbody tr th:only-of-type {\n",
       "        vertical-align: middle;\n",
       "    }\n",
       "\n",
       "    .dataframe tbody tr th {\n",
       "        vertical-align: top;\n",
       "    }\n",
       "\n",
       "    .dataframe thead th {\n",
       "        text-align: right;\n",
       "    }\n",
       "</style>\n",
       "<table border=\"1\" class=\"dataframe\">\n",
       "  <thead>\n",
       "    <tr style=\"text-align: right;\">\n",
       "      <th></th>\n",
       "      <th>air_store_id</th>\n",
       "      <th>visit_date</th>\n",
       "      <th>reserve_visitors</th>\n",
       "      <th>res_date_diff</th>\n",
       "      <th>air_genre_name</th>\n",
       "      <th>latitude</th>\n",
       "      <th>longitude</th>\n",
       "      <th>prefecture</th>\n",
       "      <th>cluster</th>\n",
       "      <th>month</th>\n",
       "      <th>date</th>\n",
       "      <th>dw</th>\n",
       "      <th>dy</th>\n",
       "      <th>day_of_week</th>\n",
       "      <th>holiday_flg</th>\n",
       "    </tr>\n",
       "  </thead>\n",
       "  <tbody>\n",
       "    <tr>\n",
       "      <th>0</th>\n",
       "      <td>air_00a91d42b08b08d9</td>\n",
       "      <td>2016-10-31</td>\n",
       "      <td>2</td>\n",
       "      <td>0.0</td>\n",
       "      <td>Italian/French</td>\n",
       "      <td>35.694003</td>\n",
       "      <td>139.753595</td>\n",
       "      <td>Tōkyō-to</td>\n",
       "      <td>3</td>\n",
       "      <td>10</td>\n",
       "      <td>31</td>\n",
       "      <td>0</td>\n",
       "      <td>305</td>\n",
       "      <td>Monday</td>\n",
       "      <td>0</td>\n",
       "    </tr>\n",
       "    <tr>\n",
       "      <th>1</th>\n",
       "      <td>air_00a91d42b08b08d9</td>\n",
       "      <td>2016-12-05</td>\n",
       "      <td>9</td>\n",
       "      <td>4.0</td>\n",
       "      <td>Italian/French</td>\n",
       "      <td>35.694003</td>\n",
       "      <td>139.753595</td>\n",
       "      <td>Tōkyō-to</td>\n",
       "      <td>3</td>\n",
       "      <td>12</td>\n",
       "      <td>5</td>\n",
       "      <td>0</td>\n",
       "      <td>340</td>\n",
       "      <td>Monday</td>\n",
       "      <td>0</td>\n",
       "    </tr>\n",
       "    <tr>\n",
       "      <th>2</th>\n",
       "      <td>air_00a91d42b08b08d9</td>\n",
       "      <td>2016-12-14</td>\n",
       "      <td>18</td>\n",
       "      <td>6.0</td>\n",
       "      <td>Italian/French</td>\n",
       "      <td>35.694003</td>\n",
       "      <td>139.753595</td>\n",
       "      <td>Tōkyō-to</td>\n",
       "      <td>3</td>\n",
       "      <td>12</td>\n",
       "      <td>14</td>\n",
       "      <td>2</td>\n",
       "      <td>349</td>\n",
       "      <td>Wednesday</td>\n",
       "      <td>0</td>\n",
       "    </tr>\n",
       "    <tr>\n",
       "      <th>3</th>\n",
       "      <td>air_00a91d42b08b08d9</td>\n",
       "      <td>2016-12-17</td>\n",
       "      <td>2</td>\n",
       "      <td>6.0</td>\n",
       "      <td>Italian/French</td>\n",
       "      <td>35.694003</td>\n",
       "      <td>139.753595</td>\n",
       "      <td>Tōkyō-to</td>\n",
       "      <td>3</td>\n",
       "      <td>12</td>\n",
       "      <td>17</td>\n",
       "      <td>5</td>\n",
       "      <td>352</td>\n",
       "      <td>Saturday</td>\n",
       "      <td>0</td>\n",
       "    </tr>\n",
       "    <tr>\n",
       "      <th>4</th>\n",
       "      <td>air_00a91d42b08b08d9</td>\n",
       "      <td>2016-12-20</td>\n",
       "      <td>4</td>\n",
       "      <td>2.0</td>\n",
       "      <td>Italian/French</td>\n",
       "      <td>35.694003</td>\n",
       "      <td>139.753595</td>\n",
       "      <td>Tōkyō-to</td>\n",
       "      <td>3</td>\n",
       "      <td>12</td>\n",
       "      <td>20</td>\n",
       "      <td>1</td>\n",
       "      <td>355</td>\n",
       "      <td>Tuesday</td>\n",
       "      <td>0</td>\n",
       "    </tr>\n",
       "  </tbody>\n",
       "</table>\n",
       "</div>"
      ],
      "text/plain": [
       "           air_store_id visit_date  reserve_visitors  res_date_diff  \\\n",
       "0  air_00a91d42b08b08d9 2016-10-31                 2            0.0   \n",
       "1  air_00a91d42b08b08d9 2016-12-05                 9            4.0   \n",
       "2  air_00a91d42b08b08d9 2016-12-14                18            6.0   \n",
       "3  air_00a91d42b08b08d9 2016-12-17                 2            6.0   \n",
       "4  air_00a91d42b08b08d9 2016-12-20                 4            2.0   \n",
       "\n",
       "   air_genre_name   latitude   longitude prefecture  cluster  month  date  dw  \\\n",
       "0  Italian/French  35.694003  139.753595   Tōkyō-to        3     10    31   0   \n",
       "1  Italian/French  35.694003  139.753595   Tōkyō-to        3     12     5   0   \n",
       "2  Italian/French  35.694003  139.753595   Tōkyō-to        3     12    14   2   \n",
       "3  Italian/French  35.694003  139.753595   Tōkyō-to        3     12    17   5   \n",
       "4  Italian/French  35.694003  139.753595   Tōkyō-to        3     12    20   1   \n",
       "\n",
       "    dy day_of_week  holiday_flg  \n",
       "0  305      Monday            0  \n",
       "1  340      Monday            0  \n",
       "2  349   Wednesday            0  \n",
       "3  352    Saturday            0  \n",
       "4  355     Tuesday            0  "
      ]
     },
     "execution_count": 270,
     "metadata": {},
     "output_type": "execute_result"
    }
   ],
   "source": [
    "nf = pd.merge(full, dates, how='left', on=['visit_date']) \n",
    "#nf = pd.merge(full,dates,on='visit_date', how='outer', validate=\"many_to_one\")\n",
    "nf.head()\n",
    "#pd.merge(left, right, on='B', how='outer', validate=\"one_to_one\")"
   ]
  },
  {
   "cell_type": "code",
   "execution_count": 271,
   "metadata": {},
   "outputs": [
    {
     "name": "stdout",
     "output_type": "stream",
     "text": [
      "<class 'pandas.core.frame.DataFrame'>\n",
      "Int64Index: 29830 entries, 0 to 29829\n",
      "Data columns (total 15 columns):\n",
      "air_store_id        29830 non-null object\n",
      "visit_date          29830 non-null datetime64[ns]\n",
      "reserve_visitors    29830 non-null int64\n",
      "res_date_diff       29830 non-null float64\n",
      "air_genre_name      29830 non-null object\n",
      "latitude            29830 non-null float64\n",
      "longitude           29830 non-null float64\n",
      "prefecture          29830 non-null object\n",
      "cluster             29830 non-null int32\n",
      "month               29830 non-null int64\n",
      "date                29830 non-null int64\n",
      "dw                  29830 non-null int64\n",
      "dy                  29830 non-null int64\n",
      "day_of_week         29830 non-null object\n",
      "holiday_flg         29830 non-null int64\n",
      "dtypes: datetime64[ns](1), float64(3), int32(1), int64(6), object(4)\n",
      "memory usage: 3.5+ MB\n"
     ]
    }
   ],
   "source": [
    "nf.info()"
   ]
  },
  {
   "cell_type": "code",
   "execution_count": 272,
   "metadata": {},
   "outputs": [],
   "source": [
    "full.drop(['visit_date'], axis=1, inplace=True)"
   ]
  },
  {
   "cell_type": "code",
   "execution_count": 273,
   "metadata": {
    "scrolled": true
   },
   "outputs": [
    {
     "data": {
      "text/html": [
       "<div>\n",
       "<style scoped>\n",
       "    .dataframe tbody tr th:only-of-type {\n",
       "        vertical-align: middle;\n",
       "    }\n",
       "\n",
       "    .dataframe tbody tr th {\n",
       "        vertical-align: top;\n",
       "    }\n",
       "\n",
       "    .dataframe thead th {\n",
       "        text-align: right;\n",
       "    }\n",
       "</style>\n",
       "<table border=\"1\" class=\"dataframe\">\n",
       "  <thead>\n",
       "    <tr style=\"text-align: right;\">\n",
       "      <th></th>\n",
       "      <th>air_store_id</th>\n",
       "      <th>visit_date</th>\n",
       "      <th>reserve_visitors</th>\n",
       "      <th>res_date_diff</th>\n",
       "      <th>air_genre_name</th>\n",
       "      <th>latitude</th>\n",
       "      <th>longitude</th>\n",
       "      <th>prefecture</th>\n",
       "      <th>cluster</th>\n",
       "      <th>month</th>\n",
       "      <th>date</th>\n",
       "      <th>dw</th>\n",
       "      <th>dy</th>\n",
       "      <th>day_of_week</th>\n",
       "      <th>holiday_flg</th>\n",
       "      <th>sunday</th>\n",
       "      <th>saturday</th>\n",
       "      <th>sat/sun/hol</th>\n",
       "    </tr>\n",
       "  </thead>\n",
       "  <tbody>\n",
       "    <tr>\n",
       "      <th>0</th>\n",
       "      <td>air_00a91d42b08b08d9</td>\n",
       "      <td>2016-10-31</td>\n",
       "      <td>2</td>\n",
       "      <td>0.0</td>\n",
       "      <td>Italian/French</td>\n",
       "      <td>35.694003</td>\n",
       "      <td>139.753595</td>\n",
       "      <td>Tōkyō-to</td>\n",
       "      <td>3</td>\n",
       "      <td>10</td>\n",
       "      <td>31</td>\n",
       "      <td>0</td>\n",
       "      <td>305</td>\n",
       "      <td>Monday</td>\n",
       "      <td>0</td>\n",
       "      <td>0</td>\n",
       "      <td>0</td>\n",
       "      <td>0.0</td>\n",
       "    </tr>\n",
       "    <tr>\n",
       "      <th>1</th>\n",
       "      <td>air_00a91d42b08b08d9</td>\n",
       "      <td>2016-12-05</td>\n",
       "      <td>9</td>\n",
       "      <td>4.0</td>\n",
       "      <td>Italian/French</td>\n",
       "      <td>35.694003</td>\n",
       "      <td>139.753595</td>\n",
       "      <td>Tōkyō-to</td>\n",
       "      <td>3</td>\n",
       "      <td>12</td>\n",
       "      <td>5</td>\n",
       "      <td>0</td>\n",
       "      <td>340</td>\n",
       "      <td>Monday</td>\n",
       "      <td>0</td>\n",
       "      <td>0</td>\n",
       "      <td>0</td>\n",
       "      <td>0.0</td>\n",
       "    </tr>\n",
       "    <tr>\n",
       "      <th>2</th>\n",
       "      <td>air_00a91d42b08b08d9</td>\n",
       "      <td>2016-12-14</td>\n",
       "      <td>18</td>\n",
       "      <td>6.0</td>\n",
       "      <td>Italian/French</td>\n",
       "      <td>35.694003</td>\n",
       "      <td>139.753595</td>\n",
       "      <td>Tōkyō-to</td>\n",
       "      <td>3</td>\n",
       "      <td>12</td>\n",
       "      <td>14</td>\n",
       "      <td>2</td>\n",
       "      <td>349</td>\n",
       "      <td>Wednesday</td>\n",
       "      <td>0</td>\n",
       "      <td>0</td>\n",
       "      <td>0</td>\n",
       "      <td>0.0</td>\n",
       "    </tr>\n",
       "    <tr>\n",
       "      <th>3</th>\n",
       "      <td>air_00a91d42b08b08d9</td>\n",
       "      <td>2016-12-17</td>\n",
       "      <td>2</td>\n",
       "      <td>6.0</td>\n",
       "      <td>Italian/French</td>\n",
       "      <td>35.694003</td>\n",
       "      <td>139.753595</td>\n",
       "      <td>Tōkyō-to</td>\n",
       "      <td>3</td>\n",
       "      <td>12</td>\n",
       "      <td>17</td>\n",
       "      <td>5</td>\n",
       "      <td>352</td>\n",
       "      <td>Saturday</td>\n",
       "      <td>0</td>\n",
       "      <td>0</td>\n",
       "      <td>1</td>\n",
       "      <td>0.3</td>\n",
       "    </tr>\n",
       "    <tr>\n",
       "      <th>4</th>\n",
       "      <td>air_00a91d42b08b08d9</td>\n",
       "      <td>2016-12-20</td>\n",
       "      <td>4</td>\n",
       "      <td>2.0</td>\n",
       "      <td>Italian/French</td>\n",
       "      <td>35.694003</td>\n",
       "      <td>139.753595</td>\n",
       "      <td>Tōkyō-to</td>\n",
       "      <td>3</td>\n",
       "      <td>12</td>\n",
       "      <td>20</td>\n",
       "      <td>1</td>\n",
       "      <td>355</td>\n",
       "      <td>Tuesday</td>\n",
       "      <td>0</td>\n",
       "      <td>0</td>\n",
       "      <td>0</td>\n",
       "      <td>0.0</td>\n",
       "    </tr>\n",
       "  </tbody>\n",
       "</table>\n",
       "</div>"
      ],
      "text/plain": [
       "           air_store_id visit_date  reserve_visitors  res_date_diff  \\\n",
       "0  air_00a91d42b08b08d9 2016-10-31                 2            0.0   \n",
       "1  air_00a91d42b08b08d9 2016-12-05                 9            4.0   \n",
       "2  air_00a91d42b08b08d9 2016-12-14                18            6.0   \n",
       "3  air_00a91d42b08b08d9 2016-12-17                 2            6.0   \n",
       "4  air_00a91d42b08b08d9 2016-12-20                 4            2.0   \n",
       "\n",
       "   air_genre_name   latitude   longitude prefecture  cluster  month  date  dw  \\\n",
       "0  Italian/French  35.694003  139.753595   Tōkyō-to        3     10    31   0   \n",
       "1  Italian/French  35.694003  139.753595   Tōkyō-to        3     12     5   0   \n",
       "2  Italian/French  35.694003  139.753595   Tōkyō-to        3     12    14   2   \n",
       "3  Italian/French  35.694003  139.753595   Tōkyō-to        3     12    17   5   \n",
       "4  Italian/French  35.694003  139.753595   Tōkyō-to        3     12    20   1   \n",
       "\n",
       "    dy day_of_week  holiday_flg  sunday  saturday  sat/sun/hol  \n",
       "0  305      Monday            0       0         0          0.0  \n",
       "1  340      Monday            0       0         0          0.0  \n",
       "2  349   Wednesday            0       0         0          0.0  \n",
       "3  352    Saturday            0       0         1          0.3  \n",
       "4  355     Tuesday            0       0         0          0.0  "
      ]
     },
     "execution_count": 273,
     "metadata": {},
     "output_type": "execute_result"
    }
   ],
   "source": [
    "#we assign indexes for holiday, sunday, saturday.\n",
    "nf['sunday'] = nf['visit_date'].dt.dayofweek.apply(lambda x:1 if x==6 else 0)\n",
    "nf['saturday'] = nf['visit_date'].dt.dayofweek.apply(lambda x:1 if x==5 else 0)\n",
    "nf['sat/sun/hol']=nf['holiday_flg']*1+nf['sunday']*0.5+nf['saturday']*0.3\n",
    "\n",
    "nf2016 = nf[nf['visit_date'].dt.year==2016]\n",
    "nf2017 = nf[nf['visit_date'].dt.year==2017]\n",
    "nf.head()"
   ]
  },
  {
   "cell_type": "markdown",
   "metadata": {
    "_cell_guid": "2fe5a416-6c29-49b6-a377-31800782dc1c",
    "_uuid": "52922863d36c8bd732a4eda6a3cdbc941186a684"
   },
   "source": [
    "We can check how many days before the visit japenese people make the reservation."
   ]
  },
  {
   "cell_type": "code",
   "execution_count": 274,
   "metadata": {
    "_cell_guid": "c1574275-79c5-413e-b336-d15423a66de3",
    "_uuid": "eb2c69ae09b2e22684efa0dd14c418aa2e49f4a7"
   },
   "outputs": [
    {
     "data": {
      "text/plain": [
       "count    29830.000000\n",
       "mean         5.598274\n",
       "std          9.755162\n",
       "min          0.000000\n",
       "25%          1.000000\n",
       "50%          2.500000\n",
       "75%          7.000000\n",
       "max        349.500000\n",
       "Name: res_date_diff, dtype: float64"
      ]
     },
     "execution_count": 274,
     "metadata": {},
     "output_type": "execute_result"
    }
   ],
   "source": [
    "nf.res_date_diff.describe()"
   ]
  },
  {
   "cell_type": "markdown",
   "metadata": {
    "_cell_guid": "09a75284-edbc-48c1-bd13-2f52419c8f63",
    "_uuid": "3e8f1c66143f1345f85658d4174db85107c36b67",
    "collapsed": true
   },
   "source": [
    "## <a id='weather-cell'>8. Weather Data</a>"
   ]
  },
  {
   "cell_type": "code",
   "execution_count": 275,
   "metadata": {
    "_cell_guid": "c27cba35-f631-4ae4-9822-a91aa900076f",
    "_uuid": "36f4cb9f70cc7e70b99c4ad3e3bb75e04de31403"
   },
   "outputs": [
    {
     "data": {
      "text/html": [
       "<div>\n",
       "<style scoped>\n",
       "    .dataframe tbody tr th:only-of-type {\n",
       "        vertical-align: middle;\n",
       "    }\n",
       "\n",
       "    .dataframe tbody tr th {\n",
       "        vertical-align: top;\n",
       "    }\n",
       "\n",
       "    .dataframe thead th {\n",
       "        text-align: right;\n",
       "    }\n",
       "</style>\n",
       "<table border=\"1\" class=\"dataframe\">\n",
       "  <thead>\n",
       "    <tr style=\"text-align: right;\">\n",
       "      <th></th>\n",
       "      <th>area_name</th>\n",
       "      <th>calendar_date</th>\n",
       "      <th>precipitation</th>\n",
       "      <th>avg_temperature</th>\n",
       "      <th>total_snowfall</th>\n",
       "      <th>deepest_snowfall</th>\n",
       "      <th>hours_sunlight</th>\n",
       "      <th>avg_wind_speed</th>\n",
       "      <th>avg_vapor_pressure</th>\n",
       "      <th>avg_humidity</th>\n",
       "      <th>avg_sea_pressure</th>\n",
       "      <th>avg_local_pressure</th>\n",
       "      <th>solar_radiation</th>\n",
       "      <th>cloud_cover</th>\n",
       "      <th>high_temperature</th>\n",
       "      <th>low_temperature</th>\n",
       "    </tr>\n",
       "  </thead>\n",
       "  <tbody>\n",
       "    <tr>\n",
       "      <th>0</th>\n",
       "      <td>fukuoka_dazaifu-kana_dasaif</td>\n",
       "      <td>1/1/16</td>\n",
       "      <td>0.0</td>\n",
       "      <td>5.7</td>\n",
       "      <td>NaN</td>\n",
       "      <td>NaN</td>\n",
       "      <td>5.1</td>\n",
       "      <td>1.9</td>\n",
       "      <td>NaN</td>\n",
       "      <td>NaN</td>\n",
       "      <td>NaN</td>\n",
       "      <td>NaN</td>\n",
       "      <td>NaN</td>\n",
       "      <td>NaN</td>\n",
       "      <td>11.0</td>\n",
       "      <td>2.1</td>\n",
       "    </tr>\n",
       "    <tr>\n",
       "      <th>1</th>\n",
       "      <td>fukuoka_dazaifu-kana_dasaif</td>\n",
       "      <td>1/2/16</td>\n",
       "      <td>0.5</td>\n",
       "      <td>10.2</td>\n",
       "      <td>NaN</td>\n",
       "      <td>NaN</td>\n",
       "      <td>1.3</td>\n",
       "      <td>2.2</td>\n",
       "      <td>NaN</td>\n",
       "      <td>NaN</td>\n",
       "      <td>NaN</td>\n",
       "      <td>NaN</td>\n",
       "      <td>NaN</td>\n",
       "      <td>NaN</td>\n",
       "      <td>15.3</td>\n",
       "      <td>6.1</td>\n",
       "    </tr>\n",
       "    <tr>\n",
       "      <th>2</th>\n",
       "      <td>fukuoka_dazaifu-kana_dasaif</td>\n",
       "      <td>1/3/16</td>\n",
       "      <td>0.0</td>\n",
       "      <td>11.2</td>\n",
       "      <td>NaN</td>\n",
       "      <td>NaN</td>\n",
       "      <td>0.5</td>\n",
       "      <td>0.9</td>\n",
       "      <td>NaN</td>\n",
       "      <td>NaN</td>\n",
       "      <td>NaN</td>\n",
       "      <td>NaN</td>\n",
       "      <td>NaN</td>\n",
       "      <td>NaN</td>\n",
       "      <td>15.5</td>\n",
       "      <td>7.1</td>\n",
       "    </tr>\n",
       "    <tr>\n",
       "      <th>3</th>\n",
       "      <td>fukuoka_dazaifu-kana_dasaif</td>\n",
       "      <td>1/4/16</td>\n",
       "      <td>0.0</td>\n",
       "      <td>9.4</td>\n",
       "      <td>NaN</td>\n",
       "      <td>NaN</td>\n",
       "      <td>4.2</td>\n",
       "      <td>1.8</td>\n",
       "      <td>NaN</td>\n",
       "      <td>NaN</td>\n",
       "      <td>NaN</td>\n",
       "      <td>NaN</td>\n",
       "      <td>NaN</td>\n",
       "      <td>NaN</td>\n",
       "      <td>16.1</td>\n",
       "      <td>5.9</td>\n",
       "    </tr>\n",
       "    <tr>\n",
       "      <th>4</th>\n",
       "      <td>fukuoka_dazaifu-kana_dasaif</td>\n",
       "      <td>1/5/16</td>\n",
       "      <td>1.5</td>\n",
       "      <td>8.8</td>\n",
       "      <td>NaN</td>\n",
       "      <td>NaN</td>\n",
       "      <td>0.0</td>\n",
       "      <td>0.8</td>\n",
       "      <td>NaN</td>\n",
       "      <td>NaN</td>\n",
       "      <td>NaN</td>\n",
       "      <td>NaN</td>\n",
       "      <td>NaN</td>\n",
       "      <td>NaN</td>\n",
       "      <td>12.3</td>\n",
       "      <td>7.1</td>\n",
       "    </tr>\n",
       "  </tbody>\n",
       "</table>\n",
       "</div>"
      ],
      "text/plain": [
       "                     area_name calendar_date  precipitation  avg_temperature  \\\n",
       "0  fukuoka_dazaifu-kana_dasaif        1/1/16            0.0              5.7   \n",
       "1  fukuoka_dazaifu-kana_dasaif        1/2/16            0.5             10.2   \n",
       "2  fukuoka_dazaifu-kana_dasaif        1/3/16            0.0             11.2   \n",
       "3  fukuoka_dazaifu-kana_dasaif        1/4/16            0.0              9.4   \n",
       "4  fukuoka_dazaifu-kana_dasaif        1/5/16            1.5              8.8   \n",
       "\n",
       "   total_snowfall  deepest_snowfall  hours_sunlight  avg_wind_speed  \\\n",
       "0             NaN               NaN             5.1             1.9   \n",
       "1             NaN               NaN             1.3             2.2   \n",
       "2             NaN               NaN             0.5             0.9   \n",
       "3             NaN               NaN             4.2             1.8   \n",
       "4             NaN               NaN             0.0             0.8   \n",
       "\n",
       "   avg_vapor_pressure  avg_humidity  avg_sea_pressure  avg_local_pressure  \\\n",
       "0                 NaN           NaN               NaN                 NaN   \n",
       "1                 NaN           NaN               NaN                 NaN   \n",
       "2                 NaN           NaN               NaN                 NaN   \n",
       "3                 NaN           NaN               NaN                 NaN   \n",
       "4                 NaN           NaN               NaN                 NaN   \n",
       "\n",
       "   solar_radiation  cloud_cover  high_temperature  low_temperature  \n",
       "0              NaN          NaN              11.0              2.1  \n",
       "1              NaN          NaN              15.3              6.1  \n",
       "2              NaN          NaN              15.5              7.1  \n",
       "3              NaN          NaN              16.1              5.9  \n",
       "4              NaN          NaN              12.3              7.1  "
      ]
     },
     "execution_count": 275,
     "metadata": {},
     "output_type": "execute_result"
    }
   ],
   "source": [
    "wd.head()"
   ]
  },
  {
   "cell_type": "code",
   "execution_count": 276,
   "metadata": {},
   "outputs": [
    {
     "data": {
      "text/html": [
       "<div>\n",
       "<style scoped>\n",
       "    .dataframe tbody tr th:only-of-type {\n",
       "        vertical-align: middle;\n",
       "    }\n",
       "\n",
       "    .dataframe tbody tr th {\n",
       "        vertical-align: top;\n",
       "    }\n",
       "\n",
       "    .dataframe thead th {\n",
       "        text-align: right;\n",
       "    }\n",
       "</style>\n",
       "<table border=\"1\" class=\"dataframe\">\n",
       "  <thead>\n",
       "    <tr style=\"text-align: right;\">\n",
       "      <th></th>\n",
       "      <th>area_name</th>\n",
       "      <th>calendar_date</th>\n",
       "      <th>precipitation</th>\n",
       "      <th>avg_temperature</th>\n",
       "      <th>total_snowfall</th>\n",
       "      <th>deepest_snowfall</th>\n",
       "      <th>hours_sunlight</th>\n",
       "      <th>avg_wind_speed</th>\n",
       "      <th>avg_vapor_pressure</th>\n",
       "      <th>avg_humidity</th>\n",
       "      <th>avg_sea_pressure</th>\n",
       "      <th>avg_local_pressure</th>\n",
       "      <th>solar_radiation</th>\n",
       "      <th>cloud_cover</th>\n",
       "      <th>high_temperature</th>\n",
       "      <th>low_temperature</th>\n",
       "      <th>prefecture</th>\n",
       "    </tr>\n",
       "  </thead>\n",
       "  <tbody>\n",
       "    <tr>\n",
       "      <th>0</th>\n",
       "      <td>fukuoka_dazaifu-kana_dasaif</td>\n",
       "      <td>1/1/16</td>\n",
       "      <td>0.0</td>\n",
       "      <td>5.7</td>\n",
       "      <td>NaN</td>\n",
       "      <td>NaN</td>\n",
       "      <td>5.1</td>\n",
       "      <td>1.9</td>\n",
       "      <td>NaN</td>\n",
       "      <td>NaN</td>\n",
       "      <td>NaN</td>\n",
       "      <td>NaN</td>\n",
       "      <td>NaN</td>\n",
       "      <td>NaN</td>\n",
       "      <td>11.0</td>\n",
       "      <td>2.1</td>\n",
       "      <td>fukuoka</td>\n",
       "    </tr>\n",
       "  </tbody>\n",
       "</table>\n",
       "</div>"
      ],
      "text/plain": [
       "                     area_name calendar_date  precipitation  avg_temperature  \\\n",
       "0  fukuoka_dazaifu-kana_dasaif        1/1/16            0.0              5.7   \n",
       "\n",
       "   total_snowfall  deepest_snowfall  hours_sunlight  avg_wind_speed  \\\n",
       "0             NaN               NaN             5.1             1.9   \n",
       "\n",
       "   avg_vapor_pressure  avg_humidity  avg_sea_pressure  avg_local_pressure  \\\n",
       "0                 NaN           NaN               NaN                 NaN   \n",
       "\n",
       "   solar_radiation  cloud_cover  high_temperature  low_temperature prefecture  \n",
       "0              NaN          NaN              11.0              2.1    fukuoka  "
      ]
     },
     "execution_count": 276,
     "metadata": {},
     "output_type": "execute_result"
    }
   ],
   "source": [
    "#separate the first part of the name of the region\n",
    "wd['prefecture'] = wd['area_name'].map(lambda x: str(x).split('_')[0])\n",
    "wd.head(1)"
   ]
  },
  {
   "cell_type": "code",
   "execution_count": 277,
   "metadata": {},
   "outputs": [
    {
     "data": {
      "text/html": [
       "<div>\n",
       "<style scoped>\n",
       "    .dataframe tbody tr th:only-of-type {\n",
       "        vertical-align: middle;\n",
       "    }\n",
       "\n",
       "    .dataframe tbody tr th {\n",
       "        vertical-align: top;\n",
       "    }\n",
       "\n",
       "    .dataframe thead th {\n",
       "        text-align: right;\n",
       "    }\n",
       "</style>\n",
       "<table border=\"1\" class=\"dataframe\">\n",
       "  <thead>\n",
       "    <tr style=\"text-align: right;\">\n",
       "      <th></th>\n",
       "      <th>prefecture</th>\n",
       "      <th>avg_temperature</th>\n",
       "    </tr>\n",
       "  </thead>\n",
       "  <tbody>\n",
       "    <tr>\n",
       "      <th>0</th>\n",
       "      <td>fukuoka</td>\n",
       "      <td>15.728844</td>\n",
       "    </tr>\n",
       "    <tr>\n",
       "      <th>1</th>\n",
       "      <td>hiroshima</td>\n",
       "      <td>14.317344</td>\n",
       "    </tr>\n",
       "    <tr>\n",
       "      <th>2</th>\n",
       "      <td>hokkaido</td>\n",
       "      <td>5.872029</td>\n",
       "    </tr>\n",
       "    <tr>\n",
       "      <th>3</th>\n",
       "      <td>hyogo</td>\n",
       "      <td>14.592747</td>\n",
       "    </tr>\n",
       "    <tr>\n",
       "      <th>4</th>\n",
       "      <td>kanagawa</td>\n",
       "      <td>15.356673</td>\n",
       "    </tr>\n",
       "    <tr>\n",
       "      <th>5</th>\n",
       "      <td>miyagi</td>\n",
       "      <td>11.087105</td>\n",
       "    </tr>\n",
       "    <tr>\n",
       "      <th>6</th>\n",
       "      <td>niigata</td>\n",
       "      <td>12.433745</td>\n",
       "    </tr>\n",
       "    <tr>\n",
       "      <th>7</th>\n",
       "      <td>osaka</td>\n",
       "      <td>14.812773</td>\n",
       "    </tr>\n",
       "    <tr>\n",
       "      <th>8</th>\n",
       "      <td>saitama</td>\n",
       "      <td>13.533269</td>\n",
       "    </tr>\n",
       "    <tr>\n",
       "      <th>9</th>\n",
       "      <td>shizuoka</td>\n",
       "      <td>15.470068</td>\n",
       "    </tr>\n",
       "    <tr>\n",
       "      <th>10</th>\n",
       "      <td>tokyo</td>\n",
       "      <td>14.489196</td>\n",
       "    </tr>\n",
       "    <tr>\n",
       "      <th>11</th>\n",
       "      <td>yamaguchi</td>\n",
       "      <td>16.160542</td>\n",
       "    </tr>\n",
       "  </tbody>\n",
       "</table>\n",
       "</div>"
      ],
      "text/plain": [
       "   prefecture  avg_temperature\n",
       "0     fukuoka        15.728844\n",
       "1   hiroshima        14.317344\n",
       "2    hokkaido         5.872029\n",
       "3       hyogo        14.592747\n",
       "4    kanagawa        15.356673\n",
       "5      miyagi        11.087105\n",
       "6     niigata        12.433745\n",
       "7       osaka        14.812773\n",
       "8     saitama        13.533269\n",
       "9    shizuoka        15.470068\n",
       "10      tokyo        14.489196\n",
       "11  yamaguchi        16.160542"
      ]
     },
     "execution_count": 277,
     "metadata": {},
     "output_type": "execute_result"
    }
   ],
   "source": [
    "wdmytest = wd.groupby(['prefecture'], as_index=False)['avg_temperature'].mean()\n",
    "wdmytest.head(20)"
   ]
  },
  {
   "cell_type": "markdown",
   "metadata": {},
   "source": [
    "Let's try to relate the identified groups with the biggest cities:\n",
    "\n",
    "* Cluster 0 refers to Hiroshima-ken.+\n",
    "* Cluster 1 refers  to Niigata-ken+\n",
    "* Cluster 2 refers to Hokkaidō+\n",
    "* Cluster 3 refers to Tōkyō-to+\n",
    "* Cluster 4 refers to Hyōgo-ken\n",
    "* Cluster 5 referst to Fukuoka-ken+\n",
    "* Cluster 6 refers to Shizuoka-ken+\n",
    "* Cluster 7 refers to Miyagi-ken+"
   ]
  },
  {
   "cell_type": "code",
   "execution_count": 278,
   "metadata": {
    "_cell_guid": "01918d4a-b516-41b3-bc44-7973a581fff1",
    "_uuid": "06a74168bb6286ef8bb1b39531ea7067cf42ff97",
    "scrolled": false
   },
   "outputs": [],
   "source": [
    "import re\n",
    "def area2group(area):\n",
    "    if re.match(r'tokyo.*',area) !=None:\n",
    "        return 3\n",
    "    if re.match(r'hyogo.*',area) !=None:\n",
    "        return 4\n",
    "    if re.match(r'hokkaido.*',area) !=None:\n",
    "        return 2    \n",
    "    if re.match(r'fukuoka.*',area) !=None:\n",
    "        return 5\n",
    "    if re.match(r'niigata.*',area) !=None:\n",
    "        return 1\n",
    "    if re.match(r'hiroshima.*',area) !=None:\n",
    "        return 0\n",
    "    if re.match(r'shizuoka.*',area) !=None:\n",
    "        return 6\n",
    "    if re.match(r'miyagi.*',area) !=None:\n",
    "        return 7\n",
    "    else:\n",
    "        return -1\n",
    "\n",
    "warea = [area2group(area) for area in wd.area_name]\n",
    "wd['cluster'] = warea\n",
    "#re.match(r'fukuoka.*',wd.area_name[0])\n",
    "#wd.area_name"
   ]
  },
  {
   "cell_type": "code",
   "execution_count": 279,
   "metadata": {},
   "outputs": [],
   "source": [
    "wd['calendar_date'] = pd.to_datetime(wd.calendar_date).dt.date"
   ]
  },
  {
   "cell_type": "code",
   "execution_count": 280,
   "metadata": {},
   "outputs": [
    {
     "data": {
      "text/html": [
       "<div>\n",
       "<style scoped>\n",
       "    .dataframe tbody tr th:only-of-type {\n",
       "        vertical-align: middle;\n",
       "    }\n",
       "\n",
       "    .dataframe tbody tr th {\n",
       "        vertical-align: top;\n",
       "    }\n",
       "\n",
       "    .dataframe thead th {\n",
       "        text-align: right;\n",
       "    }\n",
       "</style>\n",
       "<table border=\"1\" class=\"dataframe\">\n",
       "  <thead>\n",
       "    <tr style=\"text-align: right;\">\n",
       "      <th></th>\n",
       "      <th>cluster</th>\n",
       "      <th>calendar_date</th>\n",
       "      <th>precipitation</th>\n",
       "      <th>avg_temperature</th>\n",
       "      <th>total_snowfall</th>\n",
       "      <th>deepest_snowfall</th>\n",
       "      <th>hours_sunlight</th>\n",
       "      <th>avg_wind_speed</th>\n",
       "      <th>avg_vapor_pressure</th>\n",
       "      <th>avg_humidity</th>\n",
       "      <th>avg_sea_pressure</th>\n",
       "      <th>avg_local_pressure</th>\n",
       "      <th>solar_radiation</th>\n",
       "      <th>cloud_cover</th>\n",
       "      <th>high_temperature</th>\n",
       "      <th>low_temperature</th>\n",
       "    </tr>\n",
       "  </thead>\n",
       "  <tbody>\n",
       "    <tr>\n",
       "      <th>0</th>\n",
       "      <td>-1</td>\n",
       "      <td>2016-01-01</td>\n",
       "      <td>0.0</td>\n",
       "      <td>6.36</td>\n",
       "      <td>NaN</td>\n",
       "      <td>NaN</td>\n",
       "      <td>8.4125</td>\n",
       "      <td>2.09</td>\n",
       "      <td>5.966667</td>\n",
       "      <td>55.333333</td>\n",
       "      <td>1028.5</td>\n",
       "      <td>1022.5</td>\n",
       "      <td>11.215</td>\n",
       "      <td>2.833333</td>\n",
       "      <td>11.13</td>\n",
       "      <td>2.35</td>\n",
       "    </tr>\n",
       "  </tbody>\n",
       "</table>\n",
       "</div>"
      ],
      "text/plain": [
       "   cluster calendar_date  precipitation  avg_temperature  total_snowfall  \\\n",
       "0       -1    2016-01-01            0.0             6.36             NaN   \n",
       "\n",
       "   deepest_snowfall  hours_sunlight  avg_wind_speed  avg_vapor_pressure  \\\n",
       "0               NaN          8.4125            2.09            5.966667   \n",
       "\n",
       "   avg_humidity  avg_sea_pressure  avg_local_pressure  solar_radiation  \\\n",
       "0     55.333333            1028.5              1022.5           11.215   \n",
       "\n",
       "   cloud_cover  high_temperature  low_temperature  \n",
       "0     2.833333             11.13             2.35  "
      ]
     },
     "execution_count": 280,
     "metadata": {},
     "output_type": "execute_result"
    }
   ],
   "source": [
    "wdg = wd.groupby(['cluster','calendar_date'],as_index=False).mean()\n",
    "wdg.head(1)"
   ]
  },
  {
   "cell_type": "code",
   "execution_count": 281,
   "metadata": {},
   "outputs": [
    {
     "data": {
      "text/html": [
       "<div>\n",
       "<style scoped>\n",
       "    .dataframe tbody tr th:only-of-type {\n",
       "        vertical-align: middle;\n",
       "    }\n",
       "\n",
       "    .dataframe tbody tr th {\n",
       "        vertical-align: top;\n",
       "    }\n",
       "\n",
       "    .dataframe thead th {\n",
       "        text-align: right;\n",
       "    }\n",
       "</style>\n",
       "<table border=\"1\" class=\"dataframe\">\n",
       "  <thead>\n",
       "    <tr style=\"text-align: right;\">\n",
       "      <th></th>\n",
       "      <th>air_store_id</th>\n",
       "      <th>visit_date</th>\n",
       "      <th>visitors</th>\n",
       "    </tr>\n",
       "  </thead>\n",
       "  <tbody>\n",
       "    <tr>\n",
       "      <th>0</th>\n",
       "      <td>air_ba937bf13d40fb24</td>\n",
       "      <td>2016-01-13</td>\n",
       "      <td>25</td>\n",
       "    </tr>\n",
       "    <tr>\n",
       "      <th>1</th>\n",
       "      <td>air_ba937bf13d40fb24</td>\n",
       "      <td>2016-01-14</td>\n",
       "      <td>32</td>\n",
       "    </tr>\n",
       "    <tr>\n",
       "      <th>2</th>\n",
       "      <td>air_ba937bf13d40fb24</td>\n",
       "      <td>2016-01-15</td>\n",
       "      <td>29</td>\n",
       "    </tr>\n",
       "    <tr>\n",
       "      <th>3</th>\n",
       "      <td>air_ba937bf13d40fb24</td>\n",
       "      <td>2016-01-16</td>\n",
       "      <td>22</td>\n",
       "    </tr>\n",
       "    <tr>\n",
       "      <th>4</th>\n",
       "      <td>air_ba937bf13d40fb24</td>\n",
       "      <td>2016-01-18</td>\n",
       "      <td>6</td>\n",
       "    </tr>\n",
       "  </tbody>\n",
       "</table>\n",
       "</div>"
      ],
      "text/plain": [
       "           air_store_id  visit_date  visitors\n",
       "0  air_ba937bf13d40fb24  2016-01-13        25\n",
       "1  air_ba937bf13d40fb24  2016-01-14        32\n",
       "2  air_ba937bf13d40fb24  2016-01-15        29\n",
       "3  air_ba937bf13d40fb24  2016-01-16        22\n",
       "4  air_ba937bf13d40fb24  2016-01-18         6"
      ]
     },
     "execution_count": 281,
     "metadata": {},
     "output_type": "execute_result"
    }
   ],
   "source": [
    "airvisit.head()"
   ]
  },
  {
   "cell_type": "code",
   "execution_count": 282,
   "metadata": {},
   "outputs": [
    {
     "data": {
      "text/html": [
       "<div>\n",
       "<style scoped>\n",
       "    .dataframe tbody tr th:only-of-type {\n",
       "        vertical-align: middle;\n",
       "    }\n",
       "\n",
       "    .dataframe tbody tr th {\n",
       "        vertical-align: top;\n",
       "    }\n",
       "\n",
       "    .dataframe thead th {\n",
       "        text-align: right;\n",
       "    }\n",
       "</style>\n",
       "<table border=\"1\" class=\"dataframe\">\n",
       "  <thead>\n",
       "    <tr style=\"text-align: right;\">\n",
       "      <th></th>\n",
       "      <th>air_store_id</th>\n",
       "      <th>visit_date</th>\n",
       "      <th>reserve_visitors</th>\n",
       "      <th>res_date_diff</th>\n",
       "      <th>air_genre_name</th>\n",
       "      <th>latitude</th>\n",
       "      <th>longitude</th>\n",
       "      <th>prefecture</th>\n",
       "      <th>cluster</th>\n",
       "      <th>month</th>\n",
       "      <th>date</th>\n",
       "      <th>dw</th>\n",
       "      <th>dy</th>\n",
       "      <th>day_of_week</th>\n",
       "      <th>holiday_flg</th>\n",
       "      <th>sunday</th>\n",
       "      <th>saturday</th>\n",
       "      <th>sat/sun/hol</th>\n",
       "    </tr>\n",
       "  </thead>\n",
       "  <tbody>\n",
       "    <tr>\n",
       "      <th>0</th>\n",
       "      <td>air_00a91d42b08b08d9</td>\n",
       "      <td>2016-10-31</td>\n",
       "      <td>2</td>\n",
       "      <td>0.0</td>\n",
       "      <td>Italian/French</td>\n",
       "      <td>35.694003</td>\n",
       "      <td>139.753595</td>\n",
       "      <td>Tōkyō-to</td>\n",
       "      <td>3</td>\n",
       "      <td>10</td>\n",
       "      <td>31</td>\n",
       "      <td>0</td>\n",
       "      <td>305</td>\n",
       "      <td>Monday</td>\n",
       "      <td>0</td>\n",
       "      <td>0</td>\n",
       "      <td>0</td>\n",
       "      <td>0.0</td>\n",
       "    </tr>\n",
       "  </tbody>\n",
       "</table>\n",
       "</div>"
      ],
      "text/plain": [
       "           air_store_id  visit_date  reserve_visitors  res_date_diff  \\\n",
       "0  air_00a91d42b08b08d9  2016-10-31                 2            0.0   \n",
       "\n",
       "   air_genre_name   latitude   longitude prefecture  cluster  month  date  dw  \\\n",
       "0  Italian/French  35.694003  139.753595   Tōkyō-to        3     10    31   0   \n",
       "\n",
       "    dy day_of_week  holiday_flg  sunday  saturday  sat/sun/hol  \n",
       "0  305      Monday            0       0         0          0.0  "
      ]
     },
     "execution_count": 282,
     "metadata": {},
     "output_type": "execute_result"
    }
   ],
   "source": [
    "nf['visit_date']=pd.to_datetime(nf.visit_date).dt.date\n",
    "nf.head(1)"
   ]
  },
  {
   "cell_type": "code",
   "execution_count": 283,
   "metadata": {
    "scrolled": false
   },
   "outputs": [
    {
     "data": {
      "text/html": [
       "<div>\n",
       "<style scoped>\n",
       "    .dataframe tbody tr th:only-of-type {\n",
       "        vertical-align: middle;\n",
       "    }\n",
       "\n",
       "    .dataframe tbody tr th {\n",
       "        vertical-align: top;\n",
       "    }\n",
       "\n",
       "    .dataframe thead th {\n",
       "        text-align: right;\n",
       "    }\n",
       "</style>\n",
       "<table border=\"1\" class=\"dataframe\">\n",
       "  <thead>\n",
       "    <tr style=\"text-align: right;\">\n",
       "      <th></th>\n",
       "      <th>cluster</th>\n",
       "      <th>calendar_date</th>\n",
       "      <th>precipitation</th>\n",
       "      <th>avg_temperature</th>\n",
       "      <th>total_snowfall</th>\n",
       "      <th>deepest_snowfall</th>\n",
       "      <th>hours_sunlight</th>\n",
       "      <th>avg_wind_speed</th>\n",
       "      <th>avg_vapor_pressure</th>\n",
       "      <th>avg_humidity</th>\n",
       "      <th>...</th>\n",
       "      <th>prefecture</th>\n",
       "      <th>month</th>\n",
       "      <th>date</th>\n",
       "      <th>dw</th>\n",
       "      <th>dy</th>\n",
       "      <th>day_of_week</th>\n",
       "      <th>holiday_flg</th>\n",
       "      <th>sunday</th>\n",
       "      <th>saturday</th>\n",
       "      <th>sat/sun/hol</th>\n",
       "    </tr>\n",
       "  </thead>\n",
       "  <tbody>\n",
       "    <tr>\n",
       "      <th>29825</th>\n",
       "      <td>7</td>\n",
       "      <td>2017-05-13</td>\n",
       "      <td>61.666667</td>\n",
       "      <td>12.933333</td>\n",
       "      <td>0.0</td>\n",
       "      <td>0.0</td>\n",
       "      <td>0.000000</td>\n",
       "      <td>3.966667</td>\n",
       "      <td>14.5</td>\n",
       "      <td>95.0</td>\n",
       "      <td>...</td>\n",
       "      <td>Miyagi-ken</td>\n",
       "      <td>5</td>\n",
       "      <td>13</td>\n",
       "      <td>5</td>\n",
       "      <td>133</td>\n",
       "      <td>Saturday</td>\n",
       "      <td>0</td>\n",
       "      <td>0</td>\n",
       "      <td>1</td>\n",
       "      <td>0.3</td>\n",
       "    </tr>\n",
       "    <tr>\n",
       "      <th>29826</th>\n",
       "      <td>7</td>\n",
       "      <td>2017-05-13</td>\n",
       "      <td>61.666667</td>\n",
       "      <td>12.933333</td>\n",
       "      <td>0.0</td>\n",
       "      <td>0.0</td>\n",
       "      <td>0.000000</td>\n",
       "      <td>3.966667</td>\n",
       "      <td>14.5</td>\n",
       "      <td>95.0</td>\n",
       "      <td>...</td>\n",
       "      <td>Miyagi-ken</td>\n",
       "      <td>5</td>\n",
       "      <td>13</td>\n",
       "      <td>5</td>\n",
       "      <td>133</td>\n",
       "      <td>Saturday</td>\n",
       "      <td>0</td>\n",
       "      <td>0</td>\n",
       "      <td>1</td>\n",
       "      <td>0.3</td>\n",
       "    </tr>\n",
       "    <tr>\n",
       "      <th>29827</th>\n",
       "      <td>7</td>\n",
       "      <td>2017-05-15</td>\n",
       "      <td>12.166667</td>\n",
       "      <td>13.066667</td>\n",
       "      <td>0.0</td>\n",
       "      <td>0.0</td>\n",
       "      <td>0.000000</td>\n",
       "      <td>1.600000</td>\n",
       "      <td>14.6</td>\n",
       "      <td>95.0</td>\n",
       "      <td>...</td>\n",
       "      <td>Miyagi-ken</td>\n",
       "      <td>5</td>\n",
       "      <td>15</td>\n",
       "      <td>0</td>\n",
       "      <td>135</td>\n",
       "      <td>Monday</td>\n",
       "      <td>0</td>\n",
       "      <td>0</td>\n",
       "      <td>0</td>\n",
       "      <td>0.0</td>\n",
       "    </tr>\n",
       "    <tr>\n",
       "      <th>29828</th>\n",
       "      <td>7</td>\n",
       "      <td>2017-05-20</td>\n",
       "      <td>0.000000</td>\n",
       "      <td>20.166667</td>\n",
       "      <td>0.0</td>\n",
       "      <td>0.0</td>\n",
       "      <td>13.466667</td>\n",
       "      <td>2.300000</td>\n",
       "      <td>12.7</td>\n",
       "      <td>56.0</td>\n",
       "      <td>...</td>\n",
       "      <td>Miyagi-ken</td>\n",
       "      <td>5</td>\n",
       "      <td>20</td>\n",
       "      <td>5</td>\n",
       "      <td>140</td>\n",
       "      <td>Saturday</td>\n",
       "      <td>0</td>\n",
       "      <td>0</td>\n",
       "      <td>1</td>\n",
       "      <td>0.3</td>\n",
       "    </tr>\n",
       "    <tr>\n",
       "      <th>29829</th>\n",
       "      <td>7</td>\n",
       "      <td>2017-05-23</td>\n",
       "      <td>0.000000</td>\n",
       "      <td>18.166667</td>\n",
       "      <td>0.0</td>\n",
       "      <td>0.0</td>\n",
       "      <td>5.666667</td>\n",
       "      <td>2.233333</td>\n",
       "      <td>16.8</td>\n",
       "      <td>79.0</td>\n",
       "      <td>...</td>\n",
       "      <td>Miyagi-ken</td>\n",
       "      <td>5</td>\n",
       "      <td>23</td>\n",
       "      <td>1</td>\n",
       "      <td>143</td>\n",
       "      <td>Tuesday</td>\n",
       "      <td>0</td>\n",
       "      <td>0</td>\n",
       "      <td>0</td>\n",
       "      <td>0.0</td>\n",
       "    </tr>\n",
       "  </tbody>\n",
       "</table>\n",
       "<p>5 rows × 33 columns</p>\n",
       "</div>"
      ],
      "text/plain": [
       "       cluster calendar_date  precipitation  avg_temperature  total_snowfall  \\\n",
       "29825        7    2017-05-13      61.666667        12.933333             0.0   \n",
       "29826        7    2017-05-13      61.666667        12.933333             0.0   \n",
       "29827        7    2017-05-15      12.166667        13.066667             0.0   \n",
       "29828        7    2017-05-20       0.000000        20.166667             0.0   \n",
       "29829        7    2017-05-23       0.000000        18.166667             0.0   \n",
       "\n",
       "       deepest_snowfall  hours_sunlight  avg_wind_speed  avg_vapor_pressure  \\\n",
       "29825               0.0        0.000000        3.966667                14.5   \n",
       "29826               0.0        0.000000        3.966667                14.5   \n",
       "29827               0.0        0.000000        1.600000                14.6   \n",
       "29828               0.0       13.466667        2.300000                12.7   \n",
       "29829               0.0        5.666667        2.233333                16.8   \n",
       "\n",
       "       avg_humidity     ...       prefecture  month  date  dw   dy  \\\n",
       "29825          95.0     ...       Miyagi-ken      5    13   5  133   \n",
       "29826          95.0     ...       Miyagi-ken      5    13   5  133   \n",
       "29827          95.0     ...       Miyagi-ken      5    15   0  135   \n",
       "29828          56.0     ...       Miyagi-ken      5    20   5  140   \n",
       "29829          79.0     ...       Miyagi-ken      5    23   1  143   \n",
       "\n",
       "       day_of_week holiday_flg sunday  saturday  sat/sun/hol  \n",
       "29825     Saturday           0      0         1          0.3  \n",
       "29826     Saturday           0      0         1          0.3  \n",
       "29827       Monday           0      0         0          0.0  \n",
       "29828     Saturday           0      0         1          0.3  \n",
       "29829      Tuesday           0      0         0          0.0  \n",
       "\n",
       "[5 rows x 33 columns]"
      ]
     },
     "execution_count": 283,
     "metadata": {},
     "output_type": "execute_result"
    }
   ],
   "source": [
    "wnf = pd.merge(wdg,nf,left_on=['cluster','calendar_date'],right_on=['cluster','visit_date'])\n",
    "wnf.tail()"
   ]
  },
  {
   "cell_type": "code",
   "execution_count": 284,
   "metadata": {},
   "outputs": [],
   "source": [
    "#wnf['']"
   ]
  },
  {
   "cell_type": "code",
   "execution_count": 285,
   "metadata": {},
   "outputs": [
    {
     "data": {
      "text/html": [
       "<div>\n",
       "<style scoped>\n",
       "    .dataframe tbody tr th:only-of-type {\n",
       "        vertical-align: middle;\n",
       "    }\n",
       "\n",
       "    .dataframe tbody tr th {\n",
       "        vertical-align: top;\n",
       "    }\n",
       "\n",
       "    .dataframe thead th {\n",
       "        text-align: right;\n",
       "    }\n",
       "</style>\n",
       "<table border=\"1\" class=\"dataframe\">\n",
       "  <thead>\n",
       "    <tr style=\"text-align: right;\">\n",
       "      <th></th>\n",
       "      <th>air_store_id</th>\n",
       "      <th>visit_date</th>\n",
       "      <th>visitors</th>\n",
       "    </tr>\n",
       "  </thead>\n",
       "  <tbody>\n",
       "    <tr>\n",
       "      <th>0</th>\n",
       "      <td>air_ba937bf13d40fb24</td>\n",
       "      <td>2016-01-13</td>\n",
       "      <td>25</td>\n",
       "    </tr>\n",
       "    <tr>\n",
       "      <th>1</th>\n",
       "      <td>air_ba937bf13d40fb24</td>\n",
       "      <td>2016-01-14</td>\n",
       "      <td>32</td>\n",
       "    </tr>\n",
       "    <tr>\n",
       "      <th>2</th>\n",
       "      <td>air_ba937bf13d40fb24</td>\n",
       "      <td>2016-01-15</td>\n",
       "      <td>29</td>\n",
       "    </tr>\n",
       "    <tr>\n",
       "      <th>3</th>\n",
       "      <td>air_ba937bf13d40fb24</td>\n",
       "      <td>2016-01-16</td>\n",
       "      <td>22</td>\n",
       "    </tr>\n",
       "    <tr>\n",
       "      <th>4</th>\n",
       "      <td>air_ba937bf13d40fb24</td>\n",
       "      <td>2016-01-18</td>\n",
       "      <td>6</td>\n",
       "    </tr>\n",
       "  </tbody>\n",
       "</table>\n",
       "</div>"
      ],
      "text/plain": [
       "           air_store_id  visit_date  visitors\n",
       "0  air_ba937bf13d40fb24  2016-01-13        25\n",
       "1  air_ba937bf13d40fb24  2016-01-14        32\n",
       "2  air_ba937bf13d40fb24  2016-01-15        29\n",
       "3  air_ba937bf13d40fb24  2016-01-16        22\n",
       "4  air_ba937bf13d40fb24  2016-01-18         6"
      ]
     },
     "execution_count": 285,
     "metadata": {},
     "output_type": "execute_result"
    }
   ],
   "source": [
    "airvisit.head()"
   ]
  },
  {
   "cell_type": "code",
   "execution_count": null,
   "metadata": {},
   "outputs": [],
   "source": []
  },
  {
   "cell_type": "code",
   "execution_count": 286,
   "metadata": {},
   "outputs": [],
   "source": [
    "airvisit['visit_date'] = pd.to_datetime(airvisit['visit_date']).dt.date\n",
    "wnf = pd.merge(wnf,airvisit,on=['air_store_id','visit_date'])"
   ]
  },
  {
   "cell_type": "code",
   "execution_count": null,
   "metadata": {},
   "outputs": [],
   "source": []
  },
  {
   "cell_type": "code",
   "execution_count": 287,
   "metadata": {
    "scrolled": true
   },
   "outputs": [
    {
     "data": {
      "text/html": [
       "<div>\n",
       "<style scoped>\n",
       "    .dataframe tbody tr th:only-of-type {\n",
       "        vertical-align: middle;\n",
       "    }\n",
       "\n",
       "    .dataframe tbody tr th {\n",
       "        vertical-align: top;\n",
       "    }\n",
       "\n",
       "    .dataframe thead th {\n",
       "        text-align: right;\n",
       "    }\n",
       "</style>\n",
       "<table border=\"1\" class=\"dataframe\">\n",
       "  <thead>\n",
       "    <tr style=\"text-align: right;\">\n",
       "      <th></th>\n",
       "      <th>cluster</th>\n",
       "      <th>calendar_date</th>\n",
       "      <th>precipitation</th>\n",
       "      <th>avg_temperature</th>\n",
       "      <th>total_snowfall</th>\n",
       "      <th>deepest_snowfall</th>\n",
       "      <th>hours_sunlight</th>\n",
       "      <th>avg_wind_speed</th>\n",
       "      <th>avg_vapor_pressure</th>\n",
       "      <th>avg_humidity</th>\n",
       "      <th>...</th>\n",
       "      <th>month</th>\n",
       "      <th>date</th>\n",
       "      <th>dw</th>\n",
       "      <th>dy</th>\n",
       "      <th>day_of_week</th>\n",
       "      <th>holiday_flg</th>\n",
       "      <th>sunday</th>\n",
       "      <th>saturday</th>\n",
       "      <th>sat/sun/hol</th>\n",
       "      <th>visitors</th>\n",
       "    </tr>\n",
       "  </thead>\n",
       "  <tbody>\n",
       "    <tr>\n",
       "      <th>0</th>\n",
       "      <td>0</td>\n",
       "      <td>2016-01-02</td>\n",
       "      <td>0.0</td>\n",
       "      <td>6.800000</td>\n",
       "      <td>NaN</td>\n",
       "      <td>NaN</td>\n",
       "      <td>3.733333</td>\n",
       "      <td>1.666667</td>\n",
       "      <td>8.10</td>\n",
       "      <td>77.5</td>\n",
       "      <td>...</td>\n",
       "      <td>1</td>\n",
       "      <td>2</td>\n",
       "      <td>5</td>\n",
       "      <td>2</td>\n",
       "      <td>Saturday</td>\n",
       "      <td>1</td>\n",
       "      <td>0</td>\n",
       "      <td>1</td>\n",
       "      <td>1.3</td>\n",
       "      <td>28</td>\n",
       "    </tr>\n",
       "    <tr>\n",
       "      <th>1</th>\n",
       "      <td>0</td>\n",
       "      <td>2016-01-03</td>\n",
       "      <td>0.0</td>\n",
       "      <td>8.733333</td>\n",
       "      <td>NaN</td>\n",
       "      <td>NaN</td>\n",
       "      <td>6.133333</td>\n",
       "      <td>1.633333</td>\n",
       "      <td>9.85</td>\n",
       "      <td>82.5</td>\n",
       "      <td>...</td>\n",
       "      <td>1</td>\n",
       "      <td>3</td>\n",
       "      <td>6</td>\n",
       "      <td>3</td>\n",
       "      <td>Sunday</td>\n",
       "      <td>1</td>\n",
       "      <td>1</td>\n",
       "      <td>0</td>\n",
       "      <td>1.5</td>\n",
       "      <td>29</td>\n",
       "    </tr>\n",
       "    <tr>\n",
       "      <th>2</th>\n",
       "      <td>0</td>\n",
       "      <td>2016-01-04</td>\n",
       "      <td>0.0</td>\n",
       "      <td>9.100000</td>\n",
       "      <td>NaN</td>\n",
       "      <td>NaN</td>\n",
       "      <td>6.600000</td>\n",
       "      <td>1.900000</td>\n",
       "      <td>9.15</td>\n",
       "      <td>74.5</td>\n",
       "      <td>...</td>\n",
       "      <td>1</td>\n",
       "      <td>4</td>\n",
       "      <td>0</td>\n",
       "      <td>4</td>\n",
       "      <td>Monday</td>\n",
       "      <td>0</td>\n",
       "      <td>0</td>\n",
       "      <td>0</td>\n",
       "      <td>0.0</td>\n",
       "      <td>17</td>\n",
       "    </tr>\n",
       "    <tr>\n",
       "      <th>3</th>\n",
       "      <td>0</td>\n",
       "      <td>2016-01-06</td>\n",
       "      <td>0.0</td>\n",
       "      <td>6.533333</td>\n",
       "      <td>NaN</td>\n",
       "      <td>NaN</td>\n",
       "      <td>0.933333</td>\n",
       "      <td>1.433333</td>\n",
       "      <td>7.90</td>\n",
       "      <td>76.5</td>\n",
       "      <td>...</td>\n",
       "      <td>1</td>\n",
       "      <td>6</td>\n",
       "      <td>2</td>\n",
       "      <td>6</td>\n",
       "      <td>Wednesday</td>\n",
       "      <td>0</td>\n",
       "      <td>0</td>\n",
       "      <td>0</td>\n",
       "      <td>0.0</td>\n",
       "      <td>23</td>\n",
       "    </tr>\n",
       "    <tr>\n",
       "      <th>4</th>\n",
       "      <td>0</td>\n",
       "      <td>2016-01-07</td>\n",
       "      <td>0.0</td>\n",
       "      <td>6.433333</td>\n",
       "      <td>NaN</td>\n",
       "      <td>NaN</td>\n",
       "      <td>5.266667</td>\n",
       "      <td>2.100000</td>\n",
       "      <td>6.20</td>\n",
       "      <td>61.0</td>\n",
       "      <td>...</td>\n",
       "      <td>1</td>\n",
       "      <td>7</td>\n",
       "      <td>3</td>\n",
       "      <td>7</td>\n",
       "      <td>Thursday</td>\n",
       "      <td>0</td>\n",
       "      <td>0</td>\n",
       "      <td>0</td>\n",
       "      <td>0.0</td>\n",
       "      <td>37</td>\n",
       "    </tr>\n",
       "  </tbody>\n",
       "</table>\n",
       "<p>5 rows × 34 columns</p>\n",
       "</div>"
      ],
      "text/plain": [
       "   cluster calendar_date  precipitation  avg_temperature  total_snowfall  \\\n",
       "0        0    2016-01-02            0.0         6.800000             NaN   \n",
       "1        0    2016-01-03            0.0         8.733333             NaN   \n",
       "2        0    2016-01-04            0.0         9.100000             NaN   \n",
       "3        0    2016-01-06            0.0         6.533333             NaN   \n",
       "4        0    2016-01-07            0.0         6.433333             NaN   \n",
       "\n",
       "   deepest_snowfall  hours_sunlight  avg_wind_speed  avg_vapor_pressure  \\\n",
       "0               NaN        3.733333        1.666667                8.10   \n",
       "1               NaN        6.133333        1.633333                9.85   \n",
       "2               NaN        6.600000        1.900000                9.15   \n",
       "3               NaN        0.933333        1.433333                7.90   \n",
       "4               NaN        5.266667        2.100000                6.20   \n",
       "\n",
       "   avg_humidity    ...     month  date  dw  dy  day_of_week  holiday_flg  \\\n",
       "0          77.5    ...         1     2   5   2     Saturday            1   \n",
       "1          82.5    ...         1     3   6   3       Sunday            1   \n",
       "2          74.5    ...         1     4   0   4       Monday            0   \n",
       "3          76.5    ...         1     6   2   6    Wednesday            0   \n",
       "4          61.0    ...         1     7   3   7     Thursday            0   \n",
       "\n",
       "  sunday saturday  sat/sun/hol  visitors  \n",
       "0      0        1          1.3        28  \n",
       "1      1        0          1.5        29  \n",
       "2      0        0          0.0        17  \n",
       "3      0        0          0.0        23  \n",
       "4      0        0          0.0        37  \n",
       "\n",
       "[5 rows x 34 columns]"
      ]
     },
     "execution_count": 287,
     "metadata": {},
     "output_type": "execute_result"
    }
   ],
   "source": [
    "wnf.head()"
   ]
  },
  {
   "cell_type": "code",
   "execution_count": 288,
   "metadata": {},
   "outputs": [
    {
     "data": {
      "text/plain": [
       "312"
      ]
     },
     "execution_count": 288,
     "metadata": {},
     "output_type": "execute_result"
    }
   ],
   "source": [
    "len(wnf['air_store_id'].unique())"
   ]
  },
  {
   "cell_type": "markdown",
   "metadata": {},
   "source": [
    "### <a id='missing-values-cell'>9. Missing values</a>"
   ]
  },
  {
   "cell_type": "code",
   "execution_count": 289,
   "metadata": {},
   "outputs": [
    {
     "name": "stdout",
     "output_type": "stream",
     "text": [
      "<class 'pandas.core.frame.DataFrame'>\n",
      "Int64Index: 28064 entries, 0 to 28063\n",
      "Data columns (total 34 columns):\n",
      "cluster               28064 non-null int64\n",
      "calendar_date         28064 non-null object\n",
      "precipitation         28064 non-null float64\n",
      "avg_temperature       28064 non-null float64\n",
      "total_snowfall        5297 non-null float64\n",
      "deepest_snowfall      5479 non-null float64\n",
      "hours_sunlight        28064 non-null float64\n",
      "avg_wind_speed        28064 non-null float64\n",
      "avg_vapor_pressure    28054 non-null float64\n",
      "avg_humidity          28054 non-null float64\n",
      "avg_sea_pressure      28064 non-null float64\n",
      "avg_local_pressure    28064 non-null float64\n",
      "solar_radiation       23610 non-null float64\n",
      "cloud_cover           28064 non-null float64\n",
      "high_temperature      28064 non-null float64\n",
      "low_temperature       28064 non-null float64\n",
      "air_store_id          28064 non-null object\n",
      "visit_date            28064 non-null object\n",
      "reserve_visitors      28064 non-null int64\n",
      "res_date_diff         28064 non-null float64\n",
      "air_genre_name        28064 non-null object\n",
      "latitude              28064 non-null float64\n",
      "longitude             28064 non-null float64\n",
      "prefecture            28064 non-null object\n",
      "month                 28064 non-null int64\n",
      "date                  28064 non-null int64\n",
      "dw                    28064 non-null int64\n",
      "dy                    28064 non-null int64\n",
      "day_of_week           28064 non-null object\n",
      "holiday_flg           28064 non-null int64\n",
      "sunday                28064 non-null int64\n",
      "saturday              28064 non-null int64\n",
      "sat/sun/hol           28064 non-null float64\n",
      "visitors              28064 non-null int64\n",
      "dtypes: float64(18), int64(10), object(6)\n",
      "memory usage: 7.5+ MB\n"
     ]
    }
   ],
   "source": [
    "wnf.info()"
   ]
  },
  {
   "cell_type": "markdown",
   "metadata": {},
   "source": [
    "We can see that there are two columns in which there are zero values: \"Total snowfall\" and \"Deepest snowfall\".\n",
    "It's snowing in japan only in winter.This is less than half of our data.We also make a forecast for the spring."
   ]
  },
  {
   "cell_type": "markdown",
   "metadata": {},
   "source": [
    "We decided to delete the following columns"
   ]
  },
  {
   "cell_type": "markdown",
   "metadata": {},
   "source": [
    "## <a id='variable-selection-cell'>10 Variable selection</a>"
   ]
  },
  {
   "cell_type": "markdown",
   "metadata": {},
   "source": [
    "<a id='graph-variable-selection-cell'>0. Graph Variable selection</a>"
   ]
  },
  {
   "cell_type": "code",
   "execution_count": 290,
   "metadata": {
    "scrolled": true
   },
   "outputs": [
    {
     "data": {
      "text/plain": [
       "<matplotlib.axes._subplots.AxesSubplot at 0x788a780>"
      ]
     },
     "execution_count": 290,
     "metadata": {},
     "output_type": "execute_result"
    },
    {
     "data": {
      "image/png": "[encoded data removed]",
      "text/plain": [
       "<Figure size 1080x720 with 2 Axes>"
      ]
     },
     "metadata": {},
     "output_type": "display_data"
    }
   ],
   "source": [
    "f,axa = plt.subplots(1,1,figsize=(15,10))\n",
    "sns.heatmap(wnf.corr()[['visitors']])"
   ]
  },
  {
   "cell_type": "markdown",
   "metadata": {
    "_cell_guid": "3997111b-153c-4d6d-addf-e4b8f9595cce",
    "_uuid": "975f97de7143128edecd8a73542263b820c79155"
   },
   "source": [
    "Apparently there number of visitors is not correlated with the weather conditions"
   ]
  },
  {
   "cell_type": "markdown",
   "metadata": {},
   "source": [
    "<a id='one-hat-code-cell'>1. One Hat Encoding function</a>"
   ]
  },
  {
   "cell_type": "code",
   "execution_count": 291,
   "metadata": {},
   "outputs": [],
   "source": [
    "def our_hat_code(myData, colQuery):\n",
    "    temp = list(myData[colQuery].unique())\n",
    "    print(temp)\n",
    "    n = len(temp) \n",
    "    print(n)\n",
    "    for ii in range(0,n):\n",
    "        #print('test')\n",
    "        #print(\"1\",myData[ii])\n",
    "        #print(\"2\",myData[temp[ii]])\n",
    "        myData[temp[ii]] = None\n",
    "        myData.loc[(myData[colQuery] == temp[ii] ),temp[ii]] = 1\n",
    "        myData.loc[(myData[colQuery] != temp[ii]),temp[ii]] = 0\n",
    "        "
   ]
  },
  {
   "cell_type": "code",
   "execution_count": 292,
   "metadata": {},
   "outputs": [],
   "source": [
    "copyTest = wnf.copy()\n"
   ]
  },
  {
   "cell_type": "markdown",
   "metadata": {},
   "source": [
    "<a id='genre-name-one-hat-code-cell'>1.1 One Hat Encoding <code>air_genre_name</code></a>"
   ]
  },
  {
   "cell_type": "code",
   "execution_count": 293,
   "metadata": {},
   "outputs": [
    {
     "name": "stdout",
     "output_type": "stream",
     "text": [
      "['Okonomiyaki/Monja/Teppanyaki', 'Izakaya', 'Dining bar', 'Japanese food', 'Bar/Cocktail', 'Italian/French', 'Yakiniku/Korean food', 'Western food', 'Cafe/Sweets', 'Karaoke/Party', 'Creative cuisine', 'International cuisine', 'Asian', 'Other']\n",
      "14\n"
     ]
    }
   ],
   "source": [
    "our_hat_code(copyTest,'air_genre_name')"
   ]
  },
  {
   "cell_type": "code",
   "execution_count": 294,
   "metadata": {},
   "outputs": [
    {
     "data": {
      "text/html": [
       "<div>\n",
       "<style scoped>\n",
       "    .dataframe tbody tr th:only-of-type {\n",
       "        vertical-align: middle;\n",
       "    }\n",
       "\n",
       "    .dataframe tbody tr th {\n",
       "        vertical-align: top;\n",
       "    }\n",
       "\n",
       "    .dataframe thead th {\n",
       "        text-align: right;\n",
       "    }\n",
       "</style>\n",
       "<table border=\"1\" class=\"dataframe\">\n",
       "  <thead>\n",
       "    <tr style=\"text-align: right;\">\n",
       "      <th></th>\n",
       "      <th>cluster</th>\n",
       "      <th>calendar_date</th>\n",
       "      <th>precipitation</th>\n",
       "      <th>avg_temperature</th>\n",
       "      <th>total_snowfall</th>\n",
       "      <th>deepest_snowfall</th>\n",
       "      <th>hours_sunlight</th>\n",
       "      <th>avg_wind_speed</th>\n",
       "      <th>avg_vapor_pressure</th>\n",
       "      <th>avg_humidity</th>\n",
       "      <th>...</th>\n",
       "      <th>Bar/Cocktail</th>\n",
       "      <th>Italian/French</th>\n",
       "      <th>Yakiniku/Korean food</th>\n",
       "      <th>Western food</th>\n",
       "      <th>Cafe/Sweets</th>\n",
       "      <th>Karaoke/Party</th>\n",
       "      <th>Creative cuisine</th>\n",
       "      <th>International cuisine</th>\n",
       "      <th>Asian</th>\n",
       "      <th>Other</th>\n",
       "    </tr>\n",
       "  </thead>\n",
       "  <tbody>\n",
       "    <tr>\n",
       "      <th>0</th>\n",
       "      <td>0</td>\n",
       "      <td>2016-01-02</td>\n",
       "      <td>0.0</td>\n",
       "      <td>6.800000</td>\n",
       "      <td>NaN</td>\n",
       "      <td>NaN</td>\n",
       "      <td>3.733333</td>\n",
       "      <td>1.666667</td>\n",
       "      <td>8.10</td>\n",
       "      <td>77.5</td>\n",
       "      <td>...</td>\n",
       "      <td>0</td>\n",
       "      <td>0</td>\n",
       "      <td>0</td>\n",
       "      <td>0</td>\n",
       "      <td>0</td>\n",
       "      <td>0</td>\n",
       "      <td>0</td>\n",
       "      <td>0</td>\n",
       "      <td>0</td>\n",
       "      <td>0</td>\n",
       "    </tr>\n",
       "    <tr>\n",
       "      <th>1</th>\n",
       "      <td>0</td>\n",
       "      <td>2016-01-03</td>\n",
       "      <td>0.0</td>\n",
       "      <td>8.733333</td>\n",
       "      <td>NaN</td>\n",
       "      <td>NaN</td>\n",
       "      <td>6.133333</td>\n",
       "      <td>1.633333</td>\n",
       "      <td>9.85</td>\n",
       "      <td>82.5</td>\n",
       "      <td>...</td>\n",
       "      <td>0</td>\n",
       "      <td>0</td>\n",
       "      <td>0</td>\n",
       "      <td>0</td>\n",
       "      <td>0</td>\n",
       "      <td>0</td>\n",
       "      <td>0</td>\n",
       "      <td>0</td>\n",
       "      <td>0</td>\n",
       "      <td>0</td>\n",
       "    </tr>\n",
       "    <tr>\n",
       "      <th>2</th>\n",
       "      <td>0</td>\n",
       "      <td>2016-01-04</td>\n",
       "      <td>0.0</td>\n",
       "      <td>9.100000</td>\n",
       "      <td>NaN</td>\n",
       "      <td>NaN</td>\n",
       "      <td>6.600000</td>\n",
       "      <td>1.900000</td>\n",
       "      <td>9.15</td>\n",
       "      <td>74.5</td>\n",
       "      <td>...</td>\n",
       "      <td>0</td>\n",
       "      <td>0</td>\n",
       "      <td>0</td>\n",
       "      <td>0</td>\n",
       "      <td>0</td>\n",
       "      <td>0</td>\n",
       "      <td>0</td>\n",
       "      <td>0</td>\n",
       "      <td>0</td>\n",
       "      <td>0</td>\n",
       "    </tr>\n",
       "    <tr>\n",
       "      <th>3</th>\n",
       "      <td>0</td>\n",
       "      <td>2016-01-06</td>\n",
       "      <td>0.0</td>\n",
       "      <td>6.533333</td>\n",
       "      <td>NaN</td>\n",
       "      <td>NaN</td>\n",
       "      <td>0.933333</td>\n",
       "      <td>1.433333</td>\n",
       "      <td>7.90</td>\n",
       "      <td>76.5</td>\n",
       "      <td>...</td>\n",
       "      <td>0</td>\n",
       "      <td>0</td>\n",
       "      <td>0</td>\n",
       "      <td>0</td>\n",
       "      <td>0</td>\n",
       "      <td>0</td>\n",
       "      <td>0</td>\n",
       "      <td>0</td>\n",
       "      <td>0</td>\n",
       "      <td>0</td>\n",
       "    </tr>\n",
       "    <tr>\n",
       "      <th>4</th>\n",
       "      <td>0</td>\n",
       "      <td>2016-01-07</td>\n",
       "      <td>0.0</td>\n",
       "      <td>6.433333</td>\n",
       "      <td>NaN</td>\n",
       "      <td>NaN</td>\n",
       "      <td>5.266667</td>\n",
       "      <td>2.100000</td>\n",
       "      <td>6.20</td>\n",
       "      <td>61.0</td>\n",
       "      <td>...</td>\n",
       "      <td>0</td>\n",
       "      <td>0</td>\n",
       "      <td>0</td>\n",
       "      <td>0</td>\n",
       "      <td>0</td>\n",
       "      <td>0</td>\n",
       "      <td>0</td>\n",
       "      <td>0</td>\n",
       "      <td>0</td>\n",
       "      <td>0</td>\n",
       "    </tr>\n",
       "  </tbody>\n",
       "</table>\n",
       "<p>5 rows × 48 columns</p>\n",
       "</div>"
      ],
      "text/plain": [
       "   cluster calendar_date  precipitation  avg_temperature  total_snowfall  \\\n",
       "0        0    2016-01-02            0.0         6.800000             NaN   \n",
       "1        0    2016-01-03            0.0         8.733333             NaN   \n",
       "2        0    2016-01-04            0.0         9.100000             NaN   \n",
       "3        0    2016-01-06            0.0         6.533333             NaN   \n",
       "4        0    2016-01-07            0.0         6.433333             NaN   \n",
       "\n",
       "   deepest_snowfall  hours_sunlight  avg_wind_speed  avg_vapor_pressure  \\\n",
       "0               NaN        3.733333        1.666667                8.10   \n",
       "1               NaN        6.133333        1.633333                9.85   \n",
       "2               NaN        6.600000        1.900000                9.15   \n",
       "3               NaN        0.933333        1.433333                7.90   \n",
       "4               NaN        5.266667        2.100000                6.20   \n",
       "\n",
       "   avg_humidity  ...    Bar/Cocktail  Italian/French  Yakiniku/Korean food  \\\n",
       "0          77.5  ...               0               0                     0   \n",
       "1          82.5  ...               0               0                     0   \n",
       "2          74.5  ...               0               0                     0   \n",
       "3          76.5  ...               0               0                     0   \n",
       "4          61.0  ...               0               0                     0   \n",
       "\n",
       "   Western food  Cafe/Sweets  Karaoke/Party Creative cuisine  \\\n",
       "0             0            0              0                0   \n",
       "1             0            0              0                0   \n",
       "2             0            0              0                0   \n",
       "3             0            0              0                0   \n",
       "4             0            0              0                0   \n",
       "\n",
       "  International cuisine  Asian  Other  \n",
       "0                     0      0      0  \n",
       "1                     0      0      0  \n",
       "2                     0      0      0  \n",
       "3                     0      0      0  \n",
       "4                     0      0      0  \n",
       "\n",
       "[5 rows x 48 columns]"
      ]
     },
     "execution_count": 294,
     "metadata": {},
     "output_type": "execute_result"
    }
   ],
   "source": [
    "copyTest.head()"
   ]
  },
  {
   "cell_type": "code",
   "execution_count": 295,
   "metadata": {},
   "outputs": [
    {
     "data": {
      "text/plain": [
       "<matplotlib.axes._subplots.AxesSubplot at 0x346c9da0>"
      ]
     },
     "execution_count": 295,
     "metadata": {},
     "output_type": "execute_result"
    },
    {
     "data": {
      "image/png": "[encoded data removed]",
      "text/plain": [
       "<Figure size 1080x720 with 2 Axes>"
      ]
     },
     "metadata": {},
     "output_type": "display_data"
    }
   ],
   "source": [
    "f,axa = plt.subplots(1,1,figsize=(15,10))\n",
    "sns.heatmap(copyTest.corr()[['visitors']])"
   ]
  },
  {
   "cell_type": "code",
   "execution_count": 296,
   "metadata": {},
   "outputs": [],
   "source": [
    "copyTest['cluster'] = copyTest['cluster'].astype('category')"
   ]
  },
  {
   "cell_type": "code",
   "execution_count": 297,
   "metadata": {},
   "outputs": [
    {
     "data": {
      "text/html": [
       "<div>\n",
       "<style scoped>\n",
       "    .dataframe tbody tr th:only-of-type {\n",
       "        vertical-align: middle;\n",
       "    }\n",
       "\n",
       "    .dataframe tbody tr th {\n",
       "        vertical-align: top;\n",
       "    }\n",
       "\n",
       "    .dataframe thead th {\n",
       "        text-align: right;\n",
       "    }\n",
       "</style>\n",
       "<table border=\"1\" class=\"dataframe\">\n",
       "  <thead>\n",
       "    <tr style=\"text-align: right;\">\n",
       "      <th></th>\n",
       "      <th>precipitation</th>\n",
       "      <th>avg_temperature</th>\n",
       "      <th>total_snowfall</th>\n",
       "      <th>deepest_snowfall</th>\n",
       "      <th>hours_sunlight</th>\n",
       "      <th>avg_wind_speed</th>\n",
       "      <th>avg_vapor_pressure</th>\n",
       "      <th>avg_humidity</th>\n",
       "      <th>avg_sea_pressure</th>\n",
       "      <th>avg_local_pressure</th>\n",
       "      <th>...</th>\n",
       "      <th>Bar/Cocktail</th>\n",
       "      <th>Italian/French</th>\n",
       "      <th>Yakiniku/Korean food</th>\n",
       "      <th>Western food</th>\n",
       "      <th>Cafe/Sweets</th>\n",
       "      <th>Karaoke/Party</th>\n",
       "      <th>Creative cuisine</th>\n",
       "      <th>International cuisine</th>\n",
       "      <th>Asian</th>\n",
       "      <th>Other</th>\n",
       "    </tr>\n",
       "  </thead>\n",
       "  <tbody>\n",
       "    <tr>\n",
       "      <th>count</th>\n",
       "      <td>28064.000000</td>\n",
       "      <td>28064.000000</td>\n",
       "      <td>5297.000000</td>\n",
       "      <td>5479.000000</td>\n",
       "      <td>28064.000000</td>\n",
       "      <td>28064.000000</td>\n",
       "      <td>28054.000000</td>\n",
       "      <td>28054.000000</td>\n",
       "      <td>28064.000000</td>\n",
       "      <td>28064.000000</td>\n",
       "      <td>...</td>\n",
       "      <td>28064.000000</td>\n",
       "      <td>28064.000000</td>\n",
       "      <td>28064.000000</td>\n",
       "      <td>28064.000000</td>\n",
       "      <td>28064.000000</td>\n",
       "      <td>28064.000000</td>\n",
       "      <td>28064.000000</td>\n",
       "      <td>28064.000000</td>\n",
       "      <td>28064.000000</td>\n",
       "      <td>28064.000000</td>\n",
       "    </tr>\n",
       "    <tr>\n",
       "      <th>mean</th>\n",
       "      <td>3.083158</td>\n",
       "      <td>8.198047</td>\n",
       "      <td>2.121862</td>\n",
       "      <td>21.558381</td>\n",
       "      <td>5.412953</td>\n",
       "      <td>2.751646</td>\n",
       "      <td>7.999076</td>\n",
       "      <td>65.683592</td>\n",
       "      <td>1016.891317</td>\n",
       "      <td>1013.005105</td>\n",
       "      <td>...</td>\n",
       "      <td>0.015180</td>\n",
       "      <td>0.216327</td>\n",
       "      <td>0.053734</td>\n",
       "      <td>0.033851</td>\n",
       "      <td>0.045966</td>\n",
       "      <td>0.001532</td>\n",
       "      <td>0.011794</td>\n",
       "      <td>0.000107</td>\n",
       "      <td>0.000036</td>\n",
       "      <td>0.008837</td>\n",
       "    </tr>\n",
       "    <tr>\n",
       "      <th>std</th>\n",
       "      <td>7.990080</td>\n",
       "      <td>6.112476</td>\n",
       "      <td>3.481494</td>\n",
       "      <td>23.550224</td>\n",
       "      <td>3.557553</td>\n",
       "      <td>0.996354</td>\n",
       "      <td>4.262752</td>\n",
       "      <td>13.686112</td>\n",
       "      <td>6.972326</td>\n",
       "      <td>7.357350</td>\n",
       "      <td>...</td>\n",
       "      <td>0.122269</td>\n",
       "      <td>0.411747</td>\n",
       "      <td>0.225497</td>\n",
       "      <td>0.180849</td>\n",
       "      <td>0.209416</td>\n",
       "      <td>0.039114</td>\n",
       "      <td>0.107962</td>\n",
       "      <td>0.010339</td>\n",
       "      <td>0.005969</td>\n",
       "      <td>0.093590</td>\n",
       "    </tr>\n",
       "    <tr>\n",
       "      <th>min</th>\n",
       "      <td>0.000000</td>\n",
       "      <td>-13.071429</td>\n",
       "      <td>0.000000</td>\n",
       "      <td>0.000000</td>\n",
       "      <td>0.000000</td>\n",
       "      <td>0.733333</td>\n",
       "      <td>2.000000</td>\n",
       "      <td>28.000000</td>\n",
       "      <td>992.700000</td>\n",
       "      <td>985.175000</td>\n",
       "      <td>...</td>\n",
       "      <td>0.000000</td>\n",
       "      <td>0.000000</td>\n",
       "      <td>0.000000</td>\n",
       "      <td>0.000000</td>\n",
       "      <td>0.000000</td>\n",
       "      <td>0.000000</td>\n",
       "      <td>0.000000</td>\n",
       "      <td>0.000000</td>\n",
       "      <td>0.000000</td>\n",
       "      <td>0.000000</td>\n",
       "    </tr>\n",
       "    <tr>\n",
       "      <th>25%</th>\n",
       "      <td>0.000000</td>\n",
       "      <td>4.975000</td>\n",
       "      <td>0.000000</td>\n",
       "      <td>0.000000</td>\n",
       "      <td>2.133333</td>\n",
       "      <td>2.028571</td>\n",
       "      <td>5.100000</td>\n",
       "      <td>56.500000</td>\n",
       "      <td>1012.400000</td>\n",
       "      <td>1008.425000</td>\n",
       "      <td>...</td>\n",
       "      <td>0.000000</td>\n",
       "      <td>0.000000</td>\n",
       "      <td>0.000000</td>\n",
       "      <td>0.000000</td>\n",
       "      <td>0.000000</td>\n",
       "      <td>0.000000</td>\n",
       "      <td>0.000000</td>\n",
       "      <td>0.000000</td>\n",
       "      <td>0.000000</td>\n",
       "      <td>0.000000</td>\n",
       "    </tr>\n",
       "    <tr>\n",
       "      <th>50%</th>\n",
       "      <td>0.055556</td>\n",
       "      <td>7.814286</td>\n",
       "      <td>0.500000</td>\n",
       "      <td>8.833333</td>\n",
       "      <td>5.700000</td>\n",
       "      <td>2.571429</td>\n",
       "      <td>6.800000</td>\n",
       "      <td>66.000000</td>\n",
       "      <td>1017.500000</td>\n",
       "      <td>1013.750000</td>\n",
       "      <td>...</td>\n",
       "      <td>0.000000</td>\n",
       "      <td>0.000000</td>\n",
       "      <td>0.000000</td>\n",
       "      <td>0.000000</td>\n",
       "      <td>0.000000</td>\n",
       "      <td>0.000000</td>\n",
       "      <td>0.000000</td>\n",
       "      <td>0.000000</td>\n",
       "      <td>0.000000</td>\n",
       "      <td>0.000000</td>\n",
       "    </tr>\n",
       "    <tr>\n",
       "      <th>75%</th>\n",
       "      <td>1.800000</td>\n",
       "      <td>11.971429</td>\n",
       "      <td>3.142857</td>\n",
       "      <td>48.142857</td>\n",
       "      <td>8.483333</td>\n",
       "      <td>3.262500</td>\n",
       "      <td>9.650000</td>\n",
       "      <td>75.000000</td>\n",
       "      <td>1022.050000</td>\n",
       "      <td>1018.500000</td>\n",
       "      <td>...</td>\n",
       "      <td>0.000000</td>\n",
       "      <td>0.000000</td>\n",
       "      <td>0.000000</td>\n",
       "      <td>0.000000</td>\n",
       "      <td>0.000000</td>\n",
       "      <td>0.000000</td>\n",
       "      <td>0.000000</td>\n",
       "      <td>0.000000</td>\n",
       "      <td>0.000000</td>\n",
       "      <td>0.000000</td>\n",
       "    </tr>\n",
       "    <tr>\n",
       "      <th>max</th>\n",
       "      <td>138.687500</td>\n",
       "      <td>31.585714</td>\n",
       "      <td>32.250000</td>\n",
       "      <td>73.714286</td>\n",
       "      <td>13.366667</td>\n",
       "      <td>7.850000</td>\n",
       "      <td>32.200000</td>\n",
       "      <td>99.000000</td>\n",
       "      <td>1035.400000</td>\n",
       "      <td>1031.600000</td>\n",
       "      <td>...</td>\n",
       "      <td>1.000000</td>\n",
       "      <td>1.000000</td>\n",
       "      <td>1.000000</td>\n",
       "      <td>1.000000</td>\n",
       "      <td>1.000000</td>\n",
       "      <td>1.000000</td>\n",
       "      <td>1.000000</td>\n",
       "      <td>1.000000</td>\n",
       "      <td>1.000000</td>\n",
       "      <td>1.000000</td>\n",
       "    </tr>\n",
       "  </tbody>\n",
       "</table>\n",
       "<p>8 rows × 41 columns</p>\n",
       "</div>"
      ],
      "text/plain": [
       "       precipitation  avg_temperature  total_snowfall  deepest_snowfall  \\\n",
       "count   28064.000000     28064.000000     5297.000000       5479.000000   \n",
       "mean        3.083158         8.198047        2.121862         21.558381   \n",
       "std         7.990080         6.112476        3.481494         23.550224   \n",
       "min         0.000000       -13.071429        0.000000          0.000000   \n",
       "25%         0.000000         4.975000        0.000000          0.000000   \n",
       "50%         0.055556         7.814286        0.500000          8.833333   \n",
       "75%         1.800000        11.971429        3.142857         48.142857   \n",
       "max       138.687500        31.585714       32.250000         73.714286   \n",
       "\n",
       "       hours_sunlight  avg_wind_speed  avg_vapor_pressure  avg_humidity  \\\n",
       "count    28064.000000    28064.000000        28054.000000  28054.000000   \n",
       "mean         5.412953        2.751646            7.999076     65.683592   \n",
       "std          3.557553        0.996354            4.262752     13.686112   \n",
       "min          0.000000        0.733333            2.000000     28.000000   \n",
       "25%          2.133333        2.028571            5.100000     56.500000   \n",
       "50%          5.700000        2.571429            6.800000     66.000000   \n",
       "75%          8.483333        3.262500            9.650000     75.000000   \n",
       "max         13.366667        7.850000           32.200000     99.000000   \n",
       "\n",
       "       avg_sea_pressure  avg_local_pressure      ...       Bar/Cocktail  \\\n",
       "count      28064.000000        28064.000000      ...       28064.000000   \n",
       "mean        1016.891317         1013.005105      ...           0.015180   \n",
       "std            6.972326            7.357350      ...           0.122269   \n",
       "min          992.700000          985.175000      ...           0.000000   \n",
       "25%         1012.400000         1008.425000      ...           0.000000   \n",
       "50%         1017.500000         1013.750000      ...           0.000000   \n",
       "75%         1022.050000         1018.500000      ...           0.000000   \n",
       "max         1035.400000         1031.600000      ...           1.000000   \n",
       "\n",
       "       Italian/French  Yakiniku/Korean food  Western food   Cafe/Sweets  \\\n",
       "count    28064.000000          28064.000000  28064.000000  28064.000000   \n",
       "mean         0.216327              0.053734      0.033851      0.045966   \n",
       "std          0.411747              0.225497      0.180849      0.209416   \n",
       "min          0.000000              0.000000      0.000000      0.000000   \n",
       "25%          0.000000              0.000000      0.000000      0.000000   \n",
       "50%          0.000000              0.000000      0.000000      0.000000   \n",
       "75%          0.000000              0.000000      0.000000      0.000000   \n",
       "max          1.000000              1.000000      1.000000      1.000000   \n",
       "\n",
       "       Karaoke/Party  Creative cuisine  International cuisine         Asian  \\\n",
       "count   28064.000000      28064.000000           28064.000000  28064.000000   \n",
       "mean        0.001532          0.011794               0.000107      0.000036   \n",
       "std         0.039114          0.107962               0.010339      0.005969   \n",
       "min         0.000000          0.000000               0.000000      0.000000   \n",
       "25%         0.000000          0.000000               0.000000      0.000000   \n",
       "50%         0.000000          0.000000               0.000000      0.000000   \n",
       "75%         0.000000          0.000000               0.000000      0.000000   \n",
       "max         1.000000          1.000000               1.000000      1.000000   \n",
       "\n",
       "              Other  \n",
       "count  28064.000000  \n",
       "mean       0.008837  \n",
       "std        0.093590  \n",
       "min        0.000000  \n",
       "25%        0.000000  \n",
       "50%        0.000000  \n",
       "75%        0.000000  \n",
       "max        1.000000  \n",
       "\n",
       "[8 rows x 41 columns]"
      ]
     },
     "execution_count": 297,
     "metadata": {},
     "output_type": "execute_result"
    }
   ],
   "source": [
    "copyTest.describe()"
   ]
  },
  {
   "cell_type": "code",
   "execution_count": 298,
   "metadata": {
    "scrolled": true
   },
   "outputs": [
    {
     "name": "stdout",
     "output_type": "stream",
     "text": [
      "<class 'pandas.core.frame.DataFrame'>\n",
      "Int64Index: 28064 entries, 0 to 28063\n",
      "Data columns (total 48 columns):\n",
      "cluster                         28064 non-null category\n",
      "calendar_date                   28064 non-null object\n",
      "precipitation                   28064 non-null float64\n",
      "avg_temperature                 28064 non-null float64\n",
      "total_snowfall                  5297 non-null float64\n",
      "deepest_snowfall                5479 non-null float64\n",
      "hours_sunlight                  28064 non-null float64\n",
      "avg_wind_speed                  28064 non-null float64\n",
      "avg_vapor_pressure              28054 non-null float64\n",
      "avg_humidity                    28054 non-null float64\n",
      "avg_sea_pressure                28064 non-null float64\n",
      "avg_local_pressure              28064 non-null float64\n",
      "solar_radiation                 23610 non-null float64\n",
      "cloud_cover                     28064 non-null float64\n",
      "high_temperature                28064 non-null float64\n",
      "low_temperature                 28064 non-null float64\n",
      "air_store_id                    28064 non-null object\n",
      "visit_date                      28064 non-null object\n",
      "reserve_visitors                28064 non-null int64\n",
      "res_date_diff                   28064 non-null float64\n",
      "air_genre_name                  28064 non-null object\n",
      "latitude                        28064 non-null float64\n",
      "longitude                       28064 non-null float64\n",
      "prefecture                      28064 non-null object\n",
      "month                           28064 non-null int64\n",
      "date                            28064 non-null int64\n",
      "dw                              28064 non-null int64\n",
      "dy                              28064 non-null int64\n",
      "day_of_week                     28064 non-null object\n",
      "holiday_flg                     28064 non-null int64\n",
      "sunday                          28064 non-null int64\n",
      "saturday                        28064 non-null int64\n",
      "sat/sun/hol                     28064 non-null float64\n",
      "visitors                        28064 non-null int64\n",
      "Okonomiyaki/Monja/Teppanyaki    28064 non-null int64\n",
      "Izakaya                         28064 non-null int64\n",
      "Dining bar                      28064 non-null int64\n",
      "Japanese food                   28064 non-null int64\n",
      "Bar/Cocktail                    28064 non-null int64\n",
      "Italian/French                  28064 non-null int64\n",
      "Yakiniku/Korean food            28064 non-null int64\n",
      "Western food                    28064 non-null int64\n",
      "Cafe/Sweets                     28064 non-null int64\n",
      "Karaoke/Party                   28064 non-null int64\n",
      "Creative cuisine                28064 non-null int64\n",
      "International cuisine           28064 non-null int64\n",
      "Asian                           28064 non-null int64\n",
      "Other                           28064 non-null int64\n",
      "dtypes: category(1), float64(18), int64(23), object(6)\n",
      "memory usage: 10.3+ MB\n"
     ]
    }
   ],
   "source": [
    "copyTest.info()"
   ]
  },
  {
   "cell_type": "markdown",
   "metadata": {},
   "source": [
    "<a id='cluster-one-hat-code-cell'>One Hat Encoding <code>cluster</code></a>"
   ]
  },
  {
   "cell_type": "code",
   "execution_count": 299,
   "metadata": {},
   "outputs": [
    {
     "name": "stdout",
     "output_type": "stream",
     "text": [
      "[0, 1, 2, 3, 4, 5, 6, 7]\n",
      "8\n"
     ]
    }
   ],
   "source": [
    "our_hat_code(copyTest,'cluster')"
   ]
  },
  {
   "cell_type": "code",
   "execution_count": 300,
   "metadata": {},
   "outputs": [
    {
     "data": {
      "text/html": [
       "<div>\n",
       "<style scoped>\n",
       "    .dataframe tbody tr th:only-of-type {\n",
       "        vertical-align: middle;\n",
       "    }\n",
       "\n",
       "    .dataframe tbody tr th {\n",
       "        vertical-align: top;\n",
       "    }\n",
       "\n",
       "    .dataframe thead th {\n",
       "        text-align: right;\n",
       "    }\n",
       "</style>\n",
       "<table border=\"1\" class=\"dataframe\">\n",
       "  <thead>\n",
       "    <tr style=\"text-align: right;\">\n",
       "      <th></th>\n",
       "      <th>cluster</th>\n",
       "      <th>calendar_date</th>\n",
       "      <th>precipitation</th>\n",
       "      <th>avg_temperature</th>\n",
       "      <th>total_snowfall</th>\n",
       "      <th>deepest_snowfall</th>\n",
       "      <th>hours_sunlight</th>\n",
       "      <th>avg_wind_speed</th>\n",
       "      <th>avg_vapor_pressure</th>\n",
       "      <th>avg_humidity</th>\n",
       "      <th>...</th>\n",
       "      <th>Asian</th>\n",
       "      <th>Other</th>\n",
       "      <th>0</th>\n",
       "      <th>1</th>\n",
       "      <th>2</th>\n",
       "      <th>3</th>\n",
       "      <th>4</th>\n",
       "      <th>5</th>\n",
       "      <th>6</th>\n",
       "      <th>7</th>\n",
       "    </tr>\n",
       "  </thead>\n",
       "  <tbody>\n",
       "    <tr>\n",
       "      <th>0</th>\n",
       "      <td>0</td>\n",
       "      <td>2016-01-02</td>\n",
       "      <td>0.0</td>\n",
       "      <td>6.8</td>\n",
       "      <td>NaN</td>\n",
       "      <td>NaN</td>\n",
       "      <td>3.733333</td>\n",
       "      <td>1.666667</td>\n",
       "      <td>8.1</td>\n",
       "      <td>77.5</td>\n",
       "      <td>...</td>\n",
       "      <td>0</td>\n",
       "      <td>0</td>\n",
       "      <td>1</td>\n",
       "      <td>0</td>\n",
       "      <td>0</td>\n",
       "      <td>0</td>\n",
       "      <td>0</td>\n",
       "      <td>0</td>\n",
       "      <td>0</td>\n",
       "      <td>0</td>\n",
       "    </tr>\n",
       "  </tbody>\n",
       "</table>\n",
       "<p>1 rows × 56 columns</p>\n",
       "</div>"
      ],
      "text/plain": [
       "  cluster calendar_date  precipitation  avg_temperature  total_snowfall  \\\n",
       "0       0    2016-01-02            0.0              6.8             NaN   \n",
       "\n",
       "   deepest_snowfall  hours_sunlight  avg_wind_speed  avg_vapor_pressure  \\\n",
       "0               NaN        3.733333        1.666667                 8.1   \n",
       "\n",
       "   avg_humidity ...  Asian  Other  0  1  2  3  4  5  6  7  \n",
       "0          77.5 ...      0      0  1  0  0  0  0  0  0  0  \n",
       "\n",
       "[1 rows x 56 columns]"
      ]
     },
     "execution_count": 300,
     "metadata": {},
     "output_type": "execute_result"
    }
   ],
   "source": [
    "copyTest.head(1)"
   ]
  },
  {
   "cell_type": "code",
   "execution_count": 301,
   "metadata": {},
   "outputs": [
    {
     "data": {
      "text/plain": [
       "Index([                     'cluster',                'calendar_date',\n",
       "                      'precipitation',              'avg_temperature',\n",
       "                     'total_snowfall',             'deepest_snowfall',\n",
       "                     'hours_sunlight',               'avg_wind_speed',\n",
       "                 'avg_vapor_pressure',                 'avg_humidity',\n",
       "                   'avg_sea_pressure',           'avg_local_pressure',\n",
       "                    'solar_radiation',                  'cloud_cover',\n",
       "                   'high_temperature',              'low_temperature',\n",
       "                       'air_store_id',                   'visit_date',\n",
       "                   'reserve_visitors',                'res_date_diff',\n",
       "                     'air_genre_name',                     'latitude',\n",
       "                          'longitude',                   'prefecture',\n",
       "                              'month',                         'date',\n",
       "                                 'dw',                           'dy',\n",
       "                        'day_of_week',                  'holiday_flg',\n",
       "                             'sunday',                     'saturday',\n",
       "                        'sat/sun/hol',                     'visitors',\n",
       "       'Okonomiyaki/Monja/Teppanyaki',                      'Izakaya',\n",
       "                         'Dining bar',                'Japanese food',\n",
       "                       'Bar/Cocktail',               'Italian/French',\n",
       "               'Yakiniku/Korean food',                 'Western food',\n",
       "                        'Cafe/Sweets',                'Karaoke/Party',\n",
       "                   'Creative cuisine',        'International cuisine',\n",
       "                              'Asian',                        'Other',\n",
       "                                    0,                              1,\n",
       "                                    2,                              3,\n",
       "                                    4,                              5,\n",
       "                                    6,                              7],\n",
       "      dtype='object')"
      ]
     },
     "execution_count": 301,
     "metadata": {},
     "output_type": "execute_result"
    }
   ],
   "source": [
    "copyTest.columns"
   ]
  },
  {
   "cell_type": "code",
   "execution_count": 302,
   "metadata": {},
   "outputs": [
    {
     "data": {
      "text/plain": [
       "<matplotlib.axes._subplots.AxesSubplot at 0x136ddfd0>"
      ]
     },
     "execution_count": 302,
     "metadata": {},
     "output_type": "execute_result"
    },
    {
     "data": {
      "image/png": "[encoded data removed]",
      "text/plain": [
       "<Figure size 1080x720 with 2 Axes>"
      ]
     },
     "metadata": {},
     "output_type": "display_data"
    }
   ],
   "source": [
    "f,axa = plt.subplots(1,1,figsize=(15,10))\n",
    "sns.heatmap(copyTest.corr()[['visitors']])"
   ]
  }
 ],
 "metadata": {
  "kernelspec": {
   "display_name": "Python 3",
   "language": "python",
   "name": "python3"
  },
  "language_info": {
   "codemirror_mode": {
    "name": "ipython",
    "version": 3
   },
   "file_extension": ".py",
   "mimetype": "text/x-python",
   "name": "python",
   "nbconvert_exporter": "python",
   "pygments_lexer": "ipython3",
   "version": "3.7.1"
  }
 },
 "nbformat": 4,
 "nbformat_minor": 1
}
